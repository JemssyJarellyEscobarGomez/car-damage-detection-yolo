{
 "cells": [
  {
   "cell_type": "markdown",
   "metadata": {},
   "source": [
    "# Instalación de herramientas de etiquetado"
   ]
  },
  {
   "cell_type": "code",
   "execution_count": null,
   "metadata": {},
   "outputs": [],
   "source": [
    "!pip install labelme # Software de etiquetado que almacena información en archivos JSON."
   ]
  },
  {
   "cell_type": "code",
   "execution_count": null,
   "metadata": {},
   "outputs": [],
   "source": [
    "!labelme"
   ]
  },
  {
   "cell_type": "code",
   "execution_count": null,
   "metadata": {},
   "outputs": [],
   "source": [
    "!pip install labelme2yolo # Herramienta de conversión para el formato JSON de labelme a formato texto requerido por los modelos de detección de objetos YOLO."
   ]
  },
  {
   "cell_type": "markdown",
   "metadata": {},
   "source": [
    "# Conversión a formato YOLO"
   ]
  },
  {
   "cell_type": "code",
   "execution_count": null,
   "metadata": {},
   "outputs": [],
   "source": [
    "# Carpeta de entrenamiento\n",
    "dir_json_train='' # Incluya la dirección de la carpeta que contiene las etiquetas en archivos JSON separadas para el entrenamiento.\n",
    "!labelme2yolo --json_dir {dir_json_train}"
   ]
  },
  {
   "cell_type": "code",
   "execution_count": null,
   "metadata": {},
   "outputs": [],
   "source": [
    "# Carpeta de validación\n",
    "dir_json_val='' # Incluya la dirección de la carpeta que contiene las etiquetas en archivos JSON separadas para la validación.\n",
    "!labelme2yolo --json_dir {dir_json_val}"
   ]
  },
  {
   "cell_type": "markdown",
   "metadata": {},
   "source": [
    "# Carga de librerías"
   ]
  },
  {
   "cell_type": "code",
   "execution_count": 17,
   "metadata": {},
   "outputs": [],
   "source": [
    "import ultralytics\n",
    "from ultralytics import YOLO\n",
    "import os\n",
    "import torch\n",
    "import subprocess\n",
    "import gdown\n",
    "import json\n",
    "import numpy as np"
   ]
  },
  {
   "cell_type": "markdown",
   "metadata": {},
   "source": [
    "# Instalación de recursos"
   ]
  },
  {
   "cell_type": "code",
   "execution_count": 61,
   "metadata": {},
   "outputs": [
    {
     "name": "stdout",
     "output_type": "stream",
     "text": [
      "Ultralytics YOLOv8.0.220 🚀 Python-3.10.13 torch-2.1.1 CPU (AMD Ryzen 5 4500U with Radeon Graphics)\n",
      "Setup complete ✅ (6 CPUs, 7.4 GB RAM, 228.9/476.2 GB disk)\n"
     ]
    }
   ],
   "source": [
    "!pip install ultralytics # Instalación de la biblioteca Ultralytics\n",
    "\n",
    "ultralytics.checks() "
   ]
  },
  {
   "cell_type": "code",
   "execution_count": null,
   "metadata": {},
   "outputs": [],
   "source": [
    "#Función para determinar si tiene GPU Cuda para instalación de PYTorch\n",
    "if torch.cuda.is_available():\n",
    "    device = torch.device(\"cuda\")\n",
    "    print(f'CUDA: {torch.cuda.get_device_name(0)}')\n",
    "else:\n",
    "    try:\n",
    "        command = 'wmic path win32_videocontroller get caption'\n",
    "        device = subprocess.check_output(command, shell=True, universal_newlines=True)\n",
    "        print(f'Tarjeta Grafica: {device.strip()}. \\nAdvertencia: Debe utilizar la CPU para instalación de PyTorch!. ')\n",
    "    except subprocess.CalledProcessError as e:\n",
    "        print(f'Error al ejecutar el comando: {e}')\n"
   ]
  },
  {
   "cell_type": "markdown",
   "metadata": {},
   "source": [
    "<span style=\"font-family: 'Bahnschrift Light'; font-size: 18px\">Dirección para instalar mediante el comando la versión de PyTorch en función de los requerimientos computacionales: </span>[Versión PyTorch](https://pytorch.org/get-started/locally/) "
   ]
  },
  {
   "cell_type": "code",
   "execution_count": null,
   "metadata": {},
   "outputs": [],
   "source": [
    "!pip3 install torch torchvision torchaudio # Reemplace en esta linea sin eliminar la expresión ! el comando que obtuvo en la pagina de PyTorch "
   ]
  },
  {
   "cell_type": "markdown",
   "metadata": {},
   "source": [
    "# Instalación versión de modelo Yolo"
   ]
  },
  {
   "cell_type": "code",
   "execution_count": null,
   "metadata": {},
   "outputs": [],
   "source": [
    "!pip install gdown"
   ]
  },
  {
   "cell_type": "code",
   "execution_count": null,
   "metadata": {},
   "outputs": [],
   "source": [
    "# Versiones de los modelos para detección de objetos\n",
    "\n",
    "ruta_model_yolo=input()\n",
    "if ruta_model_yolo=='v8n':\n",
    "    save='C:/Users/matrix/pruebayolo/yolov8n.pt'\n",
    "    url = 'https://github.com/ultralytics/assets/releases/download/v0.0.0/yolov8n.pt'#yolov8n\n",
    "    gdown.download(url,save,quiet=False)\n",
    "elif ruta_model_yolo=='v8s':\n",
    "    save='C:/Users/jemss/Workspace/yolov8s.pt'\n",
    "    url= 'https://github.com/ultralytics/assets/releases/download/v0.0.0/yolov8s.pt'#yolov8s\n",
    "    gdown.download(url,save,quiet=False)\n",
    "elif ruta_model_yolo=='v8m':\n",
    "    save='C:/Users/jemss/Workspace/yolov8m .pt'\n",
    "    url='https://github.com/ultralytics/assets/releases/download/v0.0.0/yolov8m.pt' #yolov8m\n",
    "    gdown.download(url,save,quiet=False)\n",
    "elif ruta_model_yolo=='v8l':\n",
    "    save='C:/Users/jemss/Workspace/yolov8l.pt'\n",
    "    url='https://github.com/ultralytics/assets/releases/download/v0.0.0/yolov8l.pt' #yolov8l\n",
    "    gdown.download(url,save,quiet=False)\n",
    "else:\n",
    "    save='C:/Users/jemss/Workspace/yolov8x.pt'\n",
    "    url='https://github.com/ultralytics/assets/releases/download/v0.0.0/yolov8x.pt' #yolov8x"
   ]
  },
  {
   "cell_type": "markdown",
   "metadata": {},
   "source": [
    "# ENTRENAMIENTO"
   ]
  },
  {
   "cell_type": "code",
   "execution_count": null,
   "metadata": {},
   "outputs": [],
   "source": [
    "model_version_YOLO='yolov8n.pt'\n",
    "\n",
    "model_detection=YOLO(model_version_YOLO)\n",
    "\n",
    "PROJECT='deteccion' # Le permite asignar un nombre al directorio de inicio que contendrá los experimentos de detección de objetos, y debe estar entre comillas; se recomienda no utilizar espacios en el nombre.\n",
    "NAME='prueba_entrenamiento' # El nombre del experimento entrenamiento para deteccion de objetos debe ir entre comillas. Evite el uso de espacios al nombrar las carpetas; en su lugar, utilice algún formato de nombres como camelCase, snake_case o PascalCase.\n",
    "TASK='detect' # Define la tarea principal que desea realizar con el modelo YOLO v8; para este caso, la deteccion de objetos implica identificar la ubicación y la clase de objetos en una imagen o un flujo de video.\n",
    "IMGSZ=640 # Establezca las dimensiones en píxeles de la imagen de entrada. Puede especificarlo como un número entero, como imgsz a 640 para obtener un cuadrado perfecto, o como una tupla, como imgsz=(640,480) para establecer dimensiones específicas de ancho y alto. Se recomienda ajustar este valor según el tamaño del objeto que desea detectar. Para la detencción de objetos pequeños, se recomienda aumentar el valor a más de 640 píxeles para obtener una resolución más alta.\n",
    "DATA=\"C:/Users/matrix/pruebayolo/data_copia_car/dataset.yaml\" #  Le permite indicar la ruta al archivo que contiene los metadatos que utilizara el modelo detección de objetos y su configuración en formato YAML. Si especifica el valor data=None, el conjunto de datos coco128-seg.yaml se utiliza de forma predeterminada; de lo contrario, escriba la ruta al archivo YAML entre comillas utilizando barras diagonales (/) en lugar de barras invertidas (\\).\n",
    "EPOCHS=30 # Establezca el número de épocas del modelo YOLO v8 en la tarea de deteccion. Este valor representa el número total de iteraciones en todo el conjunto de datos de entrenamiento. Se recomienda experimentar con este parámetro dependiendo de la cantidad de imágenes disponibles. Si tiene un conjunto de datos grande, considere aumentar este valor por encima de 30 para obtener mejores resultados. Por otro lado, establecer epochs=None hará que el modelo continúe entrenándose hasta que la pérdida de validación deje de mejorar.\n",
    "BATCH=-1 # Define la cantidad de imágenes procesadas simultáneamente en una iteración del modelo YOLO v8 en la deteccion. El valor predeterminado es 16; se recomienda establecerlo en -1 para aprovechar AutoBatch, que ajusta automáticamente el tamaño del lote para optimizar el rendimiento, evitar problemas de memoria y maximizar la eficiencia del entrenamiento. Si desea personalizarlo, exprese el valor del parámetro como un número entero.\n",
    "OPTIMIZER='auto' # Define el algoritmo de optimización para el modelo de deteccion YOLO. Su elección ajusta los pesos del modelo durante el entrenamiento y es crucial para la velocidad y rendimiento. Puede tomar valores como 'SGD', 'Adam', 'Adamax', 'AdamW', 'NAdam', 'RAdam', 'RMSProp' y 'auto', este último selecciona automáticamente el optimizador más adecuado a la tarea segmentación de objetos.\n",
    "WORKERS=1 # Especifica el número de hilos de trabajo para la carga de datos en el modelo deteccion YOLO. Es recomendable utilizar un número de subprocesos que se ajusten al número de núcleos del CPU disponibles en el sistema.\n",
    "DEVICE= 'cpu' # Especifica el dispositivo de ejecución para la versión del modelo yolov8 en la operación de deteccion. Puede seleccionar entre CPU o GPU. Si no dispone de una GPU con Cuda, se recomienda utilizar la CPU mediante el parámetro device='cpu'. En caso de contar con Cuda, puede especificar una GPU con device='cuda:0'; el número representa el identificador de la GPU disponible en el sistema. También es posible utilizar múltiples GPUs mediante device='cuda:0,1,2'.\n",
    "PLOTS=True # Utilice valores booleanos (Verdadero o Falso) para controlar la generación de gráficos que permite visualizar y monitorear la pérdida y la precisión durante el entrenamiento de deteccion de objetos. Establecer plots=True activara la función; si desea desactivarla, establezca el valor del hiperparámetro en False.\n",
    "SAVE=True # Cuando se establece en True, el modelo guarda puntos de control periódicamente durante el entrenamiento de deteccion. Se recomienda tener cuidado al establecer este valor en Verdadero, ya que está relacionado con el hiperparámetro SAVE_PERIOD; si establece el valor del hiperparametro a False, la función Save_Period se desactivará.\n",
    "SAVE_PERIOD=-1 # Se utiliza para especificar con qué frecuencia se guardan los puntos de control durante el entrenamiento de deteccion. Si se establece en un valor mayor que 0, el modelo guardará puntos de control cada número especificado de épocas. Sin embargo, si save_period se establece en -1, significa que la función esta deshabilitada.\n",
    "PATIENCE=30 # Representa el número esperado de épocas durante el entrenamiento de deteccion. Si no se observa mejora en el conjunto de validación dentro de un período específico, se detiene el proceso. Esta técnica de parada temprana se utiliza para evitar el sobreajuste del modelo. Se recomienda ajustar este hiperparámetro en función de la duración esperada del entrenamiento.\n",
    "VERBOSE=True # Se utiliza para controlar el número de impresiones durante la ejecución del entrenamiento de deteccion. Para suprimir la salida de información básica únicamente, debe establecer el valor del hiperparámetro en False, pero si desea una salida de progreso más detallada, establezca el valor en True.\n",
    "RECT= False # Habilita la formación rectangular en cada lote, redimensionando las imágenes para que todas tengan la misma forma rectangular. Puedes establecerlo en True si tu conjunto de datos es extenso y deseas acelerar el tiempo de entrenamiento en la deteccion de objetos. De lo contrario, si se establece en False el modelo se entrena en el orden normal procesando todos los datos de un lote antes de pasar al siguiente lote.\n",
    "COS_LR=False # Reemplaza el decaimiento escalonado predeterminado de YOLOv8, que reduce la tasa de aprendizaje en ciertas épocas, con el decaimiento escalonado cos_lr. Este ajusta la tasa de aprendizaje según las épocas restantes y la tasa de aprendizaje inicial, proporcionando una disminución más suave. Establezca este hiperparámetro en True para una reducción gradual de la tasa de aprendizaje, de lo contrario establezca en False.\n",
    "FRACTION= 1.0 # Controla la fracción del conjunto de datos que se utilizara para el entrenamiento de deteccion. Debes establecer este parámetro entre 0.0 y 1.0. Por defecto, cuando es 1.0, se emplea el 100% de las imágenes disponibles en el conjunto de datos.\n",
    "EXIST_OK=False # Controla la sobreescritura de un experimento de deteccion existente. Cuando se establece en False, el sistema no sobrescribirá, en su lugar devolverá una ruta incrementada. Esto es útil para prevenir la sobreescritura accidental de experimentos anteriores. Para activar la función, asigna el valor True.\n",
    "\n",
    "model_detection.train(project=PROJECT,name=NAME, task=TASK, data=DATA, imgsz=IMGSZ, epochs=EPOCHS, batch=BATCH, workers=WORKERS, device=DEVICE, plots=PLOTS, verbose=VERBOSE, rect=RECT, cos_lr=COS_LR, optimizer=OPTIMIZER, fraction=FRACTION, patience=PATIENCE, exist_ok=EXIST_OK\n",
    ")"
   ]
  },
  {
   "cell_type": "markdown",
   "metadata": {},
   "source": [
    "# Configuración para la exportación\n"
   ]
  },
  {
   "cell_type": "markdown",
   "metadata": {},
   "source": [
    "A continuación se muestra una tabla de referencia para exportar un modelo YOLOv8 entrenado en la tarea deteccion de objetos. Tenga en cuenta que configurar el parámetro de `format` es fundamental para el proceso de exportación. Antes de continuar, asegúrese de verificar y ajustar estos valores a sus requisitos específicos: \n",
    "| Formatos                                                             | Asignación | Extensión                     | Hyperparámetros                                            | Descripción                                        |\n",
    "|--------------------------------------------------------------------|-------------------|---------------------------|-----------------------------------------------------|----------------------------------------------------|\n",
    "| [PyTorch](https://pytorch.org/)                                    | -                 | `yolov8n.pt`              | -                                                   | Modelo en formato PyTorch                           |\n",
    "| [TorchScript](https://pytorch.org/docs/stable/jit.html)            | \"torchscript\"     | `yolov8n.torchscript`     | `imgsz`, `optimize`                                 | Simplifica la implementación de modelos PyTorch en entornos de producción y aplicaciones eficientes, mejorando la portabilidad y el rendimiento al permitir ejecutar una representación intermedia en entornos sin Python.                       |\n",
    "| [ONNX](https://onnx.ai/)                                           | \"onnx\"            | `yolov8n.onnx`            | `imgsz`, `half`, `dynamic`, `simplify`, `opset`     | Desarrollado para promover la interoperabilidad, la optimización del hardware y la colaboración entre comunidades, al tiempo que responde a la necesidad de portabilidad de los modelos entre distintos marcos y herramientas de aprendizaje automático.                              |\n",
    "| [OpenVINO](https://docs.openvino.ai/latest/index.html)             | \"openvino\"        | `yolov8n_openvino_model/` | `imgsz`, `half`, `int8`                             | Elaborado para promover la interoperabilidad, la optimización del hardware y el despliegue eficiente de modelos a través de diferentes marcos y herramientas de aprendizaje automático, con especial atención a las plataformas de hardware Intel.                     |\n",
    "| [TensorRT](https://developer.nvidia.com/tensorrt)                  | \"engine\"          | `yolov8n.engine`          | `imgsz`, `half`, `dynamic`, `simplify`, `workspace` | Permite promover la interoperabilidad, la optimización del hardware y la implantación eficiente de modelos en distintos marcos y herramientas de aprendizaje automático, con especial atención a las plataformas de hardware de NVIDIA.                     |\n",
    "| [CoreML](https://github.com/apple/coremltools)                     | \"coreml\"          | `yolov8n.mlpackage`       | `imgsz`, `half`, `int8`, `nms`                      | Posibilita promover la interoperabilidad, la optimización del hardware y el despliegue eficiente de modelos a través de diferentes marcos y herramientas de aprendizaje automático, con especial atención a las plataformas de hardware de Apple.                            |\n",
    "| [TF SavedModel](https://www.tensorflow.org/guide/saved_model)      | \"saved_model\"     | `yolov8n_saved_model/`    | `imgsz`, `keras`, `int8`                            | Empleado para guardar, compartir y desplegar modelos entrenados con TensorFlow. Versátil y facilita el despliegue en diversas plataformas como servidores, dispositivos móviles, embebidos y navegadores.                     |\n",
    "| [TF Lite](https://www.tensorflow.org/lite)                         | \"tflite\"          | `yolov8n.tflite`          | `imgsz`, `half`, `int8`                             | Diseñado para el aprendizaje automático en dispositivos, TF Lite aborda restricciones clave como latencia, privacidad, conectividad, tamaño y consumo de energía. Es esencial para desplegar modelos en dispositivos móviles e integrados, ofreciendo una solución ligera y eficiente.                           |\n",
    "| [TF Edge TPU](https://coral.ai/docs/edgetpu/models-intro/)         | \"edgetpu\"         | `yolov8n_edgetpu.tflite`  | `imgsz`                                             | Utilizado para desplegar modelos de aprendizaje automático en el Edge TPU de TensorFlow. El Edge TPU es un pequeño ASIC (Circuito Integrado Específico de Aplicación) diseñado por Google para ofrecer inferencias de aprendizaje automático de alto rendimiento en dispositivos de bajo consumo.                       |\n",
    "| [TF.js](https://www.tensorflow.org/js)                             | \"tfjs\"            | `yolov8n_web_model/`      | `imgsz`                                             | Facilita el despliegue de modelos de aprendizaje automático en navegadores web y Node.js, destacando la portabilidad y la facilidad de uso.                    |\n",
    "| [PaddlePaddle](https://github.com/PaddlePaddle)                    | \"paddle\"          | `yolov8n_paddle_model/`   | `imgsz`                                             | Utilizado para desplegar modelos en PaddlePaddle, una plataforma de aprendizaje profundo de código abierto, paralela y distribuida que tiene su origen en la práctica industrial.                      |\n",
    "| [ncnn](https://github.com/Tencent/ncnn)                            | \"ncnn\"            | `yolov8n_ncnn_model/`     | `imgsz`, `half`                                     | Formato optimizado para plataformas móviles, ofreciendo alto rendimiento. Puede incluir una estructura de archivo de modelo con información sobre capas, blobs de entrada y salida, y otros parámetros."
   ]
  },
  {
   "cell_type": "markdown",
   "metadata": {},
   "source": [
    "# EXPORTACIÓN"
   ]
  },
  {
   "cell_type": "code",
   "execution_count": null,
   "metadata": {},
   "outputs": [],
   "source": [
    "trained_model_det=\"C:/Users/jemss/runs/detect/Pruebadeteccion/weights/best.pt\"\n",
    "\n",
    "selected_model_det=YOLO(trained_model_det)\n",
    "\n",
    "FORMAT='onnx' # Seleccione el formato de exportación del modelo deteccion, empleando la tabla previamente proporcionada; en la columna \"Asignación\" se proporcionan las opciones para ajustar este valor.\n",
    "INT8=True # Establezca este parámetro en True al utilizar la CPU y en False en caso contrario. La cuantificación a INT8 mejora la eficiencia del modelo deteccion en cuanto a memoria y velocidad de inferencia, especialmente en hardware que admite esta precisión.\n",
    "HALF=False # Configúrelo en True cuando use la GPU; en caso contrario, False. La cuantificación a FP16 mejora la eficiencia de la memoria del modelo deteccion y la velocidad de inferencia, especialmente en hardware que admite precisión de punto flotante de 16 bits.\n",
    "IMGSZ=640 # Establezca las dimensiones en píxeles de la imagen de entrada para la exportación del modelo de deteccion. Puede especificarlo como un número entero, por ejemplo, 640 para un cuadrado perfecto, o como una tupla, por ejemplo, (640, 480) para dimensiones específicas de ancho y alto. Las imágenes que ingreses al modelo después de la exportación deben tener las mismas dimensiones específicas que has configurado para adaptarse a los requisitos del escenario de despliegue.\n",
    "OPTIMIZE=False # Controla la optimización en modelos de detección a TorchScript para su implementación móvil. Es importante destacar que esta función puede resultar en un aumento significativo en el tamaño del modelo exportado, lo cual puede no ser ideal para aplicaciones móviles. Se configura con True para activar y False para desactivar.\n",
    "DYNAMIC=False # Controla la habilitación de ejes dinámicos en modelos de deteccion, lo cual es particularmente útil para gestionar tamaños de lote variables. Esta característica funciona bien en escenarios donde el tamaño del lote puede cambiar durante la inferencia, como aplicaciones en tiempo real o de transmisión por secuencias. Los valores aceptados son Verdadero para habilitar la función y Falso para deshabilitarla.\n",
    "SIMPLIFY=False # En la exportación de modelos de deteccion a ONNX|TensorRT, este hiperparámetro personaliza la complejidad del modelo controlando la optimización, eliminando capas redundantes y reduciendo la precisión de los parámetros. Se activa con True y se desactiva con False.\n",
    "OPSET=False # Especifica la versión del conjunto de operadores en ONNX al exportar el modelo deteccion desde marcos como PyTorch o TensorFlow. Si se deja en \"None\", ONNX utilizará automáticamente la versión más reciente disponible; para una versión específica, asigne el número entre comillas, por ejemplo, \"11\".\n",
    "WORKSPACE=4 # En la exportación de modelos de deteccion a TensorRT, establece el tamaño del espacio de trabajo en GB asignado para optimizar y preparar el modelo de red neuronal. Este espacio se utiliza durante la construcción del motor para lograr una ejecución eficiente en hardware GPU mediante la biblioteca TensorRT.\n",
    "NMS=False # En la exportación de modelos de deteccion a CoreML, controla la inclusión de la Supresión No Máxima (NMS) en el modelo para eliminar cuadros delimitadores redundantes en la segmentación de instancias y mejorar la precisión de las predicciones. Establecer 'NMS' en 'False' ignora NMS en los modelos CoreML exportados.  Este ajuste, configurable durante la exportación del modelo YOLO, lo que permite a los usuarios optimizar la implementación del modelo en una variedad de plataformas y dispositivos.\n",
    "KERAS= False # En la exportación de modelos de deteccion a TF SavedModel y TF Lite, permite optimizar el despliegue en diversas plataformas y dispositivos. Incluye también el formato del archivo, el dispositivo de ejecución y la posibilidad de manejar múltiples etiquetas por caja. Establezca el valor del hiperparámetro en True si está familiarizado con Keras; de lo contrario, en False para excluir su uso en la exportación.\n",
    "\n",
    "selected_model_det.export(format=FORMAT, imgsz=640, dynamic=False, simplify=False, opset=False)\n"
   ]
  },
  {
   "cell_type": "markdown",
   "metadata": {},
   "source": [
    "# VALIDACIÓN"
   ]
  },
  {
   "cell_type": "code",
   "execution_count": null,
   "metadata": {},
   "outputs": [],
   "source": [
    "trained_model_det='C:/Users/matrix/pruebayolo/DETECCIÓN/Prueba_detección/weights/best.pt'\n",
    "\n",
    "selected_model_det=YOLO(trained_model_det)\n",
    "\n",
    "NAME='Prueba_validación_det' # El nombre del experimento de validación para deteccion de objetos deben ir entre comillas. Evite el uso de espacios al nombrar las carpetas; en su lugar, utilice algún formato de nombres como camelCase, snake_case o PascalCase.\n",
    "DATA= 'C:/Users/matrix/pruebayolo/data/dataset.yaml' #Permite indicar la ruta al archivo que contiene los metadatos necesarios para el proceso de validación, la ruta debe ser proporcionada entre comillas.\n",
    "SAVE_JSON=True # Si se configura como True, habilita la funcionalidad de guardar los resultados obtenidos de manera detallada del proceso de validación en un formato estructurado JSON.\n",
    "IMGSZ=640 # Establece las dimensiones en píxeles de la imagen de entrada para la validación del modelo de deteccion. Puede ser un número entero, como 640 para un cuadrado perfecto, o una tupla, como (640, 480), para dimensiones específicas de ancho y alto. Se recomienda usar el mismo valor que utilizo durante el entrenamiento del modelo.\n",
    "BATCH=16 # Define la cantidad de imágenes procesadas simultáneamente en una iteración para la validación en detecciones de objetos. El valor predeterminado es 16; se recomienda establecerlo en -1 para utilizar AutoBatch, que ajusta automáticamente el tamaño del lote para optimizar el rendimiento y la eficiencia del entrenamiento, evitando problemas de memoria. Si desea personalizarlo, establezca el valor como un número entero.\n",
    "SAVE_HYBRID=True # Activa la función con True para guardar una versión híbrida de la etiqueta, incluyendo la original y predicciones adicionales. Útil para el análisis detallado del rendimiento del modelo deteccion durante la validación; establezca en False para mostrar solo las predicciones.\n",
    "CONF=0.5 # Establece el umbral de confianza para la validación de clases en la tarea de deteccion. Se recomienda un valor entre 0.5 y 0.10. Un umbral más alto mejora la precisión pero reduce la frecuencia de predicciones, mientras que un umbral más bajo aumenta la frecuencia pero disminuye la precisión. \n",
    "MAX_DET=10 # Toma como valor solo números enteros. Índica el límite de la cantidad máxima de objetos que el modelo intentara detectar en una imagen. Se recomienda establecer un valor alto para evitar perder detecciones relevantes.\n",
    "DEVICE='CPU' # Especifica el dispositivo de ejecución para la prueba de validación en la operación de deteccion. Puede seleccionar entre CPU o GPU. Si no dispone de una GPU con Cuda, se recomienda utilizar la CPU mediante el parámetro device='cpu'. En caso de contar con Cuda, puede especificar una GPU con device='cuda:0'; el número representa el identificador de la GPU disponible en el sistema. También es posible utilizar múltiples GPUs mediante device='cuda:0,1,2'.\n",
    "PLOTS=True # Utilice valores booleanos (Verdadero o Falso) para controlar la generación de gráficos que permite visualizar y monitorear la pérdida y la precisión durante la validación en la deteccion de objetos. Establecer plots=True activara la función; si desea desactivarla, establezca el valor del hiperparámetro en False.\n",
    "RECT=False # Habilita la formación rectangular en cada lote, redimensionando las imágenes para que todas tengan la misma forma rectangular. Puedes establecerlo en True si tu conjunto de datos es extenso y deseas acelerar el tiempo de validación en la deteccion de objetos. De lo contrario, si se establece en False el modelo se entrena en el orden normal procesando todos los datos de un lote antes de pasar al siguiente.\n",
    "IOU=0.6 # El umbral predeterminado para la supresión no máxima (NMS) en la validación YOLO es 0,6. Este umbral de IoU (intersección sobre unión) es fundamental para NMS porque determina el grado mínimo de superposición requerido para que dos cuadros delimitadores se consideren el mismo objeto. Un umbral de IoU más bajo hace que NMS sea más conservador, mientras que un umbral de IoU más alto permite que un NMS más relajado evite eliminar los verdaderos positivos.\n",
    "\n",
    "selected_model_det.val(name=NAME, data=DATA, save_json=SAVE_JSON, imgsz=IMGSZ, batch=BATCH, save_hybrid=SAVE_HYBRID, conf=CONF, max_det=MAX_DET, device=DEVICE, plots=PLOTS, rect=RECT, iou=IOU, save_json=True)"
   ]
  },
  {
   "cell_type": "markdown",
   "metadata": {},
   "source": [
    "# Configuración de fuentes"
   ]
  },
  {
   "cell_type": "markdown",
   "metadata": {},
   "source": [
    "Para utilizar múltiples fuentes de datos al realizar predicciones con el modelo, se requiere que se ajuste el parámetro'source' a sus necesidades, tal como se indica en la siguiente tabla:\n",
    "| Fuentes          | Asignación                             | Tipo             | Notas                                                           |\n",
    "| --------------- | ------------------------------------ | ----------------- | --------------------------------------------------------------- |\n",
    "| `image`           | 'image.jpg'                          | str or Path       | Archivo que contiene una única imagen.                                              |\n",
    "| `URL`             | 'https://ultralytics.com/images/bus.jpg' | str               | Dirección que especifica la ubicación de una imagen en la web.                                                 |\n",
    "| `screenshot`      | 'screen'                             | str               | El sistema captura la imagen actualmente visible en la pantalla y la utiliza como entrada para el modelo.                                           |\n",
    "| `PIL`             | Image.open('im.jpg')                 | PIL.Image         | Utilizado para cargar imágenes en formato HWC (altura, ancho, canales) con canales RGB (rojo, verde y azul) mediante la biblioteca Python Imaging Library (PIL).                                   |\n",
    "| `OpenCV`          | cv2.imread('im.jpg')                 | np.ndarray        | Permite la lectura de una imagen desde un archivo en formato HWC con canales BGR (azul, verde, rojo) utilizando la biblioteca OpenCV, almacenando la imagen como un array de NumPy.                    |\n",
    "| `numpy`           | np.zeros((640,1280,3))               | np.ndarray        | Genera un array de ceros con las dimensiones especificadas para un formato HWC con canales BGR, utilizando la biblioteca NumPy.                    |\n",
    "| `torch`           | torch.zeros(16,3,320,640)            | torch.Tensor      | Crea un tensor de ceros con las dimensiones especificadas para un formato HWC con canales RGB, empleando el framework PyTorch.               |\n",
    "| `CSV`             | 'sources.csv'                        | str or Path       | Archivo de texto que almacena las rutas a las imágenes que se procesarán.   |\n",
    "| `video`          | 'video.mp4'                          | str or Path       | Proporciona acceso a un archivo de video único.                       |\n",
    "| `directory`      | 'path/'                              | str or Path       | Directorio que contiene múltiples archivos de imagen.               |\n",
    "| `glob`           | 'path/*.jpg'                         | str               | Permite acceder a varias imágenes en un directorio usando expresiones de coincidencia de patrones. |\n",
    "| `YouTube`        | 'https://youtu.be/LNwODJXcvt4'       | str               | Facilita el acceso a videos desde la plataforma YouTube.                                         |\n",
    "| `stream`         | 'rtsp://example.com/media.mp4'      | str               | Permite la conexión a flujos de video o audio en tiempo real mediante protocolos como RTSP, RTMP, TCP o IP, ya sea a través de internet o una red local. |\n",
    "| `multi-stream`   | 'list.streams'                       | str or Path       | Se utiliza para transmitir varios flujos de medios simultáneamente, permitiendo el procesamiento y análisis paralelo de múltiples flujos de medios. |"
   ]
  },
  {
   "cell_type": "markdown",
   "metadata": {},
   "source": [
    "Formatos para las imágenes: \n",
    "\n",
    "| Image Suffixes | Reference                           |\n",
    "| --------------- | ----------------------------------- |\n",
    "| .bmp            | [Microsoft BMP File Format](https://docs.fileformat.com/es/image/bmp/)           |\n",
    "| .dng            | [Adobe DNG](https://docs.fileformat.com/es/image/dng/)                           |\n",
    "| .jpeg           | [JPEG](https://docs.fileformat.com/es/image/jpeg/)                                |\n",
    "| .jpg            | [JPEG](https://docs.fileformat.com/es/image/jpeg/)                                |\n",
    "| .mpo            | [Multi Picture Object](https://docs.fileformat.com/es/image/mpo/)                |\n",
    "| .png            | [Portable Network Graphics](https://docs.fileformat.com/es/image/png/)           |\n",
    "| .tif            | [Tag Image File Format](https://docs.fileformat.com/es/image/tiff/)               |\n",
    "| .tiff           | [Tag Image File Format](https://docs.fileformat.com/es/image/tiff/)               |\n",
    "| .webp           | [WebP](https://docs.fileformat.com/es/image/webp/)                                |\n",
    "| .pfm            | [Portable FloatMap](https://docs.fileformat.com/font/pfm/)                   |\n"
   ]
  },
  {
   "cell_type": "markdown",
   "metadata": {},
   "source": [
    "Formatos para los videos: \n",
    "\n",
    "| Video Suffixes | Reference                           |\n",
    "| -------------- | ----------------------------------- |\n",
    "| .asf           | [Advanced Systems Format](https://docs.fileformat.com/es/video/asf/)             |\n",
    "| .avi           | [Audio Video Interleave](https://docs.fileformat.com/es/video/avi/)              |\n",
    "| .gif           | [Graphics Interchange Format]()          |\n",
    "| .m4v           | [MPEG-4 Part 14](https://docs.fileformat.com/es/video/m4v/)                      |\n",
    "| .mkv           | [Matroska](https://docs.fileformat.com/es/video/mkv/)                            |\n",
    "| .mov           | [QuickTime File Format](https://docs.fileformat.com/es/video/mov/)               |\n",
    "| .mp4           | [MPEG-4](https://docs.fileformat.com/es/video/mp4/)          |\n",
    "| .mpeg          | [MPEG-1](https://docs.fileformat.com/es/video/mpeg/)                       |\n",
    "| .mpg           | [MPEG-1](https://docs.fileformat.com/es/video/mpeg/)                       |\n",
    "| .ts            | [MPEG Transport Stream](https://docs.fileformat.com/es/video/ts/)               |\n",
    "| .wmv           | [Windows Media Video](https://docs.fileformat.com/es/video/wmv/)                 |\n",
    "| .webm          | [WebM Project](https://docs.fileformat.com/es/video/webm/)      "
   ]
  },
  {
   "cell_type": "markdown",
   "metadata": {},
   "source": [
    "# PREDICCIÓN"
   ]
  },
  {
   "cell_type": "code",
   "execution_count": 18,
   "metadata": {},
   "outputs": [
    {
     "name": "stdout",
     "output_type": "stream",
     "text": [
      "\n",
      "image 1/10 C:\\Users\\matrix\\pruebayolo\\pruebaimagenes\\20170531_010133.jpg: 384x640 (no detections), 100.0ms\n",
      "image 2/10 C:\\Users\\matrix\\pruebayolo\\pruebaimagenes\\OIP (1).jpg: 480x640 (no detections), 126.8ms\n",
      "image 3/10 C:\\Users\\matrix\\pruebayolo\\pruebaimagenes\\R.jpg: 384x640 2 abolladuras, 90.0ms\n",
      "image 4/10 C:\\Users\\matrix\\pruebayolo\\pruebaimagenes\\abolladura-en-un-coche-632c58a6e2ea5.jpg: 448x640 1 rayon, 99.0ms\n",
      "image 5/10 C:\\Users\\matrix\\pruebayolo\\pruebaimagenes\\abolladuraautos-fd03b3bae67d7363172c41cc00198c51-1200x800.jpg: 448x640 1 rayon, 90.0ms\n",
      "image 6/10 C:\\Users\\matrix\\pruebayolo\\pruebaimagenes\\big_ray.jpg: 320x640 (no detections), 84.3ms\n",
      "image 7/10 C:\\Users\\matrix\\pruebayolo\\pruebaimagenes\\coche-después-de-una-ruina-la-necesidad-ser-reparado-esperándola-es-demanda-de-seguro-29745503.jpg: 448x640 1 abolladura, 91.0ms\n",
      "image 8/10 C:\\Users\\matrix\\pruebayolo\\pruebaimagenes\\rayahori.webp: 384x640 (no detections), 58.0ms\n",
      "image 9/10 C:\\Users\\matrix\\pruebayolo\\pruebaimagenes\\rayonesauto-e68618ca9c3d6859cebc796c300aea97-1200x0.jpg: 352x640 (no detections), 61.0ms\n",
      "image 10/10 C:\\Users\\matrix\\pruebayolo\\pruebaimagenes\\trucos-para-quitar-abolladuras-del-coche.imagen-1013x675.jpg: 448x640 (no detections), 82.2ms\n",
      "Speed: 2.6ms preprocess, 88.2ms inference, 0.7ms postprocess per image at shape (1, 3, 448, 640)\n",
      "Results saved to \u001b[1mC:\\Users\\matrix\\pruebayolo\\runs\\detect\\PruebaPrediccion\u001b[0m\n",
      "4 labels saved to C:\\Users\\matrix\\pruebayolo\\runs\\detect\\PruebaPrediccion\\labels\n"
     ]
    }
   ],
   "source": [
    "trained_model_det='C:/Users/matrix/pruebayolo/modelos/deteccion/experimentos/prueba_entrenamiento/weights/best.pt'\n",
    "\n",
    "selected_model_det=YOLO(trained_model_det)\n",
    "\n",
    "NAME='PruebaPrediccion' # El nombre del experimento de predicción para deteccion de objetos debe ir entre comillas. Evite el uso de espacios al nombrar las carpetas; en su lugar, utilice algún formato de nombres como camelCase, snake_case o PascalCase.\n",
    "SOURCE='C:/Users/matrix/pruebayolo/pruebaimagenes' # Establezca el origen de datos que el modelo de detección utilizará para realizar predicciones. Configure el valor de este hiperparámetro según la tabla proporcionada anteriormente.\n",
    "MAX_DET=10 # Toma como valor solo números enteros. Índica el límite de la cantidad máxima de objetos que el modelo intentara predecir en una imagen. Se recomienda establecer un valor alto para evitar perder detecciones relevantes.\n",
    "IMGSZ=640 # Establezca las dimensiones en píxeles de la imagen de entrada durante la predicción en tareas de detección. Puede ser un número entero, como 640 para un cuadrado perfecto, o una tupla, como (640, 480), para dimensiones específicas de ancho y alto. Se recomienda utilizar los mismos valores utilizados durante el entrenamiento del modelo para mantener la coherencia en la inferencia.\n",
    "CONF=0.5 # Establece el umbral de confianza durante el proceso de predicción en la tarea de detección. Se recomienda establecer el valor hiperparámetro entre 0.5 y 0.10. Un umbral más alto mejora la precisión pero reduce la frecuencia de predicciones, mientras que un umbral más bajo aumenta la frecuencia pero disminuye la precisión en la inferencia.\n",
    "LINE_WIDTH= None # Determina el grosor en píxeles de los cuadros delimitadores que rodean los objetos detectados por el modelo. Puede establecer el grosor de la línea como un número entero en el que, a mayor valor, la línea será más gruesa, también puede utilizar como valor None para que el grosor se ajuste de forma automatizada, proporcionando una línea proporcional al tamaño de la imagen.\n",
    "VISUALIZE=False # Determina si las características del modelo de detección deben mostrarse durante la predicción. Establecer esto en True permite que las características se muestren como mapas intermedias, lo que hace que el modelo sea más fácil de entender. Si se establece en False, no se mostrarán las características del modelo. \n",
    "IOU=0.7 # El umbral predeterminado para la supresión no máxima (NMS) en la validación YOLO es 0,7. Este umbral de IoU (intersección sobre unión) es fundamental para NMS porque determina el grado mínimo de superposición requerido para que dos cuadros delimitadores se consideren la misma detección. Un umbral de IoU más bajo hace que NMS sea más conservador, mientras que un umbral de IoU más alto permite que un NMS más relajado evite eliminar los verdaderos positivos.\n",
    "DEVICE='cpu' # Especifica el dispositivo de ejecución para la prueba de predicción en la operación de detección. Puede seleccionar entre CPU o GPU. Si no dispone de una GPU con Cuda, se recomienda utilizar la CPU mediante el parámetro device='cpu'. En caso de contar con Cuda, puede especificar una GPU con device='cuda:0'; el número representa el identificador de la GPU disponible en el sistema. También es posible utilizar múltiples GPUs mediante device='cuda:0,1,2'.\n",
    "VID_STRIDE=False # Controla la velocidad de los fotogramas durante el proceso de predicción en vídeos o secuencias de tiempo real. Al establecerlo en True el modelo se adapta a la velocidad de fotogramas especificada por la fuente de vídeo, procesando cada fotograma individualmente. Para desactivar esta función indique como valor False.\n",
    "STREAM_BUFFER=False # Controla el almacenamiento en búfer de los fotogramas para la detección. Si es True, se almacenan todos los fotogramas para el procesamiento en tiempo real de vídeos o transmisiones en directo; si es False, devuelve el fotograma más reciente.\n",
    "SAVE_FRAMES=False # Controla la captura y almacenamiento de los fotogramas predichos por el modelo de detección. Con True, se guardarán todos los fotogramas individuales predichos; con False, no se realizará el almacenamiento de los fotogramas.\n",
    "AUGMENT=False # Aplica transformaciones a las imágenes de entrada, tales como giros, rotaciones, recortes y cambios de color, para diversificar los datos y mejorar la predicción en la detección. Establecer en True para activar la función, False para desactivar.\n",
    "CLASSES=None # Filtra los resultados por clase durante la predicción en detección. Puede establecerse con un solo ID de clase o una lista de ID de clases para incluir específicamente esas clases en los resultados. Por ejemplo, \"classes=0\" o \"classes=[0, 1]\", también puede establecer el valor a None que tomara todas las clases configuradas en el dataset.\n",
    "SAVE_CROP=True # Determina si se deben guardar imágenes recortadas con los resultados durante la predicción en la detección. Al establecerlo en \"False\", las imágenes recortadas no se guardarán, lo que reduce el tamaño del archivo. Con el valor \"True\", se guardarán las imágenes recortadas correspondientes a las áreas detectadas.\n",
    "SHOW=False # Determina si se deben mostrar las imágenes o vídeos detectados durante la predicción. Al establecerlo en \"True\", permite la visualización de las predicciones en el mismo entorno, proporcionando una representación visual de los resultados. Si se establece en \"False\", las predicciones no se mostrarán. \n",
    "\n",
    "\n",
    "results_principal = selected_model_det.predict(name=NAME, source=SOURCE,conf=CONF, save_txt=True, max_det=MAX_DET, line_width=LINE_WIDTH, visualize=VISUALIZE, imgsz=IMGSZ, iou=IOU, device=DEVICE, vid_stride=VID_STRIDE, stream_buffer=STREAM_BUFFER, classes=CLASSES,  save_crop=SAVE_CROP, show=SHOW, save_frames=SAVE_FRAMES, save=True, save_conf=True             \n",
    ")"
   ]
  },
  {
   "cell_type": "code",
   "execution_count": 19,
   "metadata": {},
   "outputs": [
    {
     "name": "stdout",
     "output_type": "stream",
     "text": [
      "\n",
      "image 1/10 C:\\Users\\matrix\\pruebayolo\\pruebaimagenes\\20170531_010133.jpg: 384x640 1 car, 357.9ms\n",
      "image 2/10 C:\\Users\\matrix\\pruebayolo\\pruebaimagenes\\OIP (1).jpg: 480x640 (no detections), 300.0ms\n",
      "image 3/10 C:\\Users\\matrix\\pruebayolo\\pruebaimagenes\\R.jpg: 384x640 1 car, 313.4ms\n",
      "image 4/10 C:\\Users\\matrix\\pruebayolo\\pruebaimagenes\\abolladura-en-un-coche-632c58a6e2ea5.jpg: 448x640 1 car, 348.9ms\n",
      "image 5/10 C:\\Users\\matrix\\pruebayolo\\pruebaimagenes\\abolladuraautos-fd03b3bae67d7363172c41cc00198c51-1200x800.jpg: 448x640 1 car, 288.0ms\n",
      "image 6/10 C:\\Users\\matrix\\pruebayolo\\pruebaimagenes\\big_ray.jpg: 320x640 1 car, 268.0ms\n",
      "image 7/10 C:\\Users\\matrix\\pruebayolo\\pruebaimagenes\\coche-después-de-una-ruina-la-necesidad-ser-reparado-esperándola-es-demanda-de-seguro-29745503.jpg: 448x640 (no detections), 309.9ms\n",
      "image 8/10 C:\\Users\\matrix\\pruebayolo\\pruebaimagenes\\rayahori.webp: 384x640 (no detections), 277.0ms\n",
      "image 9/10 C:\\Users\\matrix\\pruebayolo\\pruebaimagenes\\rayonesauto-e68618ca9c3d6859cebc796c300aea97-1200x0.jpg: 352x640 1 car, 317.4ms\n",
      "image 10/10 C:\\Users\\matrix\\pruebayolo\\pruebaimagenes\\trucos-para-quitar-abolladuras-del-coche.imagen-1013x675.jpg: 448x640 (no detections), 294.9ms\n",
      "Speed: 1.6ms preprocess, 307.5ms inference, 1.3ms postprocess per image at shape (1, 3, 448, 640)\n",
      "Results saved to \u001b[1mC:\\Users\\matrix\\pruebayolo\\runs\\detect\\PruebaPrediccion_car3\u001b[0m\n",
      "6 labels saved to C:\\Users\\matrix\\pruebayolo\\runs\\detect\\PruebaPrediccion_car3\\labels\n"
     ]
    }
   ],
   "source": [
    "model_original= 'yolov8m.pt'\n",
    "\n",
    "selected_model_det=YOLO(model_original)\n",
    "\n",
    "NAME='PruebaPrediccion_car' # El nombre del experimento de predicción para deteccion de objetos debe ir entre comillas. Evite el uso de espacios al nombrar las carpetas; en su lugar, utilice algún formato de nombres como camelCase, snake_case o PascalCase.\n",
    "SOURCE='C:/Users/matrix/pruebayolo/pruebaimagenes' # Establezca el origen de datos que el modelo de detección utilizará para realizar predicciones. Configure el valor de este hiperparámetro según la tabla proporcionada anteriormente.\n",
    "MAX_DET=10 # Toma como valor solo números enteros. Índica el límite de la cantidad máxima de objetos que el modelo intentara predecir en una imagen. Se recomienda establecer un valor alto para evitar perder detecciones relevantes.\n",
    "IMGSZ=640 # Establezca las dimensiones en píxeles de la imagen de entrada durante la predicción en tareas de detección. Puede ser un número entero, como 640 para un cuadrado perfecto, o una tupla, como (640, 480), para dimensiones específicas de ancho y alto. Se recomienda utilizar los mismos valores utilizados durante el entrenamiento del modelo para mantener la coherencia en la inferencia.\n",
    "CONF=0.5 # Establece el umbral de confianza durante el proceso de predicción en la tarea de detección. Se recomienda establecer el valor hiperparámetro entre 0.5 y 0.10. Un umbral más alto mejora la precisión pero reduce la frecuencia de predicciones, mientras que un umbral más bajo aumenta la frecuencia pero disminuye la precisión en la inferencia.\n",
    "LINE_WIDTH= None # Determina el grosor en píxeles de los cuadros delimitadores que rodean los objetos detectados por el modelo. Puede establecer el grosor de la línea como un número entero en el que, a mayor valor, la línea será más gruesa, también puede utilizar como valor None para que el grosor se ajuste de forma automatizada, proporcionando una línea proporcional al tamaño de la imagen.\n",
    "VISUALIZE=False # Determina si las características del modelo de detección deben mostrarse durante la predicción. Establecer esto en True permite que las características se muestren como mapas intermedias, lo que hace que el modelo sea más fácil de entender. Si se establece en False, no se mostrarán las características del modelo. \n",
    "IOU=0.7 # El umbral predeterminado para la supresión no máxima (NMS) en la validación YOLO es 0,7. Este umbral de IoU (intersección sobre unión) es fundamental para NMS porque determina el grado mínimo de superposición requerido para que dos cuadros delimitadores se consideren la misma detección. Un umbral de IoU más bajo hace que NMS sea más conservador, mientras que un umbral de IoU más alto permite que un NMS más relajado evite eliminar los verdaderos positivos.\n",
    "DEVICE='cpu' # Especifica el dispositivo de ejecución para la prueba de predicción en la operación de detección. Puede seleccionar entre CPU o GPU. Si no dispone de una GPU con Cuda, se recomienda utilizar la CPU mediante el parámetro device='cpu'. En caso de contar con Cuda, puede especificar una GPU con device='cuda:0'; el número representa el identificador de la GPU disponible en el sistema. También es posible utilizar múltiples GPUs mediante device='cuda:0,1,2'.\n",
    "VID_STRIDE=False # Controla la velocidad de los fotogramas durante el proceso de predicción en vídeos o secuencias de tiempo real. Al establecerlo en True el modelo se adapta a la velocidad de fotogramas especificada por la fuente de vídeo, procesando cada fotograma individualmente. Para desactivar esta función indique como valor False.\n",
    "STREAM_BUFFER=False # Controla el almacenamiento en búfer de los fotogramas para la detección. Si es True, se almacenan todos los fotogramas para el procesamiento en tiempo real de vídeos o transmisiones en directo; si es False, devuelve el fotograma más reciente.\n",
    "SAVE_FRAMES=False # Controla la captura y almacenamiento de los fotogramas predichos por el modelo de detección. Con True, se guardarán todos los fotogramas individuales predichos; con False, no se realizará el almacenamiento de los fotogramas.\n",
    "AUGMENT=False # Aplica transformaciones a las imágenes de entrada, tales como giros, rotaciones, recortes y cambios de color, para diversificar los datos y mejorar la predicción en la detección. Establecer en True para activar la función, False para desactivar.\n",
    "CLASSES=2 # Filtra los resultados por clase durante la predicción en detección. Puede establecerse con un solo ID de clase o una lista de ID de clases para incluir específicamente esas clases en los resultados. Por ejemplo, \"classes=0\" o \"classes=[0, 1]\", también puede establecer el valor a None que tomara todas las clases configuradas en el dataset.\n",
    "SAVE_CROP=True # Determina si se deben guardar imágenes recortadas con los resultados durante la predicción en la detección. Al establecerlo en \"False\", las imágenes recortadas no se guardarán, lo que reduce el tamaño del archivo. Con el valor \"True\", se guardarán las imágenes recortadas correspondientes a las áreas detectadas.\n",
    "SHOW=False # Determina si se deben mostrar las imágenes o vídeos detectados durante la predicción. Al establecerlo en \"True\", permite la visualización de las predicciones en el mismo entorno, proporcionando una representación visual de los resultados. Si se establece en \"False\", las predicciones no se mostrarán. \n",
    "\n",
    "results_car= selected_model_det.predict(name=NAME, source=SOURCE,conf=CONF, save_txt=True, max_det=MAX_DET, line_width=LINE_WIDTH, visualize=VISUALIZE, imgsz=IMGSZ, iou=IOU, device=DEVICE, vid_stride=VID_STRIDE, stream_buffer=STREAM_BUFFER, classes=CLASSES,  save_crop=SAVE_CROP, show=SHOW, save_frames=SAVE_FRAMES, save=True, save_conf=True)   "
   ]
  },
  {
   "cell_type": "markdown",
   "metadata": {},
   "source": [
    "# Función de área para cajas detectadas"
   ]
  },
  {
   "cell_type": "code",
   "execution_count": 9,
   "metadata": {},
   "outputs": [
    {
     "name": "stdout",
     "output_type": "stream",
     "text": [
      "ultralytics.engine.results.Boxes object with attributes:\n",
      "\n",
      "cls: tensor([])\n",
      "conf: tensor([])\n",
      "data: tensor([], size=(0, 6))\n",
      "id: None\n",
      "is_track: False\n",
      "orig_shape: (900, 1600)\n",
      "shape: torch.Size([0, 6])\n",
      "xywh: tensor([], size=(0, 4))\n",
      "xywhn: tensor([], size=(0, 4))\n",
      "xyxy: tensor([], size=(0, 4))\n",
      "xyxyn: tensor([], size=(0, 4))\n",
      "ultralytics.engine.results.Boxes object with attributes:\n",
      "\n",
      "cls: tensor([])\n",
      "conf: tensor([])\n",
      "data: tensor([], size=(0, 6))\n",
      "id: None\n",
      "is_track: False\n",
      "orig_shape: (338, 474)\n",
      "shape: torch.Size([0, 6])\n",
      "xywh: tensor([], size=(0, 4))\n",
      "xywhn: tensor([], size=(0, 4))\n",
      "xyxy: tensor([], size=(0, 4))\n",
      "xyxyn: tensor([], size=(0, 4))\n",
      "ultralytics.engine.results.Boxes object with attributes:\n",
      "\n",
      "cls: tensor([1., 1.])\n",
      "conf: tensor([0.5458, 0.5409])\n",
      "data: tensor([[3.7902e+02, 3.6839e+02, 5.5141e+02, 4.4778e+02, 5.4579e-01, 1.0000e+00],\n",
      "        [2.8857e+02, 7.0807e+01, 6.1170e+02, 4.4518e+02, 5.4093e-01, 1.0000e+00]])\n",
      "id: None\n",
      "is_track: False\n",
      "orig_shape: (558, 988)\n",
      "shape: torch.Size([2, 6])\n",
      "xywh: tensor([[465.2177, 408.0869, 172.3942,  79.3878],\n",
      "        [450.1375, 257.9945, 323.1290, 374.3746]])\n",
      "xywhn: tensor([[0.4709, 0.7313, 0.1745, 0.1423],\n",
      "        [0.4556, 0.4624, 0.3271, 0.6709]])\n",
      "xyxy: tensor([[379.0206, 368.3930, 551.4149, 447.7808],\n",
      "        [288.5730,  70.8072, 611.7020, 445.1818]])\n",
      "xyxyn: tensor([[0.3836, 0.6602, 0.5581, 0.8025],\n",
      "        [0.2921, 0.1269, 0.6191, 0.7978]])\n",
      "ultralytics.engine.results.Boxes object with attributes:\n",
      "\n",
      "cls: tensor([0.])\n",
      "conf: tensor([0.5281])\n",
      "data: tensor([[6.7845e+02, 5.9242e+01, 1.1504e+03, 4.4380e+02, 5.2814e-01, 0.0000e+00]])\n",
      "id: None\n",
      "is_track: False\n",
      "orig_shape: (800, 1200)\n",
      "shape: torch.Size([1, 6])\n",
      "xywh: tensor([[914.3995, 251.5187, 471.9061, 384.5539]])\n",
      "xywhn: tensor([[0.7620, 0.3144, 0.3933, 0.4807]])\n",
      "xyxy: tensor([[ 678.4465,   59.2418, 1150.3525,  443.7956]])\n",
      "xyxyn: tensor([[0.5654, 0.0741, 0.9586, 0.5547]])\n",
      "ultralytics.engine.results.Boxes object with attributes:\n",
      "\n",
      "cls: tensor([0.])\n",
      "conf: tensor([0.7063])\n",
      "data: tensor([[6.7329e+02, 2.2640e+02, 7.4771e+02, 2.8931e+02, 7.0630e-01, 0.0000e+00]])\n",
      "id: None\n",
      "is_track: False\n",
      "orig_shape: (800, 1200)\n",
      "shape: torch.Size([1, 6])\n",
      "xywh: tensor([[710.4998, 257.8571,  74.4111,  62.9079]])\n",
      "xywhn: tensor([[0.5921, 0.3223, 0.0620, 0.0786]])\n",
      "xyxy: tensor([[673.2943, 226.4032, 747.7053, 289.3111]])\n",
      "xyxyn: tensor([[0.5611, 0.2830, 0.6231, 0.3616]])\n",
      "ultralytics.engine.results.Boxes object with attributes:\n",
      "\n",
      "cls: tensor([])\n",
      "conf: tensor([])\n",
      "data: tensor([], size=(0, 6))\n",
      "id: None\n",
      "is_track: False\n",
      "orig_shape: (287, 600)\n",
      "shape: torch.Size([0, 6])\n",
      "xywh: tensor([], size=(0, 4))\n",
      "xywhn: tensor([], size=(0, 4))\n",
      "xyxy: tensor([], size=(0, 4))\n",
      "xyxyn: tensor([], size=(0, 4))\n",
      "ultralytics.engine.results.Boxes object with attributes:\n",
      "\n",
      "cls: tensor([1.])\n",
      "conf: tensor([0.6040])\n",
      "data: tensor([[ 58.1937,  78.4931, 421.5716, 467.9158,   0.6040,   1.0000]])\n",
      "id: None\n",
      "is_track: False\n",
      "orig_shape: (533, 800)\n",
      "shape: torch.Size([1, 6])\n",
      "xywh: tensor([[239.8826, 273.2045, 363.3779, 389.4228]])\n",
      "xywhn: tensor([[0.2999, 0.5126, 0.4542, 0.7306]])\n",
      "xyxy: tensor([[ 58.1937,  78.4931, 421.5716, 467.9158]])\n",
      "xyxyn: tensor([[0.0727, 0.1473, 0.5270, 0.8779]])\n",
      "ultralytics.engine.results.Boxes object with attributes:\n",
      "\n",
      "cls: tensor([])\n",
      "conf: tensor([])\n",
      "data: tensor([], size=(0, 6))\n",
      "id: None\n",
      "is_track: False\n",
      "orig_shape: (453, 805)\n",
      "shape: torch.Size([0, 6])\n",
      "xywh: tensor([], size=(0, 4))\n",
      "xywhn: tensor([], size=(0, 4))\n",
      "xyxy: tensor([], size=(0, 4))\n",
      "xyxyn: tensor([], size=(0, 4))\n",
      "ultralytics.engine.results.Boxes object with attributes:\n",
      "\n",
      "cls: tensor([])\n",
      "conf: tensor([])\n",
      "data: tensor([], size=(0, 6))\n",
      "id: None\n",
      "is_track: False\n",
      "orig_shape: (456, 850)\n",
      "shape: torch.Size([0, 6])\n",
      "xywh: tensor([], size=(0, 4))\n",
      "xywhn: tensor([], size=(0, 4))\n",
      "xyxy: tensor([], size=(0, 4))\n",
      "xyxyn: tensor([], size=(0, 4))\n",
      "ultralytics.engine.results.Boxes object with attributes:\n",
      "\n",
      "cls: tensor([])\n",
      "conf: tensor([])\n",
      "data: tensor([], size=(0, 6))\n",
      "id: None\n",
      "is_track: False\n",
      "orig_shape: (675, 1013)\n",
      "shape: torch.Size([0, 6])\n",
      "xywh: tensor([], size=(0, 4))\n",
      "xywhn: tensor([], size=(0, 4))\n",
      "xyxy: tensor([], size=(0, 4))\n",
      "xyxyn: tensor([], size=(0, 4))\n"
     ]
    }
   ],
   "source": [
    "for i in results_principal:\n",
    "    print(i.boxes)\n"
   ]
  },
  {
   "cell_type": "code",
   "execution_count": 21,
   "metadata": {},
   "outputs": [
    {
     "name": "stdout",
     "output_type": "stream",
     "text": [
      "tensor([], size=(0, 4))\n",
      "tensor([], size=(0, 4))\n",
      "tensor([[465.2177, 408.0869, 172.3942,  79.3878],\n",
      "        [450.1375, 257.9945, 323.1290, 374.3746]])\n",
      "tensor([[914.3995, 251.5187, 471.9061, 384.5539]])\n",
      "tensor([[710.4998, 257.8571,  74.4111,  62.9079]])\n",
      "tensor([], size=(0, 4))\n",
      "tensor([[239.8826, 273.2045, 363.3779, 389.4228]])\n",
      "tensor([], size=(0, 4))\n",
      "tensor([], size=(0, 4))\n",
      "tensor([], size=(0, 4))\n"
     ]
    }
   ],
   "source": [
    "if results_principal is not None:\n",
    "    for i in results_principal:\n",
    "        if i.boxes is not None:\n",
    "            print(i.boxes.xywh)"
   ]
  },
  {
   "cell_type": "code",
   "execution_count": 11,
   "metadata": {},
   "outputs": [
    {
     "name": "stdout",
     "output_type": "stream",
     "text": [
      "Área total en imagen 1: 0.0\n",
      "Área total en imagen 2: 0.0\n",
      "Área total en imagen 3: 134657.3125\n",
      "Área total en imagen 4: 181473.296875\n",
      "Área total en imagen 5: 4681.0478515625\n",
      "Área total en imagen 6: 0.0\n",
      "Área total en imagen 7: 141507.625\n",
      "Área total en imagen 8: 0.0\n",
      "Área total en imagen 9: 0.0\n",
      "Área total en imagen 10: 0.0\n"
     ]
    }
   ],
   "source": [
    "def pixele(mascara, pixeles):\n",
    "    alto, ancho = pixeles\n",
    "    base = [item[2] * ancho for item in mascara]\n",
    "    altura = [item[3] * alto for item in mascara]\n",
    "    return base, altura\n",
    "\n",
    "def procesar(deteccion):\n",
    "    for i, e in enumerate(deteccion, 1):\n",
    "        mascara = e.boxes.xywhn\n",
    "        pixel = e.boxes.orig_shape\n",
    "        bases, alturas = pixele(mascara, pixel)\n",
    "\n",
    "        area_total = 0.0\n",
    "        for base, altura in zip(bases, alturas):\n",
    "            area_obj = base * altura\n",
    "            area_total += area_obj\n",
    "\n",
    "        print(f'Área total en imagen {i}: {area_total}')\n",
    "\n",
    "procesar(results_principal)"
   ]
  },
  {
   "cell_type": "code",
   "execution_count": 12,
   "metadata": {},
   "outputs": [
    {
     "name": "stdout",
     "output_type": "stream",
     "text": [
      "ultralytics.engine.results.Boxes object with attributes:\n",
      "\n",
      "cls: tensor([2.])\n",
      "conf: tensor([0.9084])\n",
      "data: tensor([[2.0174e+02, 1.7566e+00, 1.5962e+03, 8.8735e+02, 9.0840e-01, 2.0000e+00]])\n",
      "id: None\n",
      "is_track: False\n",
      "orig_shape: (900, 1600)\n",
      "shape: torch.Size([1, 6])\n",
      "xywh: tensor([[ 898.9678,  444.5550, 1394.4542,  885.5967]])\n",
      "xywhn: tensor([[0.5619, 0.4939, 0.8715, 0.9840]])\n",
      "xyxy: tensor([[ 201.7407,    1.7566, 1596.1949,  887.3533]])\n",
      "xyxyn: tensor([[0.1261, 0.0020, 0.9976, 0.9859]])\n",
      "ultralytics.engine.results.Boxes object with attributes:\n",
      "\n",
      "cls: tensor([])\n",
      "conf: tensor([])\n",
      "data: tensor([], size=(0, 6))\n",
      "id: None\n",
      "is_track: False\n",
      "orig_shape: (338, 474)\n",
      "shape: torch.Size([0, 6])\n",
      "xywh: tensor([], size=(0, 4))\n",
      "xywhn: tensor([], size=(0, 4))\n",
      "xyxy: tensor([], size=(0, 4))\n",
      "xyxyn: tensor([], size=(0, 4))\n",
      "ultralytics.engine.results.Boxes object with attributes:\n",
      "\n",
      "cls: tensor([2.])\n",
      "conf: tensor([0.7631])\n",
      "data: tensor([[  2.7863,   0.7645, 717.3456, 542.9841,   0.7631,   2.0000]])\n",
      "id: None\n",
      "is_track: False\n",
      "orig_shape: (558, 988)\n",
      "shape: torch.Size([1, 6])\n",
      "xywh: tensor([[360.0659, 271.8743, 714.5593, 542.2197]])\n",
      "xywhn: tensor([[0.3644, 0.4872, 0.7232, 0.9717]])\n",
      "xyxy: tensor([[  2.7863,   0.7645, 717.3456, 542.9841]])\n",
      "xyxyn: tensor([[0.0028, 0.0014, 0.7261, 0.9731]])\n",
      "ultralytics.engine.results.Boxes object with attributes:\n",
      "\n",
      "cls: tensor([2.])\n",
      "conf: tensor([0.7699])\n",
      "data: tensor([[4.4745e+00, 6.3480e-01, 1.1973e+03, 7.8429e+02, 7.6986e-01, 2.0000e+00]])\n",
      "id: None\n",
      "is_track: False\n",
      "orig_shape: (800, 1200)\n",
      "shape: torch.Size([1, 6])\n",
      "xywh: tensor([[ 600.8815,  392.4606, 1192.8140,  783.6515]])\n",
      "xywhn: tensor([[0.5007, 0.4906, 0.9940, 0.9796]])\n",
      "xyxy: tensor([[4.4745e+00, 6.3480e-01, 1.1973e+03, 7.8429e+02]])\n",
      "xyxyn: tensor([[3.7288e-03, 7.9350e-04, 9.9774e-01, 9.8036e-01]])\n",
      "ultralytics.engine.results.Boxes object with attributes:\n",
      "\n",
      "cls: tensor([2.])\n",
      "conf: tensor([0.6792])\n",
      "data: tensor([[1.1066e+01, 1.5594e+00, 1.1963e+03, 7.9019e+02, 6.7916e-01, 2.0000e+00]])\n",
      "id: None\n",
      "is_track: False\n",
      "orig_shape: (800, 1200)\n",
      "shape: torch.Size([1, 6])\n",
      "xywh: tensor([[ 603.6735,  395.8769, 1185.2156,  788.6349]])\n",
      "xywhn: tensor([[0.5031, 0.4948, 0.9877, 0.9858]])\n",
      "xyxy: tensor([[  11.0656,    1.5594, 1196.2812,  790.1943]])\n",
      "xyxyn: tensor([[0.0092, 0.0019, 0.9969, 0.9877]])\n",
      "ultralytics.engine.results.Boxes object with attributes:\n",
      "\n",
      "cls: tensor([2.])\n",
      "conf: tensor([0.9402])\n",
      "data: tensor([[1.6524e+02, 4.5453e-01, 5.9770e+02, 2.8128e+02, 9.4020e-01, 2.0000e+00]])\n",
      "id: None\n",
      "is_track: False\n",
      "orig_shape: (287, 600)\n",
      "shape: torch.Size([1, 6])\n",
      "xywh: tensor([[381.4722, 140.8686, 432.4609, 280.8281]])\n",
      "xywhn: tensor([[0.6358, 0.4908, 0.7208, 0.9785]])\n",
      "xyxy: tensor([[1.6524e+02, 4.5453e-01, 5.9770e+02, 2.8128e+02]])\n",
      "xyxyn: tensor([[0.2754, 0.0016, 0.9962, 0.9801]])\n",
      "ultralytics.engine.results.Boxes object with attributes:\n",
      "\n",
      "cls: tensor([])\n",
      "conf: tensor([])\n",
      "data: tensor([], size=(0, 6))\n",
      "id: None\n",
      "is_track: False\n",
      "orig_shape: (533, 800)\n",
      "shape: torch.Size([0, 6])\n",
      "xywh: tensor([], size=(0, 4))\n",
      "xywhn: tensor([], size=(0, 4))\n",
      "xyxy: tensor([], size=(0, 4))\n",
      "xyxyn: tensor([], size=(0, 4))\n",
      "ultralytics.engine.results.Boxes object with attributes:\n",
      "\n",
      "cls: tensor([])\n",
      "conf: tensor([])\n",
      "data: tensor([], size=(0, 6))\n",
      "id: None\n",
      "is_track: False\n",
      "orig_shape: (453, 805)\n",
      "shape: torch.Size([0, 6])\n",
      "xywh: tensor([], size=(0, 4))\n",
      "xywhn: tensor([], size=(0, 4))\n",
      "xyxy: tensor([], size=(0, 4))\n",
      "xyxyn: tensor([], size=(0, 4))\n",
      "ultralytics.engine.results.Boxes object with attributes:\n",
      "\n",
      "cls: tensor([2.])\n",
      "conf: tensor([0.6389])\n",
      "data: tensor([[2.7906e+00, 4.1790e+00, 8.4661e+02, 4.4822e+02, 6.3893e-01, 2.0000e+00]])\n",
      "id: None\n",
      "is_track: False\n",
      "orig_shape: (456, 850)\n",
      "shape: torch.Size([1, 6])\n",
      "xywh: tensor([[424.7021, 226.2005, 843.8230, 444.0431]])\n",
      "xywhn: tensor([[0.4996, 0.4961, 0.9927, 0.9738]])\n",
      "xyxy: tensor([[  2.7906,   4.1790, 846.6136, 448.2221]])\n",
      "xyxyn: tensor([[0.0033, 0.0092, 0.9960, 0.9829]])\n",
      "ultralytics.engine.results.Boxes object with attributes:\n",
      "\n",
      "cls: tensor([])\n",
      "conf: tensor([])\n",
      "data: tensor([], size=(0, 6))\n",
      "id: None\n",
      "is_track: False\n",
      "orig_shape: (675, 1013)\n",
      "shape: torch.Size([0, 6])\n",
      "xywh: tensor([], size=(0, 4))\n",
      "xywhn: tensor([], size=(0, 4))\n",
      "xyxy: tensor([], size=(0, 4))\n",
      "xyxyn: tensor([], size=(0, 4))\n"
     ]
    }
   ],
   "source": [
    "for e in results_car:\n",
    "    print(e.boxes)"
   ]
  },
  {
   "cell_type": "code",
   "execution_count": 13,
   "metadata": {},
   "outputs": [
    {
     "name": "stdout",
     "output_type": "stream",
     "text": [
      "tensor([[0.5619, 0.4939, 0.8715, 0.9840]])\n",
      "tensor([], size=(0, 4))\n",
      "tensor([[0.3644, 0.4872, 0.7232, 0.9717]])\n",
      "tensor([[0.5007, 0.4906, 0.9940, 0.9796]])\n",
      "tensor([[0.5031, 0.4948, 0.9877, 0.9858]])\n",
      "tensor([[0.6358, 0.4908, 0.7208, 0.9785]])\n",
      "tensor([], size=(0, 4))\n",
      "tensor([], size=(0, 4))\n",
      "tensor([[0.4996, 0.4961, 0.9927, 0.9738]])\n",
      "tensor([], size=(0, 4))\n"
     ]
    }
   ],
   "source": [
    "if results_car is not None:\n",
    "    for i in results_car:\n",
    "        if i.boxes is not None:\n",
    "            print(i.boxes.xywhn) #cajas normalizadas xywhn | cajas en pixel xywh"
   ]
  },
  {
   "cell_type": "code",
   "execution_count": 14,
   "metadata": {},
   "outputs": [
    {
     "name": "stdout",
     "output_type": "stream",
     "text": [
      "Área total en imagen 1: 0.8575862050056458\n",
      "Área total en imagen 2: 0.0\n",
      "Área total en imagen 3: 0.7027848362922668\n",
      "Área total en imagen 4: 0.9736983776092529\n",
      "Área total en imagen 5: 0.9736483693122864\n",
      "Área total en imagen 6: 0.705268144607544\n",
      "Área total en imagen 7: 0.0\n",
      "Área total en imagen 8: 0.0\n",
      "Área total en imagen 9: 0.9667022824287415\n",
      "Área total en imagen 10: 0.0\n"
     ]
    }
   ],
   "source": [
    "def pixele(mascara): \n",
    "    #alto, ancho = pixeles\n",
    "    base = [item[2]  for item in mascara]\n",
    "    altura = [item[3] for item in mascara]\n",
    "    return base, altura\n",
    "\n",
    "def procesar(deteccion):\n",
    "    for i, e in enumerate(deteccion, 1):\n",
    "        mascara = e.boxes.xywhn\n",
    "        #pixel = e.boxes.orig_shape\n",
    "        bases, alturas = pixele(mascara) #\n",
    "        \n",
    "        area_total = 0.0\n",
    "        for base, altura in zip(bases, alturas):\n",
    "            area_obj = base * altura\n",
    "            area_total += area_obj\n",
    "\n",
    "        print(f'Área total en imagen {i}: {area_total}')\n",
    "\n",
    "procesar(results_car)\n"
   ]
  },
  {
   "cell_type": "markdown",
   "metadata": {},
   "source": [
    "# "
   ]
  },
  {
   "cell_type": "code",
   "execution_count": null,
   "metadata": {},
   "outputs": [],
   "source": [
    "# Función de área para formato pixel\n",
    "\n",
    "def calcular_area(cajas_delimitadoras): \n",
    "    area_caja = [coordenada[2] * coordenada[3] for coordenada in cajas_delimitadoras] # Se asigna el ancho y alto a las coordenadas segun la posicion del formato x [0](coordenada x) y [1](coordenada y) w [2](ancho) h [3](alto) de las cajas delimitadoras. Para hallar el área de una caja delimitadora en la imagen, se recorren las coordenadas de la caja boxes y se multiplica la base por la altura.\n",
    "    return sum(area_caja) # Si en la imagen se encuentra mas de una deteccion del mismo conjunto, realiza la suma de cada area individual.\n",
    "     \n",
    "def procesar_deteccion_individual(deteccion_base, deteccion_carro): \n",
    "    control_caja_carro = False # Se establece una variable de control para evitar obtener las coordenadas de la clase carro si en la imagen no hay detección de las clases principales. \n",
    "    boxes_rayon_abolladura = deteccion_base.boxes.xywh if deteccion_base.boxes is not None else None # Almacena las coordenadas de las cajas en formato xywh donde los valores estan en pixel, solo si la caja no esta vacia, de lo contrario retorna vacio. Para obtener las coordenadas en otro formato: xyxy(Representa las coordenadas xy de la esquina superior izquierda y la coordenada xy de la esquina inferior derecha); mismo formato pero los valor en pixel xyxywh. Otro formato es xywhn((Representa las coordenadas del centro de la caja, el ancho y alto de la caja) formato normalizado al tamaño de la imagen); en valores pixel xyxyn. \n",
    "    if len(boxes_rayon_abolladura) > 0: # Permite procesar las cajas solo si se obtiene el valor de las coordenadas.\n",
    "        area_rayon_abolladura = calcular_area(boxes_rayon_abolladura) \n",
    "        print(f'Áreas rayón y abolladura: {area_rayon_abolladura} px^2')\n",
    "        \n",
    "        for caja_carro in deteccion_carro: # Recorre los resultados que almacenan las cajas de deteccion para la clase carro.\n",
    "            if deteccion_base.path == caja_carro.path: # Se verifica que la imagen en la que se halló la identificación de las cajas principales sea la misma en la que se esta recorriendo los resultados de deteccion carro.\n",
    "                boxes_carro = caja_carro.boxes.xywh if caja_carro.boxes is not None else None # Al obtener las coordenas de la clase principal en un formato particular, se recomienda obtener las de la clase carro con el mismo formato, en este caso en pixel.\n",
    "                control_caja_carro = True # Activa la variable de control solo si se obtuvieron las coordenadas de las cajas de deteccion carro.\n",
    "                area_carro = calcular_area(boxes_carro) \n",
    "                print(f'Áreas carro: {area_carro} px^2') \n",
    "        return (area_rayon_abolladura, area_carro) if control_caja_carro else (area_rayon_abolladura, 0) # Dependiendo del valor de la variable de control retornara los valores correspondientes a las dos areas, si no se obtuvo el valor de las coordenadas para carro en la misma imagen, solo se retornara el valor del area de la clase principal.      \n",
    "    \n",
    "    else:\n",
    "        print(f'No se encontraron detecciones para la imagen! ') # Si la caja esta vacia no existira coordenadas para procesar por lo tanto retornara el valor 0 para el area afectada en cada area.\n",
    "        return 0, 0 # \n",
    "    \n",
    "def procesar_detecciones(deteccion_central, deteccion_carro): # Recibe los resultados de la deteccion rayon-abolladura y las de carro.\n",
    "    for id_objeto, caja_central in enumerate(deteccion_central, 0): # Permite recorrer las listas que contienen los resultados de las cajas principales, obteniendo el indice de posición y su valor.\n",
    "        print(f'\\nImagen {id_objeto + 1}: {caja_central.path} ') # Enumera las imagenes secuencialmente aumentando en 1, ademas proporciona la direccion de la imagen.\n",
    "        area_rayon_abolladura, area_carro = procesar_deteccion_individual(caja_central, deteccion_carro) \n",
    "        area_total_objeto = abs(area_carro - area_rayon_abolladura) # Calcula el area total afectada del carro, proporcionando el resultado con el valor absoluto para evitar problemas cuando el area del carro sea igual a 0.\n",
    "        print(f'área total afectada en la imagen: {area_total_objeto} px^2')\n",
    "\n",
    "procesar_detecciones(results_principal,results_car)\n",
    "print('\\nProceso Terminado! ')"
   ]
  }
 ],
 "metadata": {
  "kernelspec": {
   "display_name": "Python 3",
   "language": "python",
   "name": "python3"
  },
  "language_info": {
   "codemirror_mode": {
    "name": "ipython",
    "version": 3
   },
   "file_extension": ".py",
   "mimetype": "text/x-python",
   "name": "python",
   "nbconvert_exporter": "python",
   "pygments_lexer": "ipython3",
   "version": "3.10.13"
  }
 },
 "nbformat": 4,
 "nbformat_minor": 2
}
