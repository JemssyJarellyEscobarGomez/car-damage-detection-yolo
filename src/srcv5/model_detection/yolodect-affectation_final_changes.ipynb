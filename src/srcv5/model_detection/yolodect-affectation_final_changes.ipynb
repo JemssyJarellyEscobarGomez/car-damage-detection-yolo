{
 "cells": [
  {
   "cell_type": "markdown",
   "metadata": {},
   "source": [
    "<span style=\"font-family: 'Bahnschrift Light'; font-size: 40px\">Carga de librerías</span>"
   ]
  },
  {
   "cell_type": "code",
   "execution_count": 1,
   "metadata": {},
   "outputs": [],
   "source": [
    "import ultralytics\n",
    "import sklearn\n",
    "from ultralytics import YOLO\n",
    "from ultralytics import settings\n",
    "import os\n",
    "import torch\n",
    "import subprocess\n",
    "import gdown\n",
    "import numpy as np\n",
    "import pandas as pd\n",
    "from sklearn.preprocessing import LabelEncoder\n",
    "import shutil\n",
    "from sklearn.model_selection import train_test_split\n",
    "import yaml\n",
    "from threading import Thread\n",
    "from queue import Queue\n",
    "from PIL import Image\n",
    "import re\n",
    "from pathlib import Path\n",
    "import cv2\n",
    "import tempfile"
   ]
  },
  {
   "cell_type": "markdown",
   "metadata": {},
   "source": [
    "<span style=\"font-family: 'Bahnschrift Light'; font-size: 40px\">Instalación de herramientas de etiquetado</span>"
   ]
  },
  {
   "cell_type": "code",
   "execution_count": 12,
   "metadata": {},
   "outputs": [],
   "source": [
    "# Función para instalar los paquetes\n",
    "\n",
    "def package_verification(package):\n",
    "    try:\n",
    "        output = os.popen('pip list').read()\n",
    "        return f'{package}' in output\n",
    "    except Exception as e:\n",
    "        print(f'Error en la verificación: {e}')\n",
    "        return False\n",
    "\n",
    "def package_installation(package_name):\n",
    "    if package_verification(package_name):\n",
    "        print(f\"El paquete '{package_name}' ya está instalado.\")\n",
    "    else:\n",
    "        print('Instalando el paquete... ')\n",
    "        try:\n",
    "            os.system(f'pip install {package_name}')\n",
    "            print(f'libreria {package_name} instalada correctamente! ')\n",
    "        except Exception as e:\n",
    "            print(f'Error en la instalación de {package_name}: {e}')"
   ]
  },
  {
   "cell_type": "code",
   "execution_count": 22,
   "metadata": {},
   "outputs": [
    {
     "name": "stdout",
     "output_type": "stream",
     "text": [
      "El paquete 'labelme' ya está instalado.\n"
     ]
    }
   ],
   "source": [
    "package_installation('labelme') # Instalación de la herramienta de etiquetado Labelme"
   ]
  },
  {
   "cell_type": "code",
   "execution_count": null,
   "metadata": {},
   "outputs": [],
   "source": [
    "# Abrir la herramienta para el proceso de etiquetado \n",
    "try:\n",
    "    subprocess.check_call([\"labelme\"]) \n",
    "except Exception as e:\n",
    "    print(f'No fue posible abrir labelme: {e}')"
   ]
  },
  {
   "cell_type": "code",
   "execution_count": 16,
   "metadata": {},
   "outputs": [
    {
     "name": "stdout",
     "output_type": "stream",
     "text": [
      "El paquete 'labelme2yolo' ya está instalado.\n"
     ]
    }
   ],
   "source": [
    "package_installation('labelme2yolo') # Instalación de la herramienta de conversión para el formato JSON de labelme a formato texto requerido por los modelos de detección de objetos YOLO."
   ]
  },
  {
   "cell_type": "markdown",
   "metadata": {},
   "source": [
    "<span style=\"font-family: 'Bahnschrift Light'; font-size: 40px\">Carga rutas</span>"
   ]
  },
  {
   "cell_type": "code",
   "execution_count": 2,
   "metadata": {},
   "outputs": [],
   "source": [
    "current_folder= os.getcwd() # Obtener ubicación actual\n",
    "main_folder= os.path.abspath(os.path.join(current_folder, \"../../../\")) # Carpeta main del proyecto\n",
    "main_staticos= os.path.abspath(os.path.join(main_folder))+'\\\\dist' # Carpeta main de los archivos estaticos\n",
    "main_production= os.path.abspath(main_folder) +'\\\\src' # Carpeta main de los archivos listos para producción \n",
    "dir_prueba= os.path.abspath(main_folder) + \"\\\\src\\\\assets_2\"  # Carpeta de imagenes prueba para el proceso de predecir\n",
    "\n",
    "training_structure=\"lote2_2\" # Indica el nombre de la carpeta que tiene los archivos para el entrenamiento (image, json)\n",
    "dir_train= os.path.abspath(main_staticos) + f'\\\\{training_structure}'"
   ]
  },
  {
   "cell_type": "markdown",
   "metadata": {},
   "source": [
    "<span style=\"font-family: 'Bahnschrift Light'; font-size: 40px\">Configuración de rutas de entrenamiento</span>"
   ]
  },
  {
   "cell_type": "code",
   "execution_count": 5,
   "metadata": {},
   "outputs": [
    {
     "name": "stdout",
     "output_type": "stream",
     "text": [
      "Cantidad de archivos de entrenamiento: 399\n",
      "Cantidad de archivos de validación: 98\n"
     ]
    }
   ],
   "source": [
    "# Función para separar la carpeta global de todos los datos en un 80% entrenamiento y 20% validación. Utilice esta función solo si no ha ordenado los datos en una carpeta para entrenamiento y otra para validación.\n",
    "\n",
    "def file_separation(orig_folder):\n",
    "    file_list = os.listdir(orig_folder)\n",
    "    train, val= train_test_split(file_list, test_size=0.2, random_state=100) # Se divide el set de datos entrenamiento y validación aleatoriamente con una misma semilla\n",
    "    if not os.path.exists(\"train\"):\n",
    "        train_path = os.path.join(orig_folder, \"train\")\n",
    "        os.makedirs(train_path, exist_ok=True)\n",
    "    move_files(train, orig_folder, train_path)\n",
    "    \n",
    "    if not os.path.exists(\"val\"):\n",
    "        val_path = os.path.join(orig_folder, \"val\")\n",
    "        os.makedirs(val_path, exist_ok=True)\n",
    "    move_files(val, orig_folder, val_path)\n",
    "\n",
    "def move_files(file_list, orig_folder, dest_folder):\n",
    "    for file in file_list:\n",
    "        if file.lower().endswith(('.png', '.jpg', '.jpeg', '.gif')):\n",
    "            orig_image_path = os.path.join(orig_folder, file)\n",
    "            json_name = os.path.splitext(file)[0] + \".json\"\n",
    "            \n",
    "            orig_json_path = os.path.join(orig_folder, json_name)\n",
    "            dest_image_path = os.path.join(dest_folder, file)\n",
    "            dest_json_path = os.path.join(dest_folder, json_name)\n",
    "            \n",
    "            shutil.copy(orig_image_path, dest_image_path)\n",
    "            shutil.copy(orig_json_path, dest_json_path)\n",
    "\n",
    "file_separation(dir_train)"
   ]
  },
  {
   "cell_type": "markdown",
   "metadata": {},
   "source": [
    "<span style=\"font-family: 'Bahnschrift Light'; font-size: 40px\">Conversión a formato YOLO</span>"
   ]
  },
  {
   "cell_type": "code",
   "execution_count": 3,
   "metadata": {},
   "outputs": [
    {
     "name": "stdout",
     "output_type": "stream",
     "text": [
      "Conversión completada para la carpeta c:\\Users\\matrix\\pruebayolo\\proyecto_yolo\\dist\\lala\\train\n",
      "Conversión completada para la carpeta c:\\Users\\matrix\\pruebayolo\\proyecto_yolo\\dist\\lala\\val\n"
     ]
    }
   ],
   "source": [
    "# Función para convertir la carpeta de entrenamiento y validación en formato YOLO\n",
    "# Hacer que permita realizar la conversion si ya se tiene separado\n",
    "def convert_to_yolo_format(training_directory, validation_directory):\n",
    "    try:\n",
    "        subprocess.check_call([\"labelme2yolo\", \"--json_dir\", training_directory])\n",
    "        print(f'Conversión completada para la carpeta {training_directory}')\n",
    "        subprocess.check_call([\"labelme2yolo\", \"--json_dir\", validation_directory])\n",
    "        print(f'Conversión completada para la carpeta {validation_directory}')\n",
    "    except subprocess.CalledProcessError as e:\n",
    "        print(f'Error al ejecutar función labelme2yolo: {e}')\n",
    "\n",
    "train_path= os.path.abspath(dir_train) + \"\\\\train\"\n",
    "val_path= os.path.abspath(dir_train) + \"\\\\val\"\n",
    "\n",
    "convert_to_yolo_format(train_path, val_path)"
   ]
  },
  {
   "cell_type": "code",
   "execution_count": null,
   "metadata": {},
   "outputs": [],
   "source": [
    "# Organización de la estructura del repositorio YOLODataset (resultado de la conversión .json a formato YOLO) creado por defecto\n",
    "\n",
    "def reorganization(path):\n",
    "    try:\n",
    "        new_path = os.path.abspath(os.path.join(path, \"YOLODataset\"))\n",
    "        main_folders = os.listdir(new_path)\n",
    "        for folder_instance in main_folders:\n",
    "            secondary_folder_path = os.path.join(new_path, folder_instance)\n",
    "            if os.path.isdir(secondary_folder_path):\n",
    "                secondary_folders = os.listdir(secondary_folder_path)\n",
    "                for secondary_folder in secondary_folders:\n",
    "                    subfolder_secondary_path = os.path.join(secondary_folder_path, secondary_folder)\n",
    "                    try:\n",
    "                        if os.listdir(subfolder_secondary_path) != []:\n",
    "                            for file in os.listdir(subfolder_secondary_path):\n",
    "                                orig_path = os.path.join(subfolder_secondary_path, file)\n",
    "                                dest_path = os.path.abspath(os.path.join(subfolder_secondary_path, \"../\"))\n",
    "                                new_dest_path = os.path.join(dest_path, file)\n",
    "                                shutil.move(orig_path, new_dest_path)\n",
    "                            os.rmdir(subfolder_secondary_path)\n",
    "                        else:\n",
    "                            os.rmdir(subfolder_secondary_path)\n",
    "                    except NotADirectoryError as e:\n",
    "                        print(f'Error: the element is not a folder: {e}')\n",
    "        return new_path\n",
    "    except FileNotFoundError as e:\n",
    "        print(f'Error: {e}')\n",
    "\n",
    "yolo_train_data= reorganization(train_path)\n",
    "yolo_val_data= reorganization(val_path)    "
   ]
  },
  {
   "cell_type": "code",
   "execution_count": null,
   "metadata": {},
   "outputs": [],
   "source": [
    "# Función para mover las carpetas yolo \n",
    "\n",
    "def acomodar_rutas_dataset(main_staticos, dataset_train, dataset_val):\n",
    "    try:\n",
    "        if not os.path.exists(\"data_afectacion\"):\n",
    "            try: \n",
    "                paths_segmentation= os.path.join(main_staticos, \"data_afectacion\")\n",
    "                os.makedirs(paths_segmentation, exist_ok=True)\n",
    "                if os.listdir(paths_segmentation) == []:\n",
    "                    shutil.move(dataset_train, os.path.join(paths_segmentation, \"YOLODataset_train\"))\n",
    "                    shutil.move(dataset_val, os.path.join(paths_segmentation, \"YOLODataset_val\"))\n",
    "                    print(f'Carpetas movidas exitosamente a {paths_segmentation} ')\n",
    "                else:\n",
    "                    print(f'Las carpetas ya se encuentran en {paths_segmentation} ')\n",
    "            except OSError as e:\n",
    "                print(f'Error al intentar crear la carpeta en {paths_segmentation}: {e}')\n",
    "        return paths_segmentation  \n",
    "    except TypeError as e:\n",
    "        print(f'Tipo de dato incorrecto para el argumento: {e}')\n",
    "\n",
    "detect_routes= acomodar_rutas_dataset(main_staticos, yolo_train_data, yolo_val_data)"
   ]
  },
  {
   "cell_type": "code",
   "execution_count": null,
   "metadata": {},
   "outputs": [],
   "source": [
    "# Set de funciones para ordenar la estructura de los dataset individuales.\n",
    "\n",
    "def arrange_dataset_paths(train, val):\n",
    "    destination = os.path.abspath(os.path.join(train, \"../../\"))\n",
    "    shutil.move(train, destination)\n",
    "    if \"dataset.yaml\" in os.listdir(os.path.join(val, \"../\")):\n",
    "        os.remove(val)\n",
    "\n",
    "# Función para reescribir el dataset\n",
    "def rewrite_dataset(dir_train_converted, combined_list):\n",
    "    with open(dir_train_converted, 'w') as new_dataset:\n",
    "        new_dataset.write(\n",
    "            f'train: {os.path.abspath(os.path.join(dir_train_converted, \"../\"))}\\n'\n",
    "            f'val: {os.path.abspath(os.path.join(dir_train_converted, \"../../\"))}\\\\YOLODataset_val\\n'\n",
    "            'test: \\n'\n",
    "            f'nc: {len(combined_list)}\\n'\n",
    "            f'names: {combined_list}\\n'\n",
    "        )\n",
    "        \n",
    "# Función para combinar los dos dataset generados\n",
    "def total_labels(list1, list2, update_dataset_train):\n",
    "    set1=set(list1)\n",
    "    set2=set(list2)\n",
    "    union_without_repeating = set1.union(set2)\n",
    "    combined_list = list(union_without_repeating)\n",
    "    rewrite_dataset(update_dataset_train, combined_list)\n",
    "\n",
    "# Función para extraer los nombres de las etiquetas de los dos dataset separados\n",
    "def extract_labels(main_route):\n",
    "    try:\n",
    "        route_dataset_train= os.path.abspath(main_route) + \"\\\\YOLODataset_train\\\\dataset.yaml\"\n",
    "        route_dataset_val= os.path.abspath(main_route) + \"\\\\YOLODataset_val\\\\dataset.yaml\"\n",
    "        \n",
    "        with open(route_dataset_train, 'r') as file_train:\n",
    "            data_train = yaml.safe_load(file_train)\n",
    "            labels_train = data_train['names']\n",
    "        with open(route_dataset_val,'r') as file_val:\n",
    "            data_val= yaml.safe_load(file_val)\n",
    "            labels_val= data_val['names']\n",
    "        total_labels(labels_train, labels_val, route_dataset_train)\n",
    "        \n",
    "        return route_dataset_train, route_dataset_val\n",
    "    except (TypeError, FileNotFoundError) as e:\n",
    "        print(f'Error: {e}')\n",
    "\n",
    "try:\n",
    "    train, val= extract_labels(detect_routes)\n",
    "    arrange_dataset_paths(train, val)\n",
    "except TypeError as e:\n",
    "    print(f'Error: {e}')"
   ]
  },
  {
   "cell_type": "code",
   "execution_count": 4,
   "metadata": {},
   "outputs": [],
   "source": [
    "# Buscar la carpeta que contiene la configuración completa para el entrenamiento\n",
    "data_train= os.path.abspath(main_staticos) + \"\\\\data_afectacion\\\\dataset.yaml\""
   ]
  },
  {
   "cell_type": "markdown",
   "metadata": {},
   "source": [
    "<span style=\"font-family: 'Bahnschrift Light'; font-size: 40px\">Selección versión de modelo YOLOv8</span>"
   ]
  },
  {
   "cell_type": "code",
   "execution_count": 4,
   "metadata": {},
   "outputs": [],
   "source": [
    "# Modificación de las rutas de las carpetas predeterminadas de ultralytics YOLO\n",
    "\n",
    "def set_config_ultralytics(main):\n",
    "    settings.update({'datasets_dir': f'{main}\\\\dist', 'weights_dir': f'{main}\\\\src', 'runs_dir': f'{main}\\\\src\\\\runs'})\n",
    "set_config_ultralytics(main_folder)"
   ]
  },
  {
   "cell_type": "markdown",
   "metadata": {},
   "source": [
    "<span style=\"font-family: 'Bahnschrift Light'; font-size: 40px\">Modelo original</span>"
   ]
  },
  {
   "cell_type": "markdown",
   "metadata": {},
   "source": [
    "### Tabla de variantes en la Segmentación de instancias con YOLOv8\n",
    "\n",
    "| Modelo      | Nombres de archivo                                      | Identificador |\n",
    "|-------------|-----------------------------------------------------|------------|\n",
    "| YOLOv8-seg  | yolov8n-seg.pt yolov8s-seg.pt yolov8m-seg.pt yolov8l-seg.pt yolov8x-seg.pt | n, s, m, l, x |\n"
   ]
  },
  {
   "cell_type": "code",
   "execution_count": null,
   "metadata": {},
   "outputs": [],
   "source": [
    "package_installation('gdown') # Librería que le permitira descargar las versiones de YOLOv8"
   ]
  },
  {
   "cell_type": "code",
   "execution_count": 3,
   "metadata": {},
   "outputs": [
    {
     "name": "stdout",
     "output_type": "stream",
     "text": [
      "Se está utilizando la versión \"yolov8x.pt\" del modelo. \n"
     ]
    }
   ],
   "source": [
    "def get_model_version():\n",
    "    available_versions= ['n', 's', 'm', 'l', 'x'] # yolov8n.pt , yolov8s.pt , yolov8m.pt , yolov8l.pt , yolov8x.pt\n",
    "    control= True\n",
    "    while control:\n",
    "        version_selection= input(\"Ingrese la versión del modelo que desea utilizar, entre las disponibles están: n, s, m, l, x. Advertencia: Si no desea instalar ninguna ingrese la palabra 'salir' \").lower() \n",
    "        if version_selection == \"salir\":\n",
    "            id_version=None\n",
    "            control=False\n",
    "        elif version_selection in available_versions:\n",
    "            id_version= f'yolov8{version_selection}.pt' \n",
    "        else:\n",
    "            print('Version de modelo inexistente, ingrese nuevamente! ')\n",
    "        return id_version\n",
    "     \n",
    "def model_installation(url, version_name):\n",
    "    try:\n",
    "        path_save = os.path.abspath(main_folder) + \"\\\\dist\\\\model_version\\\\\" + version_name\n",
    "        if os.path.exists(path_save):\n",
    "            print(f'Se está utilizando la versión \"{version_name}\" del modelo. ')\n",
    "        else:\n",
    "            url_installation = f'{url}/{version_name}'\n",
    "            gdown.download(url_installation, path_save, quiet=False)\n",
    "            print('Versión instalada correctamente!')\n",
    "    except (NameError, UnboundLocalError) as e:\n",
    "        print(f'Error en la instalación de la versión del modelo: {e}')\n",
    "    return path_save\n",
    "\n",
    "model_url= 'https://github.com/ultralytics/assets/releases/download/v0.0.0' \n",
    "model_version= get_model_version()\n",
    "\n",
    "if model_version is not None:\n",
    "    model_orig= model_installation(model_url, model_version) \n",
    "else:\n",
    "    print('Ha salido con exito! ')"
   ]
  },
  {
   "cell_type": "markdown",
   "metadata": {},
   "source": [
    "<span style=\"font-family: 'Bahnschrift Light'; font-size: 40px\">Función selección modelos pre-entrenados</span>"
   ]
  },
  {
   "cell_type": "code",
   "execution_count": 4,
   "metadata": {},
   "outputs": [],
   "source": [
    "# Función para obtener el último entrenamiento\n",
    "\n",
    "def get_last_training(dir_src, det_type):\n",
    "    try:\n",
    "        yolo_model_folders= os.listdir(dir_src)\n",
    "        for folder_name in yolo_model_folders:\n",
    "            if folder_name == det_type:\n",
    "                base_path = os.path.abspath(os.path.join(dir_src, folder_name))\n",
    "                files= os.listdir(base_path)\n",
    "                last_experiment = sorted(files)[-1]\n",
    "                model= os.path.join(base_path, last_experiment, \"weights\", \"best.pt\")\n",
    "                print(f'Los pesos del experimento que se van a utilizar son {model}')\n",
    "                return model\n",
    "        else:\n",
    "            print(f'No existe ningún experimento de entrenamiento en la carpeta {dir_src}')\n",
    "            return None\n",
    "    except FileNotFoundError as e:\n",
    "        print(f'Error: {e}')"
   ]
  },
  {
   "cell_type": "markdown",
   "metadata": {},
   "source": [
    "<span style=\"font-family: 'Bahnschrift Light'; font-size: 40px\">Modelo entrenado</span>"
   ]
  },
  {
   "cell_type": "code",
   "execution_count": 5,
   "metadata": {},
   "outputs": [
    {
     "name": "stdout",
     "output_type": "stream",
     "text": [
      "Error: [WinError 3] El sistema no puede encontrar la ruta especificada: 'c:\\\\Users\\\\matrix\\\\pruebayolo\\\\proyecto_yolo\\\\src\\\\srcv5\\\\modelo_deteccion'\n"
     ]
    }
   ],
   "source": [
    "# Llamado para obtener el último entrenamiento del modelo deteccion\n",
    "\n",
    "version_afectation= \"srcv5\" # Nombre de la carpeta donde se encuentra el modelo pre-entrenado a usar\n",
    "detection_type_afectation= \"deteccion\" # Establece el modo de detecciones de Yolo (deteccion o segmentación)\n",
    "dir_model_version_afectation=os.path.abspath(os.path.join(main_production, version_afectation)+ \"\\\\modelo_deteccion\")\n",
    "model_detection= get_last_training(dir_model_version_afectation, detection_type_afectation)"
   ]
  },
  {
   "cell_type": "markdown",
   "metadata": {},
   "source": [
    "<span style=\"font-family: 'Bahnschrift Light'; font-size: 40px\">Instalación de recursos</span>"
   ]
  },
  {
   "cell_type": "code",
   "execution_count": 19,
   "metadata": {},
   "outputs": [
    {
     "name": "stdout",
     "output_type": "stream",
     "text": [
      "El paquete 'ultralytics' ya está instalado.\n"
     ]
    }
   ],
   "source": [
    "package_installation('ultralytics') # Instalación de la biblioteca Ultralytics\n",
    "#ultralytics.checks()"
   ]
  },
  {
   "cell_type": "code",
   "execution_count": 5,
   "metadata": {},
   "outputs": [
    {
     "name": "stdout",
     "output_type": "stream",
     "text": [
      "Tarjeta Grafica: Caption                  \n",
      "\n",
      "AMD Radeon(TM) Graphics.\n",
      " \n",
      "Advertencia: Debe utilizar la CPU para instalación de PyTorch! \n"
     ]
    }
   ],
   "source": [
    "#Función para determinar si tiene GPU Cuda para instalación de PYTorch\n",
    "if torch.cuda.is_available():\n",
    "    device = torch.device(\"cuda\")\n",
    "    print(f'CUDA: {torch.cuda.get_device_name(0)}')\n",
    "else:\n",
    "    try:\n",
    "        command = 'wmic path win32_videocontroller get caption'\n",
    "        device = subprocess.check_output(command, shell=True, universal_newlines=True)\n",
    "        print(f'Tarjeta Grafica: {device.strip()}.\\n \\nAdvertencia: Debe utilizar la CPU para instalación de PyTorch! ')\n",
    "    except subprocess.CalledProcessError as e:\n",
    "        print(f'Error al ejecutar el comando: {e}')"
   ]
  },
  {
   "cell_type": "markdown",
   "metadata": {},
   "source": [
    "<span style=\"font-family: 'Bahnschrift Light'; font-size: 18px\">Dirección para instalar mediante el comando la versión de PyTorch en función de los requerimientos computacionales: </span>[Versión PyTorch](https://pytorch.org/get-started/locally/) "
   ]
  },
  {
   "cell_type": "code",
   "execution_count": null,
   "metadata": {},
   "outputs": [],
   "source": [
    "command_pytorch = 'pip3 install torch torchvision torchaudio' # Comando de instalación según la version personalizada a sus requerimientos computacionales\n",
    "substrings = command_pytorch.split(\" \")\n",
    "try:\n",
    "    subprocess.check_call(substrings)\n",
    "except subprocess.CalledProcessError as e:\n",
    "    print(f'Error al instalar la version de PyTorch: {e}')"
   ]
  },
  {
   "cell_type": "markdown",
   "metadata": {},
   "source": [
    "<span style=\"font-family: 'Bahnschrift Light'; font-size: 40px;\">ENTRENAMIENTO</span>"
   ]
  },
  {
   "cell_type": "code",
   "execution_count": 5,
   "metadata": {},
   "outputs": [
    {
     "name": "stdout",
     "output_type": "stream",
     "text": [
      "New https://pypi.org/project/ultralytics/8.1.17 available 😃 Update with 'pip install -U ultralytics'\n",
      "Ultralytics YOLOv8.0.220 🚀 Python-3.10.13 torch-2.1.1 CPU (AMD Ryzen 5 4500U with Radeon Graphics)\n",
      "\u001b[34m\u001b[1mengine\\trainer: \u001b[0mtask=detect, mode=train, model=c:\\Users\\matrix\\pruebayolo\\proyecto_yolo\\dist\\model_version\\yolov8n.pt, data=c:\\Users\\matrix\\pruebayolo\\proyecto_yolo\\dist\\data_afectacion\\dataset.yaml, epochs=30, patience=30, batch=-1, imgsz=640, save=True, save_period=-1, cache=False, device=cpu, workers=1, project=deteccion, name=prueba_entrenamiento, exist_ok=False, pretrained=True, optimizer=auto, verbose=True, seed=0, deterministic=True, single_cls=False, rect=False, cos_lr=False, close_mosaic=10, resume=False, amp=True, fraction=1.0, profile=False, freeze=None, overlap_mask=True, mask_ratio=4, dropout=0.0, val=True, split=val, save_json=False, save_hybrid=False, conf=None, iou=0.7, max_det=300, half=False, dnn=False, plots=True, source=None, vid_stride=1, stream_buffer=False, visualize=False, augment=False, agnostic_nms=False, classes=None, retina_masks=False, show=False, save_frames=False, save_txt=False, save_conf=False, save_crop=False, show_labels=True, show_conf=True, show_boxes=True, line_width=None, format=torchscript, keras=False, optimize=False, int8=False, dynamic=False, simplify=False, opset=None, workspace=4, nms=False, lr0=0.01, lrf=0.01, momentum=0.937, weight_decay=0.0005, warmup_epochs=3.0, warmup_momentum=0.8, warmup_bias_lr=0.1, box=7.5, cls=0.5, dfl=1.5, pose=12.0, kobj=1.0, label_smoothing=0.0, nbs=64, hsv_h=0.015, hsv_s=0.7, hsv_v=0.4, degrees=0.0, translate=0.1, scale=0.5, shear=0.0, perspective=0.0, flipud=0.0, fliplr=0.5, mosaic=1.0, mixup=0.0, copy_paste=0.0, cfg=None, tracker=botsort.yaml, save_dir=deteccion\\prueba_entrenamiento\n",
      "Overriding model.yaml nc=80 with nc=2\n",
      "\n",
      "                   from  n    params  module                                       arguments                     \n",
      "  0                  -1  1       464  ultralytics.nn.modules.conv.Conv             [3, 16, 3, 2]                 \n",
      "  1                  -1  1      4672  ultralytics.nn.modules.conv.Conv             [16, 32, 3, 2]                \n",
      "  2                  -1  1      7360  ultralytics.nn.modules.block.C2f             [32, 32, 1, True]             \n",
      "  3                  -1  1     18560  ultralytics.nn.modules.conv.Conv             [32, 64, 3, 2]                \n",
      "  4                  -1  2     49664  ultralytics.nn.modules.block.C2f             [64, 64, 2, True]             \n",
      "  5                  -1  1     73984  ultralytics.nn.modules.conv.Conv             [64, 128, 3, 2]               \n",
      "  6                  -1  2    197632  ultralytics.nn.modules.block.C2f             [128, 128, 2, True]           \n",
      "  7                  -1  1    295424  ultralytics.nn.modules.conv.Conv             [128, 256, 3, 2]              \n",
      "  8                  -1  1    460288  ultralytics.nn.modules.block.C2f             [256, 256, 1, True]           \n",
      "  9                  -1  1    164608  ultralytics.nn.modules.block.SPPF            [256, 256, 5]                 \n",
      " 10                  -1  1         0  torch.nn.modules.upsampling.Upsample         [None, 2, 'nearest']          \n",
      " 11             [-1, 6]  1         0  ultralytics.nn.modules.conv.Concat           [1]                           \n",
      " 12                  -1  1    148224  ultralytics.nn.modules.block.C2f             [384, 128, 1]                 \n",
      " 13                  -1  1         0  torch.nn.modules.upsampling.Upsample         [None, 2, 'nearest']          \n",
      " 14             [-1, 4]  1         0  ultralytics.nn.modules.conv.Concat           [1]                           \n",
      " 15                  -1  1     37248  ultralytics.nn.modules.block.C2f             [192, 64, 1]                  \n",
      " 16                  -1  1     36992  ultralytics.nn.modules.conv.Conv             [64, 64, 3, 2]                \n",
      " 17            [-1, 12]  1         0  ultralytics.nn.modules.conv.Concat           [1]                           \n",
      " 18                  -1  1    123648  ultralytics.nn.modules.block.C2f             [192, 128, 1]                 \n",
      " 19                  -1  1    147712  ultralytics.nn.modules.conv.Conv             [128, 128, 3, 2]              \n",
      " 20             [-1, 9]  1         0  ultralytics.nn.modules.conv.Concat           [1]                           \n",
      " 21                  -1  1    493056  ultralytics.nn.modules.block.C2f             [384, 256, 1]                 \n",
      " 22        [15, 18, 21]  1    751702  ultralytics.nn.modules.head.Detect           [2, [64, 128, 256]]           \n",
      "Model summary: 225 layers, 3011238 parameters, 3011222 gradients, 8.2 GFLOPs\n",
      "\n",
      "Transferred 319/355 items from pretrained weights\n",
      "Freezing layer 'model.22.dfl.conv.weight'\n",
      "\u001b[34m\u001b[1mAutoBatch: \u001b[0mComputing optimal batch size for imgsz=640\n",
      "\u001b[34m\u001b[1mAutoBatch: \u001b[0mCUDA not detected, using default CPU batch-size 16\n"
     ]
    },
    {
     "name": "stderr",
     "output_type": "stream",
     "text": [
      "\u001b[34m\u001b[1mtrain: \u001b[0mScanning C:\\Users\\matrix\\pruebayolo\\proyecto_yolo\\dist\\data_afectacion\\YOLODataset_train\\labels.cache... 199 images, 0 backgrounds, 0 corrupt: 100%|██████████| 199/199 [00:00<?, ?it/s]\n",
      "\u001b[34m\u001b[1mval: \u001b[0mScanning C:\\Users\\matrix\\pruebayolo\\proyecto_yolo\\dist\\data_afectacion\\YOLODataset_val\\labels.cache... 49 images, 0 backgrounds, 0 corrupt: 100%|██████████| 49/49 [00:00<?, ?it/s]\n"
     ]
    },
    {
     "name": "stdout",
     "output_type": "stream",
     "text": [
      "Plotting labels to deteccion\\prueba_entrenamiento\\labels.jpg... \n",
      "\u001b[34m\u001b[1moptimizer:\u001b[0m 'optimizer=auto' found, ignoring 'lr0=0.01' and 'momentum=0.937' and determining best 'optimizer', 'lr0' and 'momentum' automatically... \n",
      "\u001b[34m\u001b[1moptimizer:\u001b[0m AdamW(lr=0.001667, momentum=0.9) with parameter groups 57 weight(decay=0.0), 64 weight(decay=0.0005), 63 bias(decay=0.0)\n",
      "Image sizes 640 train, 640 val\n",
      "Using 0 dataloader workers\n",
      "Logging results to \u001b[1mdeteccion\\prueba_entrenamiento\u001b[0m\n",
      "Starting training for 30 epochs...\n",
      "\n",
      "      Epoch    GPU_mem   box_loss   cls_loss   dfl_loss  Instances       Size\n"
     ]
    },
    {
     "name": "stderr",
     "output_type": "stream",
     "text": [
      "       1/30         0G      2.077       3.57      1.761        100        640: 100%|██████████| 13/13 [01:26<00:00,  6.67s/it]\n",
      "                 Class     Images  Instances      Box(P          R      mAP50  mAP50-95): 100%|██████████| 2/2 [00:05<00:00,  2.97s/it]"
     ]
    },
    {
     "name": "stdout",
     "output_type": "stream",
     "text": [
      "                   all         49        235     0.0048      0.399     0.0596     0.0184\n"
     ]
    },
    {
     "name": "stderr",
     "output_type": "stream",
     "text": [
      "\n"
     ]
    },
    {
     "name": "stdout",
     "output_type": "stream",
     "text": [
      "\n",
      "      Epoch    GPU_mem   box_loss   cls_loss   dfl_loss  Instances       Size\n"
     ]
    },
    {
     "name": "stderr",
     "output_type": "stream",
     "text": [
      "       2/30         0G      1.938      2.999      1.612         75        640: 100%|██████████| 13/13 [01:17<00:00,  5.94s/it]\n",
      "                 Class     Images  Instances      Box(P          R      mAP50  mAP50-95): 100%|██████████| 2/2 [00:05<00:00,  2.84s/it]"
     ]
    },
    {
     "name": "stdout",
     "output_type": "stream",
     "text": [
      "                   all         49        235    0.00646       0.55     0.0397     0.0138\n"
     ]
    },
    {
     "name": "stderr",
     "output_type": "stream",
     "text": [
      "\n"
     ]
    },
    {
     "name": "stdout",
     "output_type": "stream",
     "text": [
      "\n",
      "      Epoch    GPU_mem   box_loss   cls_loss   dfl_loss  Instances       Size\n"
     ]
    },
    {
     "name": "stderr",
     "output_type": "stream",
     "text": [
      "       3/30         0G      1.891       2.83      1.569         61        640: 100%|██████████| 13/13 [01:18<00:00,  6.00s/it]\n",
      "                 Class     Images  Instances      Box(P          R      mAP50  mAP50-95): 100%|██████████| 2/2 [00:06<00:00,  3.34s/it]"
     ]
    },
    {
     "name": "stdout",
     "output_type": "stream",
     "text": [
      "                   all         49        235    0.00794      0.605     0.0363     0.0115\n"
     ]
    },
    {
     "name": "stderr",
     "output_type": "stream",
     "text": [
      "\n"
     ]
    },
    {
     "name": "stdout",
     "output_type": "stream",
     "text": [
      "\n",
      "      Epoch    GPU_mem   box_loss   cls_loss   dfl_loss  Instances       Size\n"
     ]
    },
    {
     "name": "stderr",
     "output_type": "stream",
     "text": [
      "       4/30         0G      1.888      2.743      1.588         94        640: 100%|██████████| 13/13 [01:22<00:00,  6.33s/it]\n",
      "                 Class     Images  Instances      Box(P          R      mAP50  mAP50-95): 100%|██████████| 2/2 [00:06<00:00,  3.23s/it]"
     ]
    },
    {
     "name": "stdout",
     "output_type": "stream",
     "text": [
      "                   all         49        235      0.112     0.0896     0.0529     0.0161\n"
     ]
    },
    {
     "name": "stderr",
     "output_type": "stream",
     "text": [
      "\n"
     ]
    },
    {
     "name": "stdout",
     "output_type": "stream",
     "text": [
      "\n",
      "      Epoch    GPU_mem   box_loss   cls_loss   dfl_loss  Instances       Size\n"
     ]
    },
    {
     "name": "stderr",
     "output_type": "stream",
     "text": [
      "       5/30         0G       1.87      2.638      1.578         93        640: 100%|██████████| 13/13 [01:23<00:00,  6.43s/it]\n",
      "                 Class     Images  Instances      Box(P          R      mAP50  mAP50-95): 100%|██████████| 2/2 [00:06<00:00,  3.15s/it]"
     ]
    },
    {
     "name": "stdout",
     "output_type": "stream",
     "text": [
      "                   all         49        235       0.54     0.0543     0.0337     0.0114\n"
     ]
    },
    {
     "name": "stderr",
     "output_type": "stream",
     "text": [
      "\n"
     ]
    },
    {
     "name": "stdout",
     "output_type": "stream",
     "text": [
      "\n",
      "      Epoch    GPU_mem   box_loss   cls_loss   dfl_loss  Instances       Size\n"
     ]
    },
    {
     "name": "stderr",
     "output_type": "stream",
     "text": [
      "       6/30         0G      1.923      2.599      1.596        123        640: 100%|██████████| 13/13 [01:23<00:00,  6.39s/it]\n",
      "                 Class     Images  Instances      Box(P          R      mAP50  mAP50-95): 100%|██████████| 2/2 [00:06<00:00,  3.29s/it]"
     ]
    },
    {
     "name": "stdout",
     "output_type": "stream",
     "text": [
      "                   all         49        235      0.551      0.109     0.0477      0.015\n"
     ]
    },
    {
     "name": "stderr",
     "output_type": "stream",
     "text": [
      "\n"
     ]
    },
    {
     "name": "stdout",
     "output_type": "stream",
     "text": [
      "\n",
      "      Epoch    GPU_mem   box_loss   cls_loss   dfl_loss  Instances       Size\n"
     ]
    },
    {
     "name": "stderr",
     "output_type": "stream",
     "text": [
      "       7/30         0G      1.915      2.595        1.6         76        640: 100%|██████████| 13/13 [01:22<00:00,  6.37s/it]\n",
      "                 Class     Images  Instances      Box(P          R      mAP50  mAP50-95): 100%|██████████| 2/2 [00:06<00:00,  3.21s/it]"
     ]
    },
    {
     "name": "stdout",
     "output_type": "stream",
     "text": [
      "                   all         49        235     0.0948      0.159     0.0432     0.0133\n"
     ]
    },
    {
     "name": "stderr",
     "output_type": "stream",
     "text": [
      "\n"
     ]
    },
    {
     "name": "stdout",
     "output_type": "stream",
     "text": [
      "\n",
      "      Epoch    GPU_mem   box_loss   cls_loss   dfl_loss  Instances       Size\n"
     ]
    },
    {
     "name": "stderr",
     "output_type": "stream",
     "text": [
      "       8/30         0G      1.985      2.546      1.584        127        640: 100%|██████████| 13/13 [01:24<00:00,  6.48s/it]\n",
      "                 Class     Images  Instances      Box(P          R      mAP50  mAP50-95): 100%|██████████| 2/2 [00:06<00:00,  3.21s/it]"
     ]
    },
    {
     "name": "stdout",
     "output_type": "stream",
     "text": [
      "                   all         49        235     0.0878       0.17     0.0469     0.0144\n"
     ]
    },
    {
     "name": "stderr",
     "output_type": "stream",
     "text": [
      "\n"
     ]
    },
    {
     "name": "stdout",
     "output_type": "stream",
     "text": [
      "\n",
      "      Epoch    GPU_mem   box_loss   cls_loss   dfl_loss  Instances       Size\n"
     ]
    },
    {
     "name": "stderr",
     "output_type": "stream",
     "text": [
      "       9/30         0G      1.945      2.548      1.583        105        640: 100%|██████████| 13/13 [01:18<00:00,  6.05s/it]\n",
      "                 Class     Images  Instances      Box(P          R      mAP50  mAP50-95): 100%|██████████| 2/2 [00:06<00:00,  3.09s/it]"
     ]
    },
    {
     "name": "stdout",
     "output_type": "stream",
     "text": [
      "                   all         49        235      0.112      0.243     0.0714     0.0247\n"
     ]
    },
    {
     "name": "stderr",
     "output_type": "stream",
     "text": [
      "\n"
     ]
    },
    {
     "name": "stdout",
     "output_type": "stream",
     "text": [
      "\n",
      "      Epoch    GPU_mem   box_loss   cls_loss   dfl_loss  Instances       Size\n"
     ]
    },
    {
     "name": "stderr",
     "output_type": "stream",
     "text": [
      "      10/30         0G      1.894      2.473      1.582        106        640: 100%|██████████| 13/13 [01:19<00:00,  6.12s/it]\n",
      "                 Class     Images  Instances      Box(P          R      mAP50  mAP50-95): 100%|██████████| 2/2 [00:06<00:00,  3.05s/it]"
     ]
    },
    {
     "name": "stdout",
     "output_type": "stream",
     "text": [
      "                   all         49        235      0.145      0.137     0.0638      0.022\n"
     ]
    },
    {
     "name": "stderr",
     "output_type": "stream",
     "text": [
      "\n"
     ]
    },
    {
     "name": "stdout",
     "output_type": "stream",
     "text": [
      "\n",
      "      Epoch    GPU_mem   box_loss   cls_loss   dfl_loss  Instances       Size\n"
     ]
    },
    {
     "name": "stderr",
     "output_type": "stream",
     "text": [
      "      11/30         0G      1.926      2.499      1.583         61        640: 100%|██████████| 13/13 [01:17<00:00,  5.99s/it]\n",
      "                 Class     Images  Instances      Box(P          R      mAP50  mAP50-95): 100%|██████████| 2/2 [00:06<00:00,  3.22s/it]"
     ]
    },
    {
     "name": "stdout",
     "output_type": "stream",
     "text": [
      "                   all         49        235     0.0834       0.24     0.0555     0.0243\n"
     ]
    },
    {
     "name": "stderr",
     "output_type": "stream",
     "text": [
      "\n"
     ]
    },
    {
     "name": "stdout",
     "output_type": "stream",
     "text": [
      "\n",
      "      Epoch    GPU_mem   box_loss   cls_loss   dfl_loss  Instances       Size\n"
     ]
    },
    {
     "name": "stderr",
     "output_type": "stream",
     "text": [
      "      12/30         0G      1.959       2.44      1.609        142        640: 100%|██████████| 13/13 [01:19<00:00,  6.10s/it]\n",
      "                 Class     Images  Instances      Box(P          R      mAP50  mAP50-95): 100%|██████████| 2/2 [00:06<00:00,  3.20s/it]"
     ]
    },
    {
     "name": "stdout",
     "output_type": "stream",
     "text": [
      "                   all         49        235      0.102      0.204     0.0542     0.0241\n"
     ]
    },
    {
     "name": "stderr",
     "output_type": "stream",
     "text": [
      "\n"
     ]
    },
    {
     "name": "stdout",
     "output_type": "stream",
     "text": [
      "\n",
      "      Epoch    GPU_mem   box_loss   cls_loss   dfl_loss  Instances       Size\n"
     ]
    },
    {
     "name": "stderr",
     "output_type": "stream",
     "text": [
      "      13/30         0G      1.909       2.43       1.59         75        640: 100%|██████████| 13/13 [01:19<00:00,  6.15s/it]\n",
      "                 Class     Images  Instances      Box(P          R      mAP50  mAP50-95): 100%|██████████| 2/2 [00:06<00:00,  3.27s/it]"
     ]
    },
    {
     "name": "stdout",
     "output_type": "stream",
     "text": [
      "                   all         49        235      0.077      0.175     0.0381     0.0126\n"
     ]
    },
    {
     "name": "stderr",
     "output_type": "stream",
     "text": [
      "\n"
     ]
    },
    {
     "name": "stdout",
     "output_type": "stream",
     "text": [
      "\n",
      "      Epoch    GPU_mem   box_loss   cls_loss   dfl_loss  Instances       Size\n"
     ]
    },
    {
     "name": "stderr",
     "output_type": "stream",
     "text": [
      "      14/30         0G      1.869      2.302      1.524        140        640: 100%|██████████| 13/13 [01:22<00:00,  6.35s/it]\n",
      "                 Class     Images  Instances      Box(P          R      mAP50  mAP50-95): 100%|██████████| 2/2 [00:06<00:00,  3.06s/it]"
     ]
    },
    {
     "name": "stdout",
     "output_type": "stream",
     "text": [
      "                   all         49        235      0.128      0.197     0.0871     0.0383\n"
     ]
    },
    {
     "name": "stderr",
     "output_type": "stream",
     "text": [
      "\n"
     ]
    },
    {
     "name": "stdout",
     "output_type": "stream",
     "text": [
      "\n",
      "      Epoch    GPU_mem   box_loss   cls_loss   dfl_loss  Instances       Size\n"
     ]
    },
    {
     "name": "stderr",
     "output_type": "stream",
     "text": [
      "      15/30         0G      1.828      2.226      1.497        121        640: 100%|██████████| 13/13 [01:24<00:00,  6.47s/it]\n",
      "                 Class     Images  Instances      Box(P          R      mAP50  mAP50-95): 100%|██████████| 2/2 [00:06<00:00,  3.07s/it]"
     ]
    },
    {
     "name": "stdout",
     "output_type": "stream",
     "text": [
      "                   all         49        235      0.149       0.17     0.0572     0.0161\n"
     ]
    },
    {
     "name": "stderr",
     "output_type": "stream",
     "text": [
      "\n"
     ]
    },
    {
     "name": "stdout",
     "output_type": "stream",
     "text": [
      "\n",
      "      Epoch    GPU_mem   box_loss   cls_loss   dfl_loss  Instances       Size\n"
     ]
    },
    {
     "name": "stderr",
     "output_type": "stream",
     "text": [
      "      16/30         0G      1.826      2.269      1.512         93        640: 100%|██████████| 13/13 [01:22<00:00,  6.36s/it]\n",
      "                 Class     Images  Instances      Box(P          R      mAP50  mAP50-95): 100%|██████████| 2/2 [00:05<00:00,  2.94s/it]"
     ]
    },
    {
     "name": "stdout",
     "output_type": "stream",
     "text": [
      "                   all         49        235      0.161      0.135      0.072     0.0285\n"
     ]
    },
    {
     "name": "stderr",
     "output_type": "stream",
     "text": [
      "\n"
     ]
    },
    {
     "name": "stdout",
     "output_type": "stream",
     "text": [
      "\n",
      "      Epoch    GPU_mem   box_loss   cls_loss   dfl_loss  Instances       Size\n"
     ]
    },
    {
     "name": "stderr",
     "output_type": "stream",
     "text": [
      "      17/30         0G      1.814      2.157      1.467         65        640: 100%|██████████| 13/13 [01:24<00:00,  6.48s/it]\n",
      "                 Class     Images  Instances      Box(P          R      mAP50  mAP50-95): 100%|██████████| 2/2 [00:06<00:00,  3.01s/it]"
     ]
    },
    {
     "name": "stdout",
     "output_type": "stream",
     "text": [
      "                   all         49        235      0.165      0.182      0.083     0.0279\n"
     ]
    },
    {
     "name": "stderr",
     "output_type": "stream",
     "text": [
      "\n"
     ]
    },
    {
     "name": "stdout",
     "output_type": "stream",
     "text": [
      "\n",
      "      Epoch    GPU_mem   box_loss   cls_loss   dfl_loss  Instances       Size\n"
     ]
    },
    {
     "name": "stderr",
     "output_type": "stream",
     "text": [
      "      18/30         0G      1.778      2.128      1.449        137        640: 100%|██████████| 13/13 [01:20<00:00,  6.19s/it]\n",
      "                 Class     Images  Instances      Box(P          R      mAP50  mAP50-95): 100%|██████████| 2/2 [00:06<00:00,  3.02s/it]"
     ]
    },
    {
     "name": "stdout",
     "output_type": "stream",
     "text": [
      "                   all         49        235      0.221      0.188      0.117     0.0391\n"
     ]
    },
    {
     "name": "stderr",
     "output_type": "stream",
     "text": [
      "\n"
     ]
    },
    {
     "name": "stdout",
     "output_type": "stream",
     "text": [
      "\n",
      "      Epoch    GPU_mem   box_loss   cls_loss   dfl_loss  Instances       Size\n"
     ]
    },
    {
     "name": "stderr",
     "output_type": "stream",
     "text": [
      "      19/30         0G      1.737      2.112      1.439         78        640: 100%|██████████| 13/13 [01:17<00:00,  5.99s/it]\n",
      "                 Class     Images  Instances      Box(P          R      mAP50  mAP50-95): 100%|██████████| 2/2 [00:06<00:00,  3.00s/it]"
     ]
    },
    {
     "name": "stdout",
     "output_type": "stream",
     "text": [
      "                   all         49        235      0.215      0.191      0.129     0.0404\n"
     ]
    },
    {
     "name": "stderr",
     "output_type": "stream",
     "text": [
      "\n"
     ]
    },
    {
     "name": "stdout",
     "output_type": "stream",
     "text": [
      "\n",
      "      Epoch    GPU_mem   box_loss   cls_loss   dfl_loss  Instances       Size\n"
     ]
    },
    {
     "name": "stderr",
     "output_type": "stream",
     "text": [
      "      20/30         0G      1.741      2.078      1.425         53        640: 100%|██████████| 13/13 [01:21<00:00,  6.26s/it]\n",
      "                 Class     Images  Instances      Box(P          R      mAP50  mAP50-95): 100%|██████████| 2/2 [00:06<00:00,  3.06s/it]"
     ]
    },
    {
     "name": "stdout",
     "output_type": "stream",
     "text": [
      "                   all         49        235      0.211      0.213      0.126     0.0436\n"
     ]
    },
    {
     "name": "stderr",
     "output_type": "stream",
     "text": [
      "\n"
     ]
    },
    {
     "name": "stdout",
     "output_type": "stream",
     "text": [
      "Closing dataloader mosaic\n",
      "\n",
      "      Epoch    GPU_mem   box_loss   cls_loss   dfl_loss  Instances       Size\n"
     ]
    },
    {
     "name": "stderr",
     "output_type": "stream",
     "text": [
      "      21/30         0G      1.848      2.376      1.552         34        640: 100%|██████████| 13/13 [01:20<00:00,  6.21s/it]\n",
      "                 Class     Images  Instances      Box(P          R      mAP50  mAP50-95): 100%|██████████| 2/2 [00:06<00:00,  3.09s/it]"
     ]
    },
    {
     "name": "stdout",
     "output_type": "stream",
     "text": [
      "                   all         49        235      0.176      0.215      0.122     0.0444\n"
     ]
    },
    {
     "name": "stderr",
     "output_type": "stream",
     "text": [
      "\n"
     ]
    },
    {
     "name": "stdout",
     "output_type": "stream",
     "text": [
      "\n",
      "      Epoch    GPU_mem   box_loss   cls_loss   dfl_loss  Instances       Size\n"
     ]
    },
    {
     "name": "stderr",
     "output_type": "stream",
     "text": [
      "      22/30         0G      1.725      2.181      1.429         59        640: 100%|██████████| 13/13 [01:20<00:00,  6.17s/it]\n",
      "                 Class     Images  Instances      Box(P          R      mAP50  mAP50-95): 100%|██████████| 2/2 [00:06<00:00,  3.03s/it]"
     ]
    },
    {
     "name": "stdout",
     "output_type": "stream",
     "text": [
      "                   all         49        235      0.206      0.167      0.125     0.0501\n"
     ]
    },
    {
     "name": "stderr",
     "output_type": "stream",
     "text": [
      "\n"
     ]
    },
    {
     "name": "stdout",
     "output_type": "stream",
     "text": [
      "\n",
      "      Epoch    GPU_mem   box_loss   cls_loss   dfl_loss  Instances       Size\n"
     ]
    },
    {
     "name": "stderr",
     "output_type": "stream",
     "text": [
      "      23/30         0G       1.73      2.167      1.446         28        640: 100%|██████████| 13/13 [01:18<00:00,  6.06s/it]\n",
      "                 Class     Images  Instances      Box(P          R      mAP50  mAP50-95): 100%|██████████| 2/2 [00:06<00:00,  3.12s/it]"
     ]
    },
    {
     "name": "stdout",
     "output_type": "stream",
     "text": [
      "                   all         49        235      0.283      0.182      0.144     0.0551\n"
     ]
    },
    {
     "name": "stderr",
     "output_type": "stream",
     "text": [
      "\n"
     ]
    },
    {
     "name": "stdout",
     "output_type": "stream",
     "text": [
      "\n",
      "      Epoch    GPU_mem   box_loss   cls_loss   dfl_loss  Instances       Size\n"
     ]
    },
    {
     "name": "stderr",
     "output_type": "stream",
     "text": [
      "      24/30         0G      1.719      2.145      1.447         28        640: 100%|██████████| 13/13 [01:16<00:00,  5.89s/it]\n",
      "                 Class     Images  Instances      Box(P          R      mAP50  mAP50-95): 100%|██████████| 2/2 [00:06<00:00,  3.04s/it]"
     ]
    },
    {
     "name": "stdout",
     "output_type": "stream",
     "text": [
      "                   all         49        235      0.321      0.189      0.153     0.0597\n"
     ]
    },
    {
     "name": "stderr",
     "output_type": "stream",
     "text": [
      "\n"
     ]
    },
    {
     "name": "stdout",
     "output_type": "stream",
     "text": [
      "\n",
      "      Epoch    GPU_mem   box_loss   cls_loss   dfl_loss  Instances       Size\n"
     ]
    },
    {
     "name": "stderr",
     "output_type": "stream",
     "text": [
      "      25/30         0G      1.705      2.098      1.431         55        640: 100%|██████████| 13/13 [01:15<00:00,  5.81s/it]\n",
      "                 Class     Images  Instances      Box(P          R      mAP50  mAP50-95): 100%|██████████| 2/2 [00:06<00:00,  3.22s/it]"
     ]
    },
    {
     "name": "stdout",
     "output_type": "stream",
     "text": [
      "                   all         49        235      0.202      0.259      0.163     0.0593\n"
     ]
    },
    {
     "name": "stderr",
     "output_type": "stream",
     "text": [
      "\n"
     ]
    },
    {
     "name": "stdout",
     "output_type": "stream",
     "text": [
      "\n",
      "      Epoch    GPU_mem   box_loss   cls_loss   dfl_loss  Instances       Size\n"
     ]
    },
    {
     "name": "stderr",
     "output_type": "stream",
     "text": [
      "      26/30         0G       1.65      2.002        1.4         52        640: 100%|██████████| 13/13 [01:14<00:00,  5.75s/it]\n",
      "                 Class     Images  Instances      Box(P          R      mAP50  mAP50-95): 100%|██████████| 2/2 [00:06<00:00,  3.11s/it]"
     ]
    },
    {
     "name": "stdout",
     "output_type": "stream",
     "text": [
      "                   all         49        235      0.248      0.269      0.155     0.0574\n"
     ]
    },
    {
     "name": "stderr",
     "output_type": "stream",
     "text": [
      "\n"
     ]
    },
    {
     "name": "stdout",
     "output_type": "stream",
     "text": [
      "\n",
      "      Epoch    GPU_mem   box_loss   cls_loss   dfl_loss  Instances       Size\n"
     ]
    },
    {
     "name": "stderr",
     "output_type": "stream",
     "text": [
      "      27/30         0G      1.641      1.965      1.393         53        640: 100%|██████████| 13/13 [01:15<00:00,  5.81s/it]\n",
      "                 Class     Images  Instances      Box(P          R      mAP50  mAP50-95): 100%|██████████| 2/2 [00:06<00:00,  3.11s/it]"
     ]
    },
    {
     "name": "stdout",
     "output_type": "stream",
     "text": [
      "                   all         49        235      0.352      0.247      0.174     0.0661\n"
     ]
    },
    {
     "name": "stderr",
     "output_type": "stream",
     "text": [
      "\n"
     ]
    },
    {
     "name": "stdout",
     "output_type": "stream",
     "text": [
      "\n",
      "      Epoch    GPU_mem   box_loss   cls_loss   dfl_loss  Instances       Size\n"
     ]
    },
    {
     "name": "stderr",
     "output_type": "stream",
     "text": [
      "      28/30         0G      1.632      1.934      1.391         82        640: 100%|██████████| 13/13 [01:14<00:00,  5.75s/it]\n",
      "                 Class     Images  Instances      Box(P          R      mAP50  mAP50-95): 100%|██████████| 2/2 [00:05<00:00,  2.99s/it]"
     ]
    },
    {
     "name": "stdout",
     "output_type": "stream",
     "text": [
      "                   all         49        235      0.307      0.291      0.186     0.0791\n"
     ]
    },
    {
     "name": "stderr",
     "output_type": "stream",
     "text": [
      "\n"
     ]
    },
    {
     "name": "stdout",
     "output_type": "stream",
     "text": [
      "\n",
      "      Epoch    GPU_mem   box_loss   cls_loss   dfl_loss  Instances       Size\n"
     ]
    },
    {
     "name": "stderr",
     "output_type": "stream",
     "text": [
      "      29/30         0G      1.571       1.89      1.375         32        640: 100%|██████████| 13/13 [01:14<00:00,  5.74s/it]\n",
      "                 Class     Images  Instances      Box(P          R      mAP50  mAP50-95): 100%|██████████| 2/2 [00:05<00:00,  2.98s/it]"
     ]
    },
    {
     "name": "stdout",
     "output_type": "stream",
     "text": [
      "                   all         49        235      0.241      0.291      0.191     0.0776\n"
     ]
    },
    {
     "name": "stderr",
     "output_type": "stream",
     "text": [
      "\n"
     ]
    },
    {
     "name": "stdout",
     "output_type": "stream",
     "text": [
      "\n",
      "      Epoch    GPU_mem   box_loss   cls_loss   dfl_loss  Instances       Size\n"
     ]
    },
    {
     "name": "stderr",
     "output_type": "stream",
     "text": [
      "      30/30         0G       1.56      1.796      1.338         35        640: 100%|██████████| 13/13 [01:14<00:00,  5.74s/it]\n",
      "                 Class     Images  Instances      Box(P          R      mAP50  mAP50-95): 100%|██████████| 2/2 [00:06<00:00,  3.22s/it]"
     ]
    },
    {
     "name": "stdout",
     "output_type": "stream",
     "text": [
      "                   all         49        235      0.256      0.274      0.182     0.0723\n"
     ]
    },
    {
     "name": "stderr",
     "output_type": "stream",
     "text": [
      "\n"
     ]
    },
    {
     "name": "stdout",
     "output_type": "stream",
     "text": [
      "\n",
      "30 epochs completed in 0.720 hours.\n",
      "Optimizer stripped from deteccion\\prueba_entrenamiento\\weights\\last.pt, 6.2MB\n",
      "Optimizer stripped from deteccion\\prueba_entrenamiento\\weights\\best.pt, 6.2MB\n",
      "\n",
      "Validating deteccion\\prueba_entrenamiento\\weights\\best.pt...\n",
      "Ultralytics YOLOv8.0.220 🚀 Python-3.10.13 torch-2.1.1 CPU (AMD Ryzen 5 4500U with Radeon Graphics)\n",
      "Model summary (fused): 168 layers, 3006038 parameters, 0 gradients, 8.1 GFLOPs\n"
     ]
    },
    {
     "name": "stderr",
     "output_type": "stream",
     "text": [
      "                 Class     Images  Instances      Box(P          R      mAP50  mAP50-95): 100%|██████████| 2/2 [00:05<00:00,  2.62s/it]\n"
     ]
    },
    {
     "name": "stdout",
     "output_type": "stream",
     "text": [
      "                   all         49        235      0.305      0.288      0.187     0.0793\n",
      "            abolladura         49         46      0.276       0.37      0.217      0.092\n",
      "                 rayon         49        189      0.334      0.206      0.158     0.0666\n",
      "Speed: 2.7ms preprocess, 83.4ms inference, 0.0ms loss, 7.8ms postprocess per image\n",
      "Results saved to \u001b[1mdeteccion\\prueba_entrenamiento\u001b[0m\n"
     ]
    }
   ],
   "source": [
    "# --Inicio Menú\n",
    "while True:\n",
    "    try:\n",
    "        model_type = input('Qué tipo de modelo desea utilizar, indique \"original\" o \"entrenado\": ').lower()\n",
    "        if model_type == \"original\":\n",
    "            model_detection= YOLO(model_orig)\n",
    "            break  # Sale del bucle si la entrada es válida\n",
    "        elif model_type == \"entrenado\":\n",
    "            model_detection= YOLO(model_orig) \n",
    "            break  # Sale del bucle si la entrada es válida\n",
    "        else:\n",
    "            print('Caracter no valido! Intente nuevamente.')\n",
    "    except Exception as e:\n",
    "        print(f'Error: {e}')\n",
    "# --Finalización Menú\n",
    "\n",
    "PROJECT='deteccion' # Le permite asignar un nombre al directorio de inicio que contendrá los experimentos de detección de objetos, y debe estar entre comillas; se recomienda no utilizar espacios en el nombre.\n",
    "NAME='prueba_entrenamiento' # El nombre del experimento entrenamiento para deteccion de objetos debe ir entre comillas. Evite el uso de espacios al nombrar las carpetas; en su lugar, utilice algún formato de nombres como camelCase, snake_case o PascalCase.\n",
    "TASK='detect' # Define la tarea principal que desea realizar con el modelo YOLO v8; para este caso, la deteccion de objetos implica identificar la ubicación y la clase de objetos en una imagen o un flujo de video.\n",
    "IMGSZ=640 # Establezca las dimensiones en píxeles de la imagen de entrada. Puede especificarlo como un número entero, como imgsz a 640 para obtener un cuadrado perfecto, o como una tupla, como imgsz=(640,480) para establecer dimensiones específicas de ancho y alto. Se recomienda ajustar este valor según el tamaño del objeto que desea detectar. Para la detencción de objetos pequeños, se recomienda aumentar el valor a más de 640 píxeles para obtener una resolución más alta.\n",
    "DATA=data_train  #  Le permite indicar la ruta al archivo que contiene los metadatos que utilizara el modelo detección de objetos y su configuración en formato YAML. Si especifica el valor data=None, el conjunto de datos coco128-seg.yaml se utiliza de forma predeterminada; de lo contrario, escriba la ruta al archivo YAML entre comillas utilizando barras diagonales (/) en lugar de barras invertidas (\\).\n",
    "EPOCHS=30 # Establezca el número de épocas del modelo YOLO v8 en la tarea de deteccion. Este valor representa el número total de iteraciones en todo el conjunto de datos de entrenamiento. Se recomienda experimentar con este parámetro dependiendo de la cantidad de imágenes disponibles. Si tiene un conjunto de datos grande, considere aumentar este valor por encima de 30 para obtener mejores resultados. Por otro lado, establecer epochs=None hará que el modelo continúe entrenándose hasta que la pérdida de validación deje de mejorar.\n",
    "BATCH=-1 # Define la cantidad de imágenes procesadas simultáneamente en una iteración del modelo YOLO v8 en la deteccion. El valor predeterminado es 16; se recomienda establecerlo en -1 para aprovechar AutoBatch, que ajusta automáticamente el tamaño del lote para optimizar el rendimiento, evitar problemas de memoria y maximizar la eficiencia del entrenamiento. Si desea personalizarlo, exprese el valor del parámetro como un número entero.\n",
    "OPTIMIZER='auto' # Define el algoritmo de optimización para el modelo de deteccion YOLO. Su elección ajusta los pesos del modelo durante el entrenamiento y es crucial para la velocidad y rendimiento. Puede tomar valores como 'SGD', 'Adam', 'Adamax', 'AdamW', 'NAdam', 'RAdam', 'RMSProp' y 'auto', este último selecciona automáticamente el optimizador más adecuado a la tarea segmentación de objetos.\n",
    "WORKERS=1 # Especifica el número de hilos de trabajo para la carga de datos en el modelo deteccion YOLO. Es recomendable utilizar un número de subprocesos que se ajusten al número de núcleos del CPU disponibles en el sistema.\n",
    "DEVICE= 'cpu' # Especifica el dispositivo de ejecución para la versión del modelo yolov8 en la operación de deteccion. Puede seleccionar entre CPU o GPU. Si no dispone de una GPU con Cuda, se recomienda utilizar la CPU mediante el parámetro device='cpu'. En caso de contar con Cuda, puede especificar una GPU con device='cuda:0'; el número representa el identificador de la GPU disponible en el sistema. También es posible utilizar múltiples GPUs mediante device='cuda:0,1,2'.\n",
    "PLOTS=True # Utilice valores booleanos (Verdadero o Falso) para controlar la generación de gráficos que permite visualizar y monitorear la pérdida y la precisión durante el entrenamiento de deteccion de objetos. Establecer plots=True activara la función; si desea desactivarla, establezca el valor del hiperparámetro en False.\n",
    "SAVE=True # Cuando se establece en True, el modelo guarda puntos de control periódicamente durante el entrenamiento de deteccion. Se recomienda tener cuidado al establecer este valor en Verdadero, ya que está relacionado con el hiperparámetro SAVE_PERIOD; si establece el valor del hiperparametro a False, la función Save_Period se desactivará.\n",
    "SAVE_PERIOD=-1 # Se utiliza para especificar con qué frecuencia se guardan los puntos de control durante el entrenamiento de deteccion. Si se establece en un valor mayor que 0, el modelo guardará puntos de control cada número especificado de épocas. Sin embargo, si save_period se establece en -1, significa que la función esta deshabilitada.\n",
    "PATIENCE=30 # Representa el número esperado de épocas durante el entrenamiento de deteccion. Si no se observa mejora en el conjunto de validación dentro de un período específico, se detiene el proceso. Esta técnica de parada temprana se utiliza para evitar el sobreajuste del modelo. Se recomienda ajustar este hiperparámetro en función de la duración esperada del entrenamiento.\n",
    "VERBOSE=True # Se utiliza para controlar el número de impresiones durante la ejecución del entrenamiento de deteccion. Para suprimir la salida de información básica únicamente, debe establecer el valor del hiperparámetro en False, pero si desea una salida de progreso más detallada, establezca el valor en True.\n",
    "RECT= False # Habilita la formación rectangular en cada lote, redimensionando las imágenes para que todas tengan la misma forma rectangular. Puedes establecerlo en True si tu conjunto de datos es extenso y deseas acelerar el tiempo de entrenamiento en la deteccion de objetos. De lo contrario, si se establece en False el modelo se entrena en el orden normal procesando todos los datos de un lote antes de pasar al siguiente lote.\n",
    "COS_LR=False # Reemplaza el decaimiento escalonado predeterminado de YOLOv8, que reduce la tasa de aprendizaje en ciertas épocas, con el decaimiento escalonado cos_lr. Este ajusta la tasa de aprendizaje según las épocas restantes y la tasa de aprendizaje inicial, proporcionando una disminución más suave. Establezca este hiperparámetro en True para una reducción gradual de la tasa de aprendizaje, de lo contrario establezca en False.\n",
    "FRACTION= 1.0 # Controla la fracción del conjunto de datos que se utilizara para el entrenamiento de deteccion. Debes establecer este parámetro entre 0.0 y 1.0. Por defecto, cuando es 1.0, se emplea el 100% de las imágenes disponibles en el conjunto de datos.\n",
    "EXIST_OK=False # Controla la sobreescritura de un experimento de deteccion existente. Cuando se establece en False, el sistema no sobrescribirá, en su lugar devolverá una ruta incrementada. Esto es útil para prevenir la sobreescritura accidental de experimentos anteriores. Para activar la función, asigna el valor True.\n",
    "try:\n",
    "    model_detection.train(project=PROJECT,name=NAME, task=TASK, data=DATA, imgsz=IMGSZ, epochs=EPOCHS, batch=BATCH, workers=WORKERS, device=DEVICE, plots=PLOTS, verbose=VERBOSE, rect=RECT, cos_lr=COS_LR, optimizer=OPTIMIZER, fraction=FRACTION, patience=PATIENCE, exist_ok=EXIST_OK)\n",
    "except Exception as e:\n",
    "    print(f'Error: {e}')"
   ]
  },
  {
   "cell_type": "markdown",
   "metadata": {},
   "source": [
    "<span style=\"font-family: 'Bahnschrift Light'; font-size: 40px;\">Configuración para la exportación</span>\n"
   ]
  },
  {
   "cell_type": "markdown",
   "metadata": {},
   "source": [
    "A continuación se muestra una tabla de referencia para exportar un modelo YOLOv8 entrenado en la tarea deteccion de objetos. Tenga en cuenta que configurar el parámetro de `format` es fundamental para el proceso de exportación. Antes de continuar, asegúrese de verificar y ajustar estos valores a sus requisitos específicos: \n",
    "| Formatos                                                             | Asignación | Extensión                     | Hyperparámetros                                            | Descripción                                        |\n",
    "|--------------------------------------------------------------------|-------------------|---------------------------|-----------------------------------------------------|----------------------------------------------------|\n",
    "| [PyTorch](https://pytorch.org/)                                    | -                 | `yolov8n.pt`              | -                                                   | Modelo en formato PyTorch                           |\n",
    "| [TorchScript](https://pytorch.org/docs/stable/jit.html)            | \"torchscript\"     | `yolov8n.torchscript`     | `imgsz`, `optimize`                                 | Simplifica la implementación de modelos PyTorch en entornos de producción y aplicaciones eficientes, mejorando la portabilidad y el rendimiento al permitir ejecutar una representación intermedia en entornos sin Python.                       |\n",
    "| [ONNX](https://onnx.ai/)                                           | \"onnx\"            | `yolov8n.onnx`            | `imgsz`, `half`, `dynamic`, `simplify`, `opset`     | Desarrollado para promover la interoperabilidad, la optimización del hardware y la colaboración entre comunidades, al tiempo que responde a la necesidad de portabilidad de los modelos entre distintos marcos y herramientas de aprendizaje automático.                              |\n",
    "| [OpenVINO](https://docs.openvino.ai/latest/index.html)             | \"openvino\"        | `yolov8n_openvino_model/` | `imgsz`, `half`, `int8`                             | Elaborado para promover la interoperabilidad, la optimización del hardware y el despliegue eficiente de modelos a través de diferentes marcos y herramientas de aprendizaje automático, con especial atención a las plataformas de hardware Intel.                     |\n",
    "| [TensorRT](https://developer.nvidia.com/tensorrt)                  | \"engine\"          | `yolov8n.engine`          | `imgsz`, `half`, `dynamic`, `simplify`, `workspace` | Permite promover la interoperabilidad, la optimización del hardware y la implantación eficiente de modelos en distintos marcos y herramientas de aprendizaje automático, con especial atención a las plataformas de hardware de NVIDIA.                     |\n",
    "| [CoreML](https://github.com/apple/coremltools)                     | \"coreml\"          | `yolov8n.mlpackage`       | `imgsz`, `half`, `int8`, `nms`                      | Posibilita promover la interoperabilidad, la optimización del hardware y el despliegue eficiente de modelos a través de diferentes marcos y herramientas de aprendizaje automático, con especial atención a las plataformas de hardware de Apple.                            |\n",
    "| [TF SavedModel](https://www.tensorflow.org/guide/saved_model)      | \"saved_model\"     | `yolov8n_saved_model/`    | `imgsz`, `keras`, `int8`                            | Empleado para guardar, compartir y desplegar modelos entrenados con TensorFlow. Versátil y facilita el despliegue en diversas plataformas como servidores, dispositivos móviles, embebidos y navegadores.                     |\n",
    "| [TF Lite](https://www.tensorflow.org/lite)                         | \"tflite\"          | `yolov8n.tflite`          | `imgsz`, `half`, `int8`                             | Diseñado para el aprendizaje automático en dispositivos, TF Lite aborda restricciones clave como latencia, privacidad, conectividad, tamaño y consumo de energía. Es esencial para desplegar modelos en dispositivos móviles e integrados, ofreciendo una solución ligera y eficiente.                           |\n",
    "| [TF Edge TPU](https://coral.ai/docs/edgetpu/models-intro/)         | \"edgetpu\"         | `yolov8n_edgetpu.tflite`  | `imgsz`                                             | Utilizado para desplegar modelos de aprendizaje automático en el Edge TPU de TensorFlow. El Edge TPU es un pequeño ASIC (Circuito Integrado Específico de Aplicación) diseñado por Google para ofrecer inferencias de aprendizaje automático de alto rendimiento en dispositivos de bajo consumo.                       |\n",
    "| [TF.js](https://www.tensorflow.org/js)                             | \"tfjs\"            | `yolov8n_web_model/`      | `imgsz`                                             | Facilita el despliegue de modelos de aprendizaje automático en navegadores web y Node.js, destacando la portabilidad y la facilidad de uso.                    |\n",
    "| [PaddlePaddle](https://github.com/PaddlePaddle)                    | \"paddle\"          | `yolov8n_paddle_model/`   | `imgsz`                                             | Utilizado para desplegar modelos en PaddlePaddle, una plataforma de aprendizaje profundo de código abierto, paralela y distribuida que tiene su origen en la práctica industrial.                      |\n",
    "| [ncnn](https://github.com/Tencent/ncnn)                            | \"ncnn\"            | `yolov8n_ncnn_model/`     | `imgsz`, `half`                                     | Formato optimizado para plataformas móviles, ofreciendo alto rendimiento. Puede incluir una estructura de archivo de modelo con información sobre capas, blobs de entrada y salida, y otros parámetros."
   ]
  },
  {
   "cell_type": "markdown",
   "metadata": {},
   "source": [
    "<span style=\"font-family: 'Bahnschrift Light'; font-size: 40px;\">EXPORTACIÓN</span>"
   ]
  },
  {
   "cell_type": "code",
   "execution_count": null,
   "metadata": {},
   "outputs": [],
   "source": [
    "selected_model_det=YOLO(model_detection)\n",
    "\n",
    "FORMAT='onnx' # Seleccione el formato de exportación del modelo deteccion, empleando la tabla previamente proporcionada; en la columna \"Asignación\" se proporcionan las opciones para ajustar este valor.\n",
    "INT8=True # Establezca este parámetro en True al utilizar la CPU y en False en caso contrario. La cuantificación a INT8 mejora la eficiencia del modelo deteccion en cuanto a memoria y velocidad de inferencia, especialmente en hardware que admite esta precisión.\n",
    "HALF=False # Configúrelo en True cuando use la GPU; en caso contrario, False. La cuantificación a FP16 mejora la eficiencia de la memoria del modelo deteccion y la velocidad de inferencia, especialmente en hardware que admite precisión de punto flotante de 16 bits.\n",
    "IMGSZ=640 # Establezca las dimensiones en píxeles de la imagen de entrada para la exportación del modelo de deteccion. Puede especificarlo como un número entero, por ejemplo, 640 para un cuadrado perfecto, o como una tupla, por ejemplo, (640, 480) para dimensiones específicas de ancho y alto. Las imágenes que ingreses al modelo después de la exportación deben tener las mismas dimensiones específicas que has configurado para adaptarse a los requisitos del escenario de despliegue.\n",
    "OPTIMIZE=False # Controla la optimización en modelos de detección a TorchScript para su implementación móvil. Es importante destacar que esta función puede resultar en un aumento significativo en el tamaño del modelo exportado, lo cual puede no ser ideal para aplicaciones móviles. Se configura con True para activar y False para desactivar.\n",
    "DYNAMIC=False # Controla la habilitación de ejes dinámicos en modelos de deteccion, lo cual es particularmente útil para gestionar tamaños de lote variables. Esta característica funciona bien en escenarios donde el tamaño del lote puede cambiar durante la inferencia, como aplicaciones en tiempo real o de transmisión por secuencias. Los valores aceptados son Verdadero para habilitar la función y Falso para deshabilitarla.\n",
    "SIMPLIFY=False # En la exportación de modelos de deteccion a ONNX|TensorRT, este hiperparámetro personaliza la complejidad del modelo controlando la optimización, eliminando capas redundantes y reduciendo la precisión de los parámetros. Se activa con True y se desactiva con False.\n",
    "OPSET=False # Especifica la versión del conjunto de operadores en ONNX al exportar el modelo deteccion desde marcos como PyTorch o TensorFlow. Si se deja en \"None\", ONNX utilizará automáticamente la versión más reciente disponible; para una versión específica, asigne el número entre comillas, por ejemplo, \"11\".\n",
    "WORKSPACE=4 # En la exportación de modelos de deteccion a TensorRT, establece el tamaño del espacio de trabajo en GB asignado para optimizar y preparar el modelo de red neuronal. Este espacio se utiliza durante la construcción del motor para lograr una ejecución eficiente en hardware GPU mediante la biblioteca TensorRT.\n",
    "NMS=False # En la exportación de modelos de deteccion a CoreML, controla la inclusión de la Supresión No Máxima (NMS) en el modelo para eliminar cuadros delimitadores redundantes en la segmentación de instancias y mejorar la precisión de las predicciones. Establecer 'NMS' en 'False' ignora NMS en los modelos CoreML exportados.  Este ajuste, configurable durante la exportación del modelo YOLO, lo que permite a los usuarios optimizar la implementación del modelo en una variedad de plataformas y dispositivos.\n",
    "KERAS= False # En la exportación de modelos de deteccion a TF SavedModel y TF Lite, permite optimizar el despliegue en diversas plataformas y dispositivos. Incluye también el formato del archivo, el dispositivo de ejecución y la posibilidad de manejar múltiples etiquetas por caja. Establezca el valor del hiperparámetro en True si está familiarizado con Keras; de lo contrario, en False para excluir su uso en la exportación.\n",
    "\n",
    "selected_model_det.export(format=FORMAT, imgsz=640, dynamic=False, simplify=False, opset=False)\n"
   ]
  },
  {
   "cell_type": "markdown",
   "metadata": {},
   "source": [
    "<span style=\"font-family: 'Bahnschrift Light'; font-size: 40px;\">VALIDACIÓN</span>"
   ]
  },
  {
   "cell_type": "code",
   "execution_count": 16,
   "metadata": {},
   "outputs": [
    {
     "name": "stdout",
     "output_type": "stream",
     "text": [
      "Ultralytics YOLOv8.0.220 🚀 Python-3.10.13 torch-2.1.1 CPU (AMD Ryzen 5 4500U with Radeon Graphics)\n",
      "Model summary (fused): 168 layers, 3006038 parameters, 0 gradients, 8.1 GFLOPs\n"
     ]
    },
    {
     "name": "stderr",
     "output_type": "stream",
     "text": [
      "\u001b[34m\u001b[1mval: \u001b[0mScanning C:\\Users\\matrix\\pruebayolo\\proyecto_yolo\\dist\\data_afectacion\\YOLODataset_val\\labels.cache... 49 images, 0 backgrounds, 0 corrupt: 100%|██████████| 49/49 [00:00<?, ?it/s]\n",
      "                 Class     Images  Instances      Box(P          R      mAP50  mAP50-95): 100%|██████████| 4/4 [00:06<00:00,  1.73s/it]\n"
     ]
    },
    {
     "name": "stdout",
     "output_type": "stream",
     "text": [
      "                   all         49        235          1      0.865       0.93       0.93\n",
      "            abolladura         49        189          1       0.73      0.865      0.865\n",
      "                 rayon         49         46          1          1      0.995      0.995\n",
      "Speed: 3.2ms preprocess, 114.6ms inference, 0.0ms loss, 0.6ms postprocess per image\n",
      "Saving c:\\Users\\matrix\\pruebayolo\\proyecto_yolo\\src\\runs\\detect\\Prueba_validación_det\\predictions.json...\n",
      "Results saved to \u001b[1mc:\\Users\\matrix\\pruebayolo\\proyecto_yolo\\src\\runs\\detect\\Prueba_validación_det\u001b[0m\n"
     ]
    }
   ],
   "source": [
    "NAME='Prueba_validación_det' # El nombre del experimento de validación para deteccion de objetos deben ir entre comillas. Evite el uso de espacios al nombrar las carpetas; en su lugar, utilice algún formato de nombres como camelCase, snake_case o PascalCase.\n",
    "DATA= data_train #Permite indicar la ruta al archivo que contiene los metadatos necesarios para el proceso de validación, la ruta debe ser proporcionada entre comillas.\n",
    "IMGSZ=640 # Establece las dimensiones en píxeles de la imagen de entrada para la validación del modelo de deteccion. Puede ser un número entero, como 640 para un cuadrado perfecto, o una tupla, como (640, 480), para dimensiones específicas de ancho y alto. Se recomienda usar el mismo valor que utilizo durante el entrenamiento del modelo.\n",
    "BATCH=16 # Define la cantidad de imágenes procesadas simultáneamente en una iteración para la validación en detecciones de objetos. El valor predeterminado es 16; se recomienda establecerlo en -1 para utilizar AutoBatch, que ajusta automáticamente el tamaño del lote para optimizar el rendimiento y la eficiencia del entrenamiento, evitando problemas de memoria. Si desea personalizarlo, establezca el valor como un número entero.\n",
    "SAVE_HYBRID=True # Activa la función con True para guardar una versión híbrida de la etiqueta, incluyendo la original y predicciones adicionales. Útil para el análisis detallado del rendimiento del modelo deteccion durante la validación; establezca en False para mostrar solo las predicciones.\n",
    "CONF=0.5 # Establece el umbral de confianza para la validación de clases en la tarea de deteccion. Se recomienda un valor entre 0.5 y 0.10. Un umbral más alto mejora la precisión pero reduce la frecuencia de predicciones, mientras que un umbral más bajo aumenta la frecuencia pero disminuye la precisión. \n",
    "MAX_DET=10 # Toma como valor solo números enteros. Índica el límite de la cantidad máxima de objetos que el modelo intentara detectar en una imagen. Se recomienda establecer un valor alto para evitar perder detecciones relevantes.\n",
    "DEVICE='CPU' # Especifica el dispositivo de ejecución para la prueba de validación en la operación de deteccion. Puede seleccionar entre CPU o GPU. Si no dispone de una GPU con Cuda, se recomienda utilizar la CPU mediante el parámetro device='cpu'. En caso de contar con Cuda, puede especificar una GPU con device='cuda:0'; el número representa el identificador de la GPU disponible en el sistema. También es posible utilizar múltiples GPUs mediante device='cuda:0,1,2'.\n",
    "PLOTS=True # Utilice valores booleanos (Verdadero o Falso) para controlar la generación de gráficos que permite visualizar y monitorear la pérdida y la precisión durante la validación en la deteccion de objetos. Establecer plots=True activara la función; si desea desactivarla, establezca el valor del hiperparámetro en False.\n",
    "RECT=False # Habilita la formación rectangular en cada lote, redimensionando las imágenes para que todas tengan la misma forma rectangular. Puedes establecerlo en True si tu conjunto de datos es extenso y deseas acelerar el tiempo de validación en la deteccion de objetos. De lo contrario, si se establece en False el modelo se entrena en el orden normal procesando todos los datos de un lote antes de pasar al siguiente.\n",
    "IOU=0.6 # El umbral predeterminado para la supresión no máxima (NMS) en la validación YOLO es 0,6. Este umbral de IoU (intersección sobre unión) es fundamental para NMS porque determina el grado mínimo de superposición requerido para que dos cuadros delimitadores se consideren el mismo objeto. Un umbral de IoU más bajo hace que NMS sea más conservador, mientras que un umbral de IoU más alto permite que un NMS más relajado evite eliminar los verdaderos positivos.\n",
    "\n",
    "# --Inicio Menú\n",
    "while True:\n",
    "    try:\n",
    "        model_type = input('Qué tipo de modelo desea utilizar, indique \"original\" o \"entrenado\": ').lower()\n",
    "        if model_type == \"original\":\n",
    "            selected_model_det=YOLO(model_orig)\n",
    "            break  # Sale del bucle si la entrada es válida\n",
    "        elif model_type == \"entrenado\":\n",
    "            selected_model_det=YOLO(model_detection)\n",
    "            break  # Sale del bucle si la entrada es válida\n",
    "        else:\n",
    "            print('Caracter no valido! Intente nuevamente.')\n",
    "    except Exception as e:\n",
    "        print(f'Error: {e}')\n",
    "# --Finalización Menú\n",
    "\n",
    "try:\n",
    "    selected_model_det.val(name=NAME, data=DATA, imgsz=IMGSZ, batch=BATCH, save_hybrid=SAVE_HYBRID, conf=CONF, max_det=MAX_DET, device=DEVICE, plots=PLOTS, rect=RECT, iou=IOU, save_json=True)\n",
    "except Exception as e:\n",
    "    print(f'Error: {e}')"
   ]
  },
  {
   "cell_type": "markdown",
   "metadata": {},
   "source": [
    "<span style=\"font-family: 'Bahnschrift Light'; font-size: 40px\">Configuración de fuentes</span>"
   ]
  },
  {
   "cell_type": "markdown",
   "metadata": {},
   "source": [
    "Para utilizar múltiples fuentes de datos al realizar predicciones con el modelo, se requiere que se ajuste el parámetro'source' a sus necesidades, tal como se indica en la siguiente tabla:\n",
    "| Fuentes          | Asignación                             | Tipo             | Notas                                                           |\n",
    "| --------------- | ------------------------------------ | ----------------- | --------------------------------------------------------------- |\n",
    "| `image`           | 'image.jpg'                          | str or Path       | Archivo que contiene una única imagen.                                              |\n",
    "| `URL`             | 'https://ultralytics.com/images/bus.jpg' | str               | Dirección que especifica la ubicación de una imagen en la web.                                                 |\n",
    "| `screenshot`      | 'screen'                             | str               | El sistema captura la imagen actualmente visible en la pantalla y la utiliza como entrada para el modelo.                                           |\n",
    "| `PIL`             | Image.open('im.jpg')                 | PIL.Image         | Utilizado para cargar imágenes en formato HWC (altura, ancho, canales) con canales RGB (rojo, verde y azul) mediante la biblioteca Python Imaging Library (PIL).                                   |\n",
    "| `OpenCV`          | cv2.imread('im.jpg')                 | np.ndarray        | Permite la lectura de una imagen desde un archivo en formato HWC con canales BGR (azul, verde, rojo) utilizando la biblioteca OpenCV, almacenando la imagen como un array de NumPy.                    |\n",
    "| `numpy`           | np.zeros((640,1280,3))               | np.ndarray        | Genera un array de ceros con las dimensiones especificadas para un formato HWC con canales BGR, utilizando la biblioteca NumPy.                    |\n",
    "| `torch`           | torch.zeros(16,3,320,640)            | torch.Tensor      | Crea un tensor de ceros con las dimensiones especificadas para un formato HWC con canales RGB, empleando el framework PyTorch.               |\n",
    "| `CSV`             | 'sources.csv'                        | str or Path       | Archivo de texto que almacena las rutas a las imágenes que se procesarán.   |\n",
    "| `video`          | 'video.mp4'                          | str or Path       | Proporciona acceso a un archivo de video único.                       |\n",
    "| `directory`      | 'path/'                              | str or Path       | Directorio que contiene múltiples archivos de imagen.               |\n",
    "| `glob`           | 'path/*.jpg'                         | str               | Permite acceder a varias imágenes en un directorio usando expresiones de coincidencia de patrones. |\n",
    "| `YouTube`        | 'https://youtu.be/LNwODJXcvt4'       | str               | Facilita el acceso a videos desde la plataforma YouTube.                                         |\n",
    "| `stream`         | 'rtsp://example.com/media.mp4'      | str               | Permite la conexión a flujos de video o audio en tiempo real mediante protocolos como RTSP, RTMP, TCP o IP, ya sea a través de internet o una red local. |\n",
    "| `multi-stream`   | 'list.streams'                       | str or Path       | Se utiliza para transmitir varios flujos de medios simultáneamente, permitiendo el procesamiento y análisis paralelo de múltiples flujos de medios. |"
   ]
  },
  {
   "cell_type": "markdown",
   "metadata": {},
   "source": [
    "Formatos para las imágenes: \n",
    "\n",
    "| Image Suffixes | Reference                           |\n",
    "| --------------- | ----------------------------------- |\n",
    "| .bmp            | [Microsoft BMP File Format](https://docs.fileformat.com/es/image/bmp/)           |\n",
    "| .dng            | [Adobe DNG](https://docs.fileformat.com/es/image/dng/)                           |\n",
    "| .jpeg           | [JPEG](https://docs.fileformat.com/es/image/jpeg/)                                |\n",
    "| .jpg            | [JPEG](https://docs.fileformat.com/es/image/jpeg/)                                |\n",
    "| .mpo            | [Multi Picture Object](https://docs.fileformat.com/es/image/mpo/)                |\n",
    "| .png            | [Portable Network Graphics](https://docs.fileformat.com/es/image/png/)           |\n",
    "| .tif            | [Tag Image File Format](https://docs.fileformat.com/es/image/tiff/)               |\n",
    "| .tiff           | [Tag Image File Format](https://docs.fileformat.com/es/image/tiff/)               |\n",
    "| .webp           | [WebP](https://docs.fileformat.com/es/image/webp/)                                |\n",
    "| .pfm            | [Portable FloatMap](https://docs.fileformat.com/font/pfm/)                   |\n"
   ]
  },
  {
   "cell_type": "markdown",
   "metadata": {},
   "source": [
    "Formatos para los videos: \n",
    "\n",
    "| Video Suffixes | Reference                           |\n",
    "| -------------- | ----------------------------------- |\n",
    "| .asf           | [Advanced Systems Format](https://docs.fileformat.com/es/video/asf/)             |\n",
    "| .avi           | [Audio Video Interleave](https://docs.fileformat.com/es/video/avi/)              |\n",
    "| .gif           | [Graphics Interchange Format]()          |\n",
    "| .m4v           | [MPEG-4 Part 14](https://docs.fileformat.com/es/video/m4v/)                      |\n",
    "| .mkv           | [Matroska](https://docs.fileformat.com/es/video/mkv/)                            |\n",
    "| .mov           | [QuickTime File Format](https://docs.fileformat.com/es/video/mov/)               |\n",
    "| .mp4           | [MPEG-4](https://docs.fileformat.com/es/video/mp4/)          |\n",
    "| .mpeg          | [MPEG-1](https://docs.fileformat.com/es/video/mpeg/)                       |\n",
    "| .mpg           | [MPEG-1](https://docs.fileformat.com/es/video/mpeg/)                       |\n",
    "| .ts            | [MPEG Transport Stream](https://docs.fileformat.com/es/video/ts/)               |\n",
    "| .wmv           | [Windows Media Video](https://docs.fileformat.com/es/video/wmv/)                 |\n",
    "| .webm          | [WebM Project](https://docs.fileformat.com/es/video/webm/)      "
   ]
  },
  {
   "cell_type": "code",
   "execution_count": 20,
   "metadata": {},
   "outputs": [
    {
     "data": {
      "text/plain": [
       "'C:/Users/matrix/pruebayolo/proyecto_yolo/src/prueba'"
      ]
     },
     "execution_count": 20,
     "metadata": {},
     "output_type": "execute_result"
    }
   ],
   "source": [
    "def convert_path(path): \n",
    "    return os.path.normpath(path).replace(os.sep, '/')\n",
    "\n",
    "convert_path(r'C:\\Users\\matrix\\pruebayolo\\proyecto_yolo\\src\\prueba')"
   ]
  },
  {
   "cell_type": "markdown",
   "metadata": {},
   "source": [
    "<span style=\"font-family: 'Bahnschrift Light'; font-size: 40px\">PREDICCIÓN</span>"
   ]
  },
  {
   "cell_type": "code",
   "execution_count": 7,
   "metadata": {},
   "outputs": [
    {
     "name": "stdout",
     "output_type": "stream",
     "text": [
      "\n",
      "image 1/25 c:\\Users\\matrix\\pruebayolo\\proyecto_yolo\\src\\assets_2\\20170531_010133.jpg: 384x640 1 car, 1717.4ms\n",
      "image 2/25 c:\\Users\\matrix\\pruebayolo\\proyecto_yolo\\src\\assets_2\\5-320w-320w.jpg: 480x640 1 car, 1654.0ms\n",
      "image 3/25 c:\\Users\\matrix\\pruebayolo\\proyecto_yolo\\src\\assets_2\\Car-Dent.png: 224x640 1 car, 866.3ms\n",
      "image 4/25 c:\\Users\\matrix\\pruebayolo\\proyecto_yolo\\src\\assets_2\\Charlotte-Toyota-service-1-1024x683.jpg: 448x640 1 car, 1477.7ms\n",
      "image 5/25 c:\\Users\\matrix\\pruebayolo\\proyecto_yolo\\src\\assets_2\\GSDH75MG6FAM7FSG43RFQLN5R4.jpg: 448x640 1 car, 1632.6ms\n",
      "image 6/25 c:\\Users\\matrix\\pruebayolo\\proyecto_yolo\\src\\assets_2\\OIP (1).jpg: 480x640 (no detections), 1786.0ms\n",
      "image 7/25 c:\\Users\\matrix\\pruebayolo\\proyecto_yolo\\src\\assets_2\\OIP (2).jpeg: 640x640 (no detections), 2053.5ms\n",
      "image 8/25 c:\\Users\\matrix\\pruebayolo\\proyecto_yolo\\src\\assets_2\\OIP (4).jpeg: 480x640 1 car, 1622.4ms\n",
      "image 9/25 c:\\Users\\matrix\\pruebayolo\\proyecto_yolo\\src\\assets_2\\OIP(3).jpeg: 448x640 1 car, 1478.5ms\n",
      "image 10/25 c:\\Users\\matrix\\pruebayolo\\proyecto_yolo\\src\\assets_2\\R.jpeg: 384x640 (no detections), 1908.3ms\n",
      "image 11/25 c:\\Users\\matrix\\pruebayolo\\proyecto_yolo\\src\\assets_2\\R.jpg: 384x640 1 car, 1920.7ms\n",
      "image 12/25 c:\\Users\\matrix\\pruebayolo\\proyecto_yolo\\src\\assets_2\\R2.jpeg: 448x640 2 cars, 1737.1ms\n",
      "image 13/25 c:\\Users\\matrix\\pruebayolo\\proyecto_yolo\\src\\assets_2\\R3.jpeg: 480x640 1 car, 1522.5ms\n",
      "image 14/25 c:\\Users\\matrix\\pruebayolo\\proyecto_yolo\\src\\assets_2\\R5.jpeg: 480x640 1 car, 1454.1ms\n",
      "image 15/25 c:\\Users\\matrix\\pruebayolo\\proyecto_yolo\\src\\assets_2\\R7.png: 288x640 3 cars, 980.1ms\n",
      "image 16/25 c:\\Users\\matrix\\pruebayolo\\proyecto_yolo\\src\\assets_2\\R8.png: 320x640 (no detections), 1557.0ms\n",
      "image 17/25 c:\\Users\\matrix\\pruebayolo\\proyecto_yolo\\src\\assets_2\\Webp.net-resizeimage-10-1170x600.jpg: 352x640 (no detections), 1446.7ms\n",
      "image 18/25 c:\\Users\\matrix\\pruebayolo\\proyecto_yolo\\src\\assets_2\\abolladura-en-un-coche-632c58a6e2ea5.jpg: 448x640 1 car, 1635.2ms\n",
      "image 19/25 c:\\Users\\matrix\\pruebayolo\\proyecto_yolo\\src\\assets_2\\abolladuraautos-fd03b3bae67d7363172c41cc00198c51-1200x800.jpg: 448x640 1 car, 1712.5ms\n",
      "image 20/25 c:\\Users\\matrix\\pruebayolo\\proyecto_yolo\\src\\assets_2\\big_ray.jpg: 320x640 1 car, 1032.9ms\n",
      "image 21/25 c:\\Users\\matrix\\pruebayolo\\proyecto_yolo\\src\\assets_2\\coche-después-de-una-ruina-la-necesidad-ser-reparado-esperándola-es-demanda-de-seguro-29745503.jpg: 448x640 1 car, 1741.6ms\n",
      "image 22/25 c:\\Users\\matrix\\pruebayolo\\proyecto_yolo\\src\\assets_2\\e1b235cf346a92a59d23c353c5ab913c.jpg: 640x640 (no detections), 2340.6ms\n",
      "image 23/25 c:\\Users\\matrix\\pruebayolo\\proyecto_yolo\\src\\assets_2\\paintless-dent-removal-3-1.jpg: 640x640 (no detections), 1858.8ms\n",
      "image 24/25 c:\\Users\\matrix\\pruebayolo\\proyecto_yolo\\src\\assets_2\\rayonesauto-e68618ca9c3d6859cebc796c300aea97-1200x0.jpg: 352x640 1 car, 1036.1ms\n",
      "image 25/25 c:\\Users\\matrix\\pruebayolo\\proyecto_yolo\\src\\assets_2\\trucos-para-quitar-abolladuras-del-coche.imagen-1013x675.jpg: 448x640 (no detections), 1963.7ms\n",
      "Speed: 4.2ms preprocess, 1605.5ms inference, 3.7ms postprocess per image at shape (1, 3, 448, 640)\n",
      "Results saved to \u001b[1mc:\\Users\\matrix\\pruebayolo\\proyecto_yolo\\src\\runs\\detect\\predict_car3\u001b[0m\n",
      "\n",
      "image 1/25 c:\\Users\\matrix\\pruebayolo\\proyecto_yolo\\src\\runs\\detect\\predict_car3\\20170531_010133.jpg: 384x640 (no detections), 213.1ms\n",
      "image 2/25 c:\\Users\\matrix\\pruebayolo\\proyecto_yolo\\src\\runs\\detect\\predict_car3\\5-320w-320w.jpg: 480x640 1 abolladura, 285.8ms\n",
      "image 3/25 c:\\Users\\matrix\\pruebayolo\\proyecto_yolo\\src\\runs\\detect\\predict_car3\\Car-Dent.png: 224x640 1 abolladura, 147.2ms\n",
      "image 4/25 c:\\Users\\matrix\\pruebayolo\\proyecto_yolo\\src\\runs\\detect\\predict_car3\\Charlotte-Toyota-service-1-1024x683.jpg: 448x640 (no detections), 223.1ms\n",
      "image 5/25 c:\\Users\\matrix\\pruebayolo\\proyecto_yolo\\src\\runs\\detect\\predict_car3\\GSDH75MG6FAM7FSG43RFQLN5R4.jpg: 448x640 (no detections), 173.6ms\n",
      "image 6/25 c:\\Users\\matrix\\pruebayolo\\proyecto_yolo\\src\\runs\\detect\\predict_car3\\OIP (1).jpg: 480x640 (no detections), 179.5ms\n",
      "image 7/25 c:\\Users\\matrix\\pruebayolo\\proyecto_yolo\\src\\runs\\detect\\predict_car3\\OIP (2).jpeg: 640x640 (no detections), 189.5ms\n",
      "image 8/25 c:\\Users\\matrix\\pruebayolo\\proyecto_yolo\\src\\runs\\detect\\predict_car3\\OIP (4).jpeg: 480x640 (no detections), 151.6ms\n",
      "image 9/25 c:\\Users\\matrix\\pruebayolo\\proyecto_yolo\\src\\runs\\detect\\predict_car3\\OIP(3).jpeg: 448x640 (no detections), 171.1ms\n",
      "image 10/25 c:\\Users\\matrix\\pruebayolo\\proyecto_yolo\\src\\runs\\detect\\predict_car3\\R.jpeg: 384x640 (no detections), 148.1ms\n",
      "image 11/25 c:\\Users\\matrix\\pruebayolo\\proyecto_yolo\\src\\runs\\detect\\predict_car3\\R.jpg: 384x640 2 abolladuras, 150.2ms\n",
      "image 12/25 c:\\Users\\matrix\\pruebayolo\\proyecto_yolo\\src\\runs\\detect\\predict_car3\\R2.jpeg: 448x640 (no detections), 200.2ms\n",
      "image 13/25 c:\\Users\\matrix\\pruebayolo\\proyecto_yolo\\src\\runs\\detect\\predict_car3\\R3.jpeg: 480x640 1 abolladura, 127.1ms\n",
      "image 14/25 c:\\Users\\matrix\\pruebayolo\\proyecto_yolo\\src\\runs\\detect\\predict_car3\\R5.jpeg: 480x640 (no detections), 179.1ms\n",
      "image 15/25 c:\\Users\\matrix\\pruebayolo\\proyecto_yolo\\src\\runs\\detect\\predict_car3\\R7.png: 288x640 (no detections), 167.2ms\n",
      "image 16/25 c:\\Users\\matrix\\pruebayolo\\proyecto_yolo\\src\\runs\\detect\\predict_car3\\R8.png: 320x640 (no detections), 115.6ms\n",
      "image 17/25 c:\\Users\\matrix\\pruebayolo\\proyecto_yolo\\src\\runs\\detect\\predict_car3\\Webp.net-resizeimage-10-1170x600.jpg: 352x640 (no detections), 134.6ms\n",
      "image 18/25 c:\\Users\\matrix\\pruebayolo\\proyecto_yolo\\src\\runs\\detect\\predict_car3\\abolladura-en-un-coche-632c58a6e2ea5.jpg: 448x640 (no detections), 151.5ms\n",
      "image 19/25 c:\\Users\\matrix\\pruebayolo\\proyecto_yolo\\src\\runs\\detect\\predict_car3\\abolladuraautos-fd03b3bae67d7363172c41cc00198c51-1200x800.jpg: 448x640 (no detections), 164.6ms\n",
      "image 20/25 c:\\Users\\matrix\\pruebayolo\\proyecto_yolo\\src\\runs\\detect\\predict_car3\\big_ray.jpg: 320x640 (no detections), 134.6ms\n",
      "image 21/25 c:\\Users\\matrix\\pruebayolo\\proyecto_yolo\\src\\runs\\detect\\predict_car3\\coche-después-de-una-ruina-la-necesidad-ser-reparado-esperándola-es-demanda-de-seguro-29745503.jpg: 448x640 1 abolladura, 127.7ms\n",
      "image 22/25 c:\\Users\\matrix\\pruebayolo\\proyecto_yolo\\src\\runs\\detect\\predict_car3\\e1b235cf346a92a59d23c353c5ab913c.jpg: 640x640 (no detections), 157.6ms\n",
      "image 23/25 c:\\Users\\matrix\\pruebayolo\\proyecto_yolo\\src\\runs\\detect\\predict_car3\\paintless-dent-removal-3-1.jpg: 640x640 1 abolladura, 159.6ms\n",
      "image 24/25 c:\\Users\\matrix\\pruebayolo\\proyecto_yolo\\src\\runs\\detect\\predict_car3\\rayonesauto-e68618ca9c3d6859cebc796c300aea97-1200x0.jpg: 352x640 (no detections), 115.1ms\n",
      "image 25/25 c:\\Users\\matrix\\pruebayolo\\proyecto_yolo\\src\\runs\\detect\\predict_car3\\trucos-para-quitar-abolladuras-del-coche.imagen-1013x675.jpg: 448x640 1 abolladura, 182.2ms\n",
      "Speed: 3.1ms preprocess, 166.0ms inference, 0.8ms postprocess per image at shape (1, 3, 448, 640)\n",
      "Results saved to \u001b[1mc:\\Users\\matrix\\pruebayolo\\proyecto_yolo\\src\\runs\\detect\\predict_abolladura4\u001b[0m\n",
      "\n",
      "image 1/25 c:\\Users\\matrix\\pruebayolo\\proyecto_yolo\\src\\runs\\detect\\predict_car3\\20170531_010133.jpg: 384x640 3 rayons, 198.2ms\n",
      "image 2/25 c:\\Users\\matrix\\pruebayolo\\proyecto_yolo\\src\\runs\\detect\\predict_car3\\5-320w-320w.jpg: 480x640 (no detections), 192.1ms\n",
      "image 3/25 c:\\Users\\matrix\\pruebayolo\\proyecto_yolo\\src\\runs\\detect\\predict_car3\\Car-Dent.png: 224x640 (no detections), 108.6ms\n",
      "image 4/25 c:\\Users\\matrix\\pruebayolo\\proyecto_yolo\\src\\runs\\detect\\predict_car3\\Charlotte-Toyota-service-1-1024x683.jpg: 448x640 3 rayons, 166.5ms\n",
      "image 5/25 c:\\Users\\matrix\\pruebayolo\\proyecto_yolo\\src\\runs\\detect\\predict_car3\\GSDH75MG6FAM7FSG43RFQLN5R4.jpg: 448x640 1 rayon, 152.6ms\n",
      "image 6/25 c:\\Users\\matrix\\pruebayolo\\proyecto_yolo\\src\\runs\\detect\\predict_car3\\OIP (1).jpg: 480x640 3 rayons, 162.2ms\n",
      "image 7/25 c:\\Users\\matrix\\pruebayolo\\proyecto_yolo\\src\\runs\\detect\\predict_car3\\OIP (2).jpeg: 640x640 2 rayons, 166.3ms\n",
      "image 8/25 c:\\Users\\matrix\\pruebayolo\\proyecto_yolo\\src\\runs\\detect\\predict_car3\\OIP (4).jpeg: 480x640 3 rayons, 133.6ms\n",
      "image 9/25 c:\\Users\\matrix\\pruebayolo\\proyecto_yolo\\src\\runs\\detect\\predict_car3\\OIP(3).jpeg: 448x640 1 rayon, 116.1ms\n",
      "image 10/25 c:\\Users\\matrix\\pruebayolo\\proyecto_yolo\\src\\runs\\detect\\predict_car3\\R.jpeg: 384x640 1 rayon, 158.8ms\n",
      "image 11/25 c:\\Users\\matrix\\pruebayolo\\proyecto_yolo\\src\\runs\\detect\\predict_car3\\R.jpg: 384x640 (no detections), 106.5ms\n",
      "image 12/25 c:\\Users\\matrix\\pruebayolo\\proyecto_yolo\\src\\runs\\detect\\predict_car3\\R2.jpeg: 448x640 1 rayon, 150.6ms\n",
      "image 13/25 c:\\Users\\matrix\\pruebayolo\\proyecto_yolo\\src\\runs\\detect\\predict_car3\\R3.jpeg: 480x640 1 rayon, 132.7ms\n",
      "image 14/25 c:\\Users\\matrix\\pruebayolo\\proyecto_yolo\\src\\runs\\detect\\predict_car3\\R5.jpeg: 480x640 2 rayons, 128.6ms\n",
      "image 15/25 c:\\Users\\matrix\\pruebayolo\\proyecto_yolo\\src\\runs\\detect\\predict_car3\\R7.png: 288x640 (no detections), 91.5ms\n",
      "image 16/25 c:\\Users\\matrix\\pruebayolo\\proyecto_yolo\\src\\runs\\detect\\predict_car3\\R8.png: 320x640 (no detections), 114.6ms\n",
      "image 17/25 c:\\Users\\matrix\\pruebayolo\\proyecto_yolo\\src\\runs\\detect\\predict_car3\\Webp.net-resizeimage-10-1170x600.jpg: 352x640 2 rayons, 107.6ms\n",
      "image 18/25 c:\\Users\\matrix\\pruebayolo\\proyecto_yolo\\src\\runs\\detect\\predict_car3\\abolladura-en-un-coche-632c58a6e2ea5.jpg: 448x640 3 rayons, 123.6ms\n",
      "image 19/25 c:\\Users\\matrix\\pruebayolo\\proyecto_yolo\\src\\runs\\detect\\predict_car3\\abolladuraautos-fd03b3bae67d7363172c41cc00198c51-1200x800.jpg: 448x640 (no detections), 164.1ms\n",
      "image 20/25 c:\\Users\\matrix\\pruebayolo\\proyecto_yolo\\src\\runs\\detect\\predict_car3\\big_ray.jpg: 320x640 (no detections), 107.6ms\n",
      "image 21/25 c:\\Users\\matrix\\pruebayolo\\proyecto_yolo\\src\\runs\\detect\\predict_car3\\coche-después-de-una-ruina-la-necesidad-ser-reparado-esperándola-es-demanda-de-seguro-29745503.jpg: 448x640 (no detections), 127.1ms\n",
      "image 22/25 c:\\Users\\matrix\\pruebayolo\\proyecto_yolo\\src\\runs\\detect\\predict_car3\\e1b235cf346a92a59d23c353c5ab913c.jpg: 640x640 3 rayons, 182.6ms\n",
      "image 23/25 c:\\Users\\matrix\\pruebayolo\\proyecto_yolo\\src\\runs\\detect\\predict_car3\\paintless-dent-removal-3-1.jpg: 640x640 1 rayon, 156.6ms\n",
      "image 24/25 c:\\Users\\matrix\\pruebayolo\\proyecto_yolo\\src\\runs\\detect\\predict_car3\\rayonesauto-e68618ca9c3d6859cebc796c300aea97-1200x0.jpg: 352x640 3 rayons, 103.5ms\n",
      "image 25/25 c:\\Users\\matrix\\pruebayolo\\proyecto_yolo\\src\\runs\\detect\\predict_car3\\trucos-para-quitar-abolladuras-del-coche.imagen-1013x675.jpg: 448x640 (no detections), 151.8ms\n",
      "Speed: 2.0ms preprocess, 140.2ms inference, 1.2ms postprocess per image at shape (1, 3, 448, 640)\n",
      "Results saved to \u001b[1mc:\\Users\\matrix\\pruebayolo\\proyecto_yolo\\src\\runs\\detect\\predict_rayon4\u001b[0m\n",
      "Temporary directory c:\\Users\\matrix\\pruebayolo\\proyecto_yolo\\src\\runs\\detect\\predict_car3 successfully deleted!\n"
     ]
    }
   ],
   "source": [
    "SOURCE= dir_prueba # Establezca el origen de datos que el modelo de detección utilizará para realizar predicciones. Configure el valor de este hiperparámetro según la tabla proporcionada anteriormente.\n",
    "MAX_DET=3 # Toma como valor solo números enteros. Índica el límite de la cantidad máxima de objetos que el modelo intentara predecir en una imagen. Se recomienda establecer un valor alto para evitar perder detecciones relevantes.\n",
    "IMGSZ=640 # Establezca las dimensiones en píxeles de la imagen de entrada durante la predicción en tareas de detección. Puede ser un número entero, como 640 para un cuadrado perfecto, o una tupla, como (640, 480), para dimensiones específicas de ancho y alto. Se recomienda utilizar los mismos valores utilizados durante el entrenamiento del modelo para mantener la coherencia en la inferencia.\n",
    "CONF=0.5 # Establece el umbral de confianza durante el proceso de predicción en la tarea de detección. Se recomienda establecer el valor hiperparámetro entre 0.5 y 0.10. Un umbral más alto mejora la precisión pero reduce la frecuencia de predicciones, mientras que un umbral más bajo aumenta la frecuencia pero disminuye la precisión en la inferencia.\n",
    "LINE_WIDTH= None # Determina el grosor en píxeles de los cuadros delimitadores que rodean los objetos detectados por el modelo. Puede establecer el grosor de la línea como un número entero en el que, a mayor valor, la línea será más gruesa, también puede utilizar como valor None para que el grosor se ajuste de forma automatizada, proporcionando una línea proporcional al tamaño de la imagen.\n",
    "VISUALIZE=False # Determina si las características del modelo de detección deben mostrarse durante la predicción. Establecer esto en True permite que las características se muestren como mapas intermedias, lo que hace que el modelo sea más fácil de entender. Si se establece en False, no se mostrarán las características del modelo. \n",
    "IOU=0.7 # El umbral predeterminado para la supresión no máxima (NMS) en la validación YOLO es 0,7. Este umbral de IoU (intersección sobre unión) es fundamental para NMS porque determina el grado mínimo de superposición requerido para que dos cuadros delimitadores se consideren la misma detección. Un umbral de IoU más bajo hace que NMS sea más conservador, mientras que un umbral de IoU más alto permite que un NMS más relajado evite eliminar los verdaderos positivos.\n",
    "DEVICE='cpu' # Especifica el dispositivo de ejecución para la prueba de predicción en la operación de detección. Puede seleccionar entre CPU o GPU. Si no dispone de una GPU con Cuda, se recomienda utilizar la CPU mediante el parámetro device='cpu'. En caso de contar con Cuda, puede especificar una GPU con device='cuda:0'; el número representa el identificador de la GPU disponible en el sistema. También es posible utilizar múltiples GPUs mediante device='cuda:0,1,2'.\n",
    "VID_STRIDE=False # Controla la velocidad de los fotogramas durante el proceso de predicción en vídeos o secuencias de tiempo real. Al establecerlo en True el modelo se adapta a la velocidad de fotogramas especificada por la fuente de vídeo, procesando cada fotograma individualmente. Para desactivar esta función indique como valor False.\n",
    "STREAM_BUFFER=False # Controla el almacenamiento en búfer de los fotogramas para la detección. Si es True, se almacenan todos los fotogramas para el procesamiento en tiempo real de vídeos o transmisiones en directo; si es False, devuelve el fotograma más reciente.\n",
    "SAVE_FRAMES=False # Controla la captura y almacenamiento de los fotogramas predichos por el modelo de detección. Con True, se guardarán todos los fotogramas individuales predichos; con False, no se realizará el almacenamiento de los fotogramas.\n",
    "AUGMENT=True # Aplica transformaciones a las imágenes de entrada, tales como giros, rotaciones, recortes y cambios de color, para diversificar los datos y mejorar la predicción en la detección. Establecer en True para activar la función, False para desactivar.\n",
    "SAVE_CROP=False # Determina si se deben guardar imágenes recortadas con los resultados durante la predicción en la detección. Al establecerlo en \"False\", las imágenes recortadas no se guardarán, lo que reduce el tamaño del archivo. Con el valor \"True\", se guardarán las imágenes recortadas correspondientes a las áreas detectadas.\n",
    "SHOW=False # Determina si se deben mostrar las imágenes o vídeos detectados durante la predicción. Al establecerlo en \"True\", permite la visualización de las predicciones en el mismo entorno, proporcionando una representación visual de los resultados. Si se establece en \"False\", las predicciones no se mostrarán. \n",
    "SAVE_TXT= False #\n",
    "SAVE_CONF=True #\n",
    "SAVE=True #\n",
    "\n",
    "def thread_safe_predict(model, output_queue, id_class, conf_value, name_experiment, data, saved_verification, txt_verification, max_detection): #  Realiza una predicción segura utilizando un modelo YOLO.\n",
    "    try:\n",
    "        local_model = YOLO(model) # Inicializa el modelo YOLO.\n",
    "        results = local_model.predict(source= data, save=saved_verification, classes=id_class, conf=conf_value, name=name_experiment, save_txt=txt_verification, max_det=max_detection, line_width=LINE_WIDTH, visualize=VISUALIZE, imgsz=IMGSZ, iou=IOU, device=DEVICE, vid_stride=VID_STRIDE, stream_buffer=STREAM_BUFFER, save_crop=SAVE_CROP, show=SHOW, save_frames=SAVE_FRAMES, save_conf=SAVE_CONF, retina_masks=True, agnostic_nms=True) # Se establecen los hiperpametros a utilizar en el proceso de predicción.\n",
    "        output_queue.put((results)) # Pone los resultados en la cola.\n",
    "        \n",
    "    except Exception as e: # Atrapa cualquier mensaje de error. \n",
    "        print(f\"Error in thread_safe_predict: {e}\")\n",
    "\n",
    "def delete_temp(temp_car): # Permite eliminar un directorio temporal.\n",
    "    try: \n",
    "        shutil.rmtree(temp_car)  # Elimina un directorio temporal según la ruta especificada.\n",
    "        print(f'Temporary directory {temp_car} successfully deleted!')\n",
    "    except Exception as e: # Captura cualquier excepción e imprime un mensaje de error.\n",
    "        print(f'Error deleting the directory: {e}')\n",
    "\n",
    "output_queue = Queue()\n",
    "try: \n",
    "    Thread(target=thread_safe_predict, args=(model_orig, output_queue, 2, 0.5, \"predict_car\", SOURCE, True, False, MAX_DET)).start() # Inicio de un nuevo hilo para la predicción del coche.\n",
    "    results_car= output_queue.get() # Obtiene los resultados de la cola.\n",
    "    dir_temp_car= f'{results_car[0].save_dir}' # Obtiene la ruta donde fueron guardados los resultados de la predicción vehículo.\n",
    "\n",
    "    try:\n",
    "        Thread(target=thread_safe_predict, args=(model_detection, output_queue, 0, 0.5, \"predict_abolladura\", dir_temp_car, SAVE, SAVE_TXT, 2)).start() # Inicia un nuevo hilo para la predicción de abolladura, la cual se basara en los resultados de vehiculo.\n",
    "        results_abolladura = output_queue.get() \n",
    "        Thread(target=thread_safe_predict, args=(model_detection, output_queue, 1, 0.2, \"predict_rayon\", dir_temp_car, SAVE, SAVE_TXT, MAX_DET)).start() # Inicia un nuevo hilo para la predicción de rayón, la cual se basara en los resultados de vehiculo.\n",
    "        results_rayon = output_queue.get() \n",
    "        delete_temp(dir_temp_car) # Elimina el directorio temporal para los resultados de los coches.\n",
    "    except Exception as e:\n",
    "        print(f\"No vehicle images found: {e} \")\n",
    "except Exception as e:\n",
    "    print(f\"Error in prediction by: {e} \") \n",
    "        "
   ]
  },
  {
   "cell_type": "markdown",
   "metadata": {},
   "source": [
    "<span style=\"font-family: 'Bahnschrift Light'; font-size: 40px\">Función de área para cajas detectadas</span>"
   ]
  },
  {
   "cell_type": "markdown",
   "metadata": {},
   "source": [
    "<span style=\"font-family: 'Bahnschrift Light'; font-size: 40px\">Dataframe con las áreas totales</span>"
   ]
  },
  {
   "cell_type": "code",
   "execution_count": 8,
   "metadata": {},
   "outputs": [
    {
     "data": {
      "text/html": [
       "<style type=\"text/css\">\n",
       "#T_09c69_row0_col0, #T_09c69_row0_col1, #T_09c69_row0_col2, #T_09c69_row0_col3, #T_09c69_row0_col4, #T_09c69_row1_col0, #T_09c69_row1_col1, #T_09c69_row1_col2, #T_09c69_row1_col3, #T_09c69_row1_col4, #T_09c69_row2_col0, #T_09c69_row2_col1, #T_09c69_row2_col2, #T_09c69_row2_col3, #T_09c69_row2_col4, #T_09c69_row3_col0, #T_09c69_row3_col1, #T_09c69_row3_col2, #T_09c69_row3_col3, #T_09c69_row3_col4, #T_09c69_row4_col0, #T_09c69_row4_col1, #T_09c69_row4_col2, #T_09c69_row4_col3, #T_09c69_row4_col4, #T_09c69_row5_col0, #T_09c69_row5_col1, #T_09c69_row5_col2, #T_09c69_row5_col3, #T_09c69_row5_col4, #T_09c69_row6_col0, #T_09c69_row6_col1, #T_09c69_row6_col2, #T_09c69_row6_col3, #T_09c69_row6_col4, #T_09c69_row7_col0, #T_09c69_row7_col1, #T_09c69_row7_col2, #T_09c69_row7_col3, #T_09c69_row7_col4, #T_09c69_row8_col0, #T_09c69_row8_col1, #T_09c69_row8_col2, #T_09c69_row8_col3, #T_09c69_row8_col4, #T_09c69_row9_col0, #T_09c69_row9_col1, #T_09c69_row9_col2, #T_09c69_row9_col3, #T_09c69_row9_col4, #T_09c69_row10_col0, #T_09c69_row10_col1, #T_09c69_row10_col2, #T_09c69_row10_col3, #T_09c69_row10_col4, #T_09c69_row11_col0, #T_09c69_row11_col1, #T_09c69_row11_col2, #T_09c69_row11_col3, #T_09c69_row11_col4, #T_09c69_row12_col0, #T_09c69_row12_col1, #T_09c69_row12_col2, #T_09c69_row12_col3, #T_09c69_row12_col4, #T_09c69_row13_col0, #T_09c69_row13_col1, #T_09c69_row13_col2, #T_09c69_row13_col3, #T_09c69_row13_col4, #T_09c69_row14_col0, #T_09c69_row14_col1, #T_09c69_row14_col2, #T_09c69_row14_col3, #T_09c69_row14_col4, #T_09c69_row15_col0, #T_09c69_row15_col1, #T_09c69_row15_col2, #T_09c69_row15_col3, #T_09c69_row15_col4, #T_09c69_row16_col0, #T_09c69_row16_col1, #T_09c69_row16_col2, #T_09c69_row16_col3, #T_09c69_row16_col4, #T_09c69_row17_col0, #T_09c69_row17_col1, #T_09c69_row17_col2, #T_09c69_row17_col3, #T_09c69_row17_col4, #T_09c69_row18_col0, #T_09c69_row18_col1, #T_09c69_row18_col2, #T_09c69_row18_col3, #T_09c69_row18_col4, #T_09c69_row19_col0, #T_09c69_row19_col1, #T_09c69_row19_col2, #T_09c69_row19_col3, #T_09c69_row19_col4, #T_09c69_row20_col0, #T_09c69_row20_col1, #T_09c69_row20_col2, #T_09c69_row20_col3, #T_09c69_row20_col4, #T_09c69_row21_col0, #T_09c69_row21_col1, #T_09c69_row21_col2, #T_09c69_row21_col3, #T_09c69_row21_col4, #T_09c69_row22_col0, #T_09c69_row22_col1, #T_09c69_row22_col2, #T_09c69_row22_col3, #T_09c69_row22_col4, #T_09c69_row23_col0, #T_09c69_row23_col1, #T_09c69_row23_col2, #T_09c69_row23_col3, #T_09c69_row23_col4, #T_09c69_row24_col0, #T_09c69_row24_col1, #T_09c69_row24_col2, #T_09c69_row24_col3, #T_09c69_row24_col4 {\n",
       "  text-align: right;\n",
       "}\n",
       "</style>\n",
       "<table id=\"T_09c69\">\n",
       "  <thead>\n",
       "    <tr>\n",
       "      <th class=\"blank level0\" >&nbsp;</th>\n",
       "      <th id=\"T_09c69_level0_col0\" class=\"col_heading level0 col0\" >imagen</th>\n",
       "      <th id=\"T_09c69_level0_col1\" class=\"col_heading level0 col1\" >area abolladura</th>\n",
       "      <th id=\"T_09c69_level0_col2\" class=\"col_heading level0 col2\" >area rayon</th>\n",
       "      <th id=\"T_09c69_level0_col3\" class=\"col_heading level0 col3\" >area carro</th>\n",
       "      <th id=\"T_09c69_level0_col4\" class=\"col_heading level0 col4\" >afectacion</th>\n",
       "    </tr>\n",
       "  </thead>\n",
       "  <tbody>\n",
       "    <tr>\n",
       "      <th id=\"T_09c69_level0_row0\" class=\"row_heading level0 row0\" >0</th>\n",
       "      <td id=\"T_09c69_row0_col0\" class=\"data row0 col0\" >20170531_010133.jpg</td>\n",
       "      <td id=\"T_09c69_row0_col1\" class=\"data row0 col1\" >0</td>\n",
       "      <td id=\"T_09c69_row0_col2\" class=\"data row0 col2\" >52057</td>\n",
       "      <td id=\"T_09c69_row0_col3\" class=\"data row0 col3\" >1230189</td>\n",
       "      <td id=\"T_09c69_row0_col4\" class=\"data row0 col4\" >1178132px^2</td>\n",
       "    </tr>\n",
       "    <tr>\n",
       "      <th id=\"T_09c69_level0_row1\" class=\"row_heading level0 row1\" >1</th>\n",
       "      <td id=\"T_09c69_row1_col0\" class=\"data row1 col0\" >5-320w-320w.jpg</td>\n",
       "      <td id=\"T_09c69_row1_col1\" class=\"data row1 col1\" >25785</td>\n",
       "      <td id=\"T_09c69_row1_col2\" class=\"data row1 col2\" >0</td>\n",
       "      <td id=\"T_09c69_row1_col3\" class=\"data row1 col3\" >66753</td>\n",
       "      <td id=\"T_09c69_row1_col4\" class=\"data row1 col4\" >40968px^2</td>\n",
       "    </tr>\n",
       "    <tr>\n",
       "      <th id=\"T_09c69_level0_row2\" class=\"row_heading level0 row2\" >2</th>\n",
       "      <td id=\"T_09c69_row2_col0\" class=\"data row2 col0\" >Car-Dent.png</td>\n",
       "      <td id=\"T_09c69_row2_col1\" class=\"data row2 col1\" >96449</td>\n",
       "      <td id=\"T_09c69_row2_col2\" class=\"data row2 col2\" >0</td>\n",
       "      <td id=\"T_09c69_row2_col3\" class=\"data row2 col3\" >150979</td>\n",
       "      <td id=\"T_09c69_row2_col4\" class=\"data row2 col4\" >54530px^2</td>\n",
       "    </tr>\n",
       "    <tr>\n",
       "      <th id=\"T_09c69_level0_row3\" class=\"row_heading level0 row3\" >3</th>\n",
       "      <td id=\"T_09c69_row3_col0\" class=\"data row3 col0\" >Charlotte-Toyota-service-1-1024x683.jpg</td>\n",
       "      <td id=\"T_09c69_row3_col1\" class=\"data row3 col1\" >0</td>\n",
       "      <td id=\"T_09c69_row3_col2\" class=\"data row3 col2\" >9851</td>\n",
       "      <td id=\"T_09c69_row3_col3\" class=\"data row3 col3\" >597363</td>\n",
       "      <td id=\"T_09c69_row3_col4\" class=\"data row3 col4\" >587512px^2</td>\n",
       "    </tr>\n",
       "    <tr>\n",
       "      <th id=\"T_09c69_level0_row4\" class=\"row_heading level0 row4\" >4</th>\n",
       "      <td id=\"T_09c69_row4_col0\" class=\"data row4 col0\" >GSDH75MG6FAM7FSG43RFQLN5R4.jpg</td>\n",
       "      <td id=\"T_09c69_row4_col1\" class=\"data row4 col1\" >0</td>\n",
       "      <td id=\"T_09c69_row4_col2\" class=\"data row4 col2\" >408</td>\n",
       "      <td id=\"T_09c69_row4_col3\" class=\"data row4 col3\" >642499</td>\n",
       "      <td id=\"T_09c69_row4_col4\" class=\"data row4 col4\" >642091px^2</td>\n",
       "    </tr>\n",
       "    <tr>\n",
       "      <th id=\"T_09c69_level0_row5\" class=\"row_heading level0 row5\" >5</th>\n",
       "      <td id=\"T_09c69_row5_col0\" class=\"data row5 col0\" >OIP (1).jpg</td>\n",
       "      <td id=\"T_09c69_row5_col1\" class=\"data row5 col1\" >0</td>\n",
       "      <td id=\"T_09c69_row5_col2\" class=\"data row5 col2\" >10388</td>\n",
       "      <td id=\"T_09c69_row5_col3\" class=\"data row5 col3\" >0</td>\n",
       "      <td id=\"T_09c69_row5_col4\" class=\"data row5 col4\" >10388px^2</td>\n",
       "    </tr>\n",
       "    <tr>\n",
       "      <th id=\"T_09c69_level0_row6\" class=\"row_heading level0 row6\" >6</th>\n",
       "      <td id=\"T_09c69_row6_col0\" class=\"data row6 col0\" >OIP (2).jpeg</td>\n",
       "      <td id=\"T_09c69_row6_col1\" class=\"data row6 col1\" >0</td>\n",
       "      <td id=\"T_09c69_row6_col2\" class=\"data row6 col2\" >537</td>\n",
       "      <td id=\"T_09c69_row6_col3\" class=\"data row6 col3\" >0</td>\n",
       "      <td id=\"T_09c69_row6_col4\" class=\"data row6 col4\" >537px^2</td>\n",
       "    </tr>\n",
       "    <tr>\n",
       "      <th id=\"T_09c69_level0_row7\" class=\"row_heading level0 row7\" >7</th>\n",
       "      <td id=\"T_09c69_row7_col0\" class=\"data row7 col0\" >OIP (4).jpeg</td>\n",
       "      <td id=\"T_09c69_row7_col1\" class=\"data row7 col1\" >0</td>\n",
       "      <td id=\"T_09c69_row7_col2\" class=\"data row7 col2\" >13612</td>\n",
       "      <td id=\"T_09c69_row7_col3\" class=\"data row7 col3\" >762729</td>\n",
       "      <td id=\"T_09c69_row7_col4\" class=\"data row7 col4\" >749117px^2</td>\n",
       "    </tr>\n",
       "    <tr>\n",
       "      <th id=\"T_09c69_level0_row8\" class=\"row_heading level0 row8\" >8</th>\n",
       "      <td id=\"T_09c69_row8_col0\" class=\"data row8 col0\" >OIP(3).jpeg</td>\n",
       "      <td id=\"T_09c69_row8_col1\" class=\"data row8 col1\" >0</td>\n",
       "      <td id=\"T_09c69_row8_col2\" class=\"data row8 col2\" >9045</td>\n",
       "      <td id=\"T_09c69_row8_col3\" class=\"data row8 col3\" >144130</td>\n",
       "      <td id=\"T_09c69_row8_col4\" class=\"data row8 col4\" >135085px^2</td>\n",
       "    </tr>\n",
       "    <tr>\n",
       "      <th id=\"T_09c69_level0_row9\" class=\"row_heading level0 row9\" >9</th>\n",
       "      <td id=\"T_09c69_row9_col0\" class=\"data row9 col0\" >R.jpeg</td>\n",
       "      <td id=\"T_09c69_row9_col1\" class=\"data row9 col1\" >0</td>\n",
       "      <td id=\"T_09c69_row9_col2\" class=\"data row9 col2\" >2859</td>\n",
       "      <td id=\"T_09c69_row9_col3\" class=\"data row9 col3\" >0</td>\n",
       "      <td id=\"T_09c69_row9_col4\" class=\"data row9 col4\" >2859px^2</td>\n",
       "    </tr>\n",
       "    <tr>\n",
       "      <th id=\"T_09c69_level0_row10\" class=\"row_heading level0 row10\" >10</th>\n",
       "      <td id=\"T_09c69_row10_col0\" class=\"data row10 col0\" >R.jpg</td>\n",
       "      <td id=\"T_09c69_row10_col1\" class=\"data row10 col1\" >311248</td>\n",
       "      <td id=\"T_09c69_row10_col2\" class=\"data row10 col2\" >0</td>\n",
       "      <td id=\"T_09c69_row10_col3\" class=\"data row10 col3\" >384754</td>\n",
       "      <td id=\"T_09c69_row10_col4\" class=\"data row10 col4\" >73506px^2</td>\n",
       "    </tr>\n",
       "    <tr>\n",
       "      <th id=\"T_09c69_level0_row11\" class=\"row_heading level0 row11\" >11</th>\n",
       "      <td id=\"T_09c69_row11_col0\" class=\"data row11 col0\" >R2.jpeg</td>\n",
       "      <td id=\"T_09c69_row11_col1\" class=\"data row11 col1\" >0</td>\n",
       "      <td id=\"T_09c69_row11_col2\" class=\"data row11 col2\" >3263</td>\n",
       "      <td id=\"T_09c69_row11_col3\" class=\"data row11 col3\" >103991</td>\n",
       "      <td id=\"T_09c69_row11_col4\" class=\"data row11 col4\" >100728px^2</td>\n",
       "    </tr>\n",
       "    <tr>\n",
       "      <th id=\"T_09c69_level0_row12\" class=\"row_heading level0 row12\" >12</th>\n",
       "      <td id=\"T_09c69_row12_col0\" class=\"data row12 col0\" >R3.jpeg</td>\n",
       "      <td id=\"T_09c69_row12_col1\" class=\"data row12 col1\" >69653</td>\n",
       "      <td id=\"T_09c69_row12_col2\" class=\"data row12 col2\" >325</td>\n",
       "      <td id=\"T_09c69_row12_col3\" class=\"data row12 col3\" >243622</td>\n",
       "      <td id=\"T_09c69_row12_col4\" class=\"data row12 col4\" >-173644px^2</td>\n",
       "    </tr>\n",
       "    <tr>\n",
       "      <th id=\"T_09c69_level0_row13\" class=\"row_heading level0 row13\" >13</th>\n",
       "      <td id=\"T_09c69_row13_col0\" class=\"data row13 col0\" >R5.jpeg</td>\n",
       "      <td id=\"T_09c69_row13_col1\" class=\"data row13 col1\" >0</td>\n",
       "      <td id=\"T_09c69_row13_col2\" class=\"data row13 col2\" >4724</td>\n",
       "      <td id=\"T_09c69_row13_col3\" class=\"data row13 col3\" >292612</td>\n",
       "      <td id=\"T_09c69_row13_col4\" class=\"data row13 col4\" >287888px^2</td>\n",
       "    </tr>\n",
       "    <tr>\n",
       "      <th id=\"T_09c69_level0_row14\" class=\"row_heading level0 row14\" >14</th>\n",
       "      <td id=\"T_09c69_row14_col0\" class=\"data row14 col0\" >R7.png</td>\n",
       "      <td id=\"T_09c69_row14_col1\" class=\"data row14 col1\" >0</td>\n",
       "      <td id=\"T_09c69_row14_col2\" class=\"data row14 col2\" >0</td>\n",
       "      <td id=\"T_09c69_row14_col3\" class=\"data row14 col3\" >0</td>\n",
       "      <td id=\"T_09c69_row14_col4\" class=\"data row14 col4\" >0px^2</td>\n",
       "    </tr>\n",
       "    <tr>\n",
       "      <th id=\"T_09c69_level0_row15\" class=\"row_heading level0 row15\" >15</th>\n",
       "      <td id=\"T_09c69_row15_col0\" class=\"data row15 col0\" >R8.png</td>\n",
       "      <td id=\"T_09c69_row15_col1\" class=\"data row15 col1\" >0</td>\n",
       "      <td id=\"T_09c69_row15_col2\" class=\"data row15 col2\" >0</td>\n",
       "      <td id=\"T_09c69_row15_col3\" class=\"data row15 col3\" >0</td>\n",
       "      <td id=\"T_09c69_row15_col4\" class=\"data row15 col4\" >0px^2</td>\n",
       "    </tr>\n",
       "    <tr>\n",
       "      <th id=\"T_09c69_level0_row16\" class=\"row_heading level0 row16\" >16</th>\n",
       "      <td id=\"T_09c69_row16_col0\" class=\"data row16 col0\" >Webp.net-resizeimage-10-1170x600.jpg</td>\n",
       "      <td id=\"T_09c69_row16_col1\" class=\"data row16 col1\" >0</td>\n",
       "      <td id=\"T_09c69_row16_col2\" class=\"data row16 col2\" >33488</td>\n",
       "      <td id=\"T_09c69_row16_col3\" class=\"data row16 col3\" >0</td>\n",
       "      <td id=\"T_09c69_row16_col4\" class=\"data row16 col4\" >33488px^2</td>\n",
       "    </tr>\n",
       "    <tr>\n",
       "      <th id=\"T_09c69_level0_row17\" class=\"row_heading level0 row17\" >17</th>\n",
       "      <td id=\"T_09c69_row17_col0\" class=\"data row17 col0\" >abolladura-en-un-coche-632c58a6e2ea5.jpg</td>\n",
       "      <td id=\"T_09c69_row17_col1\" class=\"data row17 col1\" >0</td>\n",
       "      <td id=\"T_09c69_row17_col2\" class=\"data row17 col2\" >84609</td>\n",
       "      <td id=\"T_09c69_row17_col3\" class=\"data row17 col3\" >932690</td>\n",
       "      <td id=\"T_09c69_row17_col4\" class=\"data row17 col4\" >848081px^2</td>\n",
       "    </tr>\n",
       "    <tr>\n",
       "      <th id=\"T_09c69_level0_row18\" class=\"row_heading level0 row18\" >18</th>\n",
       "      <td id=\"T_09c69_row18_col0\" class=\"data row18 col0\" >abolladuraautos-fd03b3bae67d7363172c41cc00198c51-1200x800.jpg</td>\n",
       "      <td id=\"T_09c69_row18_col1\" class=\"data row18 col1\" >0</td>\n",
       "      <td id=\"T_09c69_row18_col2\" class=\"data row18 col2\" >0</td>\n",
       "      <td id=\"T_09c69_row18_col3\" class=\"data row18 col3\" >0</td>\n",
       "      <td id=\"T_09c69_row18_col4\" class=\"data row18 col4\" >0px^2</td>\n",
       "    </tr>\n",
       "    <tr>\n",
       "      <th id=\"T_09c69_level0_row19\" class=\"row_heading level0 row19\" >19</th>\n",
       "      <td id=\"T_09c69_row19_col0\" class=\"data row19 col0\" >big_ray.jpg</td>\n",
       "      <td id=\"T_09c69_row19_col1\" class=\"data row19 col1\" >0</td>\n",
       "      <td id=\"T_09c69_row19_col2\" class=\"data row19 col2\" >0</td>\n",
       "      <td id=\"T_09c69_row19_col3\" class=\"data row19 col3\" >0</td>\n",
       "      <td id=\"T_09c69_row19_col4\" class=\"data row19 col4\" >0px^2</td>\n",
       "    </tr>\n",
       "    <tr>\n",
       "      <th id=\"T_09c69_level0_row20\" class=\"row_heading level0 row20\" >20</th>\n",
       "      <td id=\"T_09c69_row20_col0\" class=\"data row20 col0\" >coche-después-de-una-ruina-la-necesidad-ser-reparado-esperándola-es-demanda-de-seguro-29745503.jpg</td>\n",
       "      <td id=\"T_09c69_row20_col1\" class=\"data row20 col1\" >150405</td>\n",
       "      <td id=\"T_09c69_row20_col2\" class=\"data row20 col2\" >0</td>\n",
       "      <td id=\"T_09c69_row20_col3\" class=\"data row20 col3\" >415077</td>\n",
       "      <td id=\"T_09c69_row20_col4\" class=\"data row20 col4\" >264672px^2</td>\n",
       "    </tr>\n",
       "    <tr>\n",
       "      <th id=\"T_09c69_level0_row21\" class=\"row_heading level0 row21\" >21</th>\n",
       "      <td id=\"T_09c69_row21_col0\" class=\"data row21 col0\" >e1b235cf346a92a59d23c353c5ab913c.jpg</td>\n",
       "      <td id=\"T_09c69_row21_col1\" class=\"data row21 col1\" >0</td>\n",
       "      <td id=\"T_09c69_row21_col2\" class=\"data row21 col2\" >63731</td>\n",
       "      <td id=\"T_09c69_row21_col3\" class=\"data row21 col3\" >0</td>\n",
       "      <td id=\"T_09c69_row21_col4\" class=\"data row21 col4\" >63731px^2</td>\n",
       "    </tr>\n",
       "    <tr>\n",
       "      <th id=\"T_09c69_level0_row22\" class=\"row_heading level0 row22\" >22</th>\n",
       "      <td id=\"T_09c69_row22_col0\" class=\"data row22 col0\" >paintless-dent-removal-3-1.jpg</td>\n",
       "      <td id=\"T_09c69_row22_col1\" class=\"data row22 col1\" >56889</td>\n",
       "      <td id=\"T_09c69_row22_col2\" class=\"data row22 col2\" >6986</td>\n",
       "      <td id=\"T_09c69_row22_col3\" class=\"data row22 col3\" >0</td>\n",
       "      <td id=\"T_09c69_row22_col4\" class=\"data row22 col4\" >63875px^2</td>\n",
       "    </tr>\n",
       "    <tr>\n",
       "      <th id=\"T_09c69_level0_row23\" class=\"row_heading level0 row23\" >23</th>\n",
       "      <td id=\"T_09c69_row23_col0\" class=\"data row23 col0\" >rayonesauto-e68618ca9c3d6859cebc796c300aea97-1200x0.jpg</td>\n",
       "      <td id=\"T_09c69_row23_col1\" class=\"data row23 col1\" >0</td>\n",
       "      <td id=\"T_09c69_row23_col2\" class=\"data row23 col2\" >14553</td>\n",
       "      <td id=\"T_09c69_row23_col3\" class=\"data row23 col3\" >376916</td>\n",
       "      <td id=\"T_09c69_row23_col4\" class=\"data row23 col4\" >362363px^2</td>\n",
       "    </tr>\n",
       "    <tr>\n",
       "      <th id=\"T_09c69_level0_row24\" class=\"row_heading level0 row24\" >24</th>\n",
       "      <td id=\"T_09c69_row24_col0\" class=\"data row24 col0\" >trucos-para-quitar-abolladuras-del-coche.imagen-1013x675.jpg</td>\n",
       "      <td id=\"T_09c69_row24_col1\" class=\"data row24 col1\" >90773</td>\n",
       "      <td id=\"T_09c69_row24_col2\" class=\"data row24 col2\" >0</td>\n",
       "      <td id=\"T_09c69_row24_col3\" class=\"data row24 col3\" >0</td>\n",
       "      <td id=\"T_09c69_row24_col4\" class=\"data row24 col4\" >90773px^2</td>\n",
       "    </tr>\n",
       "  </tbody>\n",
       "</table>\n"
      ],
      "text/plain": [
       "<pandas.io.formats.style.Styler at 0x1cccd7347f0>"
      ]
     },
     "execution_count": 8,
     "metadata": {},
     "output_type": "execute_result"
    }
   ],
   "source": [
    "def calculate_area(mask):\n",
    "    sum_area = 0\n",
    "    for e in mask:\n",
    "        area = torch.round(e[2] * e[3]).int()\n",
    "        sum_area += area.sum().item()\n",
    "    return sum_area\n",
    "    \n",
    "def search_area_by_instance(results, image_instance):\n",
    "    for i in results:\n",
    "        if os.path.basename(i.path) == image_instance:\n",
    "            return calculate_area(i.boxes.xywh) if i.boxes is not None else 0\n",
    "    return 0\n",
    "\n",
    "def process_main_detection(dent, scratch, car_results):\n",
    "    columnas = ['imagen','area abolladura', 'area rayon', 'area carro','afectacion']\n",
    "    data= []\n",
    "    \n",
    "    for result in car_results:\n",
    "        control_image= os.path.basename(result.path)\n",
    "\n",
    "        dent_area  = search_area_by_instance(dent, control_image)\n",
    "        scratch_area = search_area_by_instance(scratch, control_image)\n",
    "\n",
    "        if dent_area > 0 or scratch_area > 0:\n",
    "            car_area = search_area_by_instance(result, control_image)\n",
    "            damage= process_secondary_detection(car_area, dent_area, scratch_area)\n",
    "        else:\n",
    "            car_area= 0\n",
    "            damage= 0\n",
    "\n",
    "        data.append([f'{os.path.basename(control_image)}', f'{dent_area}', f'{scratch_area}', f'{car_area}', f'{damage}px^2'])\n",
    "        \n",
    "    df=pd.DataFrame(data, columns=columnas) \n",
    "    return df  \n",
    "    \n",
    "def process_secondary_detection(car_area, dent_area, scratch_area):\n",
    "    if dent_area > 0 and scratch_area > 0:\n",
    "        main_area_sum = dent_area + scratch_area \n",
    "        total_affected_area = main_area_sum - car_area\n",
    "    else:\n",
    "        total_affected_area = abs(dent_area - car_area) if dent_area > 0 else abs(scratch_area - car_area) if scratch_area > 0 else 0 \n",
    "    return total_affected_area\n",
    "\n",
    "df_result = process_main_detection(results_abolladura, results_rayon, results_car)\n",
    "\n",
    "styled_df = df_result.style.set_properties(**{'text-align': 'right'})\n",
    "styled_df\n"
   ]
  },
  {
   "cell_type": "markdown",
   "metadata": {},
   "source": [
    "# Dataframe con las áreas individuales"
   ]
  },
  {
   "cell_type": "code",
   "execution_count": 9,
   "metadata": {},
   "outputs": [
    {
     "data": {
      "text/html": [
       "<div>\n",
       "<style scoped>\n",
       "    .dataframe tbody tr th:only-of-type {\n",
       "        vertical-align: middle;\n",
       "    }\n",
       "\n",
       "    .dataframe tbody tr th {\n",
       "        vertical-align: top;\n",
       "    }\n",
       "\n",
       "    .dataframe thead th {\n",
       "        text-align: right;\n",
       "    }\n",
       "</style>\n",
       "<table border=\"1\" class=\"dataframe\">\n",
       "  <thead>\n",
       "    <tr style=\"text-align: right;\">\n",
       "      <th></th>\n",
       "      <th></th>\n",
       "      <th></th>\n",
       "      <th></th>\n",
       "      <th>area x mascara</th>\n",
       "    </tr>\n",
       "    <tr>\n",
       "      <th>imagen</th>\n",
       "      <th>afectacion x imagen</th>\n",
       "      <th>Clase</th>\n",
       "      <th></th>\n",
       "      <th></th>\n",
       "    </tr>\n",
       "  </thead>\n",
       "  <tbody>\n",
       "    <tr>\n",
       "      <th rowspan=\"5\" valign=\"top\">20170531_010133.jpg</th>\n",
       "      <th rowspan=\"5\" valign=\"top\">1178132</th>\n",
       "      <th>abolladura</th>\n",
       "      <th>0</th>\n",
       "      <td>0</td>\n",
       "    </tr>\n",
       "    <tr>\n",
       "      <th rowspan=\"3\" valign=\"top\">rayon</th>\n",
       "      <th>1</th>\n",
       "      <td>48466</td>\n",
       "    </tr>\n",
       "    <tr>\n",
       "      <th>1</th>\n",
       "      <td>2445</td>\n",
       "    </tr>\n",
       "    <tr>\n",
       "      <th>1</th>\n",
       "      <td>1146</td>\n",
       "    </tr>\n",
       "    <tr>\n",
       "      <th>carro</th>\n",
       "      <th>2</th>\n",
       "      <td>1230189</td>\n",
       "    </tr>\n",
       "    <tr>\n",
       "      <th rowspan=\"3\" valign=\"top\">5-320w-320w.jpg</th>\n",
       "      <th rowspan=\"3\" valign=\"top\">40968</th>\n",
       "      <th>abolladura</th>\n",
       "      <th>3</th>\n",
       "      <td>25785</td>\n",
       "    </tr>\n",
       "    <tr>\n",
       "      <th>rayon</th>\n",
       "      <th>4</th>\n",
       "      <td>0</td>\n",
       "    </tr>\n",
       "    <tr>\n",
       "      <th>carro</th>\n",
       "      <th>5</th>\n",
       "      <td>66753</td>\n",
       "    </tr>\n",
       "    <tr>\n",
       "      <th rowspan=\"3\" valign=\"top\">Car-Dent.png</th>\n",
       "      <th rowspan=\"3\" valign=\"top\">54530</th>\n",
       "      <th>abolladura</th>\n",
       "      <th>6</th>\n",
       "      <td>96449</td>\n",
       "    </tr>\n",
       "    <tr>\n",
       "      <th>rayon</th>\n",
       "      <th>7</th>\n",
       "      <td>0</td>\n",
       "    </tr>\n",
       "    <tr>\n",
       "      <th>carro</th>\n",
       "      <th>8</th>\n",
       "      <td>150979</td>\n",
       "    </tr>\n",
       "    <tr>\n",
       "      <th rowspan=\"5\" valign=\"top\">Charlotte-Toyota-service-1-1024x683.jpg</th>\n",
       "      <th rowspan=\"5\" valign=\"top\">587512</th>\n",
       "      <th>abolladura</th>\n",
       "      <th>9</th>\n",
       "      <td>0</td>\n",
       "    </tr>\n",
       "    <tr>\n",
       "      <th rowspan=\"3\" valign=\"top\">rayon</th>\n",
       "      <th>10</th>\n",
       "      <td>2159</td>\n",
       "    </tr>\n",
       "    <tr>\n",
       "      <th>10</th>\n",
       "      <td>4552</td>\n",
       "    </tr>\n",
       "    <tr>\n",
       "      <th>10</th>\n",
       "      <td>3140</td>\n",
       "    </tr>\n",
       "    <tr>\n",
       "      <th>carro</th>\n",
       "      <th>11</th>\n",
       "      <td>597363</td>\n",
       "    </tr>\n",
       "    <tr>\n",
       "      <th rowspan=\"3\" valign=\"top\">GSDH75MG6FAM7FSG43RFQLN5R4.jpg</th>\n",
       "      <th rowspan=\"3\" valign=\"top\">642091</th>\n",
       "      <th>abolladura</th>\n",
       "      <th>12</th>\n",
       "      <td>0</td>\n",
       "    </tr>\n",
       "    <tr>\n",
       "      <th>rayon</th>\n",
       "      <th>13</th>\n",
       "      <td>408</td>\n",
       "    </tr>\n",
       "    <tr>\n",
       "      <th>carro</th>\n",
       "      <th>14</th>\n",
       "      <td>642499</td>\n",
       "    </tr>\n",
       "    <tr>\n",
       "      <th rowspan=\"5\" valign=\"top\">OIP (1).jpg</th>\n",
       "      <th rowspan=\"5\" valign=\"top\">10388</th>\n",
       "      <th>abolladura</th>\n",
       "      <th>15</th>\n",
       "      <td>0</td>\n",
       "    </tr>\n",
       "    <tr>\n",
       "      <th rowspan=\"3\" valign=\"top\">rayon</th>\n",
       "      <th>16</th>\n",
       "      <td>4406</td>\n",
       "    </tr>\n",
       "    <tr>\n",
       "      <th>16</th>\n",
       "      <td>4690</td>\n",
       "    </tr>\n",
       "    <tr>\n",
       "      <th>16</th>\n",
       "      <td>1292</td>\n",
       "    </tr>\n",
       "    <tr>\n",
       "      <th>carro</th>\n",
       "      <th>17</th>\n",
       "      <td>0</td>\n",
       "    </tr>\n",
       "    <tr>\n",
       "      <th rowspan=\"4\" valign=\"top\">OIP (2).jpeg</th>\n",
       "      <th rowspan=\"4\" valign=\"top\">537</th>\n",
       "      <th>abolladura</th>\n",
       "      <th>18</th>\n",
       "      <td>0</td>\n",
       "    </tr>\n",
       "    <tr>\n",
       "      <th rowspan=\"2\" valign=\"top\">rayon</th>\n",
       "      <th>19</th>\n",
       "      <td>390</td>\n",
       "    </tr>\n",
       "    <tr>\n",
       "      <th>19</th>\n",
       "      <td>147</td>\n",
       "    </tr>\n",
       "    <tr>\n",
       "      <th>carro</th>\n",
       "      <th>20</th>\n",
       "      <td>0</td>\n",
       "    </tr>\n",
       "    <tr>\n",
       "      <th rowspan=\"5\" valign=\"top\">OIP (4).jpeg</th>\n",
       "      <th rowspan=\"5\" valign=\"top\">749117</th>\n",
       "      <th>abolladura</th>\n",
       "      <th>21</th>\n",
       "      <td>0</td>\n",
       "    </tr>\n",
       "    <tr>\n",
       "      <th rowspan=\"3\" valign=\"top\">rayon</th>\n",
       "      <th>22</th>\n",
       "      <td>2247</td>\n",
       "    </tr>\n",
       "    <tr>\n",
       "      <th>22</th>\n",
       "      <td>8814</td>\n",
       "    </tr>\n",
       "    <tr>\n",
       "      <th>22</th>\n",
       "      <td>2551</td>\n",
       "    </tr>\n",
       "    <tr>\n",
       "      <th>carro</th>\n",
       "      <th>23</th>\n",
       "      <td>762729</td>\n",
       "    </tr>\n",
       "    <tr>\n",
       "      <th rowspan=\"3\" valign=\"top\">OIP(3).jpeg</th>\n",
       "      <th rowspan=\"3\" valign=\"top\">135085</th>\n",
       "      <th>abolladura</th>\n",
       "      <th>24</th>\n",
       "      <td>0</td>\n",
       "    </tr>\n",
       "    <tr>\n",
       "      <th>rayon</th>\n",
       "      <th>25</th>\n",
       "      <td>9045</td>\n",
       "    </tr>\n",
       "    <tr>\n",
       "      <th>carro</th>\n",
       "      <th>26</th>\n",
       "      <td>144130</td>\n",
       "    </tr>\n",
       "    <tr>\n",
       "      <th rowspan=\"3\" valign=\"top\">R.jpeg</th>\n",
       "      <th rowspan=\"3\" valign=\"top\">2859</th>\n",
       "      <th>abolladura</th>\n",
       "      <th>27</th>\n",
       "      <td>0</td>\n",
       "    </tr>\n",
       "    <tr>\n",
       "      <th>rayon</th>\n",
       "      <th>28</th>\n",
       "      <td>2859</td>\n",
       "    </tr>\n",
       "    <tr>\n",
       "      <th>carro</th>\n",
       "      <th>29</th>\n",
       "      <td>0</td>\n",
       "    </tr>\n",
       "    <tr>\n",
       "      <th rowspan=\"4\" valign=\"top\">R.jpg</th>\n",
       "      <th rowspan=\"4\" valign=\"top\">73506</th>\n",
       "      <th rowspan=\"2\" valign=\"top\">abolladura</th>\n",
       "      <th>30</th>\n",
       "      <td>145368</td>\n",
       "    </tr>\n",
       "    <tr>\n",
       "      <th>30</th>\n",
       "      <td>165880</td>\n",
       "    </tr>\n",
       "    <tr>\n",
       "      <th>rayon</th>\n",
       "      <th>31</th>\n",
       "      <td>0</td>\n",
       "    </tr>\n",
       "    <tr>\n",
       "      <th>carro</th>\n",
       "      <th>32</th>\n",
       "      <td>384754</td>\n",
       "    </tr>\n",
       "    <tr>\n",
       "      <th rowspan=\"3\" valign=\"top\">R2.jpeg</th>\n",
       "      <th rowspan=\"3\" valign=\"top\">100728</th>\n",
       "      <th>abolladura</th>\n",
       "      <th>33</th>\n",
       "      <td>0</td>\n",
       "    </tr>\n",
       "    <tr>\n",
       "      <th>rayon</th>\n",
       "      <th>34</th>\n",
       "      <td>3263</td>\n",
       "    </tr>\n",
       "    <tr>\n",
       "      <th>carro</th>\n",
       "      <th>35</th>\n",
       "      <td>103991</td>\n",
       "    </tr>\n",
       "    <tr>\n",
       "      <th rowspan=\"3\" valign=\"top\">R3.jpeg</th>\n",
       "      <th rowspan=\"3\" valign=\"top\">-173644</th>\n",
       "      <th>abolladura</th>\n",
       "      <th>36</th>\n",
       "      <td>69653</td>\n",
       "    </tr>\n",
       "    <tr>\n",
       "      <th>rayon</th>\n",
       "      <th>37</th>\n",
       "      <td>325</td>\n",
       "    </tr>\n",
       "    <tr>\n",
       "      <th>carro</th>\n",
       "      <th>38</th>\n",
       "      <td>243622</td>\n",
       "    </tr>\n",
       "    <tr>\n",
       "      <th rowspan=\"4\" valign=\"top\">R5.jpeg</th>\n",
       "      <th rowspan=\"4\" valign=\"top\">287888</th>\n",
       "      <th>abolladura</th>\n",
       "      <th>39</th>\n",
       "      <td>0</td>\n",
       "    </tr>\n",
       "    <tr>\n",
       "      <th rowspan=\"2\" valign=\"top\">rayon</th>\n",
       "      <th>40</th>\n",
       "      <td>4492</td>\n",
       "    </tr>\n",
       "    <tr>\n",
       "      <th>40</th>\n",
       "      <td>232</td>\n",
       "    </tr>\n",
       "    <tr>\n",
       "      <th>carro</th>\n",
       "      <th>41</th>\n",
       "      <td>292612</td>\n",
       "    </tr>\n",
       "    <tr>\n",
       "      <th rowspan=\"3\" valign=\"top\">R7.png</th>\n",
       "      <th rowspan=\"3\" valign=\"top\">0</th>\n",
       "      <th>abolladura</th>\n",
       "      <th>42</th>\n",
       "      <td>0</td>\n",
       "    </tr>\n",
       "    <tr>\n",
       "      <th>rayon</th>\n",
       "      <th>43</th>\n",
       "      <td>0</td>\n",
       "    </tr>\n",
       "    <tr>\n",
       "      <th>carro</th>\n",
       "      <th>44</th>\n",
       "      <td>0</td>\n",
       "    </tr>\n",
       "    <tr>\n",
       "      <th rowspan=\"3\" valign=\"top\">R8.png</th>\n",
       "      <th rowspan=\"3\" valign=\"top\">0</th>\n",
       "      <th>abolladura</th>\n",
       "      <th>45</th>\n",
       "      <td>0</td>\n",
       "    </tr>\n",
       "    <tr>\n",
       "      <th>rayon</th>\n",
       "      <th>46</th>\n",
       "      <td>0</td>\n",
       "    </tr>\n",
       "    <tr>\n",
       "      <th>carro</th>\n",
       "      <th>47</th>\n",
       "      <td>0</td>\n",
       "    </tr>\n",
       "    <tr>\n",
       "      <th rowspan=\"4\" valign=\"top\">Webp.net-resizeimage-10-1170x600.jpg</th>\n",
       "      <th rowspan=\"4\" valign=\"top\">33488</th>\n",
       "      <th>abolladura</th>\n",
       "      <th>48</th>\n",
       "      <td>0</td>\n",
       "    </tr>\n",
       "    <tr>\n",
       "      <th rowspan=\"2\" valign=\"top\">rayon</th>\n",
       "      <th>49</th>\n",
       "      <td>12657</td>\n",
       "    </tr>\n",
       "    <tr>\n",
       "      <th>49</th>\n",
       "      <td>20831</td>\n",
       "    </tr>\n",
       "    <tr>\n",
       "      <th>carro</th>\n",
       "      <th>50</th>\n",
       "      <td>0</td>\n",
       "    </tr>\n",
       "    <tr>\n",
       "      <th rowspan=\"5\" valign=\"top\">abolladura-en-un-coche-632c58a6e2ea5.jpg</th>\n",
       "      <th rowspan=\"5\" valign=\"top\">848081</th>\n",
       "      <th>abolladura</th>\n",
       "      <th>51</th>\n",
       "      <td>0</td>\n",
       "    </tr>\n",
       "    <tr>\n",
       "      <th rowspan=\"3\" valign=\"top\">rayon</th>\n",
       "      <th>52</th>\n",
       "      <td>27004</td>\n",
       "    </tr>\n",
       "    <tr>\n",
       "      <th>52</th>\n",
       "      <td>56335</td>\n",
       "    </tr>\n",
       "    <tr>\n",
       "      <th>52</th>\n",
       "      <td>1270</td>\n",
       "    </tr>\n",
       "    <tr>\n",
       "      <th>carro</th>\n",
       "      <th>53</th>\n",
       "      <td>932690</td>\n",
       "    </tr>\n",
       "    <tr>\n",
       "      <th rowspan=\"3\" valign=\"top\">abolladuraautos-fd03b3bae67d7363172c41cc00198c51-1200x800.jpg</th>\n",
       "      <th rowspan=\"3\" valign=\"top\">0</th>\n",
       "      <th>abolladura</th>\n",
       "      <th>54</th>\n",
       "      <td>0</td>\n",
       "    </tr>\n",
       "    <tr>\n",
       "      <th>rayon</th>\n",
       "      <th>55</th>\n",
       "      <td>0</td>\n",
       "    </tr>\n",
       "    <tr>\n",
       "      <th>carro</th>\n",
       "      <th>56</th>\n",
       "      <td>0</td>\n",
       "    </tr>\n",
       "    <tr>\n",
       "      <th rowspan=\"3\" valign=\"top\">big_ray.jpg</th>\n",
       "      <th rowspan=\"3\" valign=\"top\">0</th>\n",
       "      <th>abolladura</th>\n",
       "      <th>57</th>\n",
       "      <td>0</td>\n",
       "    </tr>\n",
       "    <tr>\n",
       "      <th>rayon</th>\n",
       "      <th>58</th>\n",
       "      <td>0</td>\n",
       "    </tr>\n",
       "    <tr>\n",
       "      <th>carro</th>\n",
       "      <th>59</th>\n",
       "      <td>0</td>\n",
       "    </tr>\n",
       "    <tr>\n",
       "      <th rowspan=\"3\" valign=\"top\">coche-después-de-una-ruina-la-necesidad-ser-reparado-esperándola-es-demanda-de-seguro-29745503.jpg</th>\n",
       "      <th rowspan=\"3\" valign=\"top\">264672</th>\n",
       "      <th>abolladura</th>\n",
       "      <th>60</th>\n",
       "      <td>150405</td>\n",
       "    </tr>\n",
       "    <tr>\n",
       "      <th>rayon</th>\n",
       "      <th>61</th>\n",
       "      <td>0</td>\n",
       "    </tr>\n",
       "    <tr>\n",
       "      <th>carro</th>\n",
       "      <th>62</th>\n",
       "      <td>415077</td>\n",
       "    </tr>\n",
       "    <tr>\n",
       "      <th rowspan=\"5\" valign=\"top\">e1b235cf346a92a59d23c353c5ab913c.jpg</th>\n",
       "      <th rowspan=\"5\" valign=\"top\">63731</th>\n",
       "      <th>abolladura</th>\n",
       "      <th>63</th>\n",
       "      <td>0</td>\n",
       "    </tr>\n",
       "    <tr>\n",
       "      <th rowspan=\"3\" valign=\"top\">rayon</th>\n",
       "      <th>64</th>\n",
       "      <td>22910</td>\n",
       "    </tr>\n",
       "    <tr>\n",
       "      <th>64</th>\n",
       "      <td>26576</td>\n",
       "    </tr>\n",
       "    <tr>\n",
       "      <th>64</th>\n",
       "      <td>14245</td>\n",
       "    </tr>\n",
       "    <tr>\n",
       "      <th>carro</th>\n",
       "      <th>65</th>\n",
       "      <td>0</td>\n",
       "    </tr>\n",
       "    <tr>\n",
       "      <th rowspan=\"3\" valign=\"top\">paintless-dent-removal-3-1.jpg</th>\n",
       "      <th rowspan=\"3\" valign=\"top\">63875</th>\n",
       "      <th>abolladura</th>\n",
       "      <th>66</th>\n",
       "      <td>56889</td>\n",
       "    </tr>\n",
       "    <tr>\n",
       "      <th>rayon</th>\n",
       "      <th>67</th>\n",
       "      <td>6986</td>\n",
       "    </tr>\n",
       "    <tr>\n",
       "      <th>carro</th>\n",
       "      <th>68</th>\n",
       "      <td>0</td>\n",
       "    </tr>\n",
       "    <tr>\n",
       "      <th rowspan=\"5\" valign=\"top\">rayonesauto-e68618ca9c3d6859cebc796c300aea97-1200x0.jpg</th>\n",
       "      <th rowspan=\"5\" valign=\"top\">362363</th>\n",
       "      <th>abolladura</th>\n",
       "      <th>69</th>\n",
       "      <td>0</td>\n",
       "    </tr>\n",
       "    <tr>\n",
       "      <th rowspan=\"3\" valign=\"top\">rayon</th>\n",
       "      <th>70</th>\n",
       "      <td>4815</td>\n",
       "    </tr>\n",
       "    <tr>\n",
       "      <th>70</th>\n",
       "      <td>9338</td>\n",
       "    </tr>\n",
       "    <tr>\n",
       "      <th>70</th>\n",
       "      <td>400</td>\n",
       "    </tr>\n",
       "    <tr>\n",
       "      <th>carro</th>\n",
       "      <th>71</th>\n",
       "      <td>376916</td>\n",
       "    </tr>\n",
       "    <tr>\n",
       "      <th rowspan=\"3\" valign=\"top\">trucos-para-quitar-abolladuras-del-coche.imagen-1013x675.jpg</th>\n",
       "      <th rowspan=\"3\" valign=\"top\">90773</th>\n",
       "      <th>abolladura</th>\n",
       "      <th>72</th>\n",
       "      <td>90773</td>\n",
       "    </tr>\n",
       "    <tr>\n",
       "      <th>rayon</th>\n",
       "      <th>73</th>\n",
       "      <td>0</td>\n",
       "    </tr>\n",
       "    <tr>\n",
       "      <th>carro</th>\n",
       "      <th>74</th>\n",
       "      <td>0</td>\n",
       "    </tr>\n",
       "  </tbody>\n",
       "</table>\n",
       "</div>"
      ],
      "text/plain": [
       "                                                                                     area x mascara\n",
       "imagen                                             afectacion x imagen Clase                       \n",
       "20170531_010133.jpg                                 1178132            abolladura 0               0\n",
       "                                                                       rayon      1           48466\n",
       "                                                                                  1            2445\n",
       "                                                                                  1            1146\n",
       "                                                                       carro      2         1230189\n",
       "5-320w-320w.jpg                                     40968              abolladura 3           25785\n",
       "                                                                       rayon      4               0\n",
       "                                                                       carro      5           66753\n",
       "Car-Dent.png                                        54530              abolladura 6           96449\n",
       "                                                                       rayon      7               0\n",
       "                                                                       carro      8          150979\n",
       "Charlotte-Toyota-service-1-1024x683.jpg             587512             abolladura 9               0\n",
       "                                                                       rayon      10           2159\n",
       "                                                                                  10           4552\n",
       "                                                                                  10           3140\n",
       "                                                                       carro      11         597363\n",
       "GSDH75MG6FAM7FSG43RFQLN5R4.jpg                      642091             abolladura 12              0\n",
       "                                                                       rayon      13            408\n",
       "                                                                       carro      14         642499\n",
       "OIP (1).jpg                                         10388              abolladura 15              0\n",
       "                                                                       rayon      16           4406\n",
       "                                                                                  16           4690\n",
       "                                                                                  16           1292\n",
       "                                                                       carro      17              0\n",
       "OIP (2).jpeg                                        537                abolladura 18              0\n",
       "                                                                       rayon      19            390\n",
       "                                                                                  19            147\n",
       "                                                                       carro      20              0\n",
       "OIP (4).jpeg                                        749117             abolladura 21              0\n",
       "                                                                       rayon      22           2247\n",
       "                                                                                  22           8814\n",
       "                                                                                  22           2551\n",
       "                                                                       carro      23         762729\n",
       "OIP(3).jpeg                                         135085             abolladura 24              0\n",
       "                                                                       rayon      25           9045\n",
       "                                                                       carro      26         144130\n",
       "R.jpeg                                              2859               abolladura 27              0\n",
       "                                                                       rayon      28           2859\n",
       "                                                                       carro      29              0\n",
       "R.jpg                                               73506              abolladura 30         145368\n",
       "                                                                                  30         165880\n",
       "                                                                       rayon      31              0\n",
       "                                                                       carro      32         384754\n",
       "R2.jpeg                                             100728             abolladura 33              0\n",
       "                                                                       rayon      34           3263\n",
       "                                                                       carro      35         103991\n",
       "R3.jpeg                                            -173644             abolladura 36          69653\n",
       "                                                                       rayon      37            325\n",
       "                                                                       carro      38         243622\n",
       "R5.jpeg                                             287888             abolladura 39              0\n",
       "                                                                       rayon      40           4492\n",
       "                                                                                  40            232\n",
       "                                                                       carro      41         292612\n",
       "R7.png                                              0                  abolladura 42              0\n",
       "                                                                       rayon      43              0\n",
       "                                                                       carro      44              0\n",
       "R8.png                                              0                  abolladura 45              0\n",
       "                                                                       rayon      46              0\n",
       "                                                                       carro      47              0\n",
       "Webp.net-resizeimage-10-1170x600.jpg                33488              abolladura 48              0\n",
       "                                                                       rayon      49          12657\n",
       "                                                                                  49          20831\n",
       "                                                                       carro      50              0\n",
       "abolladura-en-un-coche-632c58a6e2ea5.jpg            848081             abolladura 51              0\n",
       "                                                                       rayon      52          27004\n",
       "                                                                                  52          56335\n",
       "                                                                                  52           1270\n",
       "                                                                       carro      53         932690\n",
       "abolladuraautos-fd03b3bae67d7363172c41cc00198c5...  0                  abolladura 54              0\n",
       "                                                                       rayon      55              0\n",
       "                                                                       carro      56              0\n",
       "big_ray.jpg                                         0                  abolladura 57              0\n",
       "                                                                       rayon      58              0\n",
       "                                                                       carro      59              0\n",
       "coche-después-de-una-ruina-la-necesidad-ser-rep...  264672             abolladura 60         150405\n",
       "                                                                       rayon      61              0\n",
       "                                                                       carro      62         415077\n",
       "e1b235cf346a92a59d23c353c5ab913c.jpg                63731              abolladura 63              0\n",
       "                                                                       rayon      64          22910\n",
       "                                                                                  64          26576\n",
       "                                                                                  64          14245\n",
       "                                                                       carro      65              0\n",
       "paintless-dent-removal-3-1.jpg                      63875              abolladura 66          56889\n",
       "                                                                       rayon      67           6986\n",
       "                                                                       carro      68              0\n",
       "rayonesauto-e68618ca9c3d6859cebc796c300aea97-12...  362363             abolladura 69              0\n",
       "                                                                       rayon      70           4815\n",
       "                                                                                  70           9338\n",
       "                                                                                  70            400\n",
       "                                                                       carro      71         376916\n",
       "trucos-para-quitar-abolladuras-del-coche.imagen...  90773              abolladura 72          90773\n",
       "                                                                       rayon      73              0\n",
       "                                                                       carro      74              0"
      ]
     },
     "execution_count": 9,
     "metadata": {},
     "output_type": "execute_result"
    }
   ],
   "source": [
    "def calculate_area(segmented_masks): \n",
    "    sum_area = 0\n",
    "    area_individual = 0\n",
    "    if segmented_masks.numel() > 0:\n",
    "        area_individual= []\n",
    "        for e in segmented_masks:\n",
    "            area = torch.round(e[2] * e[3]).int()\n",
    "            area_individual.append(area.item())\n",
    "            sum_area += area.sum().item()\n",
    "    return area_individual, sum_area\n",
    "\n",
    "def search_mask_by_image(segmentation_results, id_image):\n",
    "    for attributes in segmentation_results:\n",
    "        if os.path.basename(attributes.path) == id_image: # Confirmar que estamos buscando el resultado en la misma imagen por cada clase, con el atributo path obtenemos la direccion del archivo\n",
    "            return calculate_area(attributes.boxes.xywh) if attributes.boxes is not None else ([], 0) # Envia las coordenadas para el calculo del area si la mascara no esta vacia. De lo contrario, retornara como valor una lista vacia referente a las areas halladas y un equivalente a cero por el area total de la imagen.\n",
    "    return 0, 0\n",
    "\n",
    "\n",
    "def process_segmentation_results(abolladura, rayon, car):\n",
    "    columnas= ['imagen', 'ClaseMascara', 'area x mascara', 'afectacion x imagen']\n",
    "    data= []\n",
    "\n",
    "    for attribute in car: # Recorre los resultados de la segmentacion abolladura, una instancia obtendra el identificador de recorrido.\n",
    "        img_directory = os.path.basename(attribute.path) # Se obtiene el atributo de directorio en imagen\n",
    "            \n",
    "        areas_abolladura, total_abolladura_area = search_mask_by_image(abolladura, img_directory)      \n",
    "        areas_rayon, total_rayon_area = search_mask_by_image(rayon, img_directory)\n",
    "            \n",
    "        if total_abolladura_area is not None and total_abolladura_area > 0 or total_rayon_area is not None and total_rayon_area > 0:\n",
    "            areas_car, total_car_area = search_mask_by_image(attribute, img_directory)\n",
    "            afectacion_imagen= calculating_car_affectation(total_car_area, total_abolladura_area, total_rayon_area)\n",
    "                \n",
    "        else:\n",
    "            areas_car= 0\n",
    "            afectacion_imagen = 0\n",
    "            \n",
    "        data.append([img_directory, 'abolladura', areas_abolladura, afectacion_imagen])\n",
    "        data.append([img_directory, 'rayon', areas_rayon, afectacion_imagen])\n",
    "        data.append([img_directory, 'carro', areas_car, afectacion_imagen])\n",
    "        \n",
    "    orden_clases=['abolladura', 'rayon', 'carro']\n",
    "    df= pd.DataFrame(data, columns=columnas)\n",
    "    df['Clase'] = pd.Categorical(df['ClaseMascara'], categories=orden_clases, ordered=True)\n",
    "    grouped_columns=df.groupby(['imagen', 'afectacion x imagen', 'Clase'], group_keys=True, as_index=True, observed=False)[['area x mascara']].apply(lambda x : x) \n",
    "    grouped_columns_expanded = grouped_columns.explode('area x mascara')\n",
    "    return grouped_columns_expanded\n",
    "\n",
    "\n",
    "def calculating_car_affectation(total_car_area, total_abolladura_area, total_rayon_area): \n",
    "    total_area_affected  = abs(total_car_area - total_abolladura_area) if total_abolladura_area is not None and total_abolladura_area > 0 else abs(total_car_area - total_rayon_area) if total_rayon_area is not None and total_rayon_area > 0 else 0 # verifica si existe un valor valido de abolladura para encontrar el valor de area afectada en el carro, de lo contrario verifica lo mismo para rayon, asigna como valor de afectacion 0 en caso de no ser valido.\n",
    "    \n",
    "    if total_abolladura_area is not None and total_rayon_area is not None and total_abolladura_area > 0 and total_rayon_area > 0:\n",
    "        total_area_affected = total_abolladura_area + total_rayon_area - total_car_area # Si ambos tipos de afectacion existen en una imagen, se sumaran primero y restaran con el area del carro.\n",
    "    return total_area_affected\n",
    "\n",
    "dataframe = process_segmentation_results(results_abolladura, results_rayon, results_car)\n",
    "pd.set_option('display.max_rows', None)\n",
    "pd.set_option('display.max_columns', None)\n",
    "dataframe"
   ]
  },
  {
   "cell_type": "markdown",
   "metadata": {},
   "source": [
    "### Predicción | Visualización de clases en única imagen"
   ]
  },
  {
   "cell_type": "code",
   "execution_count": 6,
   "metadata": {},
   "outputs": [
    {
     "name": "stdout",
     "output_type": "stream",
     "text": [
      "\n",
      "image 1/25 c:\\Users\\matrix\\pruebayolo\\proyecto_yolo\\src\\assets_2\\20170531_010133.jpg: 384x640 1 car, 1543.9ms\n",
      "image 2/25 c:\\Users\\matrix\\pruebayolo\\proyecto_yolo\\src\\assets_2\\5-320w-320w.jpg: 480x640 1 car, 1192.5ms\n",
      "image 3/25 c:\\Users\\matrix\\pruebayolo\\proyecto_yolo\\src\\assets_2\\Car-Dent.png: 224x640 1 car, 470.7ms\n",
      "image 4/25 c:\\Users\\matrix\\pruebayolo\\proyecto_yolo\\src\\assets_2\\Charlotte-Toyota-service-1-1024x683.jpg: 448x640 1 car, 773.4ms\n",
      "image 5/25 c:\\Users\\matrix\\pruebayolo\\proyecto_yolo\\src\\assets_2\\GSDH75MG6FAM7FSG43RFQLN5R4.jpg: 448x640 1 car, 715.8ms\n",
      "image 6/25 c:\\Users\\matrix\\pruebayolo\\proyecto_yolo\\src\\assets_2\\OIP (1).jpg: 480x640 (no detections), 868.8ms\n",
      "image 7/25 c:\\Users\\matrix\\pruebayolo\\proyecto_yolo\\src\\assets_2\\OIP (2).jpeg: 640x640 (no detections), 1338.3ms\n",
      "image 8/25 c:\\Users\\matrix\\pruebayolo\\proyecto_yolo\\src\\assets_2\\OIP (4).jpeg: 480x640 1 car, 852.5ms\n",
      "image 9/25 c:\\Users\\matrix\\pruebayolo\\proyecto_yolo\\src\\assets_2\\OIP(3).jpeg: 448x640 1 car, 887.9ms\n",
      "image 10/25 c:\\Users\\matrix\\pruebayolo\\proyecto_yolo\\src\\assets_2\\R.jpeg: 384x640 (no detections), 632.8ms\n",
      "image 11/25 c:\\Users\\matrix\\pruebayolo\\proyecto_yolo\\src\\assets_2\\R.jpg: 384x640 1 car, 582.2ms\n",
      "image 12/25 c:\\Users\\matrix\\pruebayolo\\proyecto_yolo\\src\\assets_2\\R2.jpeg: 448x640 2 cars, 791.8ms\n",
      "image 13/25 c:\\Users\\matrix\\pruebayolo\\proyecto_yolo\\src\\assets_2\\R3.jpeg: 480x640 1 car, 778.0ms\n",
      "image 14/25 c:\\Users\\matrix\\pruebayolo\\proyecto_yolo\\src\\assets_2\\R5.jpeg: 480x640 1 car, 836.5ms\n",
      "image 15/25 c:\\Users\\matrix\\pruebayolo\\proyecto_yolo\\src\\assets_2\\R7.png: 288x640 3 cars, 474.8ms\n",
      "image 16/25 c:\\Users\\matrix\\pruebayolo\\proyecto_yolo\\src\\assets_2\\R8.png: 320x640 (no detections), 566.3ms\n",
      "image 17/25 c:\\Users\\matrix\\pruebayolo\\proyecto_yolo\\src\\assets_2\\Webp.net-resizeimage-10-1170x600.jpg: 352x640 (no detections), 560.3ms\n",
      "image 18/25 c:\\Users\\matrix\\pruebayolo\\proyecto_yolo\\src\\assets_2\\abolladura-en-un-coche-632c58a6e2ea5.jpg: 448x640 1 car, 725.3ms\n",
      "image 19/25 c:\\Users\\matrix\\pruebayolo\\proyecto_yolo\\src\\assets_2\\abolladuraautos-fd03b3bae67d7363172c41cc00198c51-1200x800.jpg: 448x640 1 car, 768.4ms\n",
      "image 20/25 c:\\Users\\matrix\\pruebayolo\\proyecto_yolo\\src\\assets_2\\big_ray.jpg: 320x640 1 car, 639.6ms\n",
      "image 21/25 c:\\Users\\matrix\\pruebayolo\\proyecto_yolo\\src\\assets_2\\coche-después-de-una-ruina-la-necesidad-ser-reparado-esperándola-es-demanda-de-seguro-29745503.jpg: 448x640 1 car, 809.0ms\n",
      "image 22/25 c:\\Users\\matrix\\pruebayolo\\proyecto_yolo\\src\\assets_2\\e1b235cf346a92a59d23c353c5ab913c.jpg: 640x640 (no detections), 1104.7ms\n",
      "image 23/25 c:\\Users\\matrix\\pruebayolo\\proyecto_yolo\\src\\assets_2\\paintless-dent-removal-3-1.jpg: 640x640 (no detections), 1049.2ms\n",
      "image 24/25 c:\\Users\\matrix\\pruebayolo\\proyecto_yolo\\src\\assets_2\\rayonesauto-e68618ca9c3d6859cebc796c300aea97-1200x0.jpg: 352x640 1 car, 698.8ms\n",
      "image 25/25 c:\\Users\\matrix\\pruebayolo\\proyecto_yolo\\src\\assets_2\\trucos-para-quitar-abolladuras-del-coche.imagen-1013x675.jpg: 448x640 (no detections), 861.9ms\n",
      "Speed: 3.1ms preprocess, 820.9ms inference, 3.6ms postprocess per image at shape (1, 3, 448, 640)\n",
      "Results saved to \u001b[1mc:\\Users\\matrix\\pruebayolo\\proyecto_yolo\\src\\runs\\detect\\predict_car3\u001b[0m\n",
      "\n",
      "image 1/25 c:\\Users\\matrix\\pruebayolo\\proyecto_yolo\\src\\runs\\detect\\predict_car3\\20170531_010133.jpg: 384x640 1 rayon, 126.2ms\n",
      "image 2/25 c:\\Users\\matrix\\pruebayolo\\proyecto_yolo\\src\\runs\\detect\\predict_car3\\5-320w-320w.jpg: 480x640 1 abolladura, 121.5ms\n",
      "image 3/25 c:\\Users\\matrix\\pruebayolo\\proyecto_yolo\\src\\runs\\detect\\predict_car3\\Car-Dent.png: 224x640 1 abolladura, 174.1ms\n",
      "image 4/25 c:\\Users\\matrix\\pruebayolo\\proyecto_yolo\\src\\runs\\detect\\predict_car3\\Charlotte-Toyota-service-1-1024x683.jpg: 448x640 2 rayons, 120.5ms\n",
      "image 5/25 c:\\Users\\matrix\\pruebayolo\\proyecto_yolo\\src\\runs\\detect\\predict_car3\\GSDH75MG6FAM7FSG43RFQLN5R4.jpg: 448x640 2 abolladuras, 110.9ms\n",
      "image 6/25 c:\\Users\\matrix\\pruebayolo\\proyecto_yolo\\src\\runs\\detect\\predict_car3\\OIP (1).jpg: 480x640 2 rayons, 124.3ms\n",
      "image 7/25 c:\\Users\\matrix\\pruebayolo\\proyecto_yolo\\src\\runs\\detect\\predict_car3\\OIP (2).jpeg: 640x640 1 abolladura, 191.5ms\n",
      "image 8/25 c:\\Users\\matrix\\pruebayolo\\proyecto_yolo\\src\\runs\\detect\\predict_car3\\OIP (4).jpeg: 480x640 (no detections), 111.5ms\n",
      "image 9/25 c:\\Users\\matrix\\pruebayolo\\proyecto_yolo\\src\\runs\\detect\\predict_car3\\OIP(3).jpeg: 448x640 (no detections), 125.1ms\n",
      "image 10/25 c:\\Users\\matrix\\pruebayolo\\proyecto_yolo\\src\\runs\\detect\\predict_car3\\R.jpeg: 384x640 1 abolladura, 180.1ms\n",
      "image 11/25 c:\\Users\\matrix\\pruebayolo\\proyecto_yolo\\src\\runs\\detect\\predict_car3\\R.jpg: 384x640 2 abolladuras, 131.1ms\n",
      "image 12/25 c:\\Users\\matrix\\pruebayolo\\proyecto_yolo\\src\\runs\\detect\\predict_car3\\R2.jpeg: 448x640 1 abolladura, 103.6ms\n",
      "image 13/25 c:\\Users\\matrix\\pruebayolo\\proyecto_yolo\\src\\runs\\detect\\predict_car3\\R3.jpeg: 480x640 1 abolladura, 181.1ms\n",
      "image 14/25 c:\\Users\\matrix\\pruebayolo\\proyecto_yolo\\src\\runs\\detect\\predict_car3\\R5.jpeg: 480x640 1 abolladura, 181.1ms\n",
      "image 15/25 c:\\Users\\matrix\\pruebayolo\\proyecto_yolo\\src\\runs\\detect\\predict_car3\\R7.png: 288x640 (no detections), 65.0ms\n",
      "image 16/25 c:\\Users\\matrix\\pruebayolo\\proyecto_yolo\\src\\runs\\detect\\predict_car3\\R8.png: 320x640 (no detections), 94.5ms\n",
      "image 17/25 c:\\Users\\matrix\\pruebayolo\\proyecto_yolo\\src\\runs\\detect\\predict_car3\\Webp.net-resizeimage-10-1170x600.jpg: 352x640 1 rayon, 78.0ms\n",
      "image 18/25 c:\\Users\\matrix\\pruebayolo\\proyecto_yolo\\src\\runs\\detect\\predict_car3\\abolladura-en-un-coche-632c58a6e2ea5.jpg: 448x640 1 rayon, 75.6ms\n",
      "image 19/25 c:\\Users\\matrix\\pruebayolo\\proyecto_yolo\\src\\runs\\detect\\predict_car3\\abolladuraautos-fd03b3bae67d7363172c41cc00198c51-1200x800.jpg: 448x640 (no detections), 93.5ms\n",
      "image 20/25 c:\\Users\\matrix\\pruebayolo\\proyecto_yolo\\src\\runs\\detect\\predict_car3\\big_ray.jpg: 320x640 (no detections), 81.5ms\n",
      "image 21/25 c:\\Users\\matrix\\pruebayolo\\proyecto_yolo\\src\\runs\\detect\\predict_car3\\coche-después-de-una-ruina-la-necesidad-ser-reparado-esperándola-es-demanda-de-seguro-29745503.jpg: 448x640 1 abolladura, 138.1ms\n",
      "image 22/25 c:\\Users\\matrix\\pruebayolo\\proyecto_yolo\\src\\runs\\detect\\predict_car3\\e1b235cf346a92a59d23c353c5ab913c.jpg: 640x640 (no detections), 135.1ms\n",
      "image 23/25 c:\\Users\\matrix\\pruebayolo\\proyecto_yolo\\src\\runs\\detect\\predict_car3\\paintless-dent-removal-3-1.jpg: 640x640 2 abolladuras, 146.6ms\n",
      "image 24/25 c:\\Users\\matrix\\pruebayolo\\proyecto_yolo\\src\\runs\\detect\\predict_car3\\rayonesauto-e68618ca9c3d6859cebc796c300aea97-1200x0.jpg: 352x640 3 rayons, 59.0ms\n",
      "image 25/25 c:\\Users\\matrix\\pruebayolo\\proyecto_yolo\\src\\runs\\detect\\predict_car3\\trucos-para-quitar-abolladuras-del-coche.imagen-1013x675.jpg: 448x640 1 abolladura, 70.0ms\n",
      "Speed: 3.3ms preprocess, 120.8ms inference, 1.0ms postprocess per image at shape (1, 3, 448, 640)\n",
      "Results saved to \u001b[1mc:\\Users\\matrix\\pruebayolo\\proyecto_yolo\\src\\runs\\detect\\predict_afectation4\u001b[0m\n",
      "Temporary directory c:\\Users\\matrix\\pruebayolo\\proyecto_yolo\\src\\runs\\detect\\predict_car3 successfully deleted!\n"
     ]
    }
   ],
   "source": [
    "SOURCE= dir_prueba # Establezca el origen de datos que el modelo de detección utilizará para realizar predicciones. Configure el valor de este hiperparámetro según la tabla proporcionada anteriormente.\n",
    "MAX_DET=3 # Toma como valor solo números enteros. Índica el límite de la cantidad máxima de objetos que el modelo intentara predecir en una imagen. Se recomienda establecer un valor alto para evitar perder detecciones relevantes.\n",
    "IMGSZ=640 # Establezca las dimensiones en píxeles de la imagen de entrada durante la predicción en tareas de detección. Puede ser un número entero, como 640 para un cuadrado perfecto, o una tupla, como (640, 480), para dimensiones específicas de ancho y alto. Se recomienda utilizar los mismos valores utilizados durante el entrenamiento del modelo para mantener la coherencia en la inferencia.\n",
    "CONF=0.5 # Establece el umbral de confianza durante el proceso de predicción en la tarea de detección. Se recomienda establecer el valor hiperparámetro entre 0.5 y 0.10. Un umbral más alto mejora la precisión pero reduce la frecuencia de predicciones, mientras que un umbral más bajo aumenta la frecuencia pero disminuye la precisión en la inferencia.\n",
    "LINE_WIDTH= None # Determina el grosor en píxeles de los cuadros delimitadores que rodean los objetos detectados por el modelo. Puede establecer el grosor de la línea como un número entero en el que, a mayor valor, la línea será más gruesa, también puede utilizar como valor None para que el grosor se ajuste de forma automatizada, proporcionando una línea proporcional al tamaño de la imagen.\n",
    "VISUALIZE=False # Determina si las características del modelo de detección deben mostrarse durante la predicción. Establecer esto en True permite que las características se muestren como mapas intermedias, lo que hace que el modelo sea más fácil de entender. Si se establece en False, no se mostrarán las características del modelo. \n",
    "IOU=0.7 # El umbral predeterminado para la supresión no máxima (NMS) en la validación YOLO es 0,7. Este umbral de IoU (intersección sobre unión) es fundamental para NMS porque determina el grado mínimo de superposición requerido para que dos cuadros delimitadores se consideren la misma detección. Un umbral de IoU más bajo hace que NMS sea más conservador, mientras que un umbral de IoU más alto permite que un NMS más relajado evite eliminar los verdaderos positivos.\n",
    "DEVICE='cpu' # Especifica el dispositivo de ejecución para la prueba de predicción en la operación de detección. Puede seleccionar entre CPU o GPU. Si no dispone de una GPU con Cuda, se recomienda utilizar la CPU mediante el parámetro device='cpu'. En caso de contar con Cuda, puede especificar una GPU con device='cuda:0'; el número representa el identificador de la GPU disponible en el sistema. También es posible utilizar múltiples GPUs mediante device='cuda:0,1,2'.\n",
    "VID_STRIDE=False # Controla la velocidad de los fotogramas durante el proceso de predicción en vídeos o secuencias de tiempo real. Al establecerlo en True el modelo se adapta a la velocidad de fotogramas especificada por la fuente de vídeo, procesando cada fotograma individualmente. Para desactivar esta función indique como valor False.\n",
    "STREAM_BUFFER=False # Controla el almacenamiento en búfer de los fotogramas para la detección. Si es True, se almacenan todos los fotogramas para el procesamiento en tiempo real de vídeos o transmisiones en directo; si es False, devuelve el fotograma más reciente.\n",
    "SAVE_FRAMES=False # Controla la captura y almacenamiento de los fotogramas predichos por el modelo de detección. Con True, se guardarán todos los fotogramas individuales predichos; con False, no se realizará el almacenamiento de los fotogramas.\n",
    "AUGMENT=True # Aplica transformaciones a las imágenes de entrada, tales como giros, rotaciones, recortes y cambios de color, para diversificar los datos y mejorar la predicción en la detección. Establecer en True para activar la función, False para desactivar.\n",
    "SAVE_CROP=False # Determina si se deben guardar imágenes recortadas con los resultados durante la predicción en la detección. Al establecerlo en \"False\", las imágenes recortadas no se guardarán, lo que reduce el tamaño del archivo. Con el valor \"True\", se guardarán las imágenes recortadas correspondientes a las áreas detectadas.\n",
    "SHOW=False # Determina si se deben mostrar las imágenes o vídeos detectados durante la predicción. Al establecerlo en \"True\", permite la visualización de las predicciones en el mismo entorno, proporcionando una representación visual de los resultados. Si se establece en \"False\", las predicciones no se mostrarán. \n",
    "SAVE_TXT= False #\n",
    "SAVE_CONF=True #\n",
    "SAVE=True #\n",
    "\n",
    "def thread_safe_predict(model, output_queue, id_class, conf_value, name_experiment, data, saved_verification, txt_verification, max_detection): #  Realiza una predicción segura utilizando un modelo YOLO.\n",
    "    try:\n",
    "        local_model = YOLO(model) # Inicializa el modelo YOLO.\n",
    "        results = local_model.predict(source= data, save=saved_verification, classes=id_class, conf=conf_value, name=name_experiment, save_txt=txt_verification, max_det=max_detection, line_width=LINE_WIDTH, visualize=VISUALIZE, imgsz=IMGSZ, iou=IOU, device=DEVICE, vid_stride=VID_STRIDE, stream_buffer=STREAM_BUFFER, save_crop=SAVE_CROP, show=SHOW, save_frames=SAVE_FRAMES, save_conf=SAVE_CONF, retina_masks=True, agnostic_nms=True) # Se establecen los hiperpametros a utilizar en el proceso de predicción.\n",
    "        output_queue.put((results)) # Pone los resultados en la cola.\n",
    "        \n",
    "    except Exception as e: # Atrapa cualquier mensaje de error. \n",
    "        print(f\"Error in thread_safe_predict: {e}\")\n",
    "\n",
    "def delete_temp(temp_car): # Permite eliminar un directorio temporal.\n",
    "    try: \n",
    "        shutil.rmtree(temp_car)  # Elimina un directorio temporal según la ruta especificada.\n",
    "        print(f'Temporary directory {temp_car} successfully deleted!')\n",
    "    except Exception as e: # Captura cualquier excepción e imprime un mensaje de error.\n",
    "        print(f'Error deleting the directory: {e}')\n",
    "\n",
    "output_queue = Queue()\n",
    "try: \n",
    "    Thread(target=thread_safe_predict, args=(model_orig, output_queue, 2, 0.5, \"predict_car\", SOURCE, True, False, MAX_DET)).start() # Inicio de un nuevo hilo para la predicción del coche.\n",
    "    results_car= output_queue.get() # Obtiene los resultados de la cola.\n",
    "    dir_temp_car= f'{results_car[0].save_dir}' # Obtiene la ruta donde fueron guardados los resultados de la predicción vehículo.\n",
    "\n",
    "    try:\n",
    "        Thread(target=thread_safe_predict, args=(model_detection, output_queue, [0, 1], 0.4, \"predict_afectation_det_srcv5\", dir_temp_car, SAVE, SAVE_TXT, MAX_DET)).start()  # Inicia un nuevo hilo para la predicción de afectación, la cual se basara en los resultados de vehiculo.\n",
    "        results_afectation= output_queue.get() # Obtiene los resultados de la cola.\n",
    "        delete_temp(dir_temp_car) # Eliminar el directorio temporal para los resultados de los coches.\n",
    "    except Exception as e: # Captura de excepciones para la predicción de afectación.\n",
    "        print(f\"No vehicle images found: {e} \")\n",
    "        \n",
    "except Exception as e:\n",
    "    print(f\"Error in prediction by: {e} \") \n",
    "        "
   ]
  },
  {
   "cell_type": "code",
   "execution_count": 41,
   "metadata": {},
   "outputs": [
    {
     "data": {
      "text/html": [
       "<style type=\"text/css\">\n",
       "#T_04462_row0_col0, #T_04462_row0_col1, #T_04462_row0_col2, #T_04462_row0_col3, #T_04462_row0_col4, #T_04462_row1_col0, #T_04462_row1_col1, #T_04462_row1_col2, #T_04462_row1_col3, #T_04462_row1_col4, #T_04462_row2_col0, #T_04462_row2_col1, #T_04462_row2_col2, #T_04462_row2_col3, #T_04462_row2_col4, #T_04462_row3_col0, #T_04462_row3_col1, #T_04462_row3_col2, #T_04462_row3_col3, #T_04462_row3_col4, #T_04462_row4_col0, #T_04462_row4_col1, #T_04462_row4_col2, #T_04462_row4_col3, #T_04462_row4_col4, #T_04462_row5_col0, #T_04462_row5_col1, #T_04462_row5_col2, #T_04462_row5_col3, #T_04462_row5_col4, #T_04462_row6_col0, #T_04462_row6_col1, #T_04462_row6_col2, #T_04462_row6_col3, #T_04462_row6_col4, #T_04462_row7_col0, #T_04462_row7_col1, #T_04462_row7_col2, #T_04462_row7_col3, #T_04462_row7_col4, #T_04462_row8_col0, #T_04462_row8_col1, #T_04462_row8_col2, #T_04462_row8_col3, #T_04462_row8_col4, #T_04462_row9_col0, #T_04462_row9_col1, #T_04462_row9_col2, #T_04462_row9_col3, #T_04462_row9_col4, #T_04462_row10_col0, #T_04462_row10_col1, #T_04462_row10_col2, #T_04462_row10_col3, #T_04462_row10_col4, #T_04462_row11_col0, #T_04462_row11_col1, #T_04462_row11_col2, #T_04462_row11_col3, #T_04462_row11_col4, #T_04462_row12_col0, #T_04462_row12_col1, #T_04462_row12_col2, #T_04462_row12_col3, #T_04462_row12_col4, #T_04462_row13_col0, #T_04462_row13_col1, #T_04462_row13_col2, #T_04462_row13_col3, #T_04462_row13_col4, #T_04462_row14_col0, #T_04462_row14_col1, #T_04462_row14_col2, #T_04462_row14_col3, #T_04462_row14_col4, #T_04462_row15_col0, #T_04462_row15_col1, #T_04462_row15_col2, #T_04462_row15_col3, #T_04462_row15_col4, #T_04462_row16_col0, #T_04462_row16_col1, #T_04462_row16_col2, #T_04462_row16_col3, #T_04462_row16_col4, #T_04462_row17_col0, #T_04462_row17_col1, #T_04462_row17_col2, #T_04462_row17_col3, #T_04462_row17_col4, #T_04462_row18_col0, #T_04462_row18_col1, #T_04462_row18_col2, #T_04462_row18_col3, #T_04462_row18_col4, #T_04462_row19_col0, #T_04462_row19_col1, #T_04462_row19_col2, #T_04462_row19_col3, #T_04462_row19_col4, #T_04462_row20_col0, #T_04462_row20_col1, #T_04462_row20_col2, #T_04462_row20_col3, #T_04462_row20_col4, #T_04462_row21_col0, #T_04462_row21_col1, #T_04462_row21_col2, #T_04462_row21_col3, #T_04462_row21_col4, #T_04462_row22_col0, #T_04462_row22_col1, #T_04462_row22_col2, #T_04462_row22_col3, #T_04462_row22_col4, #T_04462_row23_col0, #T_04462_row23_col1, #T_04462_row23_col2, #T_04462_row23_col3, #T_04462_row23_col4, #T_04462_row24_col0, #T_04462_row24_col1, #T_04462_row24_col2, #T_04462_row24_col3, #T_04462_row24_col4 {\n",
       "  text-align: right;\n",
       "}\n",
       "</style>\n",
       "<table id=\"T_04462\">\n",
       "  <thead>\n",
       "    <tr>\n",
       "      <th class=\"blank level0\" >&nbsp;</th>\n",
       "      <th id=\"T_04462_level0_col0\" class=\"col_heading level0 col0\" >imagen</th>\n",
       "      <th id=\"T_04462_level0_col1\" class=\"col_heading level0 col1\" >area abolladura</th>\n",
       "      <th id=\"T_04462_level0_col2\" class=\"col_heading level0 col2\" >area rayon</th>\n",
       "      <th id=\"T_04462_level0_col3\" class=\"col_heading level0 col3\" >area carro</th>\n",
       "      <th id=\"T_04462_level0_col4\" class=\"col_heading level0 col4\" >afectacion</th>\n",
       "    </tr>\n",
       "  </thead>\n",
       "  <tbody>\n",
       "    <tr>\n",
       "      <th id=\"T_04462_level0_row0\" class=\"row_heading level0 row0\" >0</th>\n",
       "      <td id=\"T_04462_row0_col0\" class=\"data row0 col0\" >20170531_010133.jpg</td>\n",
       "      <td id=\"T_04462_row0_col1\" class=\"data row0 col1\" >0</td>\n",
       "      <td id=\"T_04462_row0_col2\" class=\"data row0 col2\" >48466</td>\n",
       "      <td id=\"T_04462_row0_col3\" class=\"data row0 col3\" >1230189</td>\n",
       "      <td id=\"T_04462_row0_col4\" class=\"data row0 col4\" >1181723px^2</td>\n",
       "    </tr>\n",
       "    <tr>\n",
       "      <th id=\"T_04462_level0_row1\" class=\"row_heading level0 row1\" >1</th>\n",
       "      <td id=\"T_04462_row1_col0\" class=\"data row1 col0\" >5-320w-320w.jpg</td>\n",
       "      <td id=\"T_04462_row1_col1\" class=\"data row1 col1\" >25785</td>\n",
       "      <td id=\"T_04462_row1_col2\" class=\"data row1 col2\" >0</td>\n",
       "      <td id=\"T_04462_row1_col3\" class=\"data row1 col3\" >66753</td>\n",
       "      <td id=\"T_04462_row1_col4\" class=\"data row1 col4\" >40968px^2</td>\n",
       "    </tr>\n",
       "    <tr>\n",
       "      <th id=\"T_04462_level0_row2\" class=\"row_heading level0 row2\" >2</th>\n",
       "      <td id=\"T_04462_row2_col0\" class=\"data row2 col0\" >Car-Dent.png</td>\n",
       "      <td id=\"T_04462_row2_col1\" class=\"data row2 col1\" >96449</td>\n",
       "      <td id=\"T_04462_row2_col2\" class=\"data row2 col2\" >0</td>\n",
       "      <td id=\"T_04462_row2_col3\" class=\"data row2 col3\" >150979</td>\n",
       "      <td id=\"T_04462_row2_col4\" class=\"data row2 col4\" >54530px^2</td>\n",
       "    </tr>\n",
       "    <tr>\n",
       "      <th id=\"T_04462_level0_row3\" class=\"row_heading level0 row3\" >3</th>\n",
       "      <td id=\"T_04462_row3_col0\" class=\"data row3 col0\" >Charlotte-Toyota-service-1-1024x683.jpg</td>\n",
       "      <td id=\"T_04462_row3_col1\" class=\"data row3 col1\" >0</td>\n",
       "      <td id=\"T_04462_row3_col2\" class=\"data row3 col2\" >6711</td>\n",
       "      <td id=\"T_04462_row3_col3\" class=\"data row3 col3\" >597363</td>\n",
       "      <td id=\"T_04462_row3_col4\" class=\"data row3 col4\" >590652px^2</td>\n",
       "    </tr>\n",
       "    <tr>\n",
       "      <th id=\"T_04462_level0_row4\" class=\"row_heading level0 row4\" >4</th>\n",
       "      <td id=\"T_04462_row4_col0\" class=\"data row4 col0\" >GSDH75MG6FAM7FSG43RFQLN5R4.jpg</td>\n",
       "      <td id=\"T_04462_row4_col1\" class=\"data row4 col1\" >129872</td>\n",
       "      <td id=\"T_04462_row4_col2\" class=\"data row4 col2\" >0</td>\n",
       "      <td id=\"T_04462_row4_col3\" class=\"data row4 col3\" >642499</td>\n",
       "      <td id=\"T_04462_row4_col4\" class=\"data row4 col4\" >512627px^2</td>\n",
       "    </tr>\n",
       "    <tr>\n",
       "      <th id=\"T_04462_level0_row5\" class=\"row_heading level0 row5\" >5</th>\n",
       "      <td id=\"T_04462_row5_col0\" class=\"data row5 col0\" >OIP (1).jpg</td>\n",
       "      <td id=\"T_04462_row5_col1\" class=\"data row5 col1\" >0</td>\n",
       "      <td id=\"T_04462_row5_col2\" class=\"data row5 col2\" >9096</td>\n",
       "      <td id=\"T_04462_row5_col3\" class=\"data row5 col3\" >0</td>\n",
       "      <td id=\"T_04462_row5_col4\" class=\"data row5 col4\" >9096px^2</td>\n",
       "    </tr>\n",
       "    <tr>\n",
       "      <th id=\"T_04462_level0_row6\" class=\"row_heading level0 row6\" >6</th>\n",
       "      <td id=\"T_04462_row6_col0\" class=\"data row6 col0\" >OIP (2).jpeg</td>\n",
       "      <td id=\"T_04462_row6_col1\" class=\"data row6 col1\" >43972</td>\n",
       "      <td id=\"T_04462_row6_col2\" class=\"data row6 col2\" >0</td>\n",
       "      <td id=\"T_04462_row6_col3\" class=\"data row6 col3\" >0</td>\n",
       "      <td id=\"T_04462_row6_col4\" class=\"data row6 col4\" >43972px^2</td>\n",
       "    </tr>\n",
       "    <tr>\n",
       "      <th id=\"T_04462_level0_row7\" class=\"row_heading level0 row7\" >7</th>\n",
       "      <td id=\"T_04462_row7_col0\" class=\"data row7 col0\" >OIP (4).jpeg</td>\n",
       "      <td id=\"T_04462_row7_col1\" class=\"data row7 col1\" >0</td>\n",
       "      <td id=\"T_04462_row7_col2\" class=\"data row7 col2\" >0</td>\n",
       "      <td id=\"T_04462_row7_col3\" class=\"data row7 col3\" >0</td>\n",
       "      <td id=\"T_04462_row7_col4\" class=\"data row7 col4\" >0px^2</td>\n",
       "    </tr>\n",
       "    <tr>\n",
       "      <th id=\"T_04462_level0_row8\" class=\"row_heading level0 row8\" >8</th>\n",
       "      <td id=\"T_04462_row8_col0\" class=\"data row8 col0\" >OIP(3).jpeg</td>\n",
       "      <td id=\"T_04462_row8_col1\" class=\"data row8 col1\" >0</td>\n",
       "      <td id=\"T_04462_row8_col2\" class=\"data row8 col2\" >0</td>\n",
       "      <td id=\"T_04462_row8_col3\" class=\"data row8 col3\" >0</td>\n",
       "      <td id=\"T_04462_row8_col4\" class=\"data row8 col4\" >0px^2</td>\n",
       "    </tr>\n",
       "    <tr>\n",
       "      <th id=\"T_04462_level0_row9\" class=\"row_heading level0 row9\" >9</th>\n",
       "      <td id=\"T_04462_row9_col0\" class=\"data row9 col0\" >R.jpeg</td>\n",
       "      <td id=\"T_04462_row9_col1\" class=\"data row9 col1\" >278048</td>\n",
       "      <td id=\"T_04462_row9_col2\" class=\"data row9 col2\" >0</td>\n",
       "      <td id=\"T_04462_row9_col3\" class=\"data row9 col3\" >0</td>\n",
       "      <td id=\"T_04462_row9_col4\" class=\"data row9 col4\" >278048px^2</td>\n",
       "    </tr>\n",
       "    <tr>\n",
       "      <th id=\"T_04462_level0_row10\" class=\"row_heading level0 row10\" >10</th>\n",
       "      <td id=\"T_04462_row10_col0\" class=\"data row10 col0\" >R.jpg</td>\n",
       "      <td id=\"T_04462_row10_col1\" class=\"data row10 col1\" >311248</td>\n",
       "      <td id=\"T_04462_row10_col2\" class=\"data row10 col2\" >0</td>\n",
       "      <td id=\"T_04462_row10_col3\" class=\"data row10 col3\" >384754</td>\n",
       "      <td id=\"T_04462_row10_col4\" class=\"data row10 col4\" >73506px^2</td>\n",
       "    </tr>\n",
       "    <tr>\n",
       "      <th id=\"T_04462_level0_row11\" class=\"row_heading level0 row11\" >11</th>\n",
       "      <td id=\"T_04462_row11_col0\" class=\"data row11 col0\" >R2.jpeg</td>\n",
       "      <td id=\"T_04462_row11_col1\" class=\"data row11 col1\" >17211</td>\n",
       "      <td id=\"T_04462_row11_col2\" class=\"data row11 col2\" >0</td>\n",
       "      <td id=\"T_04462_row11_col3\" class=\"data row11 col3\" >103991</td>\n",
       "      <td id=\"T_04462_row11_col4\" class=\"data row11 col4\" >86780px^2</td>\n",
       "    </tr>\n",
       "    <tr>\n",
       "      <th id=\"T_04462_level0_row12\" class=\"row_heading level0 row12\" >12</th>\n",
       "      <td id=\"T_04462_row12_col0\" class=\"data row12 col0\" >R3.jpeg</td>\n",
       "      <td id=\"T_04462_row12_col1\" class=\"data row12 col1\" >69653</td>\n",
       "      <td id=\"T_04462_row12_col2\" class=\"data row12 col2\" >0</td>\n",
       "      <td id=\"T_04462_row12_col3\" class=\"data row12 col3\" >243622</td>\n",
       "      <td id=\"T_04462_row12_col4\" class=\"data row12 col4\" >173969px^2</td>\n",
       "    </tr>\n",
       "    <tr>\n",
       "      <th id=\"T_04462_level0_row13\" class=\"row_heading level0 row13\" >13</th>\n",
       "      <td id=\"T_04462_row13_col0\" class=\"data row13 col0\" >R5.jpeg</td>\n",
       "      <td id=\"T_04462_row13_col1\" class=\"data row13 col1\" >62997</td>\n",
       "      <td id=\"T_04462_row13_col2\" class=\"data row13 col2\" >0</td>\n",
       "      <td id=\"T_04462_row13_col3\" class=\"data row13 col3\" >292612</td>\n",
       "      <td id=\"T_04462_row13_col4\" class=\"data row13 col4\" >229615px^2</td>\n",
       "    </tr>\n",
       "    <tr>\n",
       "      <th id=\"T_04462_level0_row14\" class=\"row_heading level0 row14\" >14</th>\n",
       "      <td id=\"T_04462_row14_col0\" class=\"data row14 col0\" >R7.png</td>\n",
       "      <td id=\"T_04462_row14_col1\" class=\"data row14 col1\" >0</td>\n",
       "      <td id=\"T_04462_row14_col2\" class=\"data row14 col2\" >0</td>\n",
       "      <td id=\"T_04462_row14_col3\" class=\"data row14 col3\" >0</td>\n",
       "      <td id=\"T_04462_row14_col4\" class=\"data row14 col4\" >0px^2</td>\n",
       "    </tr>\n",
       "    <tr>\n",
       "      <th id=\"T_04462_level0_row15\" class=\"row_heading level0 row15\" >15</th>\n",
       "      <td id=\"T_04462_row15_col0\" class=\"data row15 col0\" >R8.png</td>\n",
       "      <td id=\"T_04462_row15_col1\" class=\"data row15 col1\" >0</td>\n",
       "      <td id=\"T_04462_row15_col2\" class=\"data row15 col2\" >0</td>\n",
       "      <td id=\"T_04462_row15_col3\" class=\"data row15 col3\" >0</td>\n",
       "      <td id=\"T_04462_row15_col4\" class=\"data row15 col4\" >0px^2</td>\n",
       "    </tr>\n",
       "    <tr>\n",
       "      <th id=\"T_04462_level0_row16\" class=\"row_heading level0 row16\" >16</th>\n",
       "      <td id=\"T_04462_row16_col0\" class=\"data row16 col0\" >Webp.net-resizeimage-10-1170x600.jpg</td>\n",
       "      <td id=\"T_04462_row16_col1\" class=\"data row16 col1\" >0</td>\n",
       "      <td id=\"T_04462_row16_col2\" class=\"data row16 col2\" >12657</td>\n",
       "      <td id=\"T_04462_row16_col3\" class=\"data row16 col3\" >0</td>\n",
       "      <td id=\"T_04462_row16_col4\" class=\"data row16 col4\" >12657px^2</td>\n",
       "    </tr>\n",
       "    <tr>\n",
       "      <th id=\"T_04462_level0_row17\" class=\"row_heading level0 row17\" >17</th>\n",
       "      <td id=\"T_04462_row17_col0\" class=\"data row17 col0\" >abolladura-en-un-coche-632c58a6e2ea5.jpg</td>\n",
       "      <td id=\"T_04462_row17_col1\" class=\"data row17 col1\" >0</td>\n",
       "      <td id=\"T_04462_row17_col2\" class=\"data row17 col2\" >27004</td>\n",
       "      <td id=\"T_04462_row17_col3\" class=\"data row17 col3\" >932690</td>\n",
       "      <td id=\"T_04462_row17_col4\" class=\"data row17 col4\" >905686px^2</td>\n",
       "    </tr>\n",
       "    <tr>\n",
       "      <th id=\"T_04462_level0_row18\" class=\"row_heading level0 row18\" >18</th>\n",
       "      <td id=\"T_04462_row18_col0\" class=\"data row18 col0\" >abolladuraautos-fd03b3bae67d7363172c41cc00198c51-1200x800.jpg</td>\n",
       "      <td id=\"T_04462_row18_col1\" class=\"data row18 col1\" >0</td>\n",
       "      <td id=\"T_04462_row18_col2\" class=\"data row18 col2\" >0</td>\n",
       "      <td id=\"T_04462_row18_col3\" class=\"data row18 col3\" >0</td>\n",
       "      <td id=\"T_04462_row18_col4\" class=\"data row18 col4\" >0px^2</td>\n",
       "    </tr>\n",
       "    <tr>\n",
       "      <th id=\"T_04462_level0_row19\" class=\"row_heading level0 row19\" >19</th>\n",
       "      <td id=\"T_04462_row19_col0\" class=\"data row19 col0\" >big_ray.jpg</td>\n",
       "      <td id=\"T_04462_row19_col1\" class=\"data row19 col1\" >0</td>\n",
       "      <td id=\"T_04462_row19_col2\" class=\"data row19 col2\" >0</td>\n",
       "      <td id=\"T_04462_row19_col3\" class=\"data row19 col3\" >0</td>\n",
       "      <td id=\"T_04462_row19_col4\" class=\"data row19 col4\" >0px^2</td>\n",
       "    </tr>\n",
       "    <tr>\n",
       "      <th id=\"T_04462_level0_row20\" class=\"row_heading level0 row20\" >20</th>\n",
       "      <td id=\"T_04462_row20_col0\" class=\"data row20 col0\" >coche-después-de-una-ruina-la-necesidad-ser-reparado-esperándola-es-demanda-de-seguro-29745503.jpg</td>\n",
       "      <td id=\"T_04462_row20_col1\" class=\"data row20 col1\" >150405</td>\n",
       "      <td id=\"T_04462_row20_col2\" class=\"data row20 col2\" >0</td>\n",
       "      <td id=\"T_04462_row20_col3\" class=\"data row20 col3\" >415077</td>\n",
       "      <td id=\"T_04462_row20_col4\" class=\"data row20 col4\" >264672px^2</td>\n",
       "    </tr>\n",
       "    <tr>\n",
       "      <th id=\"T_04462_level0_row21\" class=\"row_heading level0 row21\" >21</th>\n",
       "      <td id=\"T_04462_row21_col0\" class=\"data row21 col0\" >e1b235cf346a92a59d23c353c5ab913c.jpg</td>\n",
       "      <td id=\"T_04462_row21_col1\" class=\"data row21 col1\" >0</td>\n",
       "      <td id=\"T_04462_row21_col2\" class=\"data row21 col2\" >0</td>\n",
       "      <td id=\"T_04462_row21_col3\" class=\"data row21 col3\" >0</td>\n",
       "      <td id=\"T_04462_row21_col4\" class=\"data row21 col4\" >0px^2</td>\n",
       "    </tr>\n",
       "    <tr>\n",
       "      <th id=\"T_04462_level0_row22\" class=\"row_heading level0 row22\" >22</th>\n",
       "      <td id=\"T_04462_row22_col0\" class=\"data row22 col0\" >paintless-dent-removal-3-1.jpg</td>\n",
       "      <td id=\"T_04462_row22_col1\" class=\"data row22 col1\" >155703</td>\n",
       "      <td id=\"T_04462_row22_col2\" class=\"data row22 col2\" >0</td>\n",
       "      <td id=\"T_04462_row22_col3\" class=\"data row22 col3\" >0</td>\n",
       "      <td id=\"T_04462_row22_col4\" class=\"data row22 col4\" >155703px^2</td>\n",
       "    </tr>\n",
       "    <tr>\n",
       "      <th id=\"T_04462_level0_row23\" class=\"row_heading level0 row23\" >23</th>\n",
       "      <td id=\"T_04462_row23_col0\" class=\"data row23 col0\" >rayonesauto-e68618ca9c3d6859cebc796c300aea97-1200x0.jpg</td>\n",
       "      <td id=\"T_04462_row23_col1\" class=\"data row23 col1\" >0</td>\n",
       "      <td id=\"T_04462_row23_col2\" class=\"data row23 col2\" >14553</td>\n",
       "      <td id=\"T_04462_row23_col3\" class=\"data row23 col3\" >376916</td>\n",
       "      <td id=\"T_04462_row23_col4\" class=\"data row23 col4\" >362363px^2</td>\n",
       "    </tr>\n",
       "    <tr>\n",
       "      <th id=\"T_04462_level0_row24\" class=\"row_heading level0 row24\" >24</th>\n",
       "      <td id=\"T_04462_row24_col0\" class=\"data row24 col0\" >trucos-para-quitar-abolladuras-del-coche.imagen-1013x675.jpg</td>\n",
       "      <td id=\"T_04462_row24_col1\" class=\"data row24 col1\" >90773</td>\n",
       "      <td id=\"T_04462_row24_col2\" class=\"data row24 col2\" >0</td>\n",
       "      <td id=\"T_04462_row24_col3\" class=\"data row24 col3\" >0</td>\n",
       "      <td id=\"T_04462_row24_col4\" class=\"data row24 col4\" >90773px^2</td>\n",
       "    </tr>\n",
       "  </tbody>\n",
       "</table>\n"
      ],
      "text/plain": [
       "<pandas.io.formats.style.Styler at 0x2236cf02500>"
      ]
     },
     "execution_count": 41,
     "metadata": {},
     "output_type": "execute_result"
    }
   ],
   "source": [
    "def calculate_area(vertices):\n",
    "    total_boxes_area = 0 # Inicializa una variable acumuladora para almacenar el área de cada caja delimitadora.\n",
    "    for point in vertices: # Itera sobre cada conjunto de coordenadas en 'vertices' que tiene un formato: x [0](coordenada x), y[1](coordenada y), w[2](ancho), h[3](alto) de las cajas delimitadoras. \n",
    "        box_area = torch.round(point[2] * point[3]).int() # Calcula el área de la caja (ancho * alto) y lo redondea a un entero, obtiene como resultado un formato: tensor(1230189, dtype=torch.int32).\n",
    "        total_boxes_area += box_area.sum().item() # Convierte el tensor 'box_area' a un valor entero y lo añade a la lista 'individual_boxes_area'.\n",
    "    return total_boxes_area # Retorna la lista de áreas individuales de las cajas delimitadoras según la clase.\n",
    "\n",
    "def search_for_mask(results, image_instance):\n",
    "    for attribute in results: # Se itera sobre los resultados de la segmentación.\n",
    "        if os.path.basename(attribute.path) == image_instance:\n",
    "            # En los resultados de las máscaras cuando se manejan múltiples clases de objetos (hiperparámetro de predicción classes= []) en una imagen, es difícil referenciar las coordenadas que pertenecen a cada clase de objeto detectado, por lo tanto, es necesario separar dichos resultados de coordenadas. \n",
    "            if (attribute.boxes.cls != 2.).all():\n",
    "                dent_coordinates = [] # Inicializa una lista temporal para las coordenadas de abolladura.\n",
    "                scratch_coordinates = [] # Inicializa una lista temporal para las coordenadas de rayón.\n",
    "                tensor = attribute.boxes.cls # Almacena los valores del tensor, que hacen referencia al cuadro delimitador.\n",
    "                for position, value in enumerate(tensor): # Itera sobre los valores del tensor y las posiciones correspondientes.\n",
    "                    if value == 0.: # Si el valor del tensor es 0, corresponde a una detección de abolladura.\n",
    "                        dent_coordinates.append(attribute.boxes.xywh[position]) # Añade las coordenadas de la máscara a la lista de abolladuras.\n",
    "                    elif value == 1.:  # Asegura que solo maneje dos clases de afectación.\n",
    "                        scratch_coordinates.append(attribute.boxes.xywh[position]) # Añade las coordenadas de la máscara a la lista de rayon.\n",
    "                dent_area, scratch_area = calculate_area(dent_coordinates), calculate_area(scratch_coordinates) # Calcula el área para cada clase de afectación.\n",
    "                return dent_area, scratch_area \n",
    "            else: # Si los resultados que se estan recorriendo pertenecen a vehiculo, se retornara el area vehicular.\n",
    "                return calculate_area(attribute.boxes.xywh) if attribute.boxes is not None else 0\n",
    "    return 0 # Si no hay resultados para la imagen actual, retorna 0.\n",
    "\n",
    "def process_main_detection(class_afectation, car_results): # Función main que controla todo el proceso.\n",
    "    columnas = ['imagen','area abolladura', 'area rayon', 'area carro','afectacion'] # Se definen las columnas del DataFrame.\n",
    "    data= [] # Se inicializa una lista vacía para almacenar los resultados de cada imagen.\n",
    "    \n",
    "    for result in car_results: # Se recorren principalmente los resultados de carro, ya que es el primer filtro por el que pasa el modelo de detección.\n",
    "        img_directory= os.path.basename(result.path) # Extrae el nombre base de la imagen de control.\n",
    "\n",
    "        dent_area, scratch_area = search_for_mask(class_afectation, img_directory) # Extrae las áreas de abolladuras y rayones en la imagen especificada.\n",
    "        \n",
    "        if dent_area > 0 or scratch_area > 0: # En caso de existir algún área de las clases de afectación, se puede calcular el área del vehículo y el daño total.\n",
    "            car_area = search_for_mask(result, img_directory) \n",
    "            damage= damage_image(car_area, dent_area, scratch_area) # Optiene el daño de afectación del vehículo.\n",
    "        else: # En caso de no encontrarse áreas de afectación, se agregarán resultados predeterminados.\n",
    "            car_area= 0\n",
    "            damage= 0\n",
    "\n",
    "        data.append([img_directory, dent_area, scratch_area, car_area, f'{damage}px^2'])\n",
    "        \n",
    "    df=pd.DataFrame(data, columns=columnas) # Se crea un DataFrame a partir de los datos.\n",
    "    return df  \n",
    "\n",
    "def damage_image(car_area, dent_area, scratch_area):\n",
    "    if dent_area > 0 and scratch_area > 0: # Comprueba si ambas áreas de la clase de afectación son mayores que 0.\n",
    "        total_affected_area = abs((dent_area + scratch_area) - car_area) # Calcula el área total afectada restando el área del coche a la suma de las áreas de abolladuras y rayón.\n",
    "    else:\n",
    "        total_affected_area = abs(dent_area - car_area) if dent_area > 0 else abs(scratch_area - car_area) if scratch_area > 0 else 0 # Si sólo una de las áreas de afectación es mayor que 0, usa esa área para restarla al área del vehiculo.\n",
    "    return total_affected_area # Devuelve un float que representa el área total afectada del coche.\n",
    "\n",
    "df= process_main_detection(results_afectation, results_car)\n",
    "\n",
    "styled_df = df.style.set_properties(**{'text-align': 'right'})\n",
    "styled_df\n"
   ]
  },
  {
   "cell_type": "code",
   "execution_count": 42,
   "metadata": {},
   "outputs": [
    {
     "data": {
      "text/html": [
       "<div>\n",
       "<style scoped>\n",
       "    .dataframe tbody tr th:only-of-type {\n",
       "        vertical-align: middle;\n",
       "    }\n",
       "\n",
       "    .dataframe tbody tr th {\n",
       "        vertical-align: top;\n",
       "    }\n",
       "\n",
       "    .dataframe thead th {\n",
       "        text-align: right;\n",
       "    }\n",
       "</style>\n",
       "<table border=\"1\" class=\"dataframe\">\n",
       "  <thead>\n",
       "    <tr style=\"text-align: right;\">\n",
       "      <th></th>\n",
       "      <th></th>\n",
       "      <th></th>\n",
       "      <th></th>\n",
       "      <th>area x mascara</th>\n",
       "    </tr>\n",
       "    <tr>\n",
       "      <th>imagen</th>\n",
       "      <th>afectacion x imagen</th>\n",
       "      <th>Clase</th>\n",
       "      <th></th>\n",
       "      <th></th>\n",
       "    </tr>\n",
       "  </thead>\n",
       "  <tbody>\n",
       "    <tr>\n",
       "      <th rowspan=\"3\" valign=\"top\">20170531_010133.jpg</th>\n",
       "      <th rowspan=\"3\" valign=\"top\">1181723</th>\n",
       "      <th>abolladura</th>\n",
       "      <th>0</th>\n",
       "      <td>0</td>\n",
       "    </tr>\n",
       "    <tr>\n",
       "      <th>rayon</th>\n",
       "      <th>1</th>\n",
       "      <td>48466</td>\n",
       "    </tr>\n",
       "    <tr>\n",
       "      <th>carro</th>\n",
       "      <th>2</th>\n",
       "      <td>1230189</td>\n",
       "    </tr>\n",
       "    <tr>\n",
       "      <th rowspan=\"3\" valign=\"top\">5-320w-320w.jpg</th>\n",
       "      <th rowspan=\"3\" valign=\"top\">40968</th>\n",
       "      <th>abolladura</th>\n",
       "      <th>3</th>\n",
       "      <td>25785</td>\n",
       "    </tr>\n",
       "    <tr>\n",
       "      <th>rayon</th>\n",
       "      <th>4</th>\n",
       "      <td>0</td>\n",
       "    </tr>\n",
       "    <tr>\n",
       "      <th>carro</th>\n",
       "      <th>5</th>\n",
       "      <td>66753</td>\n",
       "    </tr>\n",
       "    <tr>\n",
       "      <th rowspan=\"3\" valign=\"top\">Car-Dent.png</th>\n",
       "      <th rowspan=\"3\" valign=\"top\">54530</th>\n",
       "      <th>abolladura</th>\n",
       "      <th>6</th>\n",
       "      <td>96449</td>\n",
       "    </tr>\n",
       "    <tr>\n",
       "      <th>rayon</th>\n",
       "      <th>7</th>\n",
       "      <td>0</td>\n",
       "    </tr>\n",
       "    <tr>\n",
       "      <th>carro</th>\n",
       "      <th>8</th>\n",
       "      <td>150979</td>\n",
       "    </tr>\n",
       "    <tr>\n",
       "      <th rowspan=\"4\" valign=\"top\">Charlotte-Toyota-service-1-1024x683.jpg</th>\n",
       "      <th rowspan=\"4\" valign=\"top\">590652</th>\n",
       "      <th>abolladura</th>\n",
       "      <th>9</th>\n",
       "      <td>0</td>\n",
       "    </tr>\n",
       "    <tr>\n",
       "      <th rowspan=\"2\" valign=\"top\">rayon</th>\n",
       "      <th>10</th>\n",
       "      <td>2159</td>\n",
       "    </tr>\n",
       "    <tr>\n",
       "      <th>10</th>\n",
       "      <td>4552</td>\n",
       "    </tr>\n",
       "    <tr>\n",
       "      <th>carro</th>\n",
       "      <th>11</th>\n",
       "      <td>597363</td>\n",
       "    </tr>\n",
       "    <tr>\n",
       "      <th rowspan=\"4\" valign=\"top\">GSDH75MG6FAM7FSG43RFQLN5R4.jpg</th>\n",
       "      <th rowspan=\"4\" valign=\"top\">512627</th>\n",
       "      <th rowspan=\"2\" valign=\"top\">abolladura</th>\n",
       "      <th>12</th>\n",
       "      <td>62473</td>\n",
       "    </tr>\n",
       "    <tr>\n",
       "      <th>12</th>\n",
       "      <td>67399</td>\n",
       "    </tr>\n",
       "    <tr>\n",
       "      <th>rayon</th>\n",
       "      <th>13</th>\n",
       "      <td>0</td>\n",
       "    </tr>\n",
       "    <tr>\n",
       "      <th>carro</th>\n",
       "      <th>14</th>\n",
       "      <td>642499</td>\n",
       "    </tr>\n",
       "    <tr>\n",
       "      <th rowspan=\"4\" valign=\"top\">OIP (1).jpg</th>\n",
       "      <th rowspan=\"4\" valign=\"top\">9096</th>\n",
       "      <th>abolladura</th>\n",
       "      <th>15</th>\n",
       "      <td>0</td>\n",
       "    </tr>\n",
       "    <tr>\n",
       "      <th rowspan=\"2\" valign=\"top\">rayon</th>\n",
       "      <th>16</th>\n",
       "      <td>4406</td>\n",
       "    </tr>\n",
       "    <tr>\n",
       "      <th>16</th>\n",
       "      <td>4690</td>\n",
       "    </tr>\n",
       "    <tr>\n",
       "      <th>carro</th>\n",
       "      <th>17</th>\n",
       "      <td>0</td>\n",
       "    </tr>\n",
       "    <tr>\n",
       "      <th rowspan=\"3\" valign=\"top\">OIP (2).jpeg</th>\n",
       "      <th rowspan=\"3\" valign=\"top\">43972</th>\n",
       "      <th>abolladura</th>\n",
       "      <th>18</th>\n",
       "      <td>43972</td>\n",
       "    </tr>\n",
       "    <tr>\n",
       "      <th>rayon</th>\n",
       "      <th>19</th>\n",
       "      <td>0</td>\n",
       "    </tr>\n",
       "    <tr>\n",
       "      <th>carro</th>\n",
       "      <th>20</th>\n",
       "      <td>0</td>\n",
       "    </tr>\n",
       "    <tr>\n",
       "      <th rowspan=\"3\" valign=\"top\">OIP (4).jpeg</th>\n",
       "      <th rowspan=\"3\" valign=\"top\">0</th>\n",
       "      <th>abolladura</th>\n",
       "      <th>21</th>\n",
       "      <td>0</td>\n",
       "    </tr>\n",
       "    <tr>\n",
       "      <th>rayon</th>\n",
       "      <th>22</th>\n",
       "      <td>0</td>\n",
       "    </tr>\n",
       "    <tr>\n",
       "      <th>carro</th>\n",
       "      <th>23</th>\n",
       "      <td>762729</td>\n",
       "    </tr>\n",
       "    <tr>\n",
       "      <th rowspan=\"3\" valign=\"top\">OIP(3).jpeg</th>\n",
       "      <th rowspan=\"3\" valign=\"top\">0</th>\n",
       "      <th>abolladura</th>\n",
       "      <th>24</th>\n",
       "      <td>0</td>\n",
       "    </tr>\n",
       "    <tr>\n",
       "      <th>rayon</th>\n",
       "      <th>25</th>\n",
       "      <td>0</td>\n",
       "    </tr>\n",
       "    <tr>\n",
       "      <th>carro</th>\n",
       "      <th>26</th>\n",
       "      <td>144130</td>\n",
       "    </tr>\n",
       "    <tr>\n",
       "      <th rowspan=\"3\" valign=\"top\">R.jpeg</th>\n",
       "      <th rowspan=\"3\" valign=\"top\">278048</th>\n",
       "      <th>abolladura</th>\n",
       "      <th>27</th>\n",
       "      <td>278048</td>\n",
       "    </tr>\n",
       "    <tr>\n",
       "      <th>rayon</th>\n",
       "      <th>28</th>\n",
       "      <td>0</td>\n",
       "    </tr>\n",
       "    <tr>\n",
       "      <th>carro</th>\n",
       "      <th>29</th>\n",
       "      <td>0</td>\n",
       "    </tr>\n",
       "    <tr>\n",
       "      <th rowspan=\"4\" valign=\"top\">R.jpg</th>\n",
       "      <th rowspan=\"4\" valign=\"top\">73506</th>\n",
       "      <th rowspan=\"2\" valign=\"top\">abolladura</th>\n",
       "      <th>30</th>\n",
       "      <td>145368</td>\n",
       "    </tr>\n",
       "    <tr>\n",
       "      <th>30</th>\n",
       "      <td>165880</td>\n",
       "    </tr>\n",
       "    <tr>\n",
       "      <th>rayon</th>\n",
       "      <th>31</th>\n",
       "      <td>0</td>\n",
       "    </tr>\n",
       "    <tr>\n",
       "      <th>carro</th>\n",
       "      <th>32</th>\n",
       "      <td>384754</td>\n",
       "    </tr>\n",
       "    <tr>\n",
       "      <th rowspan=\"3\" valign=\"top\">R2.jpeg</th>\n",
       "      <th rowspan=\"3\" valign=\"top\">86780</th>\n",
       "      <th>abolladura</th>\n",
       "      <th>33</th>\n",
       "      <td>17211</td>\n",
       "    </tr>\n",
       "    <tr>\n",
       "      <th>rayon</th>\n",
       "      <th>34</th>\n",
       "      <td>0</td>\n",
       "    </tr>\n",
       "    <tr>\n",
       "      <th>carro</th>\n",
       "      <th>35</th>\n",
       "      <td>103991</td>\n",
       "    </tr>\n",
       "    <tr>\n",
       "      <th rowspan=\"3\" valign=\"top\">R3.jpeg</th>\n",
       "      <th rowspan=\"3\" valign=\"top\">173969</th>\n",
       "      <th>abolladura</th>\n",
       "      <th>36</th>\n",
       "      <td>69653</td>\n",
       "    </tr>\n",
       "    <tr>\n",
       "      <th>rayon</th>\n",
       "      <th>37</th>\n",
       "      <td>0</td>\n",
       "    </tr>\n",
       "    <tr>\n",
       "      <th>carro</th>\n",
       "      <th>38</th>\n",
       "      <td>243622</td>\n",
       "    </tr>\n",
       "    <tr>\n",
       "      <th rowspan=\"3\" valign=\"top\">R5.jpeg</th>\n",
       "      <th rowspan=\"3\" valign=\"top\">229615</th>\n",
       "      <th>abolladura</th>\n",
       "      <th>39</th>\n",
       "      <td>62997</td>\n",
       "    </tr>\n",
       "    <tr>\n",
       "      <th>rayon</th>\n",
       "      <th>40</th>\n",
       "      <td>0</td>\n",
       "    </tr>\n",
       "    <tr>\n",
       "      <th>carro</th>\n",
       "      <th>41</th>\n",
       "      <td>292612</td>\n",
       "    </tr>\n",
       "    <tr>\n",
       "      <th rowspan=\"3\" valign=\"top\">R7.png</th>\n",
       "      <th rowspan=\"3\" valign=\"top\">0</th>\n",
       "      <th>abolladura</th>\n",
       "      <th>42</th>\n",
       "      <td>0</td>\n",
       "    </tr>\n",
       "    <tr>\n",
       "      <th>rayon</th>\n",
       "      <th>43</th>\n",
       "      <td>0</td>\n",
       "    </tr>\n",
       "    <tr>\n",
       "      <th>carro</th>\n",
       "      <th>44</th>\n",
       "      <td>369075</td>\n",
       "    </tr>\n",
       "    <tr>\n",
       "      <th rowspan=\"3\" valign=\"top\">R8.png</th>\n",
       "      <th rowspan=\"3\" valign=\"top\">0</th>\n",
       "      <th>abolladura</th>\n",
       "      <th>45</th>\n",
       "      <td>0</td>\n",
       "    </tr>\n",
       "    <tr>\n",
       "      <th>rayon</th>\n",
       "      <th>46</th>\n",
       "      <td>0</td>\n",
       "    </tr>\n",
       "    <tr>\n",
       "      <th>carro</th>\n",
       "      <th>47</th>\n",
       "      <td>0</td>\n",
       "    </tr>\n",
       "    <tr>\n",
       "      <th rowspan=\"3\" valign=\"top\">Webp.net-resizeimage-10-1170x600.jpg</th>\n",
       "      <th rowspan=\"3\" valign=\"top\">12657</th>\n",
       "      <th>abolladura</th>\n",
       "      <th>48</th>\n",
       "      <td>0</td>\n",
       "    </tr>\n",
       "    <tr>\n",
       "      <th>rayon</th>\n",
       "      <th>49</th>\n",
       "      <td>12657</td>\n",
       "    </tr>\n",
       "    <tr>\n",
       "      <th>carro</th>\n",
       "      <th>50</th>\n",
       "      <td>0</td>\n",
       "    </tr>\n",
       "    <tr>\n",
       "      <th rowspan=\"3\" valign=\"top\">abolladura-en-un-coche-632c58a6e2ea5.jpg</th>\n",
       "      <th rowspan=\"3\" valign=\"top\">905686</th>\n",
       "      <th>abolladura</th>\n",
       "      <th>51</th>\n",
       "      <td>0</td>\n",
       "    </tr>\n",
       "    <tr>\n",
       "      <th>rayon</th>\n",
       "      <th>52</th>\n",
       "      <td>27004</td>\n",
       "    </tr>\n",
       "    <tr>\n",
       "      <th>carro</th>\n",
       "      <th>53</th>\n",
       "      <td>932690</td>\n",
       "    </tr>\n",
       "    <tr>\n",
       "      <th rowspan=\"3\" valign=\"top\">abolladuraautos-fd03b3bae67d7363172c41cc00198c51-1200x800.jpg</th>\n",
       "      <th rowspan=\"3\" valign=\"top\">0</th>\n",
       "      <th>abolladura</th>\n",
       "      <th>54</th>\n",
       "      <td>0</td>\n",
       "    </tr>\n",
       "    <tr>\n",
       "      <th>rayon</th>\n",
       "      <th>55</th>\n",
       "      <td>0</td>\n",
       "    </tr>\n",
       "    <tr>\n",
       "      <th>carro</th>\n",
       "      <th>56</th>\n",
       "      <td>925098</td>\n",
       "    </tr>\n",
       "    <tr>\n",
       "      <th rowspan=\"3\" valign=\"top\">big_ray.jpg</th>\n",
       "      <th rowspan=\"3\" valign=\"top\">0</th>\n",
       "      <th>abolladura</th>\n",
       "      <th>57</th>\n",
       "      <td>0</td>\n",
       "    </tr>\n",
       "    <tr>\n",
       "      <th>rayon</th>\n",
       "      <th>58</th>\n",
       "      <td>0</td>\n",
       "    </tr>\n",
       "    <tr>\n",
       "      <th>carro</th>\n",
       "      <th>59</th>\n",
       "      <td>121930</td>\n",
       "    </tr>\n",
       "    <tr>\n",
       "      <th rowspan=\"3\" valign=\"top\">coche-después-de-una-ruina-la-necesidad-ser-reparado-esperándola-es-demanda-de-seguro-29745503.jpg</th>\n",
       "      <th rowspan=\"3\" valign=\"top\">264672</th>\n",
       "      <th>abolladura</th>\n",
       "      <th>60</th>\n",
       "      <td>150405</td>\n",
       "    </tr>\n",
       "    <tr>\n",
       "      <th>rayon</th>\n",
       "      <th>61</th>\n",
       "      <td>0</td>\n",
       "    </tr>\n",
       "    <tr>\n",
       "      <th>carro</th>\n",
       "      <th>62</th>\n",
       "      <td>415077</td>\n",
       "    </tr>\n",
       "    <tr>\n",
       "      <th rowspan=\"3\" valign=\"top\">e1b235cf346a92a59d23c353c5ab913c.jpg</th>\n",
       "      <th rowspan=\"3\" valign=\"top\">0</th>\n",
       "      <th>abolladura</th>\n",
       "      <th>63</th>\n",
       "      <td>0</td>\n",
       "    </tr>\n",
       "    <tr>\n",
       "      <th>rayon</th>\n",
       "      <th>64</th>\n",
       "      <td>0</td>\n",
       "    </tr>\n",
       "    <tr>\n",
       "      <th>carro</th>\n",
       "      <th>65</th>\n",
       "      <td>0</td>\n",
       "    </tr>\n",
       "    <tr>\n",
       "      <th rowspan=\"4\" valign=\"top\">paintless-dent-removal-3-1.jpg</th>\n",
       "      <th rowspan=\"4\" valign=\"top\">155703</th>\n",
       "      <th rowspan=\"2\" valign=\"top\">abolladura</th>\n",
       "      <th>66</th>\n",
       "      <td>56889</td>\n",
       "    </tr>\n",
       "    <tr>\n",
       "      <th>66</th>\n",
       "      <td>98814</td>\n",
       "    </tr>\n",
       "    <tr>\n",
       "      <th>rayon</th>\n",
       "      <th>67</th>\n",
       "      <td>0</td>\n",
       "    </tr>\n",
       "    <tr>\n",
       "      <th>carro</th>\n",
       "      <th>68</th>\n",
       "      <td>0</td>\n",
       "    </tr>\n",
       "    <tr>\n",
       "      <th rowspan=\"5\" valign=\"top\">rayonesauto-e68618ca9c3d6859cebc796c300aea97-1200x0.jpg</th>\n",
       "      <th rowspan=\"5\" valign=\"top\">362363</th>\n",
       "      <th>abolladura</th>\n",
       "      <th>69</th>\n",
       "      <td>0</td>\n",
       "    </tr>\n",
       "    <tr>\n",
       "      <th rowspan=\"3\" valign=\"top\">rayon</th>\n",
       "      <th>70</th>\n",
       "      <td>4815</td>\n",
       "    </tr>\n",
       "    <tr>\n",
       "      <th>70</th>\n",
       "      <td>9338</td>\n",
       "    </tr>\n",
       "    <tr>\n",
       "      <th>70</th>\n",
       "      <td>400</td>\n",
       "    </tr>\n",
       "    <tr>\n",
       "      <th>carro</th>\n",
       "      <th>71</th>\n",
       "      <td>376916</td>\n",
       "    </tr>\n",
       "    <tr>\n",
       "      <th rowspan=\"3\" valign=\"top\">trucos-para-quitar-abolladuras-del-coche.imagen-1013x675.jpg</th>\n",
       "      <th rowspan=\"3\" valign=\"top\">90773</th>\n",
       "      <th>abolladura</th>\n",
       "      <th>72</th>\n",
       "      <td>90773</td>\n",
       "    </tr>\n",
       "    <tr>\n",
       "      <th>rayon</th>\n",
       "      <th>73</th>\n",
       "      <td>0</td>\n",
       "    </tr>\n",
       "    <tr>\n",
       "      <th>carro</th>\n",
       "      <th>74</th>\n",
       "      <td>0</td>\n",
       "    </tr>\n",
       "  </tbody>\n",
       "</table>\n",
       "</div>"
      ],
      "text/plain": [
       "                                                                                     area x mascara\n",
       "imagen                                             afectacion x imagen Clase                       \n",
       "20170531_010133.jpg                                1181723             abolladura 0               0\n",
       "                                                                       rayon      1           48466\n",
       "                                                                       carro      2         1230189\n",
       "5-320w-320w.jpg                                    40968               abolladura 3           25785\n",
       "                                                                       rayon      4               0\n",
       "                                                                       carro      5           66753\n",
       "Car-Dent.png                                       54530               abolladura 6           96449\n",
       "                                                                       rayon      7               0\n",
       "                                                                       carro      8          150979\n",
       "Charlotte-Toyota-service-1-1024x683.jpg            590652              abolladura 9               0\n",
       "                                                                       rayon      10           2159\n",
       "                                                                                  10           4552\n",
       "                                                                       carro      11         597363\n",
       "GSDH75MG6FAM7FSG43RFQLN5R4.jpg                     512627              abolladura 12          62473\n",
       "                                                                                  12          67399\n",
       "                                                                       rayon      13              0\n",
       "                                                                       carro      14         642499\n",
       "OIP (1).jpg                                        9096                abolladura 15              0\n",
       "                                                                       rayon      16           4406\n",
       "                                                                                  16           4690\n",
       "                                                                       carro      17              0\n",
       "OIP (2).jpeg                                       43972               abolladura 18          43972\n",
       "                                                                       rayon      19              0\n",
       "                                                                       carro      20              0\n",
       "OIP (4).jpeg                                       0                   abolladura 21              0\n",
       "                                                                       rayon      22              0\n",
       "                                                                       carro      23         762729\n",
       "OIP(3).jpeg                                        0                   abolladura 24              0\n",
       "                                                                       rayon      25              0\n",
       "                                                                       carro      26         144130\n",
       "R.jpeg                                             278048              abolladura 27         278048\n",
       "                                                                       rayon      28              0\n",
       "                                                                       carro      29              0\n",
       "R.jpg                                              73506               abolladura 30         145368\n",
       "                                                                                  30         165880\n",
       "                                                                       rayon      31              0\n",
       "                                                                       carro      32         384754\n",
       "R2.jpeg                                            86780               abolladura 33          17211\n",
       "                                                                       rayon      34              0\n",
       "                                                                       carro      35         103991\n",
       "R3.jpeg                                            173969              abolladura 36          69653\n",
       "                                                                       rayon      37              0\n",
       "                                                                       carro      38         243622\n",
       "R5.jpeg                                            229615              abolladura 39          62997\n",
       "                                                                       rayon      40              0\n",
       "                                                                       carro      41         292612\n",
       "R7.png                                             0                   abolladura 42              0\n",
       "                                                                       rayon      43              0\n",
       "                                                                       carro      44         369075\n",
       "R8.png                                             0                   abolladura 45              0\n",
       "                                                                       rayon      46              0\n",
       "                                                                       carro      47              0\n",
       "Webp.net-resizeimage-10-1170x600.jpg               12657               abolladura 48              0\n",
       "                                                                       rayon      49          12657\n",
       "                                                                       carro      50              0\n",
       "abolladura-en-un-coche-632c58a6e2ea5.jpg           905686              abolladura 51              0\n",
       "                                                                       rayon      52          27004\n",
       "                                                                       carro      53         932690\n",
       "abolladuraautos-fd03b3bae67d7363172c41cc00198c5... 0                   abolladura 54              0\n",
       "                                                                       rayon      55              0\n",
       "                                                                       carro      56         925098\n",
       "big_ray.jpg                                        0                   abolladura 57              0\n",
       "                                                                       rayon      58              0\n",
       "                                                                       carro      59         121930\n",
       "coche-después-de-una-ruina-la-necesidad-ser-rep... 264672              abolladura 60         150405\n",
       "                                                                       rayon      61              0\n",
       "                                                                       carro      62         415077\n",
       "e1b235cf346a92a59d23c353c5ab913c.jpg               0                   abolladura 63              0\n",
       "                                                                       rayon      64              0\n",
       "                                                                       carro      65              0\n",
       "paintless-dent-removal-3-1.jpg                     155703              abolladura 66          56889\n",
       "                                                                                  66          98814\n",
       "                                                                       rayon      67              0\n",
       "                                                                       carro      68              0\n",
       "rayonesauto-e68618ca9c3d6859cebc796c300aea97-12... 362363              abolladura 69              0\n",
       "                                                                       rayon      70           4815\n",
       "                                                                                  70           9338\n",
       "                                                                                  70            400\n",
       "                                                                       carro      71         376916\n",
       "trucos-para-quitar-abolladuras-del-coche.imagen... 90773               abolladura 72          90773\n",
       "                                                                       rayon      73              0\n",
       "                                                                       carro      74              0"
      ]
     },
     "execution_count": 42,
     "metadata": {},
     "output_type": "execute_result"
    }
   ],
   "source": [
    "def calculate_area(vertices): \n",
    "    individual_boxes_area= [] # Inicializa una lista vacía para almacenar el área de cada caja delimitadora.\n",
    "    if isinstance(vertices, list) and not vertices: # Verifica si 'vertices' es una lista vacía.\n",
    "        return 0 # Si no hay vértices, retorna 0 como área total.\n",
    "    else: # Si 'vertices' contiene datos:\n",
    "        for point in vertices: # Itera sobre cada conjunto de coordenadas en 'vertices' que tiene un formato: x [0](coordenada x), y[1](coordenada y), w[2](ancho), h[3](alto) de las cajas delimitadoras. \n",
    "            box_area = torch.round(point[2] * point[3]).int() # Calcula el área de la caja (ancho * alto) y lo redondea a un entero, obtiene como resultado un formato: tensor(1230189, dtype=torch.int32).\n",
    "            individual_boxes_area.append(box_area.item()) # Convierte el tensor 'box_area' a un valor entero y lo añade a la lista 'individual_boxes_area'.\n",
    "    return individual_boxes_area # Retorna la lista de áreas individuales de las cajas delimitadoras según la clase.\n",
    "\n",
    "def search_for_mask(results, image_instance):\n",
    "    resultado= [] # Inicializa una lista vacía para almacenar las áreas de las clases de afectación en la imagen.\n",
    "    for attribute in results: \n",
    "        if os.path.basename(attribute.path) == image_instance: # Verifica que el resultado pertenece a la imagen actual.\n",
    "            if (attribute.boxes.cls != 2.).all(): # Verifica si los resultados no corresponden a la clase de vehículo (clase 2).\n",
    "                # Cuando se manejan múltiples clases de objetos (hiperparámetro de predicción classes= []) en una imagen, es necesario separar las coordenadas de cada clase detectada.\n",
    "                dent_coordinates = [] # Inicializa una lista temporal para las coordenadas de abolladura.\n",
    "                scratch_coordinates = [] # Inicializa una lista temporal para las coordenadas de rayón.\n",
    "                tensor = attribute.boxes.cls\n",
    "                for position, value in enumerate(tensor): # Itera sobre los valores del tensor y sus posiciones.\n",
    "                    if value == 0.: # Si el valor del tensor es 0, corresponde a una detección de abolladura.\n",
    "                        dent_coordinates.append(attribute.boxes.xywh[position]) # Añade las coordenadas de la máscara a la lista de abolladuras.\n",
    "                    elif value == 1.:  # Asegura que solo maneje dos clases de afectación.\n",
    "                        scratch_coordinates.append(attribute.boxes.xywh[position]) # Añade las coordenadas de la máscara a la lista de rayon.\n",
    "                dent_area, scratch_area = calculate_area(dent_coordinates), calculate_area(scratch_coordinates) # Calcula el área para cada clase de afectación.\n",
    "                resultado.append((dent_area, scratch_area)) # Añade los resultados a la lista principal. \n",
    "                return resultado \n",
    "            else: # Si los resultados corresponden a la clase de vehículo (clase 2), calcula y retorna el área del vehículo.\n",
    "                return calculate_area(attribute.boxes.xywh) if attribute.boxes is not None else 0\n",
    "    return 0 # En caso de no haber resultados de vehiculo para la imagen, se retornará 0.\n",
    "\n",
    "def process_segmentation_results(class_afectation, car): # Función main que controla todo el proceso.\n",
    "    columnas= ['imagen', 'ClaseMascara', 'area x mascara', 'afectacion x imagen'] # Se definen las columnas del DataFrame.\n",
    "    data= [] # Se inicializa una lista vacía para almacenar los resultados de cada imagen.\n",
    "\n",
    "    for attribute in car: # Se recorren principalmente los resultados de carro, ya que es el primer filtro por el que pasa el modelo de segmentación, de esta manera en la salida se podrán ver los resultados para todo el conjunto de datos original.\n",
    "        img_directory = os.path.basename(attribute.path) # Extrae el nombre base de la imagen de control.\n",
    "        \n",
    "        image_data = search_for_mask(class_afectation, img_directory) # Buscar máscaras en la imagen de control.     \n",
    "        if image_data: \n",
    "            for _, index in enumerate(image_data): # Recorre cada resultado de la imagen encontrada para la imagen de control.\n",
    "                dent_area, scratch_area = index # Extraer la imagen asociada, el área de abolladura y el área de rayón.\n",
    "                \n",
    "            if dent_area is not None or scratch_area is not None: # Si existe un area de afectación, se calcula el área del coche y el daño total.\n",
    "                car_area = search_for_mask(attribute, img_directory) # Recibirá una lista que contendrá los valores de área total para detecciones de vehículos; por ejemplo, [87916, 5504] indica que encontró dos vehículos para la imagen control. \n",
    "                damage_image= afectacion_imagen(car_area, dent_area, scratch_area) # Optiene el daño de afectación para cada imagen.\n",
    "                \n",
    "            else: # En caso de no encontrarse áreas de afectación, se agregarán resultados predeterminados.\n",
    "                car_area= 0\n",
    "                damage_image = 0\n",
    "            \n",
    "            # Para añadir los resultados obtenidos se utiliza el formato: [nombre_imagen_control, identificador_clase, areas_individuales, daño_total_imagen]con el fin de buscar en cada imagen los resultados de todas las clases manejadas y evitar errores de la función explode de pandas en las listas.\n",
    "            data.append([img_directory, 'abolladura', dent_area, damage_image])\n",
    "            data.append([img_directory, 'rayon', scratch_area, damage_image])\n",
    "            data.append([img_directory, 'carro', car_area, damage_image])\n",
    "        \n",
    "    orden_clases=['abolladura', 'rayon', 'carro'] # Esta lista se creó simplemente con el fin de mantener un orden en la visualización de las clases para el dataframe.\n",
    "    df= pd.DataFrame(data, columns=columnas) # Se crea un DataFrame a partir de los datos.\n",
    "    df['Clase'] = pd.Categorical(df['ClaseMascara'], categories=orden_clases, ordered=True)\n",
    "    grouped_columns=df.groupby(['imagen', 'afectacion x imagen', 'Clase'], group_keys=True, as_index=True, observed=False)[['area x mascara']].apply(lambda x : x) # Agrupa el DataFrame por imagen y aplicar la función lambda.\n",
    "    grouped_columns_expanded = grouped_columns.explode('area x mascara') # Expande el formato de lista inicial de la columna 'area mascara' en diferentes filas manteniendo su eje en la agrupación.\n",
    "    return grouped_columns_expanded\n",
    "\n",
    "def sum_if_list(area):\n",
    "    return sum(area) if isinstance(area, list) else 0 # Si el parametro es una lista, retornara la suma del contenido de lo contrario devolvera un 0.\n",
    "\n",
    "def afectacion_imagen(car_area, dent_area, scratch_area): \n",
    "    # Como el parametro 'dent_area y scratch area' son listas con formato [área total por objeto según clase], se requiere obtener el resultado total de cada clase. \n",
    "    sum_dent = sum_if_list(dent_area) # Recibe la suma total de áreas de abolladuras en una imagen.\n",
    "    sum_scratch = sum_if_list(scratch_area) # Recibe la suma total de áreas de rayon en una imagen.\n",
    "    sum_car = sum_if_list(car_area) \n",
    "    \n",
    "    if sum_dent  > 0 and sum_scratch > 0:\n",
    "        total_affected_area = abs((sum_dent + sum_scratch) - sum_car) # Si ambos tipos de afectacion existen en una imagen, se sumaran primero y restaran con el area del carro.\n",
    "    else:\n",
    "        total_affected_area = abs(sum_car - sum_dent) if sum_dent > 0 else abs(sum_car - sum_scratch) if sum_scratch > 0 else 0 # Si sólo una de las áreas es mayor que 0, usa esa área para restarla al área del vehiculo.\n",
    "    \n",
    "    return total_affected_area\n",
    "\n",
    "dataframe = process_segmentation_results(results_afectation, results_car)\n",
    "pd.set_option('display.max_rows', None)\n",
    "pd.set_option('display.max_columns', None)\n",
    "dataframe"
   ]
  }
 ],
 "metadata": {
  "kernelspec": {
   "display_name": "Python 3",
   "language": "python",
   "name": "python3"
  },
  "language_info": {
   "codemirror_mode": {
    "name": "ipython",
    "version": 3
   },
   "file_extension": ".py",
   "mimetype": "text/x-python",
   "name": "python",
   "nbconvert_exporter": "python",
   "pygments_lexer": "ipython3",
   "version": "3.10.13"
  }
 },
 "nbformat": 4,
 "nbformat_minor": 2
}
