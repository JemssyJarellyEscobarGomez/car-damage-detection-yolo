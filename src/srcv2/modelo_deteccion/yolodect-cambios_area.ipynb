{
 "cells": [
  {
   "cell_type": "markdown",
   "metadata": {},
   "source": [
    "<span style=\"font-family: 'Bahnschrift Light'; font-size: 40px\">Carga de librerías</span>"
   ]
  },
  {
   "cell_type": "code",
   "execution_count": 1,
   "metadata": {},
   "outputs": [],
   "source": [
    "import ultralytics\n",
    "from ultralytics import YOLO\n",
    "import os\n",
    "import torch\n",
    "import subprocess\n",
    "import gdown\n",
    "import json\n",
    "import numpy as np\n",
    "import subprocess\n",
    "import pandas as pd"
   ]
  },
  {
   "cell_type": "markdown",
   "metadata": {},
   "source": [
    "<span style=\"font-family: 'Bahnschrift Light'; font-size: 40px\">Instalación de herramientas de etiquetado</span>"
   ]
  },
  {
   "cell_type": "code",
   "execution_count": 12,
   "metadata": {},
   "outputs": [],
   "source": [
    "# Función para instalar los paquetes\n",
    "\n",
    "def package_verification(package):\n",
    "    try:\n",
    "        output = os.popen('pip list').read()\n",
    "        return f'{package}' in output\n",
    "    except Exception as e:\n",
    "        print(f'Error en la verificación: {e}')\n",
    "        return False\n",
    "\n",
    "def package_installation(package_name):\n",
    "    if package_verification(package_name):\n",
    "        print(f\"El paquete '{package_name}' ya está instalado.\")\n",
    "    else:\n",
    "        print('Instalando el paquete... ')\n",
    "        try:\n",
    "            os.system(f'pip install {package_name}')\n",
    "            print(f'libreria {package_name} instalada correctamente! ')\n",
    "        except Exception as e:\n",
    "            print(f'Error en la instalación de {package_name}: {e}')"
   ]
  },
  {
   "cell_type": "code",
   "execution_count": 22,
   "metadata": {},
   "outputs": [
    {
     "name": "stdout",
     "output_type": "stream",
     "text": [
      "El paquete 'labelme' ya está instalado.\n"
     ]
    }
   ],
   "source": [
    "package_installation('labelme') # Instalación de la herramienta de etiquetado Labelme"
   ]
  },
  {
   "cell_type": "code",
   "execution_count": 21,
   "metadata": {},
   "outputs": [],
   "source": [
    "# Abrir la herramienta para el proceso de etiquetado \n",
    "try:\n",
    "    subprocess.check_call([\"labelme\"]) \n",
    "except Exception as e:\n",
    "    print(f'No fue posible abrir labelme: {e}')"
   ]
  },
  {
   "cell_type": "code",
   "execution_count": 16,
   "metadata": {},
   "outputs": [
    {
     "name": "stdout",
     "output_type": "stream",
     "text": [
      "El paquete 'labelme2yolo' ya está instalado.\n"
     ]
    }
   ],
   "source": [
    "package_installation('labelme2yolo') # Instalación de la herramienta de conversión para el formato JSON de labelme a formato texto requerido por los modelos de detección de objetos YOLO."
   ]
  },
  {
   "cell_type": "markdown",
   "metadata": {},
   "source": [
    "<span style=\"font-family: 'Bahnschrift Light'; font-size: 40px\">Conversión a formato YOLO</span>"
   ]
  },
  {
   "cell_type": "code",
   "execution_count": null,
   "metadata": {},
   "outputs": [],
   "source": [
    "path_json= 'C:/Users/matrix/Workspace/lote2_2' # Carpeta que contiene las imagenes + archivo .json\n",
    "dir_json_train='train' # Carpeta de entrenamiento, un 80% de imagenes.\n",
    "dir_json_val='val' # Carpeta de validación, un 20% de imagenes.\n",
    "\n",
    "try:\n",
    "    subprocess.check_call([\"labelme2yolo\", \"--json_dir\", f'{path_json}/{dir_json_train}'])\n",
    "    print(f'Conversión completada para la carpeta {path_json}/{dir_json_train}')\n",
    "    subprocess.check_call([\"labelme2yolo\", \"--json\", f\"{path_json}/{dir_json_val}\"])\n",
    "    print(f'Conversión completada para la carpeta {path_json}/{dir_json_val}')\n",
    "except subprocess.CalledProcessError as e:\n",
    "    print(f'Error al ejecutar función labelme2yolo: {e}')"
   ]
  },
  {
   "cell_type": "markdown",
   "metadata": {},
   "source": [
    "<span style=\"font-family: 'Bahnschrift Light'; font-size: 40px\">Instalación de recursos</span>"
   ]
  },
  {
   "cell_type": "code",
   "execution_count": 19,
   "metadata": {},
   "outputs": [
    {
     "name": "stdout",
     "output_type": "stream",
     "text": [
      "El paquete 'ultralytics' ya está instalado.\n"
     ]
    }
   ],
   "source": [
    "package_installation('ultralytics') # Instalación de la biblioteca Ultralytics\n",
    "#ultralytics.checks()"
   ]
  },
  {
   "cell_type": "code",
   "execution_count": 5,
   "metadata": {},
   "outputs": [
    {
     "name": "stdout",
     "output_type": "stream",
     "text": [
      "Tarjeta Grafica: Caption                  \n",
      "\n",
      "AMD Radeon(TM) Graphics.\n",
      " \n",
      "Advertencia: Debe utilizar la CPU para instalación de PyTorch! \n"
     ]
    }
   ],
   "source": [
    "#Función para determinar si tiene GPU Cuda para instalación de PYTorch\n",
    "if torch.cuda.is_available():\n",
    "    device = torch.device(\"cuda\")\n",
    "    print(f'CUDA: {torch.cuda.get_device_name(0)}')\n",
    "else:\n",
    "    try:\n",
    "        command = 'wmic path win32_videocontroller get caption'\n",
    "        device = subprocess.check_output(command, shell=True, universal_newlines=True)\n",
    "        print(f'Tarjeta Grafica: {device.strip()}.\\n \\nAdvertencia: Debe utilizar la CPU para instalación de PyTorch! ')\n",
    "    except subprocess.CalledProcessError as e:\n",
    "        print(f'Error al ejecutar el comando: {e}')"
   ]
  },
  {
   "cell_type": "markdown",
   "metadata": {},
   "source": [
    "<span style=\"font-family: 'Bahnschrift Light'; font-size: 18px\">Dirección para instalar mediante el comando la versión de PyTorch en función de los requerimientos computacionales: </span>[Versión PyTorch](https://pytorch.org/get-started/locally/) "
   ]
  },
  {
   "cell_type": "code",
   "execution_count": null,
   "metadata": {},
   "outputs": [],
   "source": [
    "command_pytorch = 'pip3 install torch torchvision torchaudio' # Comando de instalación según la version personalizada a sus requerimientos computacionales\n",
    "substrings = command_pytorch.split(\" \")\n",
    "try:\n",
    "    subprocess.check_call(substrings)\n",
    "except subprocess.CalledProcessError as e:\n",
    "    print(f'Error al instalar la version de PyTorch: {e}')"
   ]
  },
  {
   "cell_type": "markdown",
   "metadata": {},
   "source": [
    "<span style=\"font-family: 'Bahnschrift Light'; font-size: 40px\">Instalación versión de modelo Yolo</span>"
   ]
  },
  {
   "cell_type": "code",
   "execution_count": 20,
   "metadata": {},
   "outputs": [
    {
     "name": "stdout",
     "output_type": "stream",
     "text": [
      "El paquete 'gdown' ya está instalado.\n"
     ]
    }
   ],
   "source": [
    "package_installation('gdown')"
   ]
  },
  {
   "cell_type": "code",
   "execution_count": 29,
   "metadata": {},
   "outputs": [
    {
     "name": "stderr",
     "output_type": "stream",
     "text": [
      "Downloading...\n",
      "From: https://github.com/ultralytics/assets/releases/download/v0.0.0/yolov8n.pt\n",
      "To: C:\\Users\\jemss\\Workspace\n",
      "100%|██████████| 6.53M/6.53M [00:02<00:00, 2.73MB/s]"
     ]
    },
    {
     "name": "stdout",
     "output_type": "stream",
     "text": [
      "Versión instalada correctamente! \n"
     ]
    },
    {
     "name": "stderr",
     "output_type": "stream",
     "text": [
      "\n"
     ]
    }
   ],
   "source": [
    "path_save= 'C:/Users/jemss/Workspace'\n",
    "model_version= 'yolov8n.pt' # yolov8s.pt , yolov8m.pt , yolov8l.pt , yolov8x.pt\n",
    "model_url= 'https://github.com/ultralytics/assets/releases/download/v0.0.0' \n",
    "def model_installation(url, version, save):\n",
    "    try:\n",
    "        model= f'{url}/{version}'\n",
    "        gdown.download(model, save, quiet=False)\n",
    "        print('Versión instalada correctamente! ')\n",
    "    except Exception as e:\n",
    "        print(f'Error en la instalación de la version del modelo: {e}')\n",
    "    \n",
    "model_installation(model_url, model_version, path_save)"
   ]
  },
  {
   "cell_type": "markdown",
   "metadata": {},
   "source": [
    "<span style=\"font-family: 'Bahnschrift Light'; font-size: 40px;\">ENTRENAMIENTO</span>"
   ]
  },
  {
   "cell_type": "code",
   "execution_count": null,
   "metadata": {},
   "outputs": [],
   "source": [
    "model_version_YOLO='yolov8n.pt'\n",
    "\n",
    "model_detection=YOLO(model_version_YOLO)\n",
    "\n",
    "PROJECT='deteccion' # Le permite asignar un nombre al directorio de inicio que contendrá los experimentos de detección de objetos, y debe estar entre comillas; se recomienda no utilizar espacios en el nombre.\n",
    "NAME='prueba_entrenamiento' # El nombre del experimento entrenamiento para deteccion de objetos debe ir entre comillas. Evite el uso de espacios al nombrar las carpetas; en su lugar, utilice algún formato de nombres como camelCase, snake_case o PascalCase.\n",
    "TASK='detect' # Define la tarea principal que desea realizar con el modelo YOLO v8; para este caso, la deteccion de objetos implica identificar la ubicación y la clase de objetos en una imagen o un flujo de video.\n",
    "IMGSZ=640 # Establezca las dimensiones en píxeles de la imagen de entrada. Puede especificarlo como un número entero, como imgsz a 640 para obtener un cuadrado perfecto, o como una tupla, como imgsz=(640,480) para establecer dimensiones específicas de ancho y alto. Se recomienda ajustar este valor según el tamaño del objeto que desea detectar. Para la detencción de objetos pequeños, se recomienda aumentar el valor a más de 640 píxeles para obtener una resolución más alta.\n",
    "DATA=\"C:/Users/matrix/pruebayolo/data_copia_car/dataset.yaml\" #  Le permite indicar la ruta al archivo que contiene los metadatos que utilizara el modelo detección de objetos y su configuración en formato YAML. Si especifica el valor data=None, el conjunto de datos coco128-seg.yaml se utiliza de forma predeterminada; de lo contrario, escriba la ruta al archivo YAML entre comillas utilizando barras diagonales (/) en lugar de barras invertidas (\\).\n",
    "EPOCHS=30 # Establezca el número de épocas del modelo YOLO v8 en la tarea de deteccion. Este valor representa el número total de iteraciones en todo el conjunto de datos de entrenamiento. Se recomienda experimentar con este parámetro dependiendo de la cantidad de imágenes disponibles. Si tiene un conjunto de datos grande, considere aumentar este valor por encima de 30 para obtener mejores resultados. Por otro lado, establecer epochs=None hará que el modelo continúe entrenándose hasta que la pérdida de validación deje de mejorar.\n",
    "BATCH=-1 # Define la cantidad de imágenes procesadas simultáneamente en una iteración del modelo YOLO v8 en la deteccion. El valor predeterminado es 16; se recomienda establecerlo en -1 para aprovechar AutoBatch, que ajusta automáticamente el tamaño del lote para optimizar el rendimiento, evitar problemas de memoria y maximizar la eficiencia del entrenamiento. Si desea personalizarlo, exprese el valor del parámetro como un número entero.\n",
    "OPTIMIZER='auto' # Define el algoritmo de optimización para el modelo de deteccion YOLO. Su elección ajusta los pesos del modelo durante el entrenamiento y es crucial para la velocidad y rendimiento. Puede tomar valores como 'SGD', 'Adam', 'Adamax', 'AdamW', 'NAdam', 'RAdam', 'RMSProp' y 'auto', este último selecciona automáticamente el optimizador más adecuado a la tarea segmentación de objetos.\n",
    "WORKERS=1 # Especifica el número de hilos de trabajo para la carga de datos en el modelo deteccion YOLO. Es recomendable utilizar un número de subprocesos que se ajusten al número de núcleos del CPU disponibles en el sistema.\n",
    "DEVICE= 'cpu' # Especifica el dispositivo de ejecución para la versión del modelo yolov8 en la operación de deteccion. Puede seleccionar entre CPU o GPU. Si no dispone de una GPU con Cuda, se recomienda utilizar la CPU mediante el parámetro device='cpu'. En caso de contar con Cuda, puede especificar una GPU con device='cuda:0'; el número representa el identificador de la GPU disponible en el sistema. También es posible utilizar múltiples GPUs mediante device='cuda:0,1,2'.\n",
    "PLOTS=True # Utilice valores booleanos (Verdadero o Falso) para controlar la generación de gráficos que permite visualizar y monitorear la pérdida y la precisión durante el entrenamiento de deteccion de objetos. Establecer plots=True activara la función; si desea desactivarla, establezca el valor del hiperparámetro en False.\n",
    "SAVE=True # Cuando se establece en True, el modelo guarda puntos de control periódicamente durante el entrenamiento de deteccion. Se recomienda tener cuidado al establecer este valor en Verdadero, ya que está relacionado con el hiperparámetro SAVE_PERIOD; si establece el valor del hiperparametro a False, la función Save_Period se desactivará.\n",
    "SAVE_PERIOD=-1 # Se utiliza para especificar con qué frecuencia se guardan los puntos de control durante el entrenamiento de deteccion. Si se establece en un valor mayor que 0, el modelo guardará puntos de control cada número especificado de épocas. Sin embargo, si save_period se establece en -1, significa que la función esta deshabilitada.\n",
    "PATIENCE=30 # Representa el número esperado de épocas durante el entrenamiento de deteccion. Si no se observa mejora en el conjunto de validación dentro de un período específico, se detiene el proceso. Esta técnica de parada temprana se utiliza para evitar el sobreajuste del modelo. Se recomienda ajustar este hiperparámetro en función de la duración esperada del entrenamiento.\n",
    "VERBOSE=True # Se utiliza para controlar el número de impresiones durante la ejecución del entrenamiento de deteccion. Para suprimir la salida de información básica únicamente, debe establecer el valor del hiperparámetro en False, pero si desea una salida de progreso más detallada, establezca el valor en True.\n",
    "RECT= False # Habilita la formación rectangular en cada lote, redimensionando las imágenes para que todas tengan la misma forma rectangular. Puedes establecerlo en True si tu conjunto de datos es extenso y deseas acelerar el tiempo de entrenamiento en la deteccion de objetos. De lo contrario, si se establece en False el modelo se entrena en el orden normal procesando todos los datos de un lote antes de pasar al siguiente lote.\n",
    "COS_LR=False # Reemplaza el decaimiento escalonado predeterminado de YOLOv8, que reduce la tasa de aprendizaje en ciertas épocas, con el decaimiento escalonado cos_lr. Este ajusta la tasa de aprendizaje según las épocas restantes y la tasa de aprendizaje inicial, proporcionando una disminución más suave. Establezca este hiperparámetro en True para una reducción gradual de la tasa de aprendizaje, de lo contrario establezca en False.\n",
    "FRACTION= 1.0 # Controla la fracción del conjunto de datos que se utilizara para el entrenamiento de deteccion. Debes establecer este parámetro entre 0.0 y 1.0. Por defecto, cuando es 1.0, se emplea el 100% de las imágenes disponibles en el conjunto de datos.\n",
    "EXIST_OK=False # Controla la sobreescritura de un experimento de deteccion existente. Cuando se establece en False, el sistema no sobrescribirá, en su lugar devolverá una ruta incrementada. Esto es útil para prevenir la sobreescritura accidental de experimentos anteriores. Para activar la función, asigna el valor True.\n",
    "\n",
    "model_detection.train(project=PROJECT,name=NAME, task=TASK, data=DATA, imgsz=IMGSZ, epochs=EPOCHS, batch=BATCH, workers=WORKERS, device=DEVICE, plots=PLOTS, verbose=VERBOSE, rect=RECT, cos_lr=COS_LR, optimizer=OPTIMIZER, fraction=FRACTION, patience=PATIENCE, exist_ok=EXIST_OK)"
   ]
  },
  {
   "cell_type": "markdown",
   "metadata": {},
   "source": [
    "<span style=\"font-family: 'Bahnschrift Light'; font-size: 40px;\">Configuración para la exportación</span>\n"
   ]
  },
  {
   "cell_type": "markdown",
   "metadata": {},
   "source": [
    "A continuación se muestra una tabla de referencia para exportar un modelo YOLOv8 entrenado en la tarea deteccion de objetos. Tenga en cuenta que configurar el parámetro de `format` es fundamental para el proceso de exportación. Antes de continuar, asegúrese de verificar y ajustar estos valores a sus requisitos específicos: \n",
    "| Formatos                                                             | Asignación | Extensión                     | Hyperparámetros                                            | Descripción                                        |\n",
    "|--------------------------------------------------------------------|-------------------|---------------------------|-----------------------------------------------------|----------------------------------------------------|\n",
    "| [PyTorch](https://pytorch.org/)                                    | -                 | `yolov8n.pt`              | -                                                   | Modelo en formato PyTorch                           |\n",
    "| [TorchScript](https://pytorch.org/docs/stable/jit.html)            | \"torchscript\"     | `yolov8n.torchscript`     | `imgsz`, `optimize`                                 | Simplifica la implementación de modelos PyTorch en entornos de producción y aplicaciones eficientes, mejorando la portabilidad y el rendimiento al permitir ejecutar una representación intermedia en entornos sin Python.                       |\n",
    "| [ONNX](https://onnx.ai/)                                           | \"onnx\"            | `yolov8n.onnx`            | `imgsz`, `half`, `dynamic`, `simplify`, `opset`     | Desarrollado para promover la interoperabilidad, la optimización del hardware y la colaboración entre comunidades, al tiempo que responde a la necesidad de portabilidad de los modelos entre distintos marcos y herramientas de aprendizaje automático.                              |\n",
    "| [OpenVINO](https://docs.openvino.ai/latest/index.html)             | \"openvino\"        | `yolov8n_openvino_model/` | `imgsz`, `half`, `int8`                             | Elaborado para promover la interoperabilidad, la optimización del hardware y el despliegue eficiente de modelos a través de diferentes marcos y herramientas de aprendizaje automático, con especial atención a las plataformas de hardware Intel.                     |\n",
    "| [TensorRT](https://developer.nvidia.com/tensorrt)                  | \"engine\"          | `yolov8n.engine`          | `imgsz`, `half`, `dynamic`, `simplify`, `workspace` | Permite promover la interoperabilidad, la optimización del hardware y la implantación eficiente de modelos en distintos marcos y herramientas de aprendizaje automático, con especial atención a las plataformas de hardware de NVIDIA.                     |\n",
    "| [CoreML](https://github.com/apple/coremltools)                     | \"coreml\"          | `yolov8n.mlpackage`       | `imgsz`, `half`, `int8`, `nms`                      | Posibilita promover la interoperabilidad, la optimización del hardware y el despliegue eficiente de modelos a través de diferentes marcos y herramientas de aprendizaje automático, con especial atención a las plataformas de hardware de Apple.                            |\n",
    "| [TF SavedModel](https://www.tensorflow.org/guide/saved_model)      | \"saved_model\"     | `yolov8n_saved_model/`    | `imgsz`, `keras`, `int8`                            | Empleado para guardar, compartir y desplegar modelos entrenados con TensorFlow. Versátil y facilita el despliegue en diversas plataformas como servidores, dispositivos móviles, embebidos y navegadores.                     |\n",
    "| [TF Lite](https://www.tensorflow.org/lite)                         | \"tflite\"          | `yolov8n.tflite`          | `imgsz`, `half`, `int8`                             | Diseñado para el aprendizaje automático en dispositivos, TF Lite aborda restricciones clave como latencia, privacidad, conectividad, tamaño y consumo de energía. Es esencial para desplegar modelos en dispositivos móviles e integrados, ofreciendo una solución ligera y eficiente.                           |\n",
    "| [TF Edge TPU](https://coral.ai/docs/edgetpu/models-intro/)         | \"edgetpu\"         | `yolov8n_edgetpu.tflite`  | `imgsz`                                             | Utilizado para desplegar modelos de aprendizaje automático en el Edge TPU de TensorFlow. El Edge TPU es un pequeño ASIC (Circuito Integrado Específico de Aplicación) diseñado por Google para ofrecer inferencias de aprendizaje automático de alto rendimiento en dispositivos de bajo consumo.                       |\n",
    "| [TF.js](https://www.tensorflow.org/js)                             | \"tfjs\"            | `yolov8n_web_model/`      | `imgsz`                                             | Facilita el despliegue de modelos de aprendizaje automático en navegadores web y Node.js, destacando la portabilidad y la facilidad de uso.                    |\n",
    "| [PaddlePaddle](https://github.com/PaddlePaddle)                    | \"paddle\"          | `yolov8n_paddle_model/`   | `imgsz`                                             | Utilizado para desplegar modelos en PaddlePaddle, una plataforma de aprendizaje profundo de código abierto, paralela y distribuida que tiene su origen en la práctica industrial.                      |\n",
    "| [ncnn](https://github.com/Tencent/ncnn)                            | \"ncnn\"            | `yolov8n_ncnn_model/`     | `imgsz`, `half`                                     | Formato optimizado para plataformas móviles, ofreciendo alto rendimiento. Puede incluir una estructura de archivo de modelo con información sobre capas, blobs de entrada y salida, y otros parámetros."
   ]
  },
  {
   "cell_type": "markdown",
   "metadata": {},
   "source": [
    "<span style=\"font-family: 'Bahnschrift Light'; font-size: 40px;\">EXPORTACIÓN</span>"
   ]
  },
  {
   "cell_type": "code",
   "execution_count": null,
   "metadata": {},
   "outputs": [],
   "source": [
    "trained_model_det=\"C:/Users/jemss/runs/detect/Pruebadeteccion/weights/best.pt\"\n",
    "\n",
    "selected_model_det=YOLO(trained_model_det)\n",
    "\n",
    "FORMAT='onnx' # Seleccione el formato de exportación del modelo deteccion, empleando la tabla previamente proporcionada; en la columna \"Asignación\" se proporcionan las opciones para ajustar este valor.\n",
    "INT8=True # Establezca este parámetro en True al utilizar la CPU y en False en caso contrario. La cuantificación a INT8 mejora la eficiencia del modelo deteccion en cuanto a memoria y velocidad de inferencia, especialmente en hardware que admite esta precisión.\n",
    "HALF=False # Configúrelo en True cuando use la GPU; en caso contrario, False. La cuantificación a FP16 mejora la eficiencia de la memoria del modelo deteccion y la velocidad de inferencia, especialmente en hardware que admite precisión de punto flotante de 16 bits.\n",
    "IMGSZ=640 # Establezca las dimensiones en píxeles de la imagen de entrada para la exportación del modelo de deteccion. Puede especificarlo como un número entero, por ejemplo, 640 para un cuadrado perfecto, o como una tupla, por ejemplo, (640, 480) para dimensiones específicas de ancho y alto. Las imágenes que ingreses al modelo después de la exportación deben tener las mismas dimensiones específicas que has configurado para adaptarse a los requisitos del escenario de despliegue.\n",
    "OPTIMIZE=False # Controla la optimización en modelos de detección a TorchScript para su implementación móvil. Es importante destacar que esta función puede resultar en un aumento significativo en el tamaño del modelo exportado, lo cual puede no ser ideal para aplicaciones móviles. Se configura con True para activar y False para desactivar.\n",
    "DYNAMIC=False # Controla la habilitación de ejes dinámicos en modelos de deteccion, lo cual es particularmente útil para gestionar tamaños de lote variables. Esta característica funciona bien en escenarios donde el tamaño del lote puede cambiar durante la inferencia, como aplicaciones en tiempo real o de transmisión por secuencias. Los valores aceptados son Verdadero para habilitar la función y Falso para deshabilitarla.\n",
    "SIMPLIFY=False # En la exportación de modelos de deteccion a ONNX|TensorRT, este hiperparámetro personaliza la complejidad del modelo controlando la optimización, eliminando capas redundantes y reduciendo la precisión de los parámetros. Se activa con True y se desactiva con False.\n",
    "OPSET=False # Especifica la versión del conjunto de operadores en ONNX al exportar el modelo deteccion desde marcos como PyTorch o TensorFlow. Si se deja en \"None\", ONNX utilizará automáticamente la versión más reciente disponible; para una versión específica, asigne el número entre comillas, por ejemplo, \"11\".\n",
    "WORKSPACE=4 # En la exportación de modelos de deteccion a TensorRT, establece el tamaño del espacio de trabajo en GB asignado para optimizar y preparar el modelo de red neuronal. Este espacio se utiliza durante la construcción del motor para lograr una ejecución eficiente en hardware GPU mediante la biblioteca TensorRT.\n",
    "NMS=False # En la exportación de modelos de deteccion a CoreML, controla la inclusión de la Supresión No Máxima (NMS) en el modelo para eliminar cuadros delimitadores redundantes en la segmentación de instancias y mejorar la precisión de las predicciones. Establecer 'NMS' en 'False' ignora NMS en los modelos CoreML exportados.  Este ajuste, configurable durante la exportación del modelo YOLO, lo que permite a los usuarios optimizar la implementación del modelo en una variedad de plataformas y dispositivos.\n",
    "KERAS= False # En la exportación de modelos de deteccion a TF SavedModel y TF Lite, permite optimizar el despliegue en diversas plataformas y dispositivos. Incluye también el formato del archivo, el dispositivo de ejecución y la posibilidad de manejar múltiples etiquetas por caja. Establezca el valor del hiperparámetro en True si está familiarizado con Keras; de lo contrario, en False para excluir su uso en la exportación.\n",
    "\n",
    "selected_model_det.export(format=FORMAT, imgsz=640, dynamic=False, simplify=False, opset=False)\n"
   ]
  },
  {
   "cell_type": "markdown",
   "metadata": {},
   "source": [
    "<span style=\"font-family: 'Bahnschrift Light'; font-size: 40px;\">VALIDACIÓN</span>"
   ]
  },
  {
   "cell_type": "code",
   "execution_count": null,
   "metadata": {},
   "outputs": [],
   "source": [
    "trained_model_det='C:/Users/matrix/pruebayolo/DETECCIÓN/Prueba_detección/weights/best.pt'\n",
    "\n",
    "selected_model_det=YOLO(trained_model_det)\n",
    "\n",
    "NAME='Prueba_validación_det' # El nombre del experimento de validación para deteccion de objetos deben ir entre comillas. Evite el uso de espacios al nombrar las carpetas; en su lugar, utilice algún formato de nombres como camelCase, snake_case o PascalCase.\n",
    "DATA= 'C:/Users/matrix/pruebayolo/data/dataset.yaml' #Permite indicar la ruta al archivo que contiene los metadatos necesarios para el proceso de validación, la ruta debe ser proporcionada entre comillas.\n",
    "SAVE_JSON=True # Si se configura como True, habilita la funcionalidad de guardar los resultados obtenidos de manera detallada del proceso de validación en un formato estructurado JSON.\n",
    "IMGSZ=640 # Establece las dimensiones en píxeles de la imagen de entrada para la validación del modelo de deteccion. Puede ser un número entero, como 640 para un cuadrado perfecto, o una tupla, como (640, 480), para dimensiones específicas de ancho y alto. Se recomienda usar el mismo valor que utilizo durante el entrenamiento del modelo.\n",
    "BATCH=16 # Define la cantidad de imágenes procesadas simultáneamente en una iteración para la validación en detecciones de objetos. El valor predeterminado es 16; se recomienda establecerlo en -1 para utilizar AutoBatch, que ajusta automáticamente el tamaño del lote para optimizar el rendimiento y la eficiencia del entrenamiento, evitando problemas de memoria. Si desea personalizarlo, establezca el valor como un número entero.\n",
    "SAVE_HYBRID=True # Activa la función con True para guardar una versión híbrida de la etiqueta, incluyendo la original y predicciones adicionales. Útil para el análisis detallado del rendimiento del modelo deteccion durante la validación; establezca en False para mostrar solo las predicciones.\n",
    "CONF=0.5 # Establece el umbral de confianza para la validación de clases en la tarea de deteccion. Se recomienda un valor entre 0.5 y 0.10. Un umbral más alto mejora la precisión pero reduce la frecuencia de predicciones, mientras que un umbral más bajo aumenta la frecuencia pero disminuye la precisión. \n",
    "MAX_DET=10 # Toma como valor solo números enteros. Índica el límite de la cantidad máxima de objetos que el modelo intentara detectar en una imagen. Se recomienda establecer un valor alto para evitar perder detecciones relevantes.\n",
    "DEVICE='CPU' # Especifica el dispositivo de ejecución para la prueba de validación en la operación de deteccion. Puede seleccionar entre CPU o GPU. Si no dispone de una GPU con Cuda, se recomienda utilizar la CPU mediante el parámetro device='cpu'. En caso de contar con Cuda, puede especificar una GPU con device='cuda:0'; el número representa el identificador de la GPU disponible en el sistema. También es posible utilizar múltiples GPUs mediante device='cuda:0,1,2'.\n",
    "PLOTS=True # Utilice valores booleanos (Verdadero o Falso) para controlar la generación de gráficos que permite visualizar y monitorear la pérdida y la precisión durante la validación en la deteccion de objetos. Establecer plots=True activara la función; si desea desactivarla, establezca el valor del hiperparámetro en False.\n",
    "RECT=False # Habilita la formación rectangular en cada lote, redimensionando las imágenes para que todas tengan la misma forma rectangular. Puedes establecerlo en True si tu conjunto de datos es extenso y deseas acelerar el tiempo de validación en la deteccion de objetos. De lo contrario, si se establece en False el modelo se entrena en el orden normal procesando todos los datos de un lote antes de pasar al siguiente.\n",
    "IOU=0.6 # El umbral predeterminado para la supresión no máxima (NMS) en la validación YOLO es 0,6. Este umbral de IoU (intersección sobre unión) es fundamental para NMS porque determina el grado mínimo de superposición requerido para que dos cuadros delimitadores se consideren el mismo objeto. Un umbral de IoU más bajo hace que NMS sea más conservador, mientras que un umbral de IoU más alto permite que un NMS más relajado evite eliminar los verdaderos positivos.\n",
    "\n",
    "selected_model_det.val(name=NAME, data=DATA, save_json=SAVE_JSON, imgsz=IMGSZ, batch=BATCH, save_hybrid=SAVE_HYBRID, conf=CONF, max_det=MAX_DET, device=DEVICE, plots=PLOTS, rect=RECT, iou=IOU, save_json=True)"
   ]
  },
  {
   "cell_type": "markdown",
   "metadata": {},
   "source": [
    "<span style=\"font-family: 'Bahnschrift Light'; font-size: 40px\">Configuración de fuentes</span>"
   ]
  },
  {
   "cell_type": "markdown",
   "metadata": {},
   "source": [
    "Para utilizar múltiples fuentes de datos al realizar predicciones con el modelo, se requiere que se ajuste el parámetro'source' a sus necesidades, tal como se indica en la siguiente tabla:\n",
    "| Fuentes          | Asignación                             | Tipo             | Notas                                                           |\n",
    "| --------------- | ------------------------------------ | ----------------- | --------------------------------------------------------------- |\n",
    "| `image`           | 'image.jpg'                          | str or Path       | Archivo que contiene una única imagen.                                              |\n",
    "| `URL`             | 'https://ultralytics.com/images/bus.jpg' | str               | Dirección que especifica la ubicación de una imagen en la web.                                                 |\n",
    "| `screenshot`      | 'screen'                             | str               | El sistema captura la imagen actualmente visible en la pantalla y la utiliza como entrada para el modelo.                                           |\n",
    "| `PIL`             | Image.open('im.jpg')                 | PIL.Image         | Utilizado para cargar imágenes en formato HWC (altura, ancho, canales) con canales RGB (rojo, verde y azul) mediante la biblioteca Python Imaging Library (PIL).                                   |\n",
    "| `OpenCV`          | cv2.imread('im.jpg')                 | np.ndarray        | Permite la lectura de una imagen desde un archivo en formato HWC con canales BGR (azul, verde, rojo) utilizando la biblioteca OpenCV, almacenando la imagen como un array de NumPy.                    |\n",
    "| `numpy`           | np.zeros((640,1280,3))               | np.ndarray        | Genera un array de ceros con las dimensiones especificadas para un formato HWC con canales BGR, utilizando la biblioteca NumPy.                    |\n",
    "| `torch`           | torch.zeros(16,3,320,640)            | torch.Tensor      | Crea un tensor de ceros con las dimensiones especificadas para un formato HWC con canales RGB, empleando el framework PyTorch.               |\n",
    "| `CSV`             | 'sources.csv'                        | str or Path       | Archivo de texto que almacena las rutas a las imágenes que se procesarán.   |\n",
    "| `video`          | 'video.mp4'                          | str or Path       | Proporciona acceso a un archivo de video único.                       |\n",
    "| `directory`      | 'path/'                              | str or Path       | Directorio que contiene múltiples archivos de imagen.               |\n",
    "| `glob`           | 'path/*.jpg'                         | str               | Permite acceder a varias imágenes en un directorio usando expresiones de coincidencia de patrones. |\n",
    "| `YouTube`        | 'https://youtu.be/LNwODJXcvt4'       | str               | Facilita el acceso a videos desde la plataforma YouTube.                                         |\n",
    "| `stream`         | 'rtsp://example.com/media.mp4'      | str               | Permite la conexión a flujos de video o audio en tiempo real mediante protocolos como RTSP, RTMP, TCP o IP, ya sea a través de internet o una red local. |\n",
    "| `multi-stream`   | 'list.streams'                       | str or Path       | Se utiliza para transmitir varios flujos de medios simultáneamente, permitiendo el procesamiento y análisis paralelo de múltiples flujos de medios. |"
   ]
  },
  {
   "cell_type": "markdown",
   "metadata": {},
   "source": [
    "Formatos para las imágenes: \n",
    "\n",
    "| Image Suffixes | Reference                           |\n",
    "| --------------- | ----------------------------------- |\n",
    "| .bmp            | [Microsoft BMP File Format](https://docs.fileformat.com/es/image/bmp/)           |\n",
    "| .dng            | [Adobe DNG](https://docs.fileformat.com/es/image/dng/)                           |\n",
    "| .jpeg           | [JPEG](https://docs.fileformat.com/es/image/jpeg/)                                |\n",
    "| .jpg            | [JPEG](https://docs.fileformat.com/es/image/jpeg/)                                |\n",
    "| .mpo            | [Multi Picture Object](https://docs.fileformat.com/es/image/mpo/)                |\n",
    "| .png            | [Portable Network Graphics](https://docs.fileformat.com/es/image/png/)           |\n",
    "| .tif            | [Tag Image File Format](https://docs.fileformat.com/es/image/tiff/)               |\n",
    "| .tiff           | [Tag Image File Format](https://docs.fileformat.com/es/image/tiff/)               |\n",
    "| .webp           | [WebP](https://docs.fileformat.com/es/image/webp/)                                |\n",
    "| .pfm            | [Portable FloatMap](https://docs.fileformat.com/font/pfm/)                   |\n"
   ]
  },
  {
   "cell_type": "markdown",
   "metadata": {},
   "source": [
    "Formatos para los videos: \n",
    "\n",
    "| Video Suffixes | Reference                           |\n",
    "| -------------- | ----------------------------------- |\n",
    "| .asf           | [Advanced Systems Format](https://docs.fileformat.com/es/video/asf/)             |\n",
    "| .avi           | [Audio Video Interleave](https://docs.fileformat.com/es/video/avi/)              |\n",
    "| .gif           | [Graphics Interchange Format]()          |\n",
    "| .m4v           | [MPEG-4 Part 14](https://docs.fileformat.com/es/video/m4v/)                      |\n",
    "| .mkv           | [Matroska](https://docs.fileformat.com/es/video/mkv/)                            |\n",
    "| .mov           | [QuickTime File Format](https://docs.fileformat.com/es/video/mov/)               |\n",
    "| .mp4           | [MPEG-4](https://docs.fileformat.com/es/video/mp4/)          |\n",
    "| .mpeg          | [MPEG-1](https://docs.fileformat.com/es/video/mpeg/)                       |\n",
    "| .mpg           | [MPEG-1](https://docs.fileformat.com/es/video/mpeg/)                       |\n",
    "| .ts            | [MPEG Transport Stream](https://docs.fileformat.com/es/video/ts/)               |\n",
    "| .wmv           | [Windows Media Video](https://docs.fileformat.com/es/video/wmv/)                 |\n",
    "| .webm          | [WebM Project](https://docs.fileformat.com/es/video/webm/)      "
   ]
  },
  {
   "cell_type": "markdown",
   "metadata": {},
   "source": [
    "<span style=\"font-family: 'Bahnschrift Light'; font-size: 40px\">PREDICCIÓN</span>"
   ]
  },
  {
   "cell_type": "code",
   "execution_count": 2,
   "metadata": {},
   "outputs": [
    {
     "name": "stdout",
     "output_type": "stream",
     "text": [
      "\n",
      "image 1/10 C:\\Users\\matrix\\pruebayolo\\pruebaimagenes\\20170531_010133.jpg: 384x640 (no detections), 163.9ms\n",
      "image 2/10 C:\\Users\\matrix\\pruebayolo\\pruebaimagenes\\OIP (1).jpg: 480x640 (no detections), 125.5ms\n",
      "image 3/10 C:\\Users\\matrix\\pruebayolo\\pruebaimagenes\\R.jpg: 384x640 (no detections), 79.7ms\n",
      "image 4/10 C:\\Users\\matrix\\pruebayolo\\pruebaimagenes\\abolladura-en-un-coche-632c58a6e2ea5.jpg: 448x640 1 rayon, 82.3ms\n",
      "image 5/10 C:\\Users\\matrix\\pruebayolo\\pruebaimagenes\\abolladuraautos-fd03b3bae67d7363172c41cc00198c51-1200x800.jpg: 448x640 1 rayon, 83.7ms\n",
      "image 6/10 C:\\Users\\matrix\\pruebayolo\\pruebaimagenes\\big_ray.jpg: 320x640 (no detections), 61.2ms\n",
      "image 7/10 C:\\Users\\matrix\\pruebayolo\\pruebaimagenes\\coche-después-de-una-ruina-la-necesidad-ser-reparado-esperándola-es-demanda-de-seguro-29745503.jpg: 448x640 (no detections), 85.8ms\n",
      "image 8/10 C:\\Users\\matrix\\pruebayolo\\pruebaimagenes\\rayahori.webp: 384x640 (no detections), 67.5ms\n",
      "image 9/10 C:\\Users\\matrix\\pruebayolo\\pruebaimagenes\\rayonesauto-e68618ca9c3d6859cebc796c300aea97-1200x0.jpg: 352x640 (no detections), 85.9ms\n",
      "image 10/10 C:\\Users\\matrix\\pruebayolo\\pruebaimagenes\\trucos-para-quitar-abolladuras-del-coche.imagen-1013x675.jpg: 448x640 (no detections), 118.9ms\n",
      "Speed: 1.2ms preprocess, 95.4ms inference, 0.5ms postprocess per image at shape (1, 3, 448, 640)\n",
      "Results saved to \u001b[1mC:\\Users\\matrix\\pruebayolo\\modelos\\runs\\detect\\PruebaPrediccion_abolladura\u001b[0m\n",
      "2 labels saved to C:\\Users\\matrix\\pruebayolo\\modelos\\runs\\detect\\PruebaPrediccion_abolladura\\labels\n",
      "\n",
      "image 1/10 C:\\Users\\matrix\\pruebayolo\\pruebaimagenes\\20170531_010133.jpg: 384x640 (no detections), 82.8ms\n",
      "image 2/10 C:\\Users\\matrix\\pruebayolo\\pruebaimagenes\\OIP (1).jpg: 480x640 (no detections), 85.6ms\n",
      "image 3/10 C:\\Users\\matrix\\pruebayolo\\pruebaimagenes\\R.jpg: 384x640 2 abolladuras, 63.2ms\n",
      "image 4/10 C:\\Users\\matrix\\pruebayolo\\pruebaimagenes\\abolladura-en-un-coche-632c58a6e2ea5.jpg: 448x640 (no detections), 121.8ms\n",
      "image 5/10 C:\\Users\\matrix\\pruebayolo\\pruebaimagenes\\abolladuraautos-fd03b3bae67d7363172c41cc00198c51-1200x800.jpg: 448x640 (no detections), 98.0ms\n",
      "image 6/10 C:\\Users\\matrix\\pruebayolo\\pruebaimagenes\\big_ray.jpg: 320x640 (no detections), 59.6ms\n",
      "image 7/10 C:\\Users\\matrix\\pruebayolo\\pruebaimagenes\\coche-después-de-una-ruina-la-necesidad-ser-reparado-esperándola-es-demanda-de-seguro-29745503.jpg: 448x640 1 abolladura, 75.8ms\n",
      "image 8/10 C:\\Users\\matrix\\pruebayolo\\pruebaimagenes\\rayahori.webp: 384x640 (no detections), 68.8ms\n",
      "image 9/10 C:\\Users\\matrix\\pruebayolo\\pruebaimagenes\\rayonesauto-e68618ca9c3d6859cebc796c300aea97-1200x0.jpg: 352x640 (no detections), 86.5ms\n",
      "image 10/10 C:\\Users\\matrix\\pruebayolo\\pruebaimagenes\\trucos-para-quitar-abolladuras-del-coche.imagen-1013x675.jpg: 448x640 (no detections), 67.1ms\n",
      "Speed: 3.1ms preprocess, 80.9ms inference, 2.3ms postprocess per image at shape (1, 3, 448, 640)\n",
      "Results saved to \u001b[1mC:\\Users\\matrix\\pruebayolo\\modelos\\runs\\detect\\PruebaPrediccion_rayon\u001b[0m\n",
      "2 labels saved to C:\\Users\\matrix\\pruebayolo\\modelos\\runs\\detect\\PruebaPrediccion_rayon\\labels\n",
      "\n",
      "image 1/10 C:\\Users\\matrix\\pruebayolo\\pruebaimagenes\\20170531_010133.jpg: 384x640 1 car, 300.9ms\n",
      "image 2/10 C:\\Users\\matrix\\pruebayolo\\pruebaimagenes\\OIP (1).jpg: 480x640 (no detections), 367.1ms\n",
      "image 3/10 C:\\Users\\matrix\\pruebayolo\\pruebaimagenes\\R.jpg: 384x640 1 car, 291.6ms\n",
      "image 4/10 C:\\Users\\matrix\\pruebayolo\\pruebaimagenes\\abolladura-en-un-coche-632c58a6e2ea5.jpg: 448x640 1 car, 301.2ms\n",
      "image 5/10 C:\\Users\\matrix\\pruebayolo\\pruebaimagenes\\abolladuraautos-fd03b3bae67d7363172c41cc00198c51-1200x800.jpg: 448x640 1 car, 353.0ms\n",
      "image 6/10 C:\\Users\\matrix\\pruebayolo\\pruebaimagenes\\big_ray.jpg: 320x640 1 car, 267.4ms\n",
      "image 7/10 C:\\Users\\matrix\\pruebayolo\\pruebaimagenes\\coche-después-de-una-ruina-la-necesidad-ser-reparado-esperándola-es-demanda-de-seguro-29745503.jpg: 448x640 (no detections), 317.0ms\n",
      "image 8/10 C:\\Users\\matrix\\pruebayolo\\pruebaimagenes\\rayahori.webp: 384x640 (no detections), 266.4ms\n",
      "image 9/10 C:\\Users\\matrix\\pruebayolo\\pruebaimagenes\\rayonesauto-e68618ca9c3d6859cebc796c300aea97-1200x0.jpg: 352x640 1 car, 300.7ms\n",
      "image 10/10 C:\\Users\\matrix\\pruebayolo\\pruebaimagenes\\trucos-para-quitar-abolladuras-del-coche.imagen-1013x675.jpg: 448x640 (no detections), 339.9ms\n",
      "Speed: 1.0ms preprocess, 310.5ms inference, 3.4ms postprocess per image at shape (1, 3, 448, 640)\n",
      "Results saved to \u001b[1mC:\\Users\\matrix\\pruebayolo\\modelos\\runs\\detect\\PruebaPrediccion_carro\u001b[0m\n",
      "6 labels saved to C:\\Users\\matrix\\pruebayolo\\modelos\\runs\\detect\\PruebaPrediccion_carro\\labels\n"
     ]
    }
   ],
   "source": [
    "SOURCE='C:/Users/matrix/pruebayolo/pruebaimagenes' # Establezca el origen de datos que el modelo de detección utilizará para realizar predicciones. Configure el valor de este hiperparámetro según la tabla proporcionada anteriormente.\n",
    "MAX_DET=10 # Toma como valor solo números enteros. Índica el límite de la cantidad máxima de objetos que el modelo intentara predecir en una imagen. Se recomienda establecer un valor alto para evitar perder detecciones relevantes.\n",
    "IMGSZ=640 # Establezca las dimensiones en píxeles de la imagen de entrada durante la predicción en tareas de detección. Puede ser un número entero, como 640 para un cuadrado perfecto, o una tupla, como (640, 480), para dimensiones específicas de ancho y alto. Se recomienda utilizar los mismos valores utilizados durante el entrenamiento del modelo para mantener la coherencia en la inferencia.\n",
    "CONF=0.5 # Establece el umbral de confianza durante el proceso de predicción en la tarea de detección. Se recomienda establecer el valor hiperparámetro entre 0.5 y 0.10. Un umbral más alto mejora la precisión pero reduce la frecuencia de predicciones, mientras que un umbral más bajo aumenta la frecuencia pero disminuye la precisión en la inferencia.\n",
    "LINE_WIDTH= None # Determina el grosor en píxeles de los cuadros delimitadores que rodean los objetos detectados por el modelo. Puede establecer el grosor de la línea como un número entero en el que, a mayor valor, la línea será más gruesa, también puede utilizar como valor None para que el grosor se ajuste de forma automatizada, proporcionando una línea proporcional al tamaño de la imagen.\n",
    "VISUALIZE=False # Determina si las características del modelo de detección deben mostrarse durante la predicción. Establecer esto en True permite que las características se muestren como mapas intermedias, lo que hace que el modelo sea más fácil de entender. Si se establece en False, no se mostrarán las características del modelo. \n",
    "IOU=0.7 # El umbral predeterminado para la supresión no máxima (NMS) en la validación YOLO es 0,7. Este umbral de IoU (intersección sobre unión) es fundamental para NMS porque determina el grado mínimo de superposición requerido para que dos cuadros delimitadores se consideren la misma detección. Un umbral de IoU más bajo hace que NMS sea más conservador, mientras que un umbral de IoU más alto permite que un NMS más relajado evite eliminar los verdaderos positivos.\n",
    "DEVICE='cpu' # Especifica el dispositivo de ejecución para la prueba de predicción en la operación de detección. Puede seleccionar entre CPU o GPU. Si no dispone de una GPU con Cuda, se recomienda utilizar la CPU mediante el parámetro device='cpu'. En caso de contar con Cuda, puede especificar una GPU con device='cuda:0'; el número representa el identificador de la GPU disponible en el sistema. También es posible utilizar múltiples GPUs mediante device='cuda:0,1,2'.\n",
    "VID_STRIDE=False # Controla la velocidad de los fotogramas durante el proceso de predicción en vídeos o secuencias de tiempo real. Al establecerlo en True el modelo se adapta a la velocidad de fotogramas especificada por la fuente de vídeo, procesando cada fotograma individualmente. Para desactivar esta función indique como valor False.\n",
    "STREAM_BUFFER=False # Controla el almacenamiento en búfer de los fotogramas para la detección. Si es True, se almacenan todos los fotogramas para el procesamiento en tiempo real de vídeos o transmisiones en directo; si es False, devuelve el fotograma más reciente.\n",
    "SAVE_FRAMES=False # Controla la captura y almacenamiento de los fotogramas predichos por el modelo de detección. Con True, se guardarán todos los fotogramas individuales predichos; con False, no se realizará el almacenamiento de los fotogramas.\n",
    "AUGMENT=False # Aplica transformaciones a las imágenes de entrada, tales como giros, rotaciones, recortes y cambios de color, para diversificar los datos y mejorar la predicción en la detección. Establecer en True para activar la función, False para desactivar.\n",
    "SAVE_CROP=True # Determina si se deben guardar imágenes recortadas con los resultados durante la predicción en la detección. Al establecerlo en \"False\", las imágenes recortadas no se guardarán, lo que reduce el tamaño del archivo. Con el valor \"True\", se guardarán las imágenes recortadas correspondientes a las áreas detectadas.\n",
    "SHOW=False # Determina si se deben mostrar las imágenes o vídeos detectados durante la predicción. Al establecerlo en \"True\", permite la visualización de las predicciones en el mismo entorno, proporcionando una representación visual de los resultados. Si se establece en \"False\", las predicciones no se mostrarán. \n",
    "\n",
    "trained_model_det='C:/Users/matrix/pruebayolo/modelos/deteccion/experimentos/prueba_entrenamiento/weights/best.pt'\n",
    "model_original= 'yolov8m.pt'\n",
    "\n",
    "def train_classes(model_preentrenado, model_original):\n",
    "    try:\n",
    "        selected_model_det=YOLO(model_preentrenado)\n",
    "        \n",
    "        resultado_rayon= selected_model_det.predict(name='PruebaPrediccion_abolladura', source=SOURCE,conf=CONF, save_txt=True, max_det=MAX_DET, line_width=LINE_WIDTH, visualize=VISUALIZE, imgsz=IMGSZ, iou=IOU, device=DEVICE, vid_stride=VID_STRIDE, stream_buffer=STREAM_BUFFER, classes=0,  save_crop=SAVE_CROP, show=SHOW, save_frames=SAVE_FRAMES, save=True, save_conf=True) \n",
    "        \n",
    "        resultado_abolladura= selected_model_det.predict(name='PruebaPrediccion_rayon', source=SOURCE,conf=CONF, save_txt=True, max_det=MAX_DET, line_width=LINE_WIDTH, visualize=VISUALIZE, imgsz=IMGSZ, iou=IOU, device=DEVICE, vid_stride=VID_STRIDE, stream_buffer=STREAM_BUFFER, classes=1,  save_crop=SAVE_CROP, show=SHOW, save_frames=SAVE_FRAMES, save=True, save_conf=True)\n",
    "        \n",
    "        if resultado_rayon or resultado_abolladura is not None:\n",
    "            \n",
    "            selected_model_det_car=YOLO(model_original)\n",
    "            resultado_carro= selected_model_det_car.predict(name='PruebaPrediccion_carro', source=SOURCE,conf=CONF, save_txt=True, max_det=MAX_DET, line_width=LINE_WIDTH, visualize=VISUALIZE, imgsz=IMGSZ, iou=IOU, device=DEVICE, vid_stride=VID_STRIDE, stream_buffer=STREAM_BUFFER, classes=2,  save_crop=SAVE_CROP, show=SHOW, save_frames=SAVE_FRAMES, save=True, save_conf=True) \n",
    "            \n",
    "        return resultado_rayon, resultado_abolladura, resultado_carro\n",
    "    \n",
    "    except Exception as e:\n",
    "        print(f'Error en el entrenamiento del modelo: {e}')\n",
    "\n",
    "results_rayon, results_abolladura, results_car= train_classes(trained_model_det, model_original)"
   ]
  },
  {
   "cell_type": "code",
   "execution_count": 5,
   "metadata": {},
   "outputs": [
    {
     "name": "stdout",
     "output_type": "stream",
     "text": [
      "tensor([[ 898.9678,  444.5550, 1394.4542,  885.5967]])\n",
      "tensor([], size=(0, 4))\n",
      "tensor([[360.0659, 271.8743, 714.5593, 542.2197]])\n",
      "tensor([[ 600.8815,  392.4606, 1192.8140,  783.6515]])\n",
      "tensor([[ 603.6735,  395.8769, 1185.2156,  788.6349]])\n",
      "tensor([[381.4722, 140.8686, 432.4609, 280.8281]])\n",
      "tensor([], size=(0, 4))\n",
      "tensor([], size=(0, 4))\n",
      "tensor([[424.7021, 226.2005, 843.8230, 444.0431]])\n",
      "tensor([], size=(0, 4))\n"
     ]
    }
   ],
   "source": [
    "for i in results_car:\n",
    "    print(i.boxes.xywh)"
   ]
  },
  {
   "cell_type": "code",
   "execution_count": 14,
   "metadata": {},
   "outputs": [
    {
     "name": "stdout",
     "output_type": "stream",
     "text": [
      "tensor([], size=(0, 4))\n",
      "tensor([], size=(0, 4))\n",
      "tensor([], size=(0, 4))\n",
      "tensor([[914.3995, 251.5187, 471.9061, 384.5539]])\n",
      "tensor([[710.4998, 257.8571,  74.4111,  62.9079]])\n",
      "tensor([], size=(0, 4))\n",
      "tensor([], size=(0, 4))\n",
      "tensor([], size=(0, 4))\n",
      "tensor([], size=(0, 4))\n",
      "tensor([], size=(0, 4))\n"
     ]
    }
   ],
   "source": [
    "for i in results_rayon:\n",
    "    print(i.boxes.xywh)"
   ]
  },
  {
   "cell_type": "code",
   "execution_count": 141,
   "metadata": {},
   "outputs": [
    {
     "name": "stdout",
     "output_type": "stream",
     "text": [
      "tensor([], size=(0, 4))\n",
      "tensor([], size=(0, 4))\n",
      "tensor([[465.2177, 408.0869, 172.3942,  79.3878],\n",
      "        [450.1375, 257.9945, 323.1290, 374.3746]])\n",
      "tensor([], size=(0, 4))\n",
      "tensor([], size=(0, 4))\n",
      "tensor([], size=(0, 4))\n",
      "tensor([[239.8826, 273.2045, 363.3779, 389.4228]])\n",
      "tensor([], size=(0, 4))\n",
      "tensor([], size=(0, 4))\n",
      "tensor([], size=(0, 4))\n"
     ]
    }
   ],
   "source": [
    "for i in results_abolladura:\n",
    "    print(i.boxes.xywh)"
   ]
  },
  {
   "cell_type": "markdown",
   "metadata": {},
   "source": [
    "<span style=\"font-family: 'Bahnschrift Light'; font-size: 40px\">Función de área para cajas detectadas</span>"
   ]
  },
  {
   "cell_type": "code",
   "execution_count": null,
   "metadata": {},
   "outputs": [],
   "source": [
    "# Función de área para formato pixel\n",
    "\n",
    "def calcular_area(cajas_delimitadoras): \n",
    "    area_caja = [coordenada[2] * coordenada[3] for coordenada in cajas_delimitadoras] # Se asigna el ancho y alto a las coordenadas segun la posicion del formato x [0](coordenada x) y [1](coordenada y) w [2](ancho) h [3](alto) de las cajas delimitadoras. Para hallar el área de una caja delimitadora en la imagen, se recorren las coordenadas de la caja boxes y se multiplica la base por la altura.\n",
    "    return sum(area_caja) # Si en la imagen se encuentra mas de una deteccion del mismo conjunto, realiza la suma de cada area individual.\n",
    "     \n",
    "def procesar_deteccion_individual(deteccion_rayon, deteccion_abolladura, deteccion_carro): \n",
    "    \n",
    "    control_caja_carro = False # Se establece una variable de control para evitar obtener las coordenadas de la clase carro si en la imagen no hay detección de las clases principales. \n",
    "    \n",
    "    boxes_rayon = deteccion_rayon.boxes.xywh if deteccion_rayon.boxes is not None else 0\n",
    "   \n",
    "    boxes_abolladura = deteccion_abolladura.boxes.xywh if deteccion_abolladura.boxes is not None else 0\n",
    "    \n",
    "    if len(boxes_rayon) > 0 or len(boxes_abolladura) > 0: # Permite procesar las cajas solo si se obtiene el valor de las coordenadas.\n",
    "        area_rayon = calcular_area(boxes_rayon) \n",
    "        print(f'areas rayón: {area_rayon}')\n",
    "       \n",
    "        area_abolladura = calcular_area(boxes_abolladura)\n",
    "        print(f'áreas abolladura: {area_abolladura}')\n",
    "\n",
    "        for caja_carro in deteccion_carro: # Recorre los resultados que almacenan las cajas de deteccion para la clase carro.\n",
    "            if deteccion_rayon.path or deteccion_abolladura.path == caja_carro.path: # Se verifica que la imagen en la que se halló la identificación de las cajas principales sea la misma en la que se esta recorriendo los resultados de deteccion carro.\n",
    "                boxes_carro = caja_carro.boxes.xywh if caja_carro.boxes is not None else None # Al obtener las coordenas de la clase principal en un formato particular, se recomienda obtener las de la clase carro con el mismo formato, en este caso en pixel.\n",
    "                control_caja_carro = True # Activa la variable de control solo si se obtuvieron las coordenadas de las cajas de deteccion carro.\n",
    "                area_carro = calcular_area(boxes_carro) \n",
    "                print(f'áreas carro: {area_carro}')\n",
    "                 \n",
    "        return (area_rayon, area_abolladura, area_carro) if control_caja_carro else (area_rayon, area_abolladura, 0) # Dependiendo del valor de la variable de control retornara los valores correspondientes a las dos areas, si no se obtuvo el valor de las coordenadas para carro en la misma imagen, solo se retornara el valor del area de la clase principal.      \n",
    "    \n",
    "    else:\n",
    "        print(f'No se encontraron detecciones para la imagen! ') # Si la caja esta vacia no existira coordenadas para procesar por lo tanto retornara el valor 0 para el area afectada en cada area.\n",
    "        return boxes_rayon, boxes_abolladura, 0\n",
    "    \n",
    "def procesar_detecciones(resultado_rayon, resultado_abolladura, resultado_carro): \n",
    "    for id_objeto, caja_rayon in enumerate(resultado_rayon, 0):\n",
    "        print(f'\\nImagen {id_objeto + 1}:')\n",
    "        deteccion_abolladura = resultado_abolladura[id_objeto]\n",
    "        deteccion_carro = resultado_carro[id_objeto]\n",
    "        area_rayon, area_abolladura, area_carro = procesar_deteccion_individual(caja_rayon, deteccion_abolladura, deteccion_carro)\n",
    "\n",
    "        if area_rayon.numel() > 0 and area_rayon.item() > 0:\n",
    "            area_total_objeto = abs(area_carro - area_rayon)\n",
    "            print(f'área total afectada en la imagen: {area_total_objeto} ')\n",
    "\n",
    "        elif area_abolladura.numel() > 0 and area_abolladura.item() > 0:\n",
    "            area_total_objeto = abs(area_carro - area_abolladura)\n",
    "            print(f'área total afectada en la imagen: {area_total_objeto} ')\n",
    "\n",
    "        elif area_rayon.numel() > 0 and area_abolladura.numel() > 0:\n",
    "            area_rayon_abolladura = area_rayon + area_abolladura\n",
    "            area_total_objeto = abs(area_carro - area_rayon_abolladura)\n",
    "            print(f'área total afectada en la imagen: {area_total_objeto} ')\n",
    "\n",
    "procesar_detecciones(results_rayon, results_abolladura, results_car)\n",
    "print('\\nProceso Terminado! ')\n"
   ]
  },
  {
   "cell_type": "code",
   "execution_count": 5,
   "metadata": {},
   "outputs": [
    {
     "name": "stdout",
     "output_type": "stream",
     "text": [
      "imagen 1: \n",
      "area abolladura: 0 px^2\n",
      "area rayon: 0 px^2\n",
      "area carro 0 px^2\n",
      "imagen 2: \n",
      "area abolladura: 0 px^2\n",
      "area rayon: 0 px^2\n",
      "area carro 0 px^2\n",
      "imagen 3: \n",
      "area abolladura: 134657.3125 px^2\n",
      "area rayon: 0 px^2\n",
      "area carro: 387448.125 px^2\n",
      "area afectada en el carro por abolladura: 252790.8125 px^2\n",
      "imagen 4: \n",
      "area abolladura: 0 px^2\n",
      "area rayon: 181473.296875 px^2\n",
      "area carro: 934750.4375 px^2\n",
      "area afectada en el carro por rayon: 753277.125 px^2\n",
      "imagen 5: \n",
      "area abolladura: 0 px^2\n",
      "area rayon: 4681.04736328125 px^2\n",
      "area carro: 934702.4375 px^2\n",
      "area afectada en el carro por rayon: 930021.375 px^2\n",
      "imagen 6: \n",
      "area abolladura: 0 px^2\n",
      "area rayon: 0 px^2\n",
      "area carro 0 px^2\n",
      "imagen 7: \n",
      "area abolladura: 141507.625 px^2\n",
      "area rayon: 0 px^2\n",
      "area carro: 0 px^2\n",
      "area afectada en el carro por abolladura: -141507.625 px^2\n",
      "imagen 8: \n",
      "area abolladura: 0 px^2\n",
      "area rayon: 0 px^2\n",
      "area carro 0 px^2\n",
      "imagen 9: \n",
      "area abolladura: 0 px^2\n",
      "area rayon: 0 px^2\n",
      "area carro 0 px^2\n",
      "imagen 10: \n",
      "area abolladura: 0 px^2\n",
      "area rayon: 0 px^2\n",
      "area carro 0 px^2\n"
     ]
    }
   ],
   "source": [
    "# areas individual \n",
    "def calcular_area(cajas_delimitadoras):\n",
    "    sum_area_imagen = 0\n",
    "    for j, i in enumerate(cajas_delimitadoras):\n",
    "        if i.boxes is not None and len(i.boxes) > 0:\n",
    "            cajas = i.boxes.xywh\n",
    "            areas = (cajas[:, 2] * cajas[:, 3]) \n",
    "            sum_area_imagen += sum(areas)\n",
    "            #for area_caja in areas:\n",
    "             #   print(f'Área de detección {j + 1}: {area_caja}')\n",
    "    return sum_area_imagen \n",
    "    \n",
    "def procesar_deteccion_principal(abolladura, rayon, results_car):\n",
    "    area_carro = 0\n",
    "    for id_imagen, e_abolladura in enumerate(abolladura):\n",
    "        print(f'imagen {id_imagen + 1}: ')\n",
    "        instancia_img = e_abolladura.path\n",
    "        area_abolladura = calcular_area(e_abolladura)\n",
    "        print(f'area abolladura: {area_abolladura}px^2')\n",
    "        \n",
    "        area_rayon = 0\n",
    "        for e_rayon in rayon:\n",
    "            if e_rayon.path == instancia_img:\n",
    "                area_rayon = calcular_area(e_rayon)\n",
    "                print(f'area rayon: {area_rayon}px^2')\n",
    "\n",
    "        if area_abolladura > 0 or area_rayon > 0:\n",
    "            procesar_deteccion_segundaria(results_car, area_abolladura, area_rayon, instancia_img)\n",
    "        else:\n",
    "            print(f'area carro {area_carro}px^2')\n",
    "            \n",
    "def procesar_deteccion_segundaria(carro, area_abolladura, area_rayon, instancia_img): \n",
    "    area_total_afectada = 0   \n",
    "    sum_area_principal= 0\n",
    "    tipo_afectacion= ''\n",
    "    \n",
    "    for i in carro:   \n",
    "        if i.path == instancia_img:\n",
    "            area_carro = calcular_area(i)\n",
    "            print(f'area carro: {area_carro}px^2')\n",
    "            if area_abolladura > 0:\n",
    "                area_total_afectada = area_carro - area_abolladura\n",
    "                tipo_afectacion = 'abolladura'\n",
    "            elif area_rayon > 0:\n",
    "                area_total_afectada = area_carro - area_rayon\n",
    "                tipo_afectacion = 'rayon'\n",
    "            elif area_abolladura > 0 and area_rayon > 0:\n",
    "                sum_area_principal = area_abolladura + area_rayon\n",
    "                area_total_afectada = area_carro - sum_area_principal\n",
    "                tipo_afectacion = 'rayon_abolladura'\n",
    "                \n",
    "    print(f'area afectada en el carro por {tipo_afectacion}: {area_total_afectada}px^2')\n",
    "                \n",
    "procesar_deteccion_principal(results_abolladura, results_rayon, results_car)\n"
   ]
  },
  {
   "cell_type": "code",
   "execution_count": null,
   "metadata": {},
   "outputs": [],
   "source": [
    "def calcular_area(mascara):\n",
    "    sum_area = 0\n",
    "    if mascara is not None:\n",
    "        for e in mascara:\n",
    "            area = e[2] * e[3]\n",
    "            sum_area += area.sum().item()\n",
    "        return sum_area\n",
    "    \n",
    "def buscar_area_por_instancia(results, instancia_img):\n",
    "    for i in results:\n",
    "        if i.path == instancia_img:\n",
    "            return calcular_area(i.boxes.xywh) if i.boxes is not None and len(i.boxes) > 0 else 0\n",
    "\n",
    "def procesar_deteccion_principal(abolladura, rayon, results_car):\n",
    "    for id_imagen, e_abolladura in enumerate(abolladura):\n",
    "        print(f'\\nimagen {id_imagen + 1}: ')\n",
    "        instancia_img = e_abolladura.path\n",
    "\n",
    "        area_abolladura = buscar_area_por_instancia(abolladura, instancia_img)\n",
    "        print(f'area abolladura: {area_abolladura}px^2')\n",
    "\n",
    "        area_rayon = buscar_area_por_instancia(rayon, instancia_img)\n",
    "        print(f'area rayon: {area_rayon}px^2')\n",
    "\n",
    "        if area_abolladura > 0 or area_rayon > 0:\n",
    "            procesar_deteccion_segundaria(results_car, area_abolladura, area_rayon, instancia_img)\n",
    "        else:\n",
    "            print(f'area carro: 0px^2')\n",
    "\n",
    "def procesar_deteccion_segundaria(carro, area_abolladura, area_rayon, instancia_img):\n",
    "    area_carro = buscar_area_por_instancia(carro, instancia_img)\n",
    "    print(f'area carro: {area_carro}px^2')\n",
    "\n",
    "    area_total_afectada = abs(area_carro - area_abolladura) if area_abolladura > 0 else 0\n",
    "    area_total_afectada = abs(area_carro - area_rayon) if area_rayon > 0 else area_total_afectada\n",
    "    if area_abolladura > 0 and area_rayon > 0:\n",
    "        sum_area_principal = area_abolladura + area_rayon \n",
    "        area_total_afectada = sum_area_principal - area_carro\n",
    "\n",
    "    print(f'area afectada en el carro: {area_total_afectada}px^2')\n",
    "\n",
    "procesar_deteccion_principal(results_abolladura, results_rayon, results_car)\n"
   ]
  },
  {
   "cell_type": "code",
   "execution_count": 108,
   "metadata": {},
   "outputs": [
    {
     "data": {
      "text/html": [
       "<style type=\"text/css\">\n",
       "#T_b720c_row0_col0, #T_b720c_row0_col1, #T_b720c_row0_col2, #T_b720c_row0_col3, #T_b720c_row0_col4, #T_b720c_row1_col0, #T_b720c_row1_col1, #T_b720c_row1_col2, #T_b720c_row1_col3, #T_b720c_row1_col4, #T_b720c_row2_col0, #T_b720c_row2_col1, #T_b720c_row2_col2, #T_b720c_row2_col3, #T_b720c_row2_col4, #T_b720c_row3_col0, #T_b720c_row3_col1, #T_b720c_row3_col2, #T_b720c_row3_col3, #T_b720c_row3_col4, #T_b720c_row4_col0, #T_b720c_row4_col1, #T_b720c_row4_col2, #T_b720c_row4_col3, #T_b720c_row4_col4, #T_b720c_row5_col0, #T_b720c_row5_col1, #T_b720c_row5_col2, #T_b720c_row5_col3, #T_b720c_row5_col4, #T_b720c_row6_col0, #T_b720c_row6_col1, #T_b720c_row6_col2, #T_b720c_row6_col3, #T_b720c_row6_col4, #T_b720c_row7_col0, #T_b720c_row7_col1, #T_b720c_row7_col2, #T_b720c_row7_col3, #T_b720c_row7_col4, #T_b720c_row8_col0, #T_b720c_row8_col1, #T_b720c_row8_col2, #T_b720c_row8_col3, #T_b720c_row8_col4, #T_b720c_row9_col0, #T_b720c_row9_col1, #T_b720c_row9_col2, #T_b720c_row9_col3, #T_b720c_row9_col4 {\n",
       "  text-align: rigth;\n",
       "}\n",
       "</style>\n",
       "<table id=\"T_b720c\">\n",
       "  <thead>\n",
       "    <tr>\n",
       "      <th class=\"blank level0\" >&nbsp;</th>\n",
       "      <th id=\"T_b720c_level0_col0\" class=\"col_heading level0 col0\" >imagen</th>\n",
       "      <th id=\"T_b720c_level0_col1\" class=\"col_heading level0 col1\" >área abolladura</th>\n",
       "      <th id=\"T_b720c_level0_col2\" class=\"col_heading level0 col2\" >área rayon</th>\n",
       "      <th id=\"T_b720c_level0_col3\" class=\"col_heading level0 col3\" >área carro</th>\n",
       "      <th id=\"T_b720c_level0_col4\" class=\"col_heading level0 col4\" >total afectación</th>\n",
       "    </tr>\n",
       "  </thead>\n",
       "  <tbody>\n",
       "    <tr>\n",
       "      <th id=\"T_b720c_level0_row0\" class=\"row_heading level0 row0\" >0</th>\n",
       "      <td id=\"T_b720c_row0_col0\" class=\"data row0 col0\" >1</td>\n",
       "      <td id=\"T_b720c_row0_col1\" class=\"data row0 col1\" >0px^2</td>\n",
       "      <td id=\"T_b720c_row0_col2\" class=\"data row0 col2\" >0px^2</td>\n",
       "      <td id=\"T_b720c_row0_col3\" class=\"data row0 col3\" >0px^2</td>\n",
       "      <td id=\"T_b720c_row0_col4\" class=\"data row0 col4\" >0px^2</td>\n",
       "    </tr>\n",
       "    <tr>\n",
       "      <th id=\"T_b720c_level0_row1\" class=\"row_heading level0 row1\" >1</th>\n",
       "      <td id=\"T_b720c_row1_col0\" class=\"data row1 col0\" >2</td>\n",
       "      <td id=\"T_b720c_row1_col1\" class=\"data row1 col1\" >0px^2</td>\n",
       "      <td id=\"T_b720c_row1_col2\" class=\"data row1 col2\" >0px^2</td>\n",
       "      <td id=\"T_b720c_row1_col3\" class=\"data row1 col3\" >0px^2</td>\n",
       "      <td id=\"T_b720c_row1_col4\" class=\"data row1 col4\" >0px^2</td>\n",
       "    </tr>\n",
       "    <tr>\n",
       "      <th id=\"T_b720c_level0_row2\" class=\"row_heading level0 row2\" >2</th>\n",
       "      <td id=\"T_b720c_row2_col0\" class=\"data row2 col0\" >3</td>\n",
       "      <td id=\"T_b720c_row2_col1\" class=\"data row2 col1\" >134657px^2</td>\n",
       "      <td id=\"T_b720c_row2_col2\" class=\"data row2 col2\" >0px^2</td>\n",
       "      <td id=\"T_b720c_row2_col3\" class=\"data row2 col3\" >387448px^2</td>\n",
       "      <td id=\"T_b720c_row2_col4\" class=\"data row2 col4\" >252791px^2</td>\n",
       "    </tr>\n",
       "    <tr>\n",
       "      <th id=\"T_b720c_level0_row3\" class=\"row_heading level0 row3\" >3</th>\n",
       "      <td id=\"T_b720c_row3_col0\" class=\"data row3 col0\" >4</td>\n",
       "      <td id=\"T_b720c_row3_col1\" class=\"data row3 col1\" >0px^2</td>\n",
       "      <td id=\"T_b720c_row3_col2\" class=\"data row3 col2\" >181473px^2</td>\n",
       "      <td id=\"T_b720c_row3_col3\" class=\"data row3 col3\" >934750px^2</td>\n",
       "      <td id=\"T_b720c_row3_col4\" class=\"data row3 col4\" >753277px^2</td>\n",
       "    </tr>\n",
       "    <tr>\n",
       "      <th id=\"T_b720c_level0_row4\" class=\"row_heading level0 row4\" >4</th>\n",
       "      <td id=\"T_b720c_row4_col0\" class=\"data row4 col0\" >5</td>\n",
       "      <td id=\"T_b720c_row4_col1\" class=\"data row4 col1\" >0px^2</td>\n",
       "      <td id=\"T_b720c_row4_col2\" class=\"data row4 col2\" >4681px^2</td>\n",
       "      <td id=\"T_b720c_row4_col3\" class=\"data row4 col3\" >934702px^2</td>\n",
       "      <td id=\"T_b720c_row4_col4\" class=\"data row4 col4\" >930021px^2</td>\n",
       "    </tr>\n",
       "    <tr>\n",
       "      <th id=\"T_b720c_level0_row5\" class=\"row_heading level0 row5\" >5</th>\n",
       "      <td id=\"T_b720c_row5_col0\" class=\"data row5 col0\" >6</td>\n",
       "      <td id=\"T_b720c_row5_col1\" class=\"data row5 col1\" >0px^2</td>\n",
       "      <td id=\"T_b720c_row5_col2\" class=\"data row5 col2\" >0px^2</td>\n",
       "      <td id=\"T_b720c_row5_col3\" class=\"data row5 col3\" >0px^2</td>\n",
       "      <td id=\"T_b720c_row5_col4\" class=\"data row5 col4\" >0px^2</td>\n",
       "    </tr>\n",
       "    <tr>\n",
       "      <th id=\"T_b720c_level0_row6\" class=\"row_heading level0 row6\" >6</th>\n",
       "      <td id=\"T_b720c_row6_col0\" class=\"data row6 col0\" >7</td>\n",
       "      <td id=\"T_b720c_row6_col1\" class=\"data row6 col1\" >141508px^2</td>\n",
       "      <td id=\"T_b720c_row6_col2\" class=\"data row6 col2\" >0px^2</td>\n",
       "      <td id=\"T_b720c_row6_col3\" class=\"data row6 col3\" >0px^2</td>\n",
       "      <td id=\"T_b720c_row6_col4\" class=\"data row6 col4\" >141508px^2</td>\n",
       "    </tr>\n",
       "    <tr>\n",
       "      <th id=\"T_b720c_level0_row7\" class=\"row_heading level0 row7\" >7</th>\n",
       "      <td id=\"T_b720c_row7_col0\" class=\"data row7 col0\" >8</td>\n",
       "      <td id=\"T_b720c_row7_col1\" class=\"data row7 col1\" >0px^2</td>\n",
       "      <td id=\"T_b720c_row7_col2\" class=\"data row7 col2\" >0px^2</td>\n",
       "      <td id=\"T_b720c_row7_col3\" class=\"data row7 col3\" >0px^2</td>\n",
       "      <td id=\"T_b720c_row7_col4\" class=\"data row7 col4\" >0px^2</td>\n",
       "    </tr>\n",
       "    <tr>\n",
       "      <th id=\"T_b720c_level0_row8\" class=\"row_heading level0 row8\" >8</th>\n",
       "      <td id=\"T_b720c_row8_col0\" class=\"data row8 col0\" >9</td>\n",
       "      <td id=\"T_b720c_row8_col1\" class=\"data row8 col1\" >0px^2</td>\n",
       "      <td id=\"T_b720c_row8_col2\" class=\"data row8 col2\" >0px^2</td>\n",
       "      <td id=\"T_b720c_row8_col3\" class=\"data row8 col3\" >0px^2</td>\n",
       "      <td id=\"T_b720c_row8_col4\" class=\"data row8 col4\" >0px^2</td>\n",
       "    </tr>\n",
       "    <tr>\n",
       "      <th id=\"T_b720c_level0_row9\" class=\"row_heading level0 row9\" >9</th>\n",
       "      <td id=\"T_b720c_row9_col0\" class=\"data row9 col0\" >10</td>\n",
       "      <td id=\"T_b720c_row9_col1\" class=\"data row9 col1\" >0px^2</td>\n",
       "      <td id=\"T_b720c_row9_col2\" class=\"data row9 col2\" >0px^2</td>\n",
       "      <td id=\"T_b720c_row9_col3\" class=\"data row9 col3\" >0px^2</td>\n",
       "      <td id=\"T_b720c_row9_col4\" class=\"data row9 col4\" >0px^2</td>\n",
       "    </tr>\n",
       "  </tbody>\n",
       "</table>\n"
      ],
      "text/plain": [
       "<pandas.io.formats.style.Styler at 0x20cacec5c60>"
      ]
     },
     "execution_count": 108,
     "metadata": {},
     "output_type": "execute_result"
    }
   ],
   "source": [
    "#áreas totales\n",
    "def calcular_area(mascara):\n",
    "    sum_area = 0\n",
    "    if mascara is not None:\n",
    "        for e in mascara:\n",
    "            area = torch.round(e[2] * e[3]).int()\n",
    "            sum_area += area.sum().item()\n",
    "        return sum_area\n",
    "    \n",
    "def buscar_area_por_instancia(results, instancia_img):\n",
    "    for i in results:\n",
    "        if i.path == instancia_img:\n",
    "            return calcular_area(i.boxes.xywh) if i.boxes is not None and len(i.boxes) > 0 else 0\n",
    "\n",
    "def procesar_deteccion_principal(abolladura, rayon, results_car):\n",
    "    data = {'imagen':[], 'área abolladura':[], 'área rayon':[], 'área carro':[], 'total afectación':[]}\n",
    "    \n",
    "    for id_imagen, e_abolladura in enumerate(abolladura):\n",
    "        instancia_img = e_abolladura.path\n",
    "        area_abolladura = buscar_area_por_instancia(abolladura, instancia_img)\n",
    "        area_rayon = buscar_area_por_instancia(rayon, instancia_img)\n",
    "        \n",
    "        data['imagen'].append(f'{id_imagen + 1}')\n",
    "        data['área abolladura'].append(f'{area_abolladura}px^2')\n",
    "        data['área rayon'].append(f'{area_rayon}px^2')\n",
    "        \n",
    "        if area_abolladura > 0 or area_rayon > 0:\n",
    "            resultado_carro= procesar_deteccion_segundaria(results_car, area_abolladura, area_rayon, instancia_img)\n",
    "            data['área carro'].append(f'{resultado_carro[\"area_carro\"]}px^2')\n",
    "            data['total afectación'].append(f'{resultado_carro[\"area_afectada\"]}px^2')\n",
    "        else:\n",
    "            data['área carro'].append('0px^2')\n",
    "            data['total afectación'].append('0px^2')\n",
    "\n",
    "    df=pd.DataFrame(data) \n",
    "    return df  \n",
    "    \n",
    "def procesar_deteccion_segundaria(carro, area_abolladura, area_rayon, instancia_img):\n",
    "    area_carro = buscar_area_por_instancia(carro, instancia_img)\n",
    "    \n",
    "    area_total_afectada = abs(area_carro - area_abolladura) if area_abolladura > 0 else 0\n",
    "    area_total_afectada = abs(area_carro - area_rayon) if area_rayon > 0 else area_total_afectada\n",
    "    if area_abolladura > 0 and area_rayon > 0:\n",
    "        sum_area_principal = area_abolladura + area_rayon \n",
    "        area_total_afectada = sum_area_principal - area_carro\n",
    "    return {'area_carro': area_carro, 'area_afectada': area_total_afectada}\n",
    "\n",
    "df_resultado = procesar_deteccion_principal(results_abolladura, results_rayon, results_car)\n",
    "\n",
    "styled_df = df_resultado.style.set_properties(**{'text-align': 'rigth'})\n",
    "styled_df"
   ]
  },
  {
   "cell_type": "code",
   "execution_count": 106,
   "metadata": {},
   "outputs": [
    {
     "data": {
      "text/html": [
       "<style type=\"text/css\">\n",
       "#T_60e37_row0_col0, #T_60e37_row0_col1, #T_60e37_row0_col2, #T_60e37_row0_col3, #T_60e37_row0_col4, #T_60e37_row0_col5, #T_60e37_row0_col6, #T_60e37_row0_col7, #T_60e37_row1_col0, #T_60e37_row1_col1, #T_60e37_row1_col2, #T_60e37_row1_col3, #T_60e37_row1_col4, #T_60e37_row1_col5, #T_60e37_row1_col6, #T_60e37_row1_col7, #T_60e37_row2_col0, #T_60e37_row2_col1, #T_60e37_row2_col2, #T_60e37_row2_col3, #T_60e37_row2_col4, #T_60e37_row2_col5, #T_60e37_row2_col6, #T_60e37_row2_col7, #T_60e37_row3_col0, #T_60e37_row3_col1, #T_60e37_row3_col2, #T_60e37_row3_col3, #T_60e37_row3_col4, #T_60e37_row3_col5, #T_60e37_row3_col6, #T_60e37_row3_col7, #T_60e37_row4_col0, #T_60e37_row4_col1, #T_60e37_row4_col2, #T_60e37_row4_col3, #T_60e37_row4_col4, #T_60e37_row4_col5, #T_60e37_row4_col6, #T_60e37_row4_col7, #T_60e37_row5_col0, #T_60e37_row5_col1, #T_60e37_row5_col2, #T_60e37_row5_col3, #T_60e37_row5_col4, #T_60e37_row5_col5, #T_60e37_row5_col6, #T_60e37_row5_col7, #T_60e37_row6_col0, #T_60e37_row6_col1, #T_60e37_row6_col2, #T_60e37_row6_col3, #T_60e37_row6_col4, #T_60e37_row6_col5, #T_60e37_row6_col6, #T_60e37_row6_col7, #T_60e37_row7_col0, #T_60e37_row7_col1, #T_60e37_row7_col2, #T_60e37_row7_col3, #T_60e37_row7_col4, #T_60e37_row7_col5, #T_60e37_row7_col6, #T_60e37_row7_col7, #T_60e37_row8_col0, #T_60e37_row8_col1, #T_60e37_row8_col2, #T_60e37_row8_col3, #T_60e37_row8_col4, #T_60e37_row8_col5, #T_60e37_row8_col6, #T_60e37_row8_col7, #T_60e37_row9_col0, #T_60e37_row9_col1, #T_60e37_row9_col2, #T_60e37_row9_col3, #T_60e37_row9_col4, #T_60e37_row9_col5, #T_60e37_row9_col6, #T_60e37_row9_col7 {\n",
       "  text-align: rigth;\n",
       "}\n",
       "</style>\n",
       "<table id=\"T_60e37\">\n",
       "  <thead>\n",
       "    <tr>\n",
       "      <th class=\"blank level0\" >&nbsp;</th>\n",
       "      <th id=\"T_60e37_level0_col0\" class=\"col_heading level0 col0\" >imagen</th>\n",
       "      <th id=\"T_60e37_level0_col1\" class=\"col_heading level0 col1\" >area x abolladura</th>\n",
       "      <th id=\"T_60e37_level0_col2\" class=\"col_heading level0 col2\" >area total abolladura</th>\n",
       "      <th id=\"T_60e37_level0_col3\" class=\"col_heading level0 col3\" >area x rayon</th>\n",
       "      <th id=\"T_60e37_level0_col4\" class=\"col_heading level0 col4\" >area total rayon</th>\n",
       "      <th id=\"T_60e37_level0_col5\" class=\"col_heading level0 col5\" >area x carro</th>\n",
       "      <th id=\"T_60e37_level0_col6\" class=\"col_heading level0 col6\" >area total carro</th>\n",
       "      <th id=\"T_60e37_level0_col7\" class=\"col_heading level0 col7\" >area total afectada</th>\n",
       "    </tr>\n",
       "  </thead>\n",
       "  <tbody>\n",
       "    <tr>\n",
       "      <th id=\"T_60e37_level0_row0\" class=\"row_heading level0 row0\" >0</th>\n",
       "      <td id=\"T_60e37_row0_col0\" class=\"data row0 col0\" >1</td>\n",
       "      <td id=\"T_60e37_row0_col1\" class=\"data row0 col1\" >0px^2</td>\n",
       "      <td id=\"T_60e37_row0_col2\" class=\"data row0 col2\" >0px^2</td>\n",
       "      <td id=\"T_60e37_row0_col3\" class=\"data row0 col3\" >0px^2</td>\n",
       "      <td id=\"T_60e37_row0_col4\" class=\"data row0 col4\" >0px^2</td>\n",
       "      <td id=\"T_60e37_row0_col5\" class=\"data row0 col5\" >0px^2</td>\n",
       "      <td id=\"T_60e37_row0_col6\" class=\"data row0 col6\" >0px^2</td>\n",
       "      <td id=\"T_60e37_row0_col7\" class=\"data row0 col7\" >0px^2</td>\n",
       "    </tr>\n",
       "    <tr>\n",
       "      <th id=\"T_60e37_level0_row1\" class=\"row_heading level0 row1\" >1</th>\n",
       "      <td id=\"T_60e37_row1_col0\" class=\"data row1 col0\" >2</td>\n",
       "      <td id=\"T_60e37_row1_col1\" class=\"data row1 col1\" >0px^2</td>\n",
       "      <td id=\"T_60e37_row1_col2\" class=\"data row1 col2\" >0px^2</td>\n",
       "      <td id=\"T_60e37_row1_col3\" class=\"data row1 col3\" >0px^2</td>\n",
       "      <td id=\"T_60e37_row1_col4\" class=\"data row1 col4\" >0px^2</td>\n",
       "      <td id=\"T_60e37_row1_col5\" class=\"data row1 col5\" >0px^2</td>\n",
       "      <td id=\"T_60e37_row1_col6\" class=\"data row1 col6\" >0px^2</td>\n",
       "      <td id=\"T_60e37_row1_col7\" class=\"data row1 col7\" >0px^2</td>\n",
       "    </tr>\n",
       "    <tr>\n",
       "      <th id=\"T_60e37_level0_row2\" class=\"row_heading level0 row2\" >2</th>\n",
       "      <td id=\"T_60e37_row2_col0\" class=\"data row2 col0\" >3</td>\n",
       "      <td id=\"T_60e37_row2_col1\" class=\"data row2 col1\" >caja 1: 13686, caja 2: 120971px^2</td>\n",
       "      <td id=\"T_60e37_row2_col2\" class=\"data row2 col2\" >134657px^2</td>\n",
       "      <td id=\"T_60e37_row2_col3\" class=\"data row2 col3\" >0px^2</td>\n",
       "      <td id=\"T_60e37_row2_col4\" class=\"data row2 col4\" >0px^2</td>\n",
       "      <td id=\"T_60e37_row2_col5\" class=\"data row2 col5\" >caja 1: 387448px^2</td>\n",
       "      <td id=\"T_60e37_row2_col6\" class=\"data row2 col6\" >387448px^2</td>\n",
       "      <td id=\"T_60e37_row2_col7\" class=\"data row2 col7\" >252791px^2</td>\n",
       "    </tr>\n",
       "    <tr>\n",
       "      <th id=\"T_60e37_level0_row3\" class=\"row_heading level0 row3\" >3</th>\n",
       "      <td id=\"T_60e37_row3_col0\" class=\"data row3 col0\" >4</td>\n",
       "      <td id=\"T_60e37_row3_col1\" class=\"data row3 col1\" >0px^2</td>\n",
       "      <td id=\"T_60e37_row3_col2\" class=\"data row3 col2\" >0px^2</td>\n",
       "      <td id=\"T_60e37_row3_col3\" class=\"data row3 col3\" >caja 1: 181473px^2</td>\n",
       "      <td id=\"T_60e37_row3_col4\" class=\"data row3 col4\" >181473px^2</td>\n",
       "      <td id=\"T_60e37_row3_col5\" class=\"data row3 col5\" >caja 1: 934750px^2</td>\n",
       "      <td id=\"T_60e37_row3_col6\" class=\"data row3 col6\" >934750px^2</td>\n",
       "      <td id=\"T_60e37_row3_col7\" class=\"data row3 col7\" >753277px^2</td>\n",
       "    </tr>\n",
       "    <tr>\n",
       "      <th id=\"T_60e37_level0_row4\" class=\"row_heading level0 row4\" >4</th>\n",
       "      <td id=\"T_60e37_row4_col0\" class=\"data row4 col0\" >5</td>\n",
       "      <td id=\"T_60e37_row4_col1\" class=\"data row4 col1\" >0px^2</td>\n",
       "      <td id=\"T_60e37_row4_col2\" class=\"data row4 col2\" >0px^2</td>\n",
       "      <td id=\"T_60e37_row4_col3\" class=\"data row4 col3\" >caja 1: 4681px^2</td>\n",
       "      <td id=\"T_60e37_row4_col4\" class=\"data row4 col4\" >4681px^2</td>\n",
       "      <td id=\"T_60e37_row4_col5\" class=\"data row4 col5\" >caja 1: 934702px^2</td>\n",
       "      <td id=\"T_60e37_row4_col6\" class=\"data row4 col6\" >934702px^2</td>\n",
       "      <td id=\"T_60e37_row4_col7\" class=\"data row4 col7\" >930021px^2</td>\n",
       "    </tr>\n",
       "    <tr>\n",
       "      <th id=\"T_60e37_level0_row5\" class=\"row_heading level0 row5\" >5</th>\n",
       "      <td id=\"T_60e37_row5_col0\" class=\"data row5 col0\" >6</td>\n",
       "      <td id=\"T_60e37_row5_col1\" class=\"data row5 col1\" >0px^2</td>\n",
       "      <td id=\"T_60e37_row5_col2\" class=\"data row5 col2\" >0px^2</td>\n",
       "      <td id=\"T_60e37_row5_col3\" class=\"data row5 col3\" >0px^2</td>\n",
       "      <td id=\"T_60e37_row5_col4\" class=\"data row5 col4\" >0px^2</td>\n",
       "      <td id=\"T_60e37_row5_col5\" class=\"data row5 col5\" >0px^2</td>\n",
       "      <td id=\"T_60e37_row5_col6\" class=\"data row5 col6\" >0px^2</td>\n",
       "      <td id=\"T_60e37_row5_col7\" class=\"data row5 col7\" >0px^2</td>\n",
       "    </tr>\n",
       "    <tr>\n",
       "      <th id=\"T_60e37_level0_row6\" class=\"row_heading level0 row6\" >6</th>\n",
       "      <td id=\"T_60e37_row6_col0\" class=\"data row6 col0\" >7</td>\n",
       "      <td id=\"T_60e37_row6_col1\" class=\"data row6 col1\" >caja 1: 141508px^2</td>\n",
       "      <td id=\"T_60e37_row6_col2\" class=\"data row6 col2\" >141508px^2</td>\n",
       "      <td id=\"T_60e37_row6_col3\" class=\"data row6 col3\" >0px^2</td>\n",
       "      <td id=\"T_60e37_row6_col4\" class=\"data row6 col4\" >0px^2</td>\n",
       "      <td id=\"T_60e37_row6_col5\" class=\"data row6 col5\" >0px^2</td>\n",
       "      <td id=\"T_60e37_row6_col6\" class=\"data row6 col6\" >0px^2</td>\n",
       "      <td id=\"T_60e37_row6_col7\" class=\"data row6 col7\" >141508px^2</td>\n",
       "    </tr>\n",
       "    <tr>\n",
       "      <th id=\"T_60e37_level0_row7\" class=\"row_heading level0 row7\" >7</th>\n",
       "      <td id=\"T_60e37_row7_col0\" class=\"data row7 col0\" >8</td>\n",
       "      <td id=\"T_60e37_row7_col1\" class=\"data row7 col1\" >0px^2</td>\n",
       "      <td id=\"T_60e37_row7_col2\" class=\"data row7 col2\" >0px^2</td>\n",
       "      <td id=\"T_60e37_row7_col3\" class=\"data row7 col3\" >0px^2</td>\n",
       "      <td id=\"T_60e37_row7_col4\" class=\"data row7 col4\" >0px^2</td>\n",
       "      <td id=\"T_60e37_row7_col5\" class=\"data row7 col5\" >0px^2</td>\n",
       "      <td id=\"T_60e37_row7_col6\" class=\"data row7 col6\" >0px^2</td>\n",
       "      <td id=\"T_60e37_row7_col7\" class=\"data row7 col7\" >0px^2</td>\n",
       "    </tr>\n",
       "    <tr>\n",
       "      <th id=\"T_60e37_level0_row8\" class=\"row_heading level0 row8\" >8</th>\n",
       "      <td id=\"T_60e37_row8_col0\" class=\"data row8 col0\" >9</td>\n",
       "      <td id=\"T_60e37_row8_col1\" class=\"data row8 col1\" >0px^2</td>\n",
       "      <td id=\"T_60e37_row8_col2\" class=\"data row8 col2\" >0px^2</td>\n",
       "      <td id=\"T_60e37_row8_col3\" class=\"data row8 col3\" >0px^2</td>\n",
       "      <td id=\"T_60e37_row8_col4\" class=\"data row8 col4\" >0px^2</td>\n",
       "      <td id=\"T_60e37_row8_col5\" class=\"data row8 col5\" >0px^2</td>\n",
       "      <td id=\"T_60e37_row8_col6\" class=\"data row8 col6\" >0px^2</td>\n",
       "      <td id=\"T_60e37_row8_col7\" class=\"data row8 col7\" >0px^2</td>\n",
       "    </tr>\n",
       "    <tr>\n",
       "      <th id=\"T_60e37_level0_row9\" class=\"row_heading level0 row9\" >9</th>\n",
       "      <td id=\"T_60e37_row9_col0\" class=\"data row9 col0\" >10</td>\n",
       "      <td id=\"T_60e37_row9_col1\" class=\"data row9 col1\" >0px^2</td>\n",
       "      <td id=\"T_60e37_row9_col2\" class=\"data row9 col2\" >0px^2</td>\n",
       "      <td id=\"T_60e37_row9_col3\" class=\"data row9 col3\" >0px^2</td>\n",
       "      <td id=\"T_60e37_row9_col4\" class=\"data row9 col4\" >0px^2</td>\n",
       "      <td id=\"T_60e37_row9_col5\" class=\"data row9 col5\" >0px^2</td>\n",
       "      <td id=\"T_60e37_row9_col6\" class=\"data row9 col6\" >0px^2</td>\n",
       "      <td id=\"T_60e37_row9_col7\" class=\"data row9 col7\" >0px^2</td>\n",
       "    </tr>\n",
       "  </tbody>\n",
       "</table>\n"
      ],
      "text/plain": [
       "<pandas.io.formats.style.Styler at 0x20cacf29cc0>"
      ]
     },
     "execution_count": 106,
     "metadata": {},
     "output_type": "execute_result"
    }
   ],
   "source": [
    "import pandas as pd\n",
    "\n",
    "def calcular_area(mascara):\n",
    "    areas = []\n",
    "    sum_area = 0\n",
    "    if mascara is not None:\n",
    "        for e in mascara:\n",
    "            area = torch.round(e[2] * e[3]).int()\n",
    "            sum_area += area.sum().item()\n",
    "            areas.append(area.item())\n",
    "        return sum_area, areas\n",
    "\n",
    "def buscar_area_por_instancia(results, instancia_img):\n",
    "    for i in results:\n",
    "        if i.path == instancia_img:\n",
    "            return calcular_area(i.boxes.xywh) if i.boxes is not None and len(i.boxes) > 0 else (0, [])\n",
    "\n",
    "def procesar_deteccion_principal(abolladura, rayon, results_car):\n",
    "    data = {'imagen': [], 'area x abolladura': [], 'area total abolladura': [], 'area x rayon': [], 'area total rayon': [],  'area x carro': [], 'area total carro': [],'area total afectada': []}\n",
    "\n",
    "    for id_imagen, e_abolladura in enumerate(abolladura):\n",
    "        instancia_img = e_abolladura.path\n",
    "\n",
    "        area_abolladura, areas_abolladura = buscar_area_por_instancia(abolladura, instancia_img)\n",
    "        area_rayon, cajas_rayon = buscar_area_por_instancia(rayon, instancia_img)\n",
    "\n",
    "        data['imagen'].append(f'{id_imagen + 1}')\n",
    "        \n",
    "        cajas_abolladura = procesar_dataframe(areas_abolladura)\n",
    "        data['area x abolladura'].append(f'{cajas_abolladura}px^2')\n",
    "        data['area total abolladura'].append(f'{area_abolladura}px^2')\n",
    "        \n",
    "        cajas_rayon = procesar_dataframe(cajas_rayon)\n",
    "        data['area x rayon'].append(f'{cajas_rayon}px^2')\n",
    "        data['area total rayon'].append(f'{area_rayon}px^2')\n",
    "\n",
    "        if area_abolladura > 0 or area_rayon > 0:\n",
    "            resultado_carro = procesar_deteccion_segundaria(results_car, area_abolladura, area_rayon, instancia_img)\n",
    "            cajas_carro = procesar_dataframe(resultado_carro['caja_carro'])\n",
    "            data['area x carro'].append(f'{cajas_carro}px^2')\n",
    "            data['area total carro'].append(f'{resultado_carro[\"area_carro\"]}px^2')\n",
    "            data['area total afectada'].append(f'{resultado_carro[\"area_afectada\"]}px^2')\n",
    "        else:\n",
    "            data['area x carro'].append('0px^2')\n",
    "            data['area total carro'].append('0px^2')\n",
    "            data['area total afectada'].append('0px^2')\n",
    "\n",
    "    df = pd.DataFrame(data)\n",
    "    return df\n",
    "\n",
    "def procesar_deteccion_segundaria(carro, area_abolladura, area_rayon, instancia_img):\n",
    "    area_carro, areas_carro = buscar_area_por_instancia(carro, instancia_img)\n",
    "\n",
    "    area_total_afectada = abs(area_carro - area_abolladura) if area_abolladura > 0 else 0\n",
    "    area_total_afectada = abs(area_carro - area_rayon) if area_rayon > 0 else area_total_afectada\n",
    "    if area_abolladura > 0 and area_rayon > 0:\n",
    "        sum_area_principal = area_abolladura + area_rayon\n",
    "        area_total_afectada = sum_area_principal - area_carro\n",
    "\n",
    "    return {'area_carro': area_carro, 'caja_carro': areas_carro, 'area_afectada': area_total_afectada}\n",
    "\n",
    "def procesar_dataframe(cajas):\n",
    "    if not cajas:\n",
    "        return 0\n",
    "\n",
    "    formatted_cajas = [f'caja {i + 1}: {area}' for i, area in enumerate(cajas)]\n",
    "    return ', '.join(formatted_cajas)\n",
    "\n",
    "df_resultado = procesar_deteccion_principal(results_abolladura, results_rayon, results_car)\n",
    "\n",
    "styled_df = df_resultado.style.set_properties(**{'text-align': 'rigth'})\n",
    "styled_df\n"
   ]
  }
 ],
 "metadata": {
  "kernelspec": {
   "display_name": "Python 3",
   "language": "python",
   "name": "python3"
  },
  "language_info": {
   "codemirror_mode": {
    "name": "ipython",
    "version": 3
   },
   "file_extension": ".py",
   "mimetype": "text/x-python",
   "name": "python",
   "nbconvert_exporter": "python",
   "pygments_lexer": "ipython3",
   "version": "3.10.13"
  }
 },
 "nbformat": 4,
 "nbformat_minor": 2
}
