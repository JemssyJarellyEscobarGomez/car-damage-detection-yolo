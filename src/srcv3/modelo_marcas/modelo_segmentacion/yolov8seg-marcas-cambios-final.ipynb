{
 "cells": [
  {
   "cell_type": "markdown",
   "metadata": {},
   "source": [
    "<span style=\"font-family: 'Bahnschrift Light'; font-size: 40px\">Carga librerías</span>"
   ]
  },
  {
   "cell_type": "code",
   "execution_count": 34,
   "metadata": {},
   "outputs": [],
   "source": [
    "import ultralytics\n",
    "import sklearn\n",
    "from ultralytics import YOLO\n",
    "from ultralytics import settings\n",
    "import os\n",
    "import torch\n",
    "import subprocess\n",
    "import gdown\n",
    "import numpy as np\n",
    "import pandas as pd\n",
    "from sklearn.preprocessing import LabelEncoder\n",
    "import shutil\n",
    "from sklearn.model_selection import train_test_split\n",
    "import yaml"
   ]
  },
  {
   "cell_type": "markdown",
   "metadata": {},
   "source": [
    "<span style=\"font-family: 'Bahnschrift Light'; font-size: 40px\">Instalación de herramientas de etiquetado</span>"
   ]
  },
  {
   "cell_type": "code",
   "execution_count": 35,
   "metadata": {},
   "outputs": [],
   "source": [
    "# Función para instalar los paquetes\n",
    "def package_verification(package):\n",
    "    try:\n",
    "        output = os.popen('pip list').read()\n",
    "        return f'{package}' in output\n",
    "    except Exception as e:\n",
    "        print(f'Error en la verificación: {e}')\n",
    "        return False\n",
    "\n",
    "def package_installation(package_name):\n",
    "    if package_verification(package_name):\n",
    "        print(f\"El paquete '{package_name}' ya está instalado. \")\n",
    "    else:\n",
    "        print('Instalando el paquete... ')\n",
    "        try:\n",
    "            os.system(f'pip install {package_name}')\n",
    "            print(f'libreria {package_name} instalada correctamente! ')\n",
    "        except Exception as e:\n",
    "            print(f'Error en la instalación de {package_name}: {e}')"
   ]
  },
  {
   "cell_type": "code",
   "execution_count": 36,
   "metadata": {},
   "outputs": [
    {
     "name": "stdout",
     "output_type": "stream",
     "text": [
      "El paquete 'labelme' ya está instalado. \n"
     ]
    }
   ],
   "source": [
    "package_installation('labelme') # Instalación de la herramienta de etiquetado Labelme"
   ]
  },
  {
   "cell_type": "code",
   "execution_count": 25,
   "metadata": {},
   "outputs": [],
   "source": [
    "# Abrir la herramienta para el proceso de etiquetado \n",
    "try:\n",
    "    subprocess.check_call([\"labelme\"]) \n",
    "except Exception as e:\n",
    "    print(f'No fue posible abrir labelme: {e}')"
   ]
  },
  {
   "cell_type": "code",
   "execution_count": 37,
   "metadata": {},
   "outputs": [
    {
     "name": "stdout",
     "output_type": "stream",
     "text": [
      "El paquete 'labelme2yolo' ya está instalado. \n"
     ]
    }
   ],
   "source": [
    "package_installation('labelme2yolo') # Instalación de la herramienta de conversión para el formato JSON de labelme a formato texto requerido por los modelos de detección de objetos YOLO."
   ]
  },
  {
   "cell_type": "markdown",
   "metadata": {},
   "source": [
    "<span style=\"font-family: 'Bahnschrift Light'; font-size: 40px\">Carga rutas</span>"
   ]
  },
  {
   "cell_type": "code",
   "execution_count": 38,
   "metadata": {},
   "outputs": [],
   "source": [
    "current_folder= os.getcwd() # Obtener ubicación actual\n",
    "main_folder= os.path.abspath(os.path.join(current_folder, \"../../../../\")) # Carpeta main del proyecto\n",
    "main_staticos= os.path.abspath(os.path.join(main_folder))+'\\\\dist' # Carpeta main de los archivos estaticos\n",
    "main_production= os.path.abspath(main_folder) +'\\\\src' # Carpeta main de los archivos listos para producción \n",
    "dir_prueba= os.path.abspath(main_folder) + \"\\\\src\\\\assets\"  # Carpeta de imagenes prueba para el proceso de predecir\n",
    "\n",
    "training_structure=\"MARCAS\" # Indica el nombre de la carpeta que tiene los archivos para el entrenamiento (image, json)\n",
    "dir_train= os.path.abspath(main_staticos) + f'\\\\{training_structure}' "
   ]
  },
  {
   "cell_type": "markdown",
   "metadata": {},
   "source": [
    "<span style=\"font-family: 'Bahnschrift Light'; font-size: 40px\">Configuración de rutas de entrenamiento</span>"
   ]
  },
  {
   "cell_type": "code",
   "execution_count": 24,
   "metadata": {},
   "outputs": [
    {
     "name": "stdout",
     "output_type": "stream",
     "text": [
      "c:\\Users\\matrix\\pruebayolo\\proyecto_yolo\\dist\\marcas_global\n"
     ]
    }
   ],
   "source": [
    "# Función para mover archivos de carpetas individuales a una carpeta global marcas, utilice esta función solo si tiene las marcas ordenadas por carpeta.\n",
    "\n",
    "def process_brand_data(data_directory):\n",
    "    destination_dir = os.path.abspath(os.path.join(data_directory, \"../\")) + \"\\\\marcas_global\"\n",
    "    print(destination_dir)\n",
    "    \n",
    "    if not os.path.exists(destination_dir): \n",
    "        os.makedirs(destination_dir)\n",
    "        \n",
    "        for (root, dirs, files) in os.walk(data_directory):\n",
    "            if '______README______' in dirs:\n",
    "                dirs.remove('______README______')      \n",
    "            for file_name in files:\n",
    "                if file_name.endswith(('.jpg', '.png', '.json')):\n",
    "                    source_path = os.path.join(root, file_name)\n",
    "                    destination_path = os.path.join(destination_dir, file_name)\n",
    "                    print(f'copying from {source_path} to {destination_path}')\n",
    "                    try:\n",
    "                        shutil.copy(source_path, destination_path)  # Use shutil.move if you only want to move, not create a copy.\n",
    "                    except Exception as e:\n",
    "                        print(f'could not move the file {source_path} due to {e}')\n",
    "    \n",
    "    return destination_dir\n",
    "\n",
    "dir_train=process_brand_data(dir_train)"
   ]
  },
  {
   "cell_type": "code",
   "execution_count": 25,
   "metadata": {},
   "outputs": [],
   "source": [
    "# Función para separar la carpeta global de todas las marcas en un 80% entrenamiento y 20% validación\n",
    "\n",
    "def file_separation(orig_folder):\n",
    "    file_list = os.listdir(orig_folder)\n",
    "    train, val = train_test_split(file_list, test_size=0.2, random_state=100)\n",
    "    if not os.path.exists(\"train\"):\n",
    "        train_path = os.path.join(orig_folder, \"train\")\n",
    "        os.makedirs(train_path, exist_ok=True)\n",
    "    move_files(train, orig_folder, train_path)\n",
    "    \n",
    "    if not os.path.exists(\"val\"):\n",
    "        val_path = os.path.join(orig_folder, \"val\")\n",
    "        os.makedirs(val_path, exist_ok=True)\n",
    "    move_files(val, orig_folder, val_path)\n",
    "\n",
    "def move_files(file_list, orig_folder, dest_folder):\n",
    "    for file in file_list:\n",
    "        if file.lower().endswith(('.png', '.jpg', '.jpeg', '.gif')):\n",
    "            orig_image_path = os.path.join(orig_folder, file)\n",
    "            json_name = os.path.splitext(file)[0] + \".json\"\n",
    "            \n",
    "            orig_json_path = os.path.join(orig_folder, json_name)\n",
    "            dest_image_path = os.path.join(dest_folder, file)\n",
    "            dest_json_path = os.path.join(dest_folder, json_name)\n",
    "            \n",
    "            shutil.copy(orig_image_path, dest_image_path)\n",
    "            shutil.copy(orig_json_path, dest_json_path)\n",
    "\n",
    "file_separation(dir_train)"
   ]
  },
  {
   "cell_type": "markdown",
   "metadata": {},
   "source": [
    "<span style=\"font-family: 'Bahnschrift Light'; font-size: 40px\">Conversión a formato YOLO</span>"
   ]
  },
  {
   "cell_type": "code",
   "execution_count": 26,
   "metadata": {},
   "outputs": [
    {
     "name": "stdout",
     "output_type": "stream",
     "text": [
      "Conversión completada para la carpeta C:/Users/matrix/pruebayolo/proyecto_yolo/dist/entrenamiento_final/lala/train\n",
      "Conversión completada para la carpeta C:/Users/matrix/pruebayolo/proyecto_yolo/dist/entrenamiento_final/lala/val\n"
     ]
    }
   ],
   "source": [
    "# Función para convertir la carpeta de entrenamiento y validación en formato YOLO\n",
    "\n",
    "def convert_to_yolo_format(training_directory, validation_directory):\n",
    "    try:\n",
    "        subprocess.check_call([\"labelme2yolo\", \"--json_dir\", training_directory])\n",
    "        print(f'Conversión completada para la carpeta {training_directory}')\n",
    "        subprocess.check_call([\"labelme2yolo\", \"--json_dir\", validation_directory])\n",
    "        print(f'Conversión completada para la carpeta {validation_directory}')\n",
    "    except subprocess.CalledProcessError as e:\n",
    "        print(f'Error al ejecutar función labelme2yolo: {e}')\n",
    "        \n",
    "#chevrolet_toyota_train= \"C:/Users/matrix/pruebayolo/proyecto_yolo/dist/entrenamiento_final/lala/train\"\n",
    "#chevrolet_toyota_val= \"C:/Users/matrix/pruebayolo/proyecto_yolo/dist/data_chevrolet_toyota/lala/val\"\n",
    "\n",
    "train_path= os.path.abspath(dir_train) + \"\\\\train\"\n",
    "val_path= os.path.abspath(dir_train) + \"\\\\val\"\n",
    "\n",
    "convert_to_yolo_format(train_path, val_path)\n",
    "#convert_to_yolo_format(chevrolet_toyota_train, chevrolet_toyota_val)\n"
   ]
  },
  {
   "cell_type": "code",
   "execution_count": 28,
   "metadata": {},
   "outputs": [],
   "source": [
    "# Organización de la estructura del repositorio YOLODataset (resultado de la conversión .json a formato YOLO) creado por defecto\n",
    "\n",
    "def reorganization(path):\n",
    "    try:\n",
    "        new_path = os.path.abspath(os.path.join(path, \"YOLODataset\"))\n",
    "        main_folders = os.listdir(new_path)\n",
    "        for folder_instance in main_folders:\n",
    "            secondary_folder_path = os.path.join(new_path, folder_instance)\n",
    "            if os.path.isdir(secondary_folder_path):\n",
    "                secondary_folders = os.listdir(secondary_folder_path)\n",
    "                for secondary_folder in secondary_folders:\n",
    "                    subfolder_secondary_path = os.path.join(secondary_folder_path, secondary_folder)\n",
    "                    try:\n",
    "                        if os.listdir(subfolder_secondary_path) != []:\n",
    "                            for file in os.listdir(subfolder_secondary_path):\n",
    "                                orig_path = os.path.join(subfolder_secondary_path, file)\n",
    "                                dest_path = os.path.abspath(os.path.join(subfolder_secondary_path, \"../\"))\n",
    "                                new_dest_path = os.path.join(dest_path, file)\n",
    "                                shutil.move(orig_path, new_dest_path)\n",
    "                            os.rmdir(subfolder_secondary_path)\n",
    "                        else:\n",
    "                            os.rmdir(subfolder_secondary_path)\n",
    "                    except NotADirectoryError as e:\n",
    "                        print(f'Error: the element is not a folder: {e}')\n",
    "        return new_path\n",
    "    except FileNotFoundError as e:\n",
    "        print(f'Error: {e}')\n",
    "\n",
    "yolo_train_data= reorganization(train_path)\n",
    "yolo_val_data= reorganization(val_path)  "
   ]
  },
  {
   "cell_type": "code",
   "execution_count": 29,
   "metadata": {},
   "outputs": [
    {
     "name": "stdout",
     "output_type": "stream",
     "text": [
      "Carpetas movidas exitosamente a c:\\Users\\matrix\\pruebayolo\\proyecto_yolo\\dist\\data_marcas \n"
     ]
    }
   ],
   "source": [
    "# Función para mover las carpetas yolo \n",
    "\n",
    "def acomodar_rutas_dataset(main_staticos, dataset_train, dataset_val):\n",
    "    try:\n",
    "        if not os.path.exists(\"data_marcas\"):\n",
    "            try: \n",
    "                path_brands= os.path.join(main_staticos, \"data_marcas\")\n",
    "                os.makedirs(path_brands, exist_ok=True)\n",
    "            \n",
    "                shutil.move(dataset_train, os.path.join(path_brands, \"YOLODataset_train\"))\n",
    "                shutil.move(dataset_val, os.path.join(path_brands, \"YOLODataset_val\"))\n",
    "                print(f'Carpetas movidas exitosamente a {path_brands} ')\n",
    "            except OSError as e:\n",
    "                print(f'Error al intentar crear la carpeta en {path_brands}: {e}')\n",
    "        return path_brands  \n",
    "    except TypeError as e:\n",
    "        print(f'Tipo de dato incorrecto para el argumento: {e}')\n",
    "\n",
    "brands_route= acomodar_rutas_dataset(main_staticos, yolo_train_data, yolo_val_data)"
   ]
  },
  {
   "cell_type": "code",
   "execution_count": 30,
   "metadata": {},
   "outputs": [],
   "source": [
    "# Set de funciones para ordenar la estructura de los dataset individuales.\n",
    "\n",
    "def arrange_dataset_paths(train, val):\n",
    "    destination = os.path.abspath(os.path.join(train, \"../../\"))\n",
    "    shutil.move(train, destination)\n",
    "    if \"dataset.yaml\" in os.listdir(os.path.join(val, \"../\")):\n",
    "        os.remove(val)\n",
    "    return destination\n",
    "\n",
    "# Función para reescribir el dataset \n",
    "def rewrite_dataset(dir_train_converted, combined_list):\n",
    "    with open(dir_train_converted, 'w') as new_dataset:\n",
    "        new_dataset.write(\n",
    "            f'train: {os.path.abspath(os.path.join(dir_train_converted, \"../\"))}\\n'\n",
    "            f'val: {os.path.abspath(os.path.join(dir_train_converted, \"../../\"))}\\\\YOLODataset_val\\n'\n",
    "            'test: \\n'\n",
    "            f'nc: {len(combined_list)}\\n'\n",
    "            f'names: {combined_list}\\n'\n",
    "        )\n",
    "        \n",
    "# Función para combinar los dos dataset generados\n",
    "def total_labels(list1, list2, update_dataset_train):\n",
    "    set1=set(list1)\n",
    "    set2=set(list2)\n",
    "    union_without_repeating = set1.union(set2)\n",
    "    combined_list = list(union_without_repeating)\n",
    "    rewrite_dataset(update_dataset_train, combined_list)\n",
    "\n",
    "\n",
    "# Función para extraer los nombres de las etiquetas de los dos dataset separados\n",
    "\n",
    "def extract_labels(main_route):\n",
    "    try:\n",
    "        route_dataset_train= os.path.abspath(main_route) + \"\\\\YOLODataset_train\\\\dataset.yaml\"\n",
    "        route_dataset_val= os.path.abspath(main_route) + \"\\\\YOLODataset_val\\\\dataset.yaml\"\n",
    "        \n",
    "        with open(route_dataset_train, 'r') as file_train:\n",
    "            data_train = yaml.safe_load(file_train)\n",
    "            labels_train = data_train['names']\n",
    "        with open(route_dataset_val,'r') as file_val:\n",
    "            data_val= yaml.safe_load(file_val)\n",
    "            labels_val= data_val['names']\n",
    "        total_labels(labels_train, labels_val, route_dataset_train)\n",
    "        \n",
    "        return route_dataset_train, route_dataset_val\n",
    "    except TypeError as e:\n",
    "        print(f'Error: {e}')\n",
    "\n",
    "try:\n",
    "    train, val = extract_labels(brands_route)\n",
    "    arrange_dataset_paths(train, val)\n",
    "except TypeError as e:\n",
    "    print(f'Error: {e}')"
   ]
  },
  {
   "cell_type": "code",
   "execution_count": 9,
   "metadata": {},
   "outputs": [
    {
     "data": {
      "text/plain": [
       "('C:/Users/matrix/Workspace/data_marcas/dataset.yaml',\n",
       " 'C:/Users/matrix/Workspace/chevrolet_toyota2/dataset.yaml')"
      ]
     },
     "execution_count": 9,
     "metadata": {},
     "output_type": "execute_result"
    }
   ],
   "source": [
    "def rewrite_dataset(dir_train_converted, combined_list):\n",
    "    with open(dir_train_converted, 'w') as new_dataset:\n",
    "        new_dataset.write(\n",
    "            'test: \\n'\n",
    "            f'nc: {len(combined_list)}\\n'\n",
    "            f'names: {combined_list}\\n'\n",
    "        )\n",
    "        \n",
    "# Función para combinar los dos dataset generados\n",
    "def total_labels(list1, list2, update_dataset_train):\n",
    "    set1=set(list1)\n",
    "    set2=set(list2)\n",
    "    union_without_repeating = set1.union(set2)\n",
    "    combined_list = list(union_without_repeating)\n",
    "    rewrite_dataset(update_dataset_train, combined_list)\n",
    "    \n",
    "def extract_labels():\n",
    "    try:\n",
    "        route_dataset_train= \"C:/Users/matrix/Workspace/data_marcas/dataset.yaml\"\n",
    "        route_dataset_val= \"C:/Users/matrix/Workspace/chevrolet_toyota2/dataset.yaml\"\n",
    "        \n",
    "        with open(route_dataset_train, 'r') as file_train:\n",
    "            data_train = yaml.safe_load(file_train)\n",
    "            labels_train = data_train['names']\n",
    "        with open(route_dataset_val,'r') as file_val:\n",
    "            data_val= yaml.safe_load(file_val)\n",
    "            labels_val= data_val['names']\n",
    "        total_labels(labels_train, labels_val, route_dataset_train)\n",
    "        \n",
    "    except TypeError as e:\n",
    "        print(f'Error: {e}')\n",
    "        \n",
    "extract_labels()"
   ]
  },
  {
   "cell_type": "code",
   "execution_count": 27,
   "metadata": {},
   "outputs": [],
   "source": [
    "# Buscar la carpeta que contiene la configuración completa para el entrenamiento\n",
    "data_train_brands= os.path.abspath(main_staticos) + \"\\\\data_marcas\\\\dataset.yaml\"\n",
    "#data_train_brands= \"C:/Users/matrix/Workspace/chevrolet_toyota2/dataset.yaml\"\n",
    "#data_train_brands= \"C:/Users/matrix/pruebayolo/proyecto_yolo/dist/data_chevrolet_toyota/dataset.yaml\""
   ]
  },
  {
   "cell_type": "markdown",
   "metadata": {},
   "source": [
    "<span style=\"font-family: 'Bahnschrift Light'; font-size: 40px\">Selección versión de modelo YOLOv8</span>"
   ]
  },
  {
   "cell_type": "code",
   "execution_count": 12,
   "metadata": {},
   "outputs": [],
   "source": [
    "# Modificación de las rutas de las carpetas predeterminadas de ultralytics YOLO\n",
    "\n",
    "def set_config_ultralytics(main):\n",
    "    settings.update({'datasets_dir': f'{main}\\\\dist', 'weights_dir': f'{main}\\\\src', 'runs_dir': f'{main}\\\\src\\\\runs'})\n",
    "set_config_ultralytics(main_folder)"
   ]
  },
  {
   "cell_type": "markdown",
   "metadata": {},
   "source": [
    "<span style=\"font-family: 'Bahnschrift Light'; font-size: 40px\">Modelo original</span>"
   ]
  },
  {
   "cell_type": "markdown",
   "metadata": {},
   "source": [
    "### Tabla de variantes en la Segmentación de instancias con YOLOv8\n",
    "\n",
    "| Modelo      | Nombres de archivo                                      | Identificador |\n",
    "|-------------|-----------------------------------------------------|------------|\n",
    "| YOLOv8-seg  | yolov8n-seg.pt yolov8s-seg.pt yolov8m-seg.pt yolov8l-seg.pt yolov8x-seg.pt | n, s, m, l, x |"
   ]
  },
  {
   "cell_type": "code",
   "execution_count": null,
   "metadata": {},
   "outputs": [],
   "source": [
    "package_installation('gdown')"
   ]
  },
  {
   "cell_type": "code",
   "execution_count": 28,
   "metadata": {},
   "outputs": [
    {
     "name": "stdout",
     "output_type": "stream",
     "text": [
      "Se está utilizando la versión \"yolov8n-seg.pt\" del modelo. \n"
     ]
    }
   ],
   "source": [
    "def get_model_version():\n",
    "    available_versions= ['n', 's', 'm', 'l', 'x'] # yolov8n.pt , yolov8s.pt , yolov8m.pt , yolov8l.pt , yolov8x.pt\n",
    "    control= True\n",
    "    while control:\n",
    "        version_selection= input(\"Ingrese la versión del modelo que desea utilizar, entre las disponibles están: n, s, m, l, x. Advertencia: Si no desea instalar ninguna ingrese la palabra 'salir'! \") \n",
    "        if version_selection in available_versions:\n",
    "            id_version= f'yolov8{version_selection}-seg.pt' \n",
    "            return id_version\n",
    "        elif version_selection == \"salir\":\n",
    "            control=False\n",
    "            return None                                                         \n",
    "        else:\n",
    "            print('Version de modelo inexistente, ingrese nuevamente! ')\n",
    "     \n",
    "def model_installation(url, version_name):\n",
    "    try:\n",
    "        path_save = os.path.abspath(main_folder) + \"\\\\dist\\\\model_version\\\\\" + version_name\n",
    "        if os.path.exists(path_save):\n",
    "            print(f'Se está utilizando la versión \"{version_name}\" del modelo. ')\n",
    "        else:\n",
    "            url_installation = f'{url}/{version_name}'\n",
    "            gdown.download(url_installation, path_save, quiet=False)\n",
    "            print('Versión instalada correctamente!')\n",
    "    except (NameError, UnboundLocalError) as e:\n",
    "        print(f'Error en la instalación de la versión del modelo: {e}')\n",
    "    return path_save\n",
    "\n",
    "model_url= 'https://github.com/ultralytics/assets/releases/download/v0.0.0' \n",
    "model_version= get_model_version()\n",
    "\n",
    "if model_version is not None:\n",
    "    model_orig= model_installation(model_url, model_version) \n",
    "else:\n",
    "    print('Ha salido con exito! ')"
   ]
  },
  {
   "cell_type": "markdown",
   "metadata": {},
   "source": [
    "<span style=\"font-family: 'Bahnschrift Light'; font-size: 40px\">Modelo entrenado</span>"
   ]
  },
  {
   "cell_type": "code",
   "execution_count": 4,
   "metadata": {},
   "outputs": [
    {
     "name": "stdout",
     "output_type": "stream",
     "text": [
      "Los pesos del experimento que se van a utilizar son c:\\Users\\matrix\\pruebayolo\\proyecto_yolo\\src\\srcv3\\modelo_marcas\\modelo_segmentacion\\segmentacion\\pruebaEntrenamiento9\\weights\\best.pt\n"
     ]
    }
   ],
   "source": [
    "# Función para obtener el más reciente entrenamiento\n",
    "\n",
    "def get_last_training(dir_src):\n",
    "    try:\n",
    "        yolo_model_folders= os.listdir(dir_src)\n",
    "        for folder_name in yolo_model_folders:\n",
    "            if folder_name == \"segmentacion\":\n",
    "                base_path = os.path.abspath(os.path.join(dir_src, folder_name))\n",
    "                files= os.listdir(base_path)\n",
    "                last_experiment = sorted(files)[-1]\n",
    "                return os.path.join(base_path, last_experiment, \"weights\", \"best.pt\")\n",
    "        #return None\n",
    "    except FileNotFoundError as e:\n",
    "        print(f'Error: {e}')\n",
    "\n",
    "version= \"srcv3\"\n",
    "dir_model_version=os.path.abspath(os.path.join(main_production, version)+ \"\\\\modelo_marcas\\\\modelo_segmentacion\")\n",
    "model_train= get_last_training(dir_model_version) \n",
    "\n",
    "if model_train:\n",
    "    print(f'Los pesos del experimento que se van a utilizar son {model_train}')\n",
    "else:\n",
    "    print(f'No existe ningún experimento de entrenamiento en la carpeta {dir_model_version}')\n"
   ]
  },
  {
   "cell_type": "markdown",
   "metadata": {},
   "source": [
    "<span style=\"font-family: 'Bahnschrift Light'; font-size: 40px\">Instalación de recursos</span>"
   ]
  },
  {
   "cell_type": "code",
   "execution_count": null,
   "metadata": {},
   "outputs": [],
   "source": [
    "package_installation('ultralytics') # Instalación de la biblioteca Ultralytics\n",
    "#ultralytics.checks()"
   ]
  },
  {
   "cell_type": "code",
   "execution_count": 65,
   "metadata": {},
   "outputs": [
    {
     "name": "stdout",
     "output_type": "stream",
     "text": [
      "Tarjeta Grafica: Caption                  \n",
      "\n",
      "AMD Radeon(TM) Graphics.\n",
      " \n",
      "Advertencia: Debe utilizar la CPU para instalación de PyTorch! \n"
     ]
    }
   ],
   "source": [
    "#Función para determinar si tiene GPU Cuda para instalación de PYTorch\n",
    "if torch.cuda.is_available():\n",
    "    device = torch.device(\"cuda\")\n",
    "    print(f'CUDA: {torch.cuda.get_device_name(0)}')\n",
    "else:\n",
    "    try:\n",
    "        command = 'wmic path win32_videocontroller get caption'\n",
    "        device = subprocess.check_output(command, shell=True, universal_newlines=True)\n",
    "        print(f'Tarjeta Grafica: {device.strip()}.\\n \\nAdvertencia: Debe utilizar la CPU para instalación de PyTorch! ')\n",
    "    except subprocess.CalledProcessError as e:\n",
    "        print(f'Error al ejecutar el comando: {e}')"
   ]
  },
  {
   "cell_type": "markdown",
   "metadata": {},
   "source": [
    "<span style=\"font-family: 'Bahnschrift Light'; font-size: 18px\">Dirección para instalar mediante el comando la versión de PyTorch en función de los requerimientos computacionales: </span>[Versión PyTorch](https://pytorch.org/get-started/locally/)"
   ]
  },
  {
   "cell_type": "code",
   "execution_count": null,
   "metadata": {},
   "outputs": [],
   "source": [
    "command_pytorch = 'pip3 install torch torchvision torchaudio' # Comando de instalación según la version personalizada a sus requerimientos computacionales \n",
    "substrings = command_pytorch.split(\" \")\n",
    "try:\n",
    "    subprocess.check_call(substrings)\n",
    "except subprocess.CalledProcessError as e:\n",
    "    print(f'Error al instalar la version de PyTorch: {e}')"
   ]
  },
  {
   "cell_type": "markdown",
   "metadata": {},
   "source": [
    "<span style=\"font-family: 'Bahnschrift Light'; font-size: 40px;\">ENTRENAMIENTO</span>\n"
   ]
  },
  {
   "cell_type": "code",
   "execution_count": null,
   "metadata": {},
   "outputs": [],
   "source": [
    "# --Inicio Menú\n",
    "while True:\n",
    "    try:\n",
    "        model_type = input('Qué tipo de modelo desea utilizar, indique \"original\" o \"entrenado\": ')\n",
    "        if model_type == \"original\":\n",
    "            model_segmentation = YOLO(model_orig)\n",
    "            break  # Sale del bucle si la entrada es válida\n",
    "        elif model_type == \"entrenado\":\n",
    "            model_segmentation = YOLO(model_train) \n",
    "            break  # Sale del bucle si la entrada es válida\n",
    "        else:\n",
    "            print('Caracter no valido! Intente nuevamente.')\n",
    "    except Exception as e:\n",
    "        print(f'Error: {e}')\n",
    "# --Finalización Menú\n",
    "\n",
    "PROJECT='segmentacion' # Permite asignar un nombre al directorio de inicio que contendrá los experimentos de segmentación de objetos, y debe estar entre comillas; se recomienda no utilsizar espacios en el nombre.\n",
    "NAME='pruebaEntrenamiento' # El nombre del experimento entrenamiento para segmentación de instancias debe ir entre comillas. Evite el uso de espacios al nombrar las carpetas; en su lugar, utilice algún formato de nombres como camelCase, snake_case o PascalCase.\n",
    "TASK='segment' # Define la tarea principal que desea realizar con el modelo YOLO v8; en este caso, la segmentación implica el uso de máscaras para identificar objetos individuales en una imagen y segmentarlos del resto de la imagen.\n",
    "IMGSZ=640 # Establezca las dimensiones en píxeles de la imagen de entrada. Puede especificarlo como un número entero, como imgsz a 640 para obtener un cuadrado perfecto, o como una tupla, como imgsz=(640,480) para establecer dimensiones específicas de ancho y alto. Se recomienda ajustar este valor según el tamaño del objeto que desea segmentar. Para la segmentación de objetos pequeños, se recomienda aumentar el valor a más de 640 píxeles para obtener una resolución más alta.\n",
    "DATA= data_train_brands #  Le permite indicar la ruta al archivo que contiene los metadatos que utilizara el modelo segmentación de objetos y su configuración en formato YAML. Si especifica el valor data=None, el conjunto de datos coco128-seg.yaml se utiliza de forma predeterminada; de lo contrario, escriba la ruta al archivo YAML entre comillas utilizando barras diagonales (/) en lugar de barras invertidas (\\).\n",
    "EPOCHS=45 # Establezca el número de épocas del modelo YOLO v8 en la tarea de segmentación. Este valor representa el número total de iteraciones en todo el conjunto de datos de entrenamiento. Se recomienda experimentar con este parámetro dependiendo de la cantidad de imágenes disponibles. Si tiene un conjunto de datos grande, considere aumentar este valor por encima de 30 para obtener mejores resultados. Por otro lado, establecer epochs=None hará que el modelo continúe entrenándose hasta que la pérdida de validación deje de mejorar.\n",
    "BATCH=-1 # Define la cantidad de imágenes procesadas simultáneamente en una iteración del modelo YOLO v8 en la segmentación. El valor predeterminado es 16; se recomienda establecerlo en -1 para aprovechar AutoBatch, que ajusta automáticamente el tamaño del lote para optimizar el rendimiento, evitar problemas de memoria y maximizar la eficiencia del entrenamiento. Si desea personalizarlo, exprese el valor del parámetro como un número entero.\n",
    "OPTIMIZER='auto' # Define el algoritmo de optimización para el modelo de segmentación YOLO. Su elección ajusta los pesos del modelo durante el entrenamiento y es crucial para la velocidad y rendimiento. Puede tomar valores como 'SGD', 'Adam', 'Adamax', 'AdamW', 'NAdam', 'RAdam', 'RMSProp' y 'auto', este último selecciona automáticamente el optimizador más adecuado a la tarea segmentación de objetos.\n",
    "WORKERS=1 # Especifica la cantidad de subprocesos o núcleos utilizados para cargar datos en el modelo segmentación YOLO. Se recomienda ajustar la cantidad de subprocesos a la cantidad de núcleos de CPU disponibles en el sistema.\n",
    "DEVICE= 'cpu' # Especifica el dispositivo de ejecución para la versión del modelo yolov8 en la operación de segmentación. Puede seleccionar entre CPU o GPU. Si no dispone de una GPU con Cuda, se recomienda utilizar la CPU mediante el parámetro device='cpu'. En caso de contar con Cuda, puede especificar una GPU con device='cuda:0'; el número representa el identificador de la GPU disponible en el sistema. También es posible utilizar múltiples GPUs mediante device='cuda:0,1,2'.\n",
    "PLOTS=True # Utilice valores booleanos (Verdadero o Falso) para controlar la generación de gráficos que permite visualizar y monitorear la pérdida y la precisión durante el entrenamiento de segmentación de objetos. Establecer plots=True activara la función; si desea desactivarla, establezca el valor del hiperparámetro en False.\n",
    "SAVE=False # Cuando se establece en True, el modelo guarda puntos de control periódicamente durante el entrenamiento de segmentación. Se recomienda tener cuidado al establecer este valor en Verdadero, ya que está relacionado con el hiperparámetro SAVE_PERIOD; si establece el valor del hiperparametro a False, la función Save_Period se desactivará.\n",
    "SAVE_PERIOD=-1 # Se utiliza para especificar con qué frecuencia se guardan los puntos de control durante el entrenamiento de segmentación. Si se establece en un valor mayor que 0, el modelo guardará puntos de control cada número especificado de épocas. Sin embargo, si save_period se establece en -1, significa que la función esta deshabilitada.\n",
    "PATIENCE=45 # Representa el número esperado de épocas durante el entrenamiento de segmentación. Si no se observa mejora en el conjunto de validación dentro de un período específico, se detiene el proceso. Esta técnica de parada temprana se utiliza para evitar el sobreajuste del modelo. Se recomienda ajustar este hiperparámetro en función de la duración esperada del entrenamiento.\n",
    "VERBOSE=False # Se utiliza para controlar el número de impresiones durante la ejecución del entrenamiento de segmentación. Para suprimir la salida de información básica únicamente, debe establecer el valor del hiperparámetro en False, pero si desea una salida de progreso más detallada, establezca el valor en True.\n",
    "RECT= False # Habilita la formación rectangular en cada lote, redimensionando las imágenes para que todas tengan la misma forma rectangular. Puedes establecerlo en True si tu conjunto de datos es extenso y deseas acelerar el tiempo de entrenamiento en la segmentación de instancias. De lo contrario, si se establece en False el modelo se entrena en el orden normal procesando todos los datos de un lote antes de pasar al siguiente lote.\n",
    "COS_LR=False # Reemplaza el decaimiento escalonado predeterminado de YOLOv8, que reduce la tasa de aprendizaje en ciertas épocas, con el decaimiento escalonado cos_lr. Este ajusta la tasa de aprendizaje según las épocas restantes y la tasa de aprendizaje inicial, proporcionando una disminución más suave. Establezca este hiperparámetro en True para una reducción gradual de la tasa de aprendizaje, de lo contrario establezca en False.\n",
    "FRACTION= 1.0 # Controla la fracción del conjunto de datos que se utilizara para el entrenamiento de segmentación. Debes establecer este parámetro entre 0.0 y 1.0. Por defecto, cuando es 1.0, se emplea el 100% de las imágenes disponibles en el conjunto de datos.\n",
    "EXIST_OK=False # Controla la sobreescritura de un experimento de segmentación existente. Cuando se establece en False, el sistema no sobrescribirá, en su lugar devolverá una ruta incrementada. Esto es útil para prevenir la sobreescritura accidental de experimentos anteriores. Para activar la función, asigna el valor True.\n",
    "OVERLAP_MASK=True # Determina si las máscaras que representan áreas de interés en la imagen deben superponerse. Establecer el valor del hiperparametro a True permite que estas máscaras compartan áreas, lo que significa que los límites de los objetos en la imagen puede coincidir parcialmente. Esta opción ahorra memoria, acelera el entrenamiento, y es especialmente útil para grandes conjuntos de datos o modelos complejos.\n",
    "MASK_RATIO=1 # Configure la reducción de muestreo para la máscara de segmentación. Se sugiere fijar el valor en el rango de 1 para entrenamiento en resolución nativa, ideal para aplicaciones que demandan alta precisión, hasta 4 para una reducción en un factor de 4, acelerando el entrenamiento con una precisión aceptable y ahorrando memoria. Este hiperparámetro solo acepta valores enteros.\n",
    "\n",
    "try:\n",
    "    model_segmentation.train(project=PROJECT,name=NAME, task=TASK, data=DATA, imgsz=IMGSZ, epochs=EPOCHS, batch=BATCH, workers=WORKERS, device=DEVICE, plots=PLOTS, verbose=VERBOSE, rect=RECT, cos_lr=COS_LR, optimizer=OPTIMIZER, patience=PATIENCE, exist_ok=EXIST_OK, overlap_mask=OVERLAP_MASK, mask_ratio=MASK_RATIO, fraction=FRACTION)\n",
    "except Exception as e:\n",
    "    print(f'Error: {e}')"
   ]
  },
  {
   "cell_type": "code",
   "execution_count": 60,
   "metadata": {},
   "outputs": [
    {
     "name": "stdout",
     "output_type": "stream",
     "text": [
      "c:\\Users\\matrix\\pruebayolo\\proyecto_yolo\\src\\srcv3\\modelo_marcas\\modelo_segmentacion\\segmentacion\\pruebaEntrenamiento9\\weights\\best.pt\n"
     ]
    }
   ],
   "source": [
    "model_train= get_last_training(dir_model_version) # Llamado a la función que selecciona el último modelo entrenado por si acaso no se proporciona\n",
    "print(model_train)"
   ]
  },
  {
   "cell_type": "markdown",
   "metadata": {},
   "source": [
    "<span style=\"font-family: 'Bahnschrift Light'; font-size: 40px;\">Configuración para la exportación</span>"
   ]
  },
  {
   "cell_type": "markdown",
   "metadata": {},
   "source": [
    "<span style=\"font-family: 'Bahnschrift Light'; font-size: 18px;\">A continuación se muestra una tabla de referencia para exportar un modelo YOLOv8 entrenado en la tarea segmentación de instancias. Tenga en cuenta que configurar el parámetro de `format` es fundamental para el proceso de exportación. Antes de continuar, asegúrese de verificar y ajustar estos valores a sus requisitos específicos: </span>\n",
    "\n",
    "| Formatos                                                             | Asignación | Extensión                     | Hyperparámetros                                            | Descripción                                        |\n",
    "|--------------------------------------------------------------------|-------------------|---------------------------|-----------------------------------------------------|----------------------------------------------------|\n",
    "| [PyTorch](https://pytorch.org/)                                    | -                 | `yolov8n.pt`              | -                                                   | Modelo en formato PyTorch                           |\n",
    "| [TorchScript](https://pytorch.org/docs/stable/jit.html)            | \"torchscript\"     | `yolov8n.torchscript`     | `imgsz`, `optimize`                                 | Simplifica la implementación de modelos PyTorch en entornos de producción y aplicaciones eficientes, mejorando la portabilidad y el rendimiento al permitir ejecutar una representación intermedia en entornos sin Python.                       |\n",
    "| [ONNX](https://onnx.ai/)                                           | \"onnx\"            | `yolov8n.onnx`            | `imgsz`, `half`, `dynamic`, `simplify`, `opset`     | Desarrollado para promover la interoperabilidad, la optimización del hardware y la colaboración entre comunidades, al tiempo que responde a la necesidad de portabilidad de los modelos entre distintos marcos y herramientas de aprendizaje automático.                              |\n",
    "| [OpenVINO](https://docs.openvino.ai/latest/index.html)             | \"openvino\"        | `yolov8n_openvino_model/` | `imgsz`, `half`, `int8`                             | Elaborado para promover la interoperabilidad, la optimización del hardware y el despliegue eficiente de modelos a través de diferentes marcos y herramientas de aprendizaje automático, con especial atención a las plataformas de hardware Intel.                     |\n",
    "| [TensorRT](https://developer.nvidia.com/tensorrt)                  | \"engine\"          | `yolov8n.engine`          | `imgsz`, `half`, `dynamic`, `simplify`, `workspace` | Permite promover la interoperabilidad, la optimización del hardware y la implantación eficiente de modelos en distintos marcos y herramientas de aprendizaje automático, con especial atención a las plataformas de hardware de NVIDIA.                     |\n",
    "| [CoreML](https://github.com/apple/coremltools)                     | \"coreml\"          | `yolov8n.mlpackage`       | `imgsz`, `half`, `int8`, `nms`                      | Posibilita promover la interoperabilidad, la optimización del hardware y el despliegue eficiente de modelos a través de diferentes marcos y herramientas de aprendizaje automático, con especial atención a las plataformas de hardware de Apple.                            |\n",
    "| [TF SavedModel](https://www.tensorflow.org/guide/saved_model)      | \"saved_model\"     | `yolov8n_saved_model/`    | `imgsz`, `keras`, `int8`                            | Empleado para guardar, compartir y desplegar modelos entrenados con TensorFlow. Versátil y facilita el despliegue en diversas plataformas como servidores, dispositivos móviles, embebidos y navegadores.                     |\n",
    "| [TF Lite](https://www.tensorflow.org/lite)                         | \"tflite\"          | `yolov8n.tflite`          | `imgsz`, `half`, `int8`                             | Diseñado para el aprendizaje automático en dispositivos, TF Lite aborda restricciones clave como latencia, privacidad, conectividad, tamaño y consumo de energía. Es esencial para desplegar modelos en dispositivos móviles e integrados, ofreciendo una solución ligera y eficiente.                           |\n",
    "| [TF Edge TPU](https://coral.ai/docs/edgetpu/models-intro/)         | \"edgetpu\"         | `yolov8n_edgetpu.tflite`  | `imgsz`                                             | Utilizado para desplegar modelos de aprendizaje automático en el Edge TPU de TensorFlow. El Edge TPU es un pequeño ASIC (Circuito Integrado Específico de Aplicación) diseñado por Google para ofrecer inferencias de aprendizaje automático de alto rendimiento en dispositivos de bajo consumo.                       |\n",
    "| [TF.js](https://www.tensorflow.org/js)                             | \"tfjs\"            | `yolov8n_web_model/`      | `imgsz`                                             | Facilita el despliegue de modelos de aprendizaje automático en navegadores web y Node.js, destacando la portabilidad y la facilidad de uso.                    |\n",
    "| [PaddlePaddle](https://github.com/PaddlePaddle)                    | \"paddle\"          | `yolov8n_paddle_model/`   | `imgsz`                                             | Utilizado para desplegar modelos en PaddlePaddle, una plataforma de aprendizaje profundo de código abierto, paralela y distribuida que tiene su origen en la práctica industrial.                      |\n",
    "| [ncnn](https://github.com/Tencent/ncnn)                            | \"ncnn\"            | `yolov8n_ncnn_model/`     | `imgsz`, `half`                                     | Formato optimizado para plataformas móviles, ofreciendo alto rendimiento. Puede incluir una estructura de archivo de modelo con información sobre capas, blobs de entrada y salida, y otros parámetros.                              |\n"
   ]
  },
  {
   "cell_type": "markdown",
   "metadata": {},
   "source": [
    "<span style=\"font-family: 'Bahnschrift Light'; font-size: 40px;\">EXPORTACIÓN</span>\n"
   ]
  },
  {
   "cell_type": "code",
   "execution_count": null,
   "metadata": {},
   "outputs": [],
   "source": [
    "selected_model_seg=YOLO(model_train)\n",
    "\n",
    "FORMAT='onnx' # Seleccione el formato de exportación del modelo segmentación, empleando la tabla previamente proporcionada; en la columna \"Asignación\" se indican las opciones para ajustar este valor.\n",
    "INT8=True # Establezca este parámetro en True al utilizar la CPU y en False en caso contrario. La cuantificación a INT8 mejora la eficiencia del modelo segmentación en cuanto a memoria y velocidad de inferencia, especialmente en hardware que admite esta precisión.\n",
    "HALF=False # Configúrelo en True cuando use la GPU; en caso contrario, False. La cuantificación a FP16 mejora la eficiencia de la memoria del modelo segmentación y la velocidad de inferencia, especialmente en hardware que admite precisión de punto flotante de 16 bits.\n",
    "IMGSZ=640 # Establezca las dimensiones en píxeles de la imagen de entrada para la exportación del modelo de segmentación. Puede especificarlo como un número entero, por ejemplo, 640 para un cuadrado perfecto, o como una tupla, por ejemplo, (640, 480) para dimensiones específicas de ancho y alto. Las imágenes que ingreses al modelo después de la exportación deben tener las mismas dimensiones específicas que has configurado para adaptarse a los requisitos del escenario de despliegue.\n",
    "OPTIMIZE=False # Controla la optimización en modelos de segmentación de instancias a TorchScript para su implementación móvil. Es importante destacar que esta función puede resultar en un aumento significativo en el tamaño del modelo exportado, lo cual puede no ser ideal para aplicaciones móviles. Se configura con True para activar y False para desactivar.\n",
    "DYNAMIC=False # Controla la habilitación de ejes dinámicos en modelos de segmentación, lo cual es particularmente útil para gestionar tamaños de lote variables. Esta característica funciona bien en escenarios donde el tamaño del lote puede cambiar durante la inferencia, como aplicaciones en tiempo real o de transmisión por secuencias. Los valores aceptados son Verdadero para habilitar la función y Falso para deshabilitarla.\n",
    "SIMPLIFY=False # En la exportación de modelos de segmentación a ONNX|TensorRT, este hiperparámetro personaliza la complejidad del modelo, optimizando, eliminando capas redundantes y reduciendo la precisión de los parámetros. Se activa con True y se desactiva con False.\n",
    "OPSET=None # Especifica la versión del conjunto de operadores en ONNX al exportar el modelo segmentación desde marcos como PyTorch o TensorFlow. Si se deja en \"None\", ONNX utilizará automáticamente la versión más reciente disponible; para una versión específica, asigne el número entre comillas, por ejemplo, \"11\".\n",
    "WORKSPACE=4 # En la exportación de modelos de segmentación a TensorRT, establece el tamaño del espacio de trabajo en GB asignado para optimizar y preparar el modelo de red neuronal. Este espacio se utiliza durante el proceso de construcción del motor para lograr una ejecución eficiente en hardware GPU mediante la biblioteca TensorRT.\n",
    "NMS=False # En la exportación de modelos de segmentación a CoreML, controla la inclusión de la Supresión No Máxima (NMS) en el modelo para eliminar cuadros delimitadores redundantes en la segmentación de instancias y mejorar la precisión de las predicciones. Establecer 'NMS' en 'False' ignora NMS en los modelos CoreML exportados.  Este ajuste, configurable durante la exportación del modelo YOLO, lo que permite a los usuarios optimizar la implementación del modelo en una variedad de plataformas y dispositivos.\n",
    "KERAS= False # En la exportación de modelos de segmentación a TF SavedModel y TF Lite, permite optimizar el despliegue en diversas plataformas y dispositivos. Incluye también el formato del archivo, el dispositivo de ejecución y la posibilidad de manejar múltiples etiquetas por caja. Establezca el valor del hiperparámetro en True si está familiarizado con Keras; de lo contrario, en False para excluir su uso en la exportación.\n",
    "\n",
    "selected_model_seg.export(format=FORMAT, imgsz=IMGSZ, dynamic=DYNAMIC, simplify=SIMPLIFY, opset=OPSET)"
   ]
  },
  {
   "cell_type": "markdown",
   "metadata": {},
   "source": [
    "<span style=\"font-family: 'Bahnschrift Light'; font-size: 40px;\">VALIDACIÓN</span>\n"
   ]
  },
  {
   "cell_type": "code",
   "execution_count": null,
   "metadata": {},
   "outputs": [],
   "source": [
    "# --Inicio Menú\n",
    "while True:\n",
    "    try:\n",
    "        model_type = input('Qué tipo de modelo desea utilizar, indique \"original\" o \"entrenado\": ')\n",
    "        if model_type == \"original\":\n",
    "            selected_model_seg=YOLO(model_orig)\n",
    "            break  # Sale del bucle si la entrada es válida\n",
    "        elif model_type == \"entrenado\":\n",
    "            selected_model_seg=YOLO(model_train)\n",
    "            break  # Sale del bucle si la entrada es válida\n",
    "        else:\n",
    "            print('Caracter no valido! Intente nuevamente.')\n",
    "    except Exception as e:\n",
    "        print(f'Error: {e}')\n",
    "# --Finalización Menú\n",
    "\n",
    "NAME='pruebaValidacionSeg' # El nombre del experimento de validación para segmentación de instancias deben ir entre comillas. Evite el uso de espacios al nombrar las carpetas; en su lugar, utilice algún formato de nombres como camelCase, snake_case o PascalCase.\n",
    "DATA= data_train_brands # Permite indicar la ruta al archivo que contiene los metadatos necesarios para el proceso de validación, la ruta debe ser proporcionada entre comillas.\n",
    "SAVE_JSON=True # Si se configura como True, habilita la funcionalidad de guardar los resultados obtenidos de manera detallada del proceso de validación en un formato estructurado JSON.\n",
    "IMGSZ=640 # Establece las dimensiones en píxeles de la imagen de entrada para la validación del modelo de segmentación. Puede ser un número entero, como 640 para un cuadrado perfecto, o una tupla, como (640, 480), para dimensiones específicas de ancho y alto. Se recomienda usar el mismo valor que utilizo durante el entrenamiento del modelo.\n",
    "BATCH=16 # Define la cantidad de imágenes procesadas simultáneamente en una iteración para la validación de segmentos. El valor predeterminado es 16; se recomienda establecerlo en -1 para aprovechar AutoBatch, que ajusta automáticamente el tamaño del lote para optimizar el rendimiento, evitar problemas de memoria y maximizar la eficiencia del entrenamiento. Si desea personalizarlo, exprese el valor del parámetro como un número entero.\n",
    "SAVE_HYBRID=True # Activa la función con True para guardar una versión híbrida de la etiqueta, incluyendo la original y predicciones adicionales. Útil para el análisis detallado del rendimiento del modelo segmentación durante la validación; establezca en False para mostrar solo las predicciones.\n",
    "CONF=0.5 # Establece el umbral de confianza para la validación de clases en la tarea de segmentación. Se recomienda un valor entre 0.5 y 0.10. Un umbral más alto mejora la precisión pero reduce la frecuencia de predicciones, mientras que un umbral más bajo aumenta la frecuencia pero disminuye la precisión. \n",
    "MAX_DET=10 # Toma como valor solo números enteros. Índica el límite de la cantidad máxima de objetos que el modelo intentara segmentar en una imagen. Se recomienda establecer un valor alto para evitar perder detecciones relevantes.\n",
    "DEVICE='CPU' # Especifica el dispositivo de ejecución para la prueba de validación en la operación de segmentación. Puede seleccionar entre CPU o GPU. Si no dispone de una GPU con Cuda, se recomienda utilizar la CPU mediante el parámetro device='cpu'. En caso de contar con Cuda, puede especificar una GPU con device='cuda:0'; el número representa el identificador de la GPU disponible en el sistema. También es posible utilizar múltiples GPUs mediante device='cuda:0,1,2'.\n",
    "PLOTS=True # Utilice valores booleanos (Verdadero o Falso) para controlar la generación de gráficos que permite visualizar y monitorear la pérdida y la precisión durante la validación en la segmentación de instancias. Establecer plots=True activara la función; si desea desactivarla, establezca el valor del hiperparámetro en False.\n",
    "RECT=False # Habilita la formación rectangular en cada lote, redimensionando las imágenes para que todas tengan la misma forma rectangular. Puedes establecerlo en True si tu conjunto de datos es extenso y deseas acelerar el tiempo de validación en la segmentación de instancias. De lo contrario, si se establece en False el modelo se entrena en el orden normal procesando todos los datos de un lote antes de pasar al siguiente.\n",
    "IOU=0.6 # El umbral predeterminado para la supresión no máxima (NMS) en la validación YOLO es 0,6. Este umbral de IoU (intersección sobre unión) es fundamental para NMS porque determina el grado mínimo de superposición requerido para que dos cuadros delimitadores se consideren el mismo segmento. Un umbral de IoU más bajo hace que NMS sea más conservador, mientras que un umbral de IoU más alto permite que un NMS más relajado evite eliminar los verdaderos positivos.\n",
    "\n",
    "try:\n",
    "    selected_model_seg.val(name=NAME, data=DATA, save_json=SAVE_JSON, imgsz=IMGSZ, batch=BATCH, save_hybrid=SAVE_HYBRID, conf=CONF, max_det=MAX_DET, device=DEVICE, plots=PLOTS, rect=RECT, iou=IOU)\n",
    "except Exception as e:\n",
    "    print(f'Error: {e}')"
   ]
  },
  {
   "cell_type": "markdown",
   "metadata": {},
   "source": [
    "<span style=\"font-family: 'Bahnschrift Light'; font-size: 40px\">Configuración de fuentes</span>"
   ]
  },
  {
   "cell_type": "markdown",
   "metadata": {},
   "source": [
    "<span style=\"font-family: 'Bahnschrift Light'; font-size: 18px\">Para utilizar múltiples fuentes de datos al realizar predicciones con el modelo, se requiere que se ajuste el parámetro'source' a sus necesidades, tal como se indica en la siguiente tabla:</span>\n",
    "\n",
    "\n",
    "| Fuentes          | Asignación                             | Tipo             | Notas                                                           |\n",
    "| --------------- | ------------------------------------ | ----------------- | --------------------------------------------------------------- |\n",
    "| `image`           | 'image.jpg'                          | str or Path       | Archivo que contiene una única imagen.                                              |\n",
    "| `URL`             | 'https://ultralytics.com/images/bus.jpg' | str               | Dirección que especifica la ubicación de una imagen en la web.                                                 |\n",
    "| `screenshot`      | 'screen'                             | str               | El sistema captura la imagen actualmente visible en la pantalla y la utiliza como entrada para el modelo.                                           |\n",
    "| `PIL`             | Image.open('im.jpg')                 | PIL.Image         | Utilizado para cargar imágenes en formato HWC (altura, ancho, canales) con canales RGB (rojo, verde y azul) mediante la biblioteca Python Imaging Library (PIL).                                   |\n",
    "| `OpenCV`          | cv2.imread('im.jpg')                 | np.ndarray        | Permite la lectura de una imagen desde un archivo en formato HWC con canales BGR (azul, verde, rojo) utilizando la biblioteca OpenCV, almacenando la imagen como un array de NumPy.                    |\n",
    "| `numpy`           | np.zeros((640,1280,3))               | np.ndarray        | Genera un array de ceros con las dimensiones especificadas para un formato HWC con canales BGR, utilizando la biblioteca NumPy.                    |\n",
    "| `torch`           | torch.zeros(16,3,320,640)            | torch.Tensor      | Crea un tensor de ceros con las dimensiones especificadas para un formato HWC con canales RGB, empleando el framework PyTorch.               |\n",
    "| `CSV`             | 'sources.csv'                        | str or Path       | Archivo de texto que almacena las rutas a las imágenes que se procesarán.   |\n",
    "| `video`          | 'video.mp4'                          | str or Path       | Proporciona acceso a un archivo de video único.                       |\n",
    "| `directory`      | 'path/'                              | str or Path       | Directorio que contiene múltiples archivos de imagen.               |\n",
    "| `glob`           | 'path/*.jpg'                         | str               | Permite acceder a varias imágenes en un directorio usando expresiones de coincidencia de patrones. |\n",
    "| `YouTube`        | 'https://youtu.be/LNwODJXcvt4'       | str               | Facilita el acceso a videos desde la plataforma YouTube.                                         |\n",
    "| `stream`         | 'rtsp://example.com/media.mp4'      | str               | Permite la conexión a flujos de video o audio en tiempo real mediante protocolos como RTSP, RTMP, TCP o IP, ya sea a través de internet o una red local. |\n",
    "| `multi-stream`   | 'list.streams'                       | str or Path       | Se utiliza para transmitir varios flujos de medios simultáneamente, permitiendo el procesamiento y análisis paralelo de múltiples flujos de medios. |"
   ]
  },
  {
   "cell_type": "markdown",
   "metadata": {},
   "source": [
    "<span style=\"font-family: 'Bahnschrift Light'; font-size: 18px\">Formatos para las imágenes: </span>\n",
    "\n",
    "| Image Suffixes | Reference                           |\n",
    "| --------------- | ----------------------------------- |\n",
    "| .bmp            | [Microsoft BMP File Format](https://docs.fileformat.com/es/image/bmp/)           |\n",
    "| .dng            | [Adobe DNG](https://docs.fileformat.com/es/image/dng/)                           |\n",
    "| .jpeg           | [JPEG](https://docs.fileformat.com/es/image/jpeg/)                                |\n",
    "| .jpg            | [JPEG](https://docs.fileformat.com/es/image/jpeg/)                                |\n",
    "| .mpo            | [Multi Picture Object](https://docs.fileformat.com/es/image/mpo/)                |\n",
    "| .png            | [Portable Network Graphics](https://docs.fileformat.com/es/image/png/)           |\n",
    "| .tif            | [Tag Image File Format](https://docs.fileformat.com/es/image/tiff/)               |\n",
    "| .tiff           | [Tag Image File Format](https://docs.fileformat.com/es/image/tiff/)               |\n",
    "| .webp           | [WebP](https://docs.fileformat.com/es/image/webp/)                                |\n",
    "| .pfm            | [Portable FloatMap](https://docs.fileformat.com/font/pfm/)                   |\n"
   ]
  },
  {
   "cell_type": "markdown",
   "metadata": {},
   "source": [
    "<span style=\"font-family: 'Bahnschrift Light'; font-size: 18px\">Formatos para los videos: </span>\n",
    "\n",
    "| Video Suffixes | Reference                           |\n",
    "| -------------- | ----------------------------------- |\n",
    "| .asf           | [Advanced Systems Format](https://docs.fileformat.com/es/video/asf/)             |\n",
    "| .avi           | [Audio Video Interleave](https://docs.fileformat.com/es/video/avi/)              |\n",
    "| .gif           | [Graphics Interchange Format]()          |\n",
    "| .m4v           | [MPEG-4 Part 14](https://docs.fileformat.com/es/video/m4v/)                      |\n",
    "| .mkv           | [Matroska](https://docs.fileformat.com/es/video/mkv/)                            |\n",
    "| .mov           | [QuickTime File Format](https://docs.fileformat.com/es/video/mov/)               |\n",
    "| .mp4           | [MPEG-4](https://docs.fileformat.com/es/video/mp4/)          |\n",
    "| .mpeg          | [MPEG-1](https://docs.fileformat.com/es/video/mpeg/)                       |\n",
    "| .mpg           | [MPEG-1](https://docs.fileformat.com/es/video/mpeg/)                       |\n",
    "| .ts            | [MPEG Transport Stream](https://docs.fileformat.com/es/video/ts/)               |\n",
    "| .wmv           | [Windows Media Video](https://docs.fileformat.com/es/video/wmv/)                 |\n",
    "| .webm          | [WebM Project](https://docs.fileformat.com/es/video/webm/)                        |\n"
   ]
  },
  {
   "cell_type": "markdown",
   "metadata": {},
   "source": [
    "<span style=\"font-family: 'Bahnschrift Light'; font-size: 40px\">PREDICCIÓN</span>\n"
   ]
  },
  {
   "cell_type": "code",
   "execution_count": 32,
   "metadata": {},
   "outputs": [
    {
     "name": "stdout",
     "output_type": "stream",
     "text": [
      "c:/Users/matrix/pruebayolo/proyecto_yolo/src/srcv3/modelo_marcas/modelo_segmentacion/segmentacion/pruebaEntrenamiento12/weights/best.pt\n",
      "\n",
      "image 1/36 c:\\Users\\matrix\\pruebayolo\\proyecto_yolo\\src\\assets\\20170531_010133.jpg: 384x640 (no detections), 207.0ms\n",
      "image 2/36 c:\\Users\\matrix\\pruebayolo\\proyecto_yolo\\src\\assets\\D_NQ_NP_2X_607554-MCO74306558674_022024-F.jpg: 608x640 1 chevrolet, 169.4ms\n",
      "image 3/36 c:\\Users\\matrix\\pruebayolo\\proyecto_yolo\\src\\assets\\D_NQ_NP_2X_625969-MCO74109549689_012024-F.jpg: 544x640 1 chevrolet, 148.0ms\n",
      "image 4/36 c:\\Users\\matrix\\pruebayolo\\proyecto_yolo\\src\\assets\\D_NQ_NP_2X_634781-MCO74716081265_022024-F.jpg: 512x640 1 chevrolet, 1 onix, 125.0ms\n",
      "image 5/36 c:\\Users\\matrix\\pruebayolo\\proyecto_yolo\\src\\assets\\D_NQ_NP_2X_635253-MCO74651611787_022024-F.jpg: 448x640 1 toyota, 97.0ms\n",
      "image 6/36 c:\\Users\\matrix\\pruebayolo\\proyecto_yolo\\src\\assets\\D_NQ_NP_2X_651757-MCO74531359442_022024-F.jpg: 480x640 1 toyota, 118.0ms\n",
      "image 7/36 c:\\Users\\matrix\\pruebayolo\\proyecto_yolo\\src\\assets\\D_NQ_NP_2X_667580-MCO74631059717_022024-F.jpg: 448x640 1 toyota, 80.0ms\n",
      "image 8/36 c:\\Users\\matrix\\pruebayolo\\proyecto_yolo\\src\\assets\\D_NQ_NP_2X_693113-MCO74586483359_022024-F.jpg: 480x640 1 toyota, 90.0ms\n",
      "image 9/36 c:\\Users\\matrix\\pruebayolo\\proyecto_yolo\\src\\assets\\D_NQ_NP_2X_697181-MCO73688884097_122023-F.jpg: 512x640 1 chevrolet, 117.0ms\n",
      "image 10/36 c:\\Users\\matrix\\pruebayolo\\proyecto_yolo\\src\\assets\\D_NQ_NP_2X_711885-MCO74610835935_022024-F.jpg: 480x640 1 toyota, 129.0ms\n",
      "image 11/36 c:\\Users\\matrix\\pruebayolo\\proyecto_yolo\\src\\assets\\D_NQ_NP_2X_734517-MCO74482617882_022024-F.jpg: 480x640 1 toyota, 112.0ms\n",
      "image 12/36 c:\\Users\\matrix\\pruebayolo\\proyecto_yolo\\src\\assets\\D_NQ_NP_2X_765097-MCO74554157800_022024-F.jpg: 448x640 1 toyota, 100.0ms\n",
      "image 13/36 c:\\Users\\matrix\\pruebayolo\\proyecto_yolo\\src\\assets\\D_NQ_NP_2X_765472-MCO74484798046_022024-F.jpg: 480x640 1 toyota, 96.0ms\n",
      "image 14/36 c:\\Users\\matrix\\pruebayolo\\proyecto_yolo\\src\\assets\\D_NQ_NP_2X_780482-MCO74527319422_022024-F.jpg: 480x640 1 toyota, 130.0ms\n",
      "image 15/36 c:\\Users\\matrix\\pruebayolo\\proyecto_yolo\\src\\assets\\D_NQ_NP_2X_782884-MCO74345700181_022024-F.jpg: 512x640 1 chevrolet, 95.0ms\n",
      "image 16/36 c:\\Users\\matrix\\pruebayolo\\proyecto_yolo\\src\\assets\\D_NQ_NP_2X_783486-MCO74451928474_022024-F.jpg: 448x640 1 toyota, 104.0ms\n",
      "image 17/36 c:\\Users\\matrix\\pruebayolo\\proyecto_yolo\\src\\assets\\D_NQ_NP_2X_802796-MCO74603467307_022024-F.jpg: 480x640 1 chevrolet, 92.0ms\n",
      "image 18/36 c:\\Users\\matrix\\pruebayolo\\proyecto_yolo\\src\\assets\\D_NQ_NP_2X_847030-MCO74507003468_022024-F.jpg: 448x640 (no detections), 85.0ms\n",
      "image 19/36 c:\\Users\\matrix\\pruebayolo\\proyecto_yolo\\src\\assets\\D_NQ_NP_2X_861247-MCO74526158170_022024-F.jpg: 480x640 1 chevrolet, 124.0ms\n",
      "image 20/36 c:\\Users\\matrix\\pruebayolo\\proyecto_yolo\\src\\assets\\D_NQ_NP_2X_889388-MCO74554157804_022024-F.jpg: 448x640 1 toyota, 149.0ms\n",
      "image 21/36 c:\\Users\\matrix\\pruebayolo\\proyecto_yolo\\src\\assets\\D_NQ_NP_2X_910104-MCO74484609470_022024-F.jpg: 480x640 1 toyota, 133.0ms\n",
      "image 22/36 c:\\Users\\matrix\\pruebayolo\\proyecto_yolo\\src\\assets\\D_NQ_NP_2X_946129-MCO74479661318_022024-F.jpg: 480x640 1 toyota, 137.0ms\n",
      "image 23/36 c:\\Users\\matrix\\pruebayolo\\proyecto_yolo\\src\\assets\\D_NQ_NP_2X_954310-MCO74548275044_022024-F.jpg: 480x640 1 toyota, 115.0ms\n",
      "image 24/36 c:\\Users\\matrix\\pruebayolo\\proyecto_yolo\\src\\assets\\D_NQ_NP_2X_965165-MCO72078325829_102023-F.jpg: 576x640 (no detections), 135.0ms\n",
      "image 25/36 c:\\Users\\matrix\\pruebayolo\\proyecto_yolo\\src\\assets\\D_NQ_NP_2X_965939-MCO70085272083_062023-F.jpg: 480x640 1 toyota, 124.0ms\n",
      "image 26/36 c:\\Users\\matrix\\pruebayolo\\proyecto_yolo\\src\\assets\\D_NQ_NP_2X_976882-MCO74370843466_022024-F.jpg: 448x640 (no detections), 116.0ms\n",
      "image 27/36 c:\\Users\\matrix\\pruebayolo\\proyecto_yolo\\src\\assets\\D_NQ_NP_2X_981680-MCO74673464435_022024-F.jpg: 480x640 1 toyota, 132.0ms\n",
      "image 28/36 c:\\Users\\matrix\\pruebayolo\\proyecto_yolo\\src\\assets\\D_NQ_NP_2X_993332-MCO70065181646_062023-F.jpg: 480x640 2 toyotas, 127.0ms\n",
      "image 29/36 c:\\Users\\matrix\\pruebayolo\\proyecto_yolo\\src\\assets\\OIP (1).jpg: 480x640 (no detections), 120.0ms\n",
      "image 30/36 c:\\Users\\matrix\\pruebayolo\\proyecto_yolo\\src\\assets\\R.jpg: 384x640 (no detections), 97.0ms\n",
      "image 31/36 c:\\Users\\matrix\\pruebayolo\\proyecto_yolo\\src\\assets\\abolladura-en-un-coche-632c58a6e2ea5.jpg: 448x640 (no detections), 109.0ms\n",
      "image 32/36 c:\\Users\\matrix\\pruebayolo\\proyecto_yolo\\src\\assets\\abolladuraautos-fd03b3bae67d7363172c41cc00198c51-1200x800.jpg: 448x640 (no detections), 102.0ms\n",
      "image 33/36 c:\\Users\\matrix\\pruebayolo\\proyecto_yolo\\src\\assets\\big_ray.jpg: 320x640 (no detections), 84.0ms\n",
      "image 34/36 c:\\Users\\matrix\\pruebayolo\\proyecto_yolo\\src\\assets\\coche-después-de-una-ruina-la-necesidad-ser-reparado-esperándola-es-demanda-de-seguro-29745503.jpg: 448x640 (no detections), 168.0ms\n",
      "image 35/36 c:\\Users\\matrix\\pruebayolo\\proyecto_yolo\\src\\assets\\rayonesauto-e68618ca9c3d6859cebc796c300aea97-1200x0.jpg: 352x640 (no detections), 113.0ms\n",
      "image 36/36 c:\\Users\\matrix\\pruebayolo\\proyecto_yolo\\src\\assets\\trucos-para-quitar-abolladuras-del-coche.imagen-1013x675.jpg: 448x640 (no detections), 83.0ms\n",
      "Speed: 2.7ms preprocess, 118.4ms inference, 2.4ms postprocess per image at shape (1, 3, 448, 640)\n",
      "Results saved to \u001b[1mc:\\Users\\matrix\\pruebayolo\\proyecto_yolo\\src\\runs\\segment\\PruebaPrediccion_marcas5\u001b[0m\n",
      "24 labels saved to c:\\Users\\matrix\\pruebayolo\\proyecto_yolo\\src\\runs\\segment\\PruebaPrediccion_marcas5\\labels\n"
     ]
    }
   ],
   "source": [
    "SOURCE= dir_prueba # Establezca el origen de datos que el modelo de detección utilizará para realizar predicciones. Configure el valor de este hiperparámetro según la tabla proporcionada anteriormente.\n",
    "MAX_DET=10 # Toma como valor solo números enteros. Índica el límite de la cantidad máxima de objetos que el modelo intentara predecir en una imagen. Se recomienda establecer un valor alto para evitar perder detecciones relevantes.\n",
    "IMGSZ=640 # Establezca las dimensiones en píxeles de la imagen de entrada durante la predicción en tareas de detección. Puede ser un número entero, como 640 para un cuadrado perfecto, o una tupla, como (640, 480), para dimensiones específicas de ancho y alto. Se recomienda utilizar los mismos valores utilizados durante el entrenamiento del modelo para mantener la coherencia en la inferencia.\n",
    "CONF=0.9 # Establece el umbral de confianza durante el proceso de predicción en la tarea de detección. Se recomienda establecer el valor hiperparámetro entre 0.5 y 0.10. Un umbral más alto mejora la precisión pero reduce la frecuencia de predicciones, mientras que un umbral más bajo aumenta la frecuencia pero disminuye la precisión en la inferencia.\n",
    "LINE_WIDTH= None # Determina el grosor en píxeles de los cuadros delimitadores que rodean los objetos detectados por el modelo. Puede establecer el grosor de la línea como un número entero en el que, a mayor valor, la línea será más gruesa, también puede utilizar como valor None para que el grosor se ajuste de forma automatizada, proporcionando una línea proporcional al tamaño de la imagen.\n",
    "VISUALIZE=False # Determina si las características del modelo de detección deben mostrarse durante la predicción. Establecer esto en True permite que las características se muestren como mapas intermedias, lo que hace que el modelo sea más fácil de entender. Si se establece en False, no se mostrarán las características del modelo. \n",
    "IOU=0.7 # El umbral predeterminado para la supresión no máxima (NMS) en la validación YOLO es 0,7. Este umbral de IoU (intersección sobre unión) es fundamental para NMS porque determina el grado mínimo de superposición requerido para que dos cuadros delimitadores se consideren la misma detección. Un umbral de IoU más bajo hace que NMS sea más conservador, mientras que un umbral de IoU más alto permite que un NMS más relajado evite eliminar los verdaderos positivos.\n",
    "DEVICE='cpu' # Especifica el dispositivo de ejecución para la prueba de predicción en la operación de detección. Puede seleccionar entre CPU o GPU. Si no dispone de una GPU con Cuda, se recomienda utilizar la CPU mediante el parámetro device='cpu'. En caso de contar con Cuda, puede especificar una GPU con device='cuda:0'; el número representa el identificador de la GPU disponible en el sistema. También es posible utilizar múltiples GPUs mediante device='cuda:0,1,2'.\n",
    "VID_STRIDE=False # Controla la velocidad de los fotogramas durante el proceso de predicción en vídeos o secuencias de tiempo real. Al establecerlo en True el modelo se adapta a la velocidad de fotogramas especificada por la fuente de vídeo, procesando cada fotograma individualmente. Para desactivar esta función indique como valor False.\n",
    "STREAM_BUFFER=False # Controla el almacenamiento en búfer de los fotogramas para la detección. Si es True, se almacenan todos los fotogramas para el procesamiento en tiempo real de vídeos o transmisiones en directo; si es False, devuelve el fotograma más reciente.\n",
    "SAVE_FRAMES=False # Controla la captura y almacenamiento de los fotogramas predichos por el modelo de detección. Con True, se guardarán todos los fotogramas individuales predichos; con False, no se realizará el almacenamiento de los fotogramas.\n",
    "AUGMENT=False # Aplica transformaciones a las imágenes de entrada, tales como giros, rotaciones, recortes y cambios de color, para diversificar los datos y mejorar la predicción en la detección. Establecer en True para activar la función, False para desactivar.\n",
    "SAVE_CROP=True # Determina si se deben guardar imágenes recortadas con los resultados durante la predicción en la detección. Al establecerlo en \"False\", las imágenes recortadas no se guardarán, lo que reduce el tamaño del archivo. Con el valor \"True\", se guardarán las imágenes recortadas correspondientes a las áreas detectadas.\n",
    "SHOW=False # Determina si se deben mostrar las imágenes o vídeos detectados durante la predicción. Al establecerlo en \"True\", permite la visualización de las predicciones en el mismo entorno, proporcionando una representación visual de los resultados. Si se establece en \"False\", las predicciones no se mostrarán. \n",
    "CLASSES= [30, 5, 11] # Permite definir las clases de objetos que el modelo está diseñado para detectar. Si se desean segmentar múltiples clases, se deben especificar los índices correspondientes a cada clase entre corchetes [], separados por comas. En caso de que no se desee segmentar clases específicas, se puede proporcionar el número total de clases existentes como índice.\n",
    "SAVE= True # Cuando se establece en True, el modelo guarda los puntos de control periódicamente durante la predicción. \n",
    "SAVE_CONF=True # Permite guardar los resultados de la segmentación en un archivo de texto con un formato [clase], [valor_x], [valor_y], [ancho], [alto] y [confianza].\n",
    "\n",
    "def train_classes(model_preentrenado):\n",
    "    try:\n",
    "        selected_model_det=YOLO(model_preentrenado)        \n",
    "        selected_model_det.predict(name='PruebaPrediccion_marcas', source=SOURCE, conf=CONF, save_txt=True, max_det=MAX_DET, line_width=LINE_WIDTH, visualize=VISUALIZE, imgsz=IMGSZ, iou=IOU, device=DEVICE, vid_stride=VID_STRIDE, stream_buffer=STREAM_BUFFER, classes=CLASSES,  save_crop=SAVE_CROP, show=SHOW, save_frames=SAVE_FRAMES, save=SAVE, save_conf=SAVE_CONF) \n",
    "    except Exception as e:\n",
    "        print(f'Error en el entrenamiento del modelo: {e}')\n",
    "\n",
    "train_classes(model_train)"
   ]
  }
 ],
 "metadata": {
  "kernelspec": {
   "display_name": "Python 3",
   "language": "python",
   "name": "python3"
  },
  "language_info": {
   "codemirror_mode": {
    "name": "ipython",
    "version": 3
   },
   "file_extension": ".py",
   "mimetype": "text/x-python",
   "name": "python",
   "nbconvert_exporter": "python",
   "pygments_lexer": "ipython3",
   "version": "3.10.13"
  }
 },
 "nbformat": 4,
 "nbformat_minor": 2
}
